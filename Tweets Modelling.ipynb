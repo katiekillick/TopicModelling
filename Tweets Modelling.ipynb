{
 "cells": [
  {
   "cell_type": "code",
   "execution_count": 5,
   "metadata": {
    "collapsed": true
   },
   "outputs": [],
   "source": [
    "import pandas as pd\n",
    "import gensim\n",
    "import spacy\n",
    "import nltk\n",
    "\n",
    "import pyLDAvis\n",
    "import pyLDAvis.gensim\n",
    "\n",
    "from gensim import corpora\n",
    "from gensim.utils import simple_preprocess\n",
    "from gensim.corpora import Dictionary\n",
    "from pprint import pprint"
   ]
  },
  {
   "cell_type": "code",
   "execution_count": 6,
   "metadata": {},
   "outputs": [
    {
     "data": {
      "text/plain": [
       "185"
      ]
     },
     "execution_count": 6,
     "metadata": {},
     "output_type": "execute_result"
    }
   ],
   "source": [
    "# NLTK Stop words\n",
    "from nltk.corpus import stopwords\n",
    "stop_words = stopwords.words('english')\n",
    "# add: be, have, is, do, th, re\n",
    "extra_words = ['be', 'have', 'is', 'do', 'th', 're']\n",
    "for item in extra_words:\n",
    "    stop_words.append(item) # yes there's probably a better way of doing it but i am lazy\n",
    "len(stop_words)"
   ]
  },
  {
   "cell_type": "code",
   "execution_count": 7,
   "metadata": {
    "collapsed": true
   },
   "outputs": [],
   "source": [
    "source_path = '/mnt/storage/TopicModels/russian-troll-tweets-master/IRAhandle_tweets_'"
   ]
  },
  {
   "cell_type": "code",
   "execution_count": 8,
   "metadata": {
    "collapsed": true
   },
   "outputs": [],
   "source": [
    "df_1 = pd.read_csv(source_path+str(1)+'.csv')"
   ]
  },
  {
   "cell_type": "code",
   "execution_count": 9,
   "metadata": {},
   "outputs": [
    {
     "data": {
      "text/html": [
       "<div>\n",
       "<style>\n",
       "    .dataframe thead tr:only-child th {\n",
       "        text-align: right;\n",
       "    }\n",
       "\n",
       "    .dataframe thead th {\n",
       "        text-align: left;\n",
       "    }\n",
       "\n",
       "    .dataframe tbody tr th {\n",
       "        vertical-align: top;\n",
       "    }\n",
       "</style>\n",
       "<table border=\"1\" class=\"dataframe\">\n",
       "  <thead>\n",
       "    <tr style=\"text-align: right;\">\n",
       "      <th></th>\n",
       "      <th>external_author_id</th>\n",
       "      <th>author</th>\n",
       "      <th>content</th>\n",
       "      <th>region</th>\n",
       "      <th>language</th>\n",
       "      <th>publish_date</th>\n",
       "      <th>harvested_date</th>\n",
       "      <th>following</th>\n",
       "      <th>followers</th>\n",
       "      <th>updates</th>\n",
       "      <th>post_type</th>\n",
       "      <th>account_type</th>\n",
       "      <th>new_june_2018</th>\n",
       "      <th>retweet</th>\n",
       "      <th>account_category</th>\n",
       "    </tr>\n",
       "  </thead>\n",
       "  <tbody>\n",
       "    <tr>\n",
       "      <th>0</th>\n",
       "      <td>9.060000e+17</td>\n",
       "      <td>10_GOP</td>\n",
       "      <td>\"We have a sitting Democrat US Senator on tria...</td>\n",
       "      <td>Unknown</td>\n",
       "      <td>English</td>\n",
       "      <td>10/1/2017 19:58</td>\n",
       "      <td>10/1/2017 19:59</td>\n",
       "      <td>1052</td>\n",
       "      <td>9636</td>\n",
       "      <td>253</td>\n",
       "      <td>NaN</td>\n",
       "      <td>Right</td>\n",
       "      <td>0</td>\n",
       "      <td>0</td>\n",
       "      <td>RightTroll</td>\n",
       "    </tr>\n",
       "    <tr>\n",
       "      <th>1</th>\n",
       "      <td>9.060000e+17</td>\n",
       "      <td>10_GOP</td>\n",
       "      <td>Marshawn Lynch arrives to game in anti-Trump s...</td>\n",
       "      <td>Unknown</td>\n",
       "      <td>English</td>\n",
       "      <td>10/1/2017 22:43</td>\n",
       "      <td>10/1/2017 22:43</td>\n",
       "      <td>1054</td>\n",
       "      <td>9637</td>\n",
       "      <td>254</td>\n",
       "      <td>NaN</td>\n",
       "      <td>Right</td>\n",
       "      <td>0</td>\n",
       "      <td>0</td>\n",
       "      <td>RightTroll</td>\n",
       "    </tr>\n",
       "    <tr>\n",
       "      <th>2</th>\n",
       "      <td>9.060000e+17</td>\n",
       "      <td>10_GOP</td>\n",
       "      <td>Daughter of fallen Navy Sailor delivers powerf...</td>\n",
       "      <td>Unknown</td>\n",
       "      <td>English</td>\n",
       "      <td>10/1/2017 22:50</td>\n",
       "      <td>10/1/2017 22:51</td>\n",
       "      <td>1054</td>\n",
       "      <td>9637</td>\n",
       "      <td>255</td>\n",
       "      <td>RETWEET</td>\n",
       "      <td>Right</td>\n",
       "      <td>0</td>\n",
       "      <td>1</td>\n",
       "      <td>RightTroll</td>\n",
       "    </tr>\n",
       "    <tr>\n",
       "      <th>3</th>\n",
       "      <td>9.060000e+17</td>\n",
       "      <td>10_GOP</td>\n",
       "      <td>JUST IN: President Trump dedicates Presidents ...</td>\n",
       "      <td>Unknown</td>\n",
       "      <td>English</td>\n",
       "      <td>10/1/2017 23:52</td>\n",
       "      <td>10/1/2017 23:52</td>\n",
       "      <td>1062</td>\n",
       "      <td>9642</td>\n",
       "      <td>256</td>\n",
       "      <td>NaN</td>\n",
       "      <td>Right</td>\n",
       "      <td>0</td>\n",
       "      <td>0</td>\n",
       "      <td>RightTroll</td>\n",
       "    </tr>\n",
       "    <tr>\n",
       "      <th>4</th>\n",
       "      <td>9.060000e+17</td>\n",
       "      <td>10_GOP</td>\n",
       "      <td>19,000 RESPECTING our National Anthem! #StandF...</td>\n",
       "      <td>Unknown</td>\n",
       "      <td>English</td>\n",
       "      <td>10/1/2017 2:13</td>\n",
       "      <td>10/1/2017 2:13</td>\n",
       "      <td>1050</td>\n",
       "      <td>9645</td>\n",
       "      <td>246</td>\n",
       "      <td>RETWEET</td>\n",
       "      <td>Right</td>\n",
       "      <td>0</td>\n",
       "      <td>1</td>\n",
       "      <td>RightTroll</td>\n",
       "    </tr>\n",
       "  </tbody>\n",
       "</table>\n",
       "</div>"
      ],
      "text/plain": [
       "   external_author_id  author  \\\n",
       "0        9.060000e+17  10_GOP   \n",
       "1        9.060000e+17  10_GOP   \n",
       "2        9.060000e+17  10_GOP   \n",
       "3        9.060000e+17  10_GOP   \n",
       "4        9.060000e+17  10_GOP   \n",
       "\n",
       "                                             content   region language  \\\n",
       "0  \"We have a sitting Democrat US Senator on tria...  Unknown  English   \n",
       "1  Marshawn Lynch arrives to game in anti-Trump s...  Unknown  English   \n",
       "2  Daughter of fallen Navy Sailor delivers powerf...  Unknown  English   \n",
       "3  JUST IN: President Trump dedicates Presidents ...  Unknown  English   \n",
       "4  19,000 RESPECTING our National Anthem! #StandF...  Unknown  English   \n",
       "\n",
       "      publish_date   harvested_date  following  followers  updates post_type  \\\n",
       "0  10/1/2017 19:58  10/1/2017 19:59       1052       9636      253       NaN   \n",
       "1  10/1/2017 22:43  10/1/2017 22:43       1054       9637      254       NaN   \n",
       "2  10/1/2017 22:50  10/1/2017 22:51       1054       9637      255   RETWEET   \n",
       "3  10/1/2017 23:52  10/1/2017 23:52       1062       9642      256       NaN   \n",
       "4   10/1/2017 2:13   10/1/2017 2:13       1050       9645      246   RETWEET   \n",
       "\n",
       "  account_type  new_june_2018  retweet account_category  \n",
       "0        Right              0        0       RightTroll  \n",
       "1        Right              0        0       RightTroll  \n",
       "2        Right              0        1       RightTroll  \n",
       "3        Right              0        0       RightTroll  \n",
       "4        Right              0        1       RightTroll  "
      ]
     },
     "execution_count": 9,
     "metadata": {},
     "output_type": "execute_result"
    }
   ],
   "source": [
    "df_1.head()"
   ]
  },
  {
   "cell_type": "code",
   "execution_count": 10,
   "metadata": {},
   "outputs": [
    {
     "data": {
      "text/plain": [
       "array(['Unknown', nan, 'United States', 'Italy', 'United Arab Emirates',\n",
       "       'Japan', 'Israel', 'Azerbaijan', 'Egypt', 'United Kingdom',\n",
       "       'Russian Federation', 'Turkey', 'Iraq', 'Germany', 'France',\n",
       "       'Ukraine', 'Serbia', 'Hong Kong', 'Austria', 'Belarus'],\n",
       "      dtype=object)"
      ]
     },
     "execution_count": 10,
     "metadata": {},
     "output_type": "execute_result"
    }
   ],
   "source": [
    "df_1[\"region\"].unique()"
   ]
  },
  {
   "cell_type": "markdown",
   "metadata": {},
   "source": [
    "From SocialStudio  https://help.salesforce.com/articleView?id=000199367&type=1\n",
    "\n",
    "## Region classification for Tweets\n",
    "\n",
    "Tweets are classified at the Tweet level. The regions for multiple Tweets from the same Twitter user can be different. \n",
    "\n",
    "In order of precedence, the region of a Tweet is determined using the following information:\n",
    "\n",
    "1. Geographical coordinates\n",
    "\n",
    "The geographical coordinates are provided when the user enables the Tweet location feature. The device used to Tweet, such as the mobile phone, controls which geographical coordinates are provided. Find more information in FAQs about the Tweet location feature and Adding your location to a Tweet.\n",
    " \n",
    "\n",
    "2. Location listed in the user's profile\n",
    "\n",
    "Users enter their location in a free form text box. Depending on the text entered, this information may be used to set their region. For example, \"Canada\" can be used to set a region, but \"my hometown\" cannot.\n",
    " \n",
    "\n",
    "3. Time zone set by the user in their Twitter account settings.\n",
    "\n",
    "Although Tweets are classified at the Tweet level, author-level data is still stored in the system. When the first Tweet from a Twitter Author is saved, the region of that Tweet is used as the default region for the Twitter Author moving forward.\n",
    "\n",
    "Note: Region data can appear unavailable or ambiguous for a Tweet or Twitter Author. If a Tweet is ingested for an existing Twitter Author and the region information is unavailable or ambiguous for that particular Tweet, the Tweet will be classified using the default region for the Twitter Author. For any Tweets from new Twitter Authors with missing or ambiguous region data, the Tweet will be classified with the region 'Unknown'. \n",
    "\n"
   ]
  },
  {
   "cell_type": "code",
   "execution_count": 11,
   "metadata": {
    "collapsed": true
   },
   "outputs": [],
   "source": [
    "main_df = pd.DataFrame()"
   ]
  },
  {
   "cell_type": "code",
   "execution_count": 12,
   "metadata": {},
   "outputs": [
    {
     "name": "stdout",
     "output_type": "stream",
     "text": [
      "/mnt/storage/TopicModels/russian-troll-tweets-master/IRAhandle_tweets_1.csv\n",
      "/mnt/storage/TopicModels/russian-troll-tweets-master/IRAhandle_tweets_2.csv\n",
      "/mnt/storage/TopicModels/russian-troll-tweets-master/IRAhandle_tweets_3.csv\n",
      "/mnt/storage/TopicModels/russian-troll-tweets-master/IRAhandle_tweets_4.csv\n",
      "/mnt/storage/TopicModels/russian-troll-tweets-master/IRAhandle_tweets_5.csv\n",
      "/mnt/storage/TopicModels/russian-troll-tweets-master/IRAhandle_tweets_6.csv\n",
      "/mnt/storage/TopicModels/russian-troll-tweets-master/IRAhandle_tweets_7.csv\n",
      "/mnt/storage/TopicModels/russian-troll-tweets-master/IRAhandle_tweets_8.csv\n",
      "/mnt/storage/TopicModels/russian-troll-tweets-master/IRAhandle_tweets_9.csv\n"
     ]
    }
   ],
   "source": [
    "# Read in data, filter and then get rid of the original data frame. Append new data frame using concat\n",
    "\n",
    "for i in range(1, 10):\n",
    "    fileo = source_path + str(i)+'.csv'\n",
    "    print(fileo)\n",
    "    df = pd.read_csv(fileo)\n",
    "    filtero = df['region']==\"United Kingdom\"\n",
    "    df2 = df[filtero]\n",
    "    main_df = pd.concat([main_df, df2])\n",
    "    \n",
    "# write a function to do this"
   ]
  },
  {
   "cell_type": "code",
   "execution_count": 13,
   "metadata": {},
   "outputs": [
    {
     "data": {
      "text/plain": [
       "18062"
      ]
     },
     "execution_count": 13,
     "metadata": {},
     "output_type": "execute_result"
    }
   ],
   "source": [
    "len(main_df)"
   ]
  },
  {
   "cell_type": "code",
   "execution_count": 14,
   "metadata": {},
   "outputs": [
    {
     "data": {
      "text/plain": [
       "array(['United Kingdom'], dtype=object)"
      ]
     },
     "execution_count": 14,
     "metadata": {},
     "output_type": "execute_result"
    }
   ],
   "source": [
    "main_df[\"region\"].unique()"
   ]
  },
  {
   "cell_type": "code",
   "execution_count": 15,
   "metadata": {
    "collapsed": true
   },
   "outputs": [],
   "source": [
    "import re"
   ]
  },
  {
   "cell_type": "markdown",
   "metadata": {},
   "source": [
    "I decided to remove retweets and quote tweets to narrow things down. These probably give some information, but I wanted to look at the primary tweets on their own as they would have taken the most effort."
   ]
  },
  {
   "cell_type": "code",
   "execution_count": 16,
   "metadata": {
    "collapsed": true
   },
   "outputs": [],
   "source": [
    "# get rid of retweets\n",
    "main_df_filtered= main_df[main_df[\"post_type\"]!='RETWEET']"
   ]
  },
  {
   "cell_type": "code",
   "execution_count": 17,
   "metadata": {
    "collapsed": true
   },
   "outputs": [],
   "source": [
    "# get rid of quote tweets\n",
    "main_df_filtered= main_df_filtered[main_df_filtered[\"post_type\"]!='QUOTE_TWEET']"
   ]
  },
  {
   "cell_type": "code",
   "execution_count": 19,
   "metadata": {
    "collapsed": true
   },
   "outputs": [],
   "source": [
    "# Remove Emails\n",
    "main_df_filtered[\"content\"] = main_df_filtered[\"content\"].str.replace('\\\\S*@\\\\S*\\\\s?', '')\n",
    "#conveniently also removed twitter handles\n",
    "# function"
   ]
  },
  {
   "cell_type": "code",
   "execution_count": 20,
   "metadata": {},
   "outputs": [
    {
     "name": "stdout",
     "output_type": "stream",
     "text": [
      "['i', 'me', 'my', 'myself', 'we', 'our', 'ours', 'ourselves', 'you', \"you're\", \"you've\", \"you'll\", \"you'd\", 'your', 'yours', 'yourself', 'yourselves', 'he', 'him', 'his', 'himself', 'she', \"she's\", 'her', 'hers', 'herself', 'it', \"it's\", 'its', 'itself', 'they', 'them', 'their', 'theirs', 'themselves', 'what', 'which', 'who', 'whom', 'this', 'that', \"that'll\", 'these', 'those', 'am', 'is', 'are', 'was', 'were', 'be', 'been', 'being', 'have', 'has', 'had', 'having', 'do', 'does', 'did', 'doing', 'a', 'an', 'the', 'and', 'but', 'if', 'or', 'because', 'as', 'until', 'while', 'of', 'at', 'by', 'for', 'with', 'about', 'against', 'between', 'into', 'through', 'during', 'before', 'after', 'above', 'below', 'to', 'from', 'up', 'down', 'in', 'out', 'on', 'off', 'over', 'under', 'again', 'further', 'then', 'once', 'here', 'there', 'when', 'where', 'why', 'how', 'all', 'any', 'both', 'each', 'few', 'more', 'most', 'other', 'some', 'such', 'no', 'nor', 'not', 'only', 'own', 'same', 'so', 'than', 'too', 'very', 's', 't', 'can', 'will', 'just', 'don', \"don't\", 'should', \"should've\", 'now', 'd', 'll', 'm', 'o', 're', 've', 'y', 'ain', 'aren', \"aren't\", 'couldn', \"couldn't\", 'didn', \"didn't\", 'doesn', \"doesn't\", 'hadn', \"hadn't\", 'hasn', \"hasn't\", 'haven', \"haven't\", 'isn', \"isn't\", 'ma', 'mightn', \"mightn't\", 'mustn', \"mustn't\", 'needn', \"needn't\", 'shan', \"shan't\", 'shouldn', \"shouldn't\", 'wasn', \"wasn't\", 'weren', \"weren't\", 'won', \"won't\", 'wouldn', \"wouldn't\", 'be', 'have', 'is', 'do', 'th', 're']\n"
     ]
    }
   ],
   "source": [
    "print(stop_words)\n"
   ]
  },
  {
   "cell_type": "code",
   "execution_count": 21,
   "metadata": {
    "collapsed": true
   },
   "outputs": [],
   "source": [
    "# Remove newline characters\n",
    "main_df_filtered[\"content\"] = main_df_filtered[\"content\"].str.replace(r'\\s+', ' ')\n",
    "\n",
    "# Remove web addresses\n",
    "main_df_filtered[\"content\"] = main_df_filtered[\"content\"].str.replace(r'\\w*:\\/\\/\\S*', '') \n",
    "#note: find out what caused the deprecation warning and also which regex worked\n",
    "\n",
    "# function these"
   ]
  },
  {
   "cell_type": "code",
   "execution_count": 22,
   "metadata": {},
   "outputs": [
    {
     "data": {
      "text/plain": [
       "'rank more Boost #UnlikelyMagic8BallAnswers https://t.co/7Nf56OM66v'"
      ]
     },
     "execution_count": 22,
     "metadata": {},
     "output_type": "execute_result"
    }
   ],
   "source": [
    "main_df.iloc[6,2]"
   ]
  },
  {
   "cell_type": "code",
   "execution_count": 35,
   "metadata": {},
   "outputs": [
    {
     "data": {
      "text/plain": [
       "'rank more Boost #UnlikelyMagic8BallAnswers '"
      ]
     },
     "execution_count": 35,
     "metadata": {},
     "output_type": "execute_result"
    }
   ],
   "source": [
    "main_df_filtered.iloc[6,2] # success"
   ]
  },
  {
   "cell_type": "code",
   "execution_count": 36,
   "metadata": {
    "collapsed": true
   },
   "outputs": [],
   "source": [
    "# filtering to retain only the tweets in english\n",
    "engfilt = main_df_filtered['language']=='English'\n",
    "main_df_filtered = main_df_filtered[engfilt]"
   ]
  },
  {
   "cell_type": "code",
   "execution_count": 38,
   "metadata": {
    "collapsed": true
   },
   "outputs": [],
   "source": [
    "raw_data_file = 'tweets1.txt' # file to write the raw (well, filtered, partially processed) data to"
   ]
  },
  {
   "cell_type": "code",
   "execution_count": 51,
   "metadata": {
    "collapsed": true
   },
   "outputs": [],
   "source": [
    "for index, item in main_df_filtered[\"content\"].iteritems():\n",
    "    with open(raw_data_file, 'a') as f:\n",
    "        f.write(str(item)+ '\\n') # is there a more efficient way of doing this?"
   ]
  },
  {
   "cell_type": "code",
   "execution_count": 39,
   "metadata": {},
   "outputs": [
    {
     "name": "stderr",
     "output_type": "stream",
     "text": [
      "/home/katie/anaconda3/lib/python3.6/site-packages/msgpack_numpy.py:84: DeprecationWarning: The binary mode of fromstring is deprecated, as it behaves surprisingly on unicode inputs. Use frombuffer instead\n",
      "  dtype=np.dtype(descr)).reshape(obj[b'shape'])\n",
      "/home/katie/anaconda3/lib/python3.6/site-packages/msgpack_numpy.py:88: DeprecationWarning: The binary mode of fromstring is deprecated, as it behaves surprisingly on unicode inputs. Use frombuffer instead\n",
      "  dtype=np.dtype(descr))[0]\n",
      "/home/katie/anaconda3/lib/python3.6/site-packages/msgpack_numpy.py:84: DeprecationWarning: The binary mode of fromstring is deprecated, as it behaves surprisingly on unicode inputs. Use frombuffer instead\n",
      "  dtype=np.dtype(descr)).reshape(obj[b'shape'])\n",
      "/home/katie/anaconda3/lib/python3.6/site-packages/msgpack_numpy.py:84: DeprecationWarning: The binary mode of fromstring is deprecated, as it behaves surprisingly on unicode inputs. Use frombuffer instead\n",
      "  dtype=np.dtype(descr)).reshape(obj[b'shape'])\n",
      "/home/katie/anaconda3/lib/python3.6/site-packages/msgpack_numpy.py:88: DeprecationWarning: The binary mode of fromstring is deprecated, as it behaves surprisingly on unicode inputs. Use frombuffer instead\n",
      "  dtype=np.dtype(descr))[0]\n",
      "/home/katie/anaconda3/lib/python3.6/site-packages/msgpack_numpy.py:84: DeprecationWarning: The binary mode of fromstring is deprecated, as it behaves surprisingly on unicode inputs. Use frombuffer instead\n",
      "  dtype=np.dtype(descr)).reshape(obj[b'shape'])\n",
      "/home/katie/anaconda3/lib/python3.6/site-packages/msgpack_numpy.py:84: DeprecationWarning: The binary mode of fromstring is deprecated, as it behaves surprisingly on unicode inputs. Use frombuffer instead\n",
      "  dtype=np.dtype(descr)).reshape(obj[b'shape'])\n",
      "/home/katie/anaconda3/lib/python3.6/site-packages/msgpack_numpy.py:88: DeprecationWarning: The binary mode of fromstring is deprecated, as it behaves surprisingly on unicode inputs. Use frombuffer instead\n",
      "  dtype=np.dtype(descr))[0]\n",
      "/home/katie/anaconda3/lib/python3.6/site-packages/msgpack_numpy.py:84: DeprecationWarning: The binary mode of fromstring is deprecated, as it behaves surprisingly on unicode inputs. Use frombuffer instead\n",
      "  dtype=np.dtype(descr)).reshape(obj[b'shape'])\n",
      "/home/katie/anaconda3/lib/python3.6/site-packages/msgpack_numpy.py:84: DeprecationWarning: The binary mode of fromstring is deprecated, as it behaves surprisingly on unicode inputs. Use frombuffer instead\n",
      "  dtype=np.dtype(descr)).reshape(obj[b'shape'])\n",
      "/home/katie/anaconda3/lib/python3.6/site-packages/msgpack_numpy.py:88: DeprecationWarning: The binary mode of fromstring is deprecated, as it behaves surprisingly on unicode inputs. Use frombuffer instead\n",
      "  dtype=np.dtype(descr))[0]\n",
      "/home/katie/anaconda3/lib/python3.6/site-packages/msgpack_numpy.py:84: DeprecationWarning: The binary mode of fromstring is deprecated, as it behaves surprisingly on unicode inputs. Use frombuffer instead\n",
      "  dtype=np.dtype(descr)).reshape(obj[b'shape'])\n",
      "/home/katie/anaconda3/lib/python3.6/site-packages/msgpack_numpy.py:84: DeprecationWarning: The binary mode of fromstring is deprecated, as it behaves surprisingly on unicode inputs. Use frombuffer instead\n",
      "  dtype=np.dtype(descr)).reshape(obj[b'shape'])\n",
      "/home/katie/anaconda3/lib/python3.6/site-packages/msgpack_numpy.py:88: DeprecationWarning: The binary mode of fromstring is deprecated, as it behaves surprisingly on unicode inputs. Use frombuffer instead\n",
      "  dtype=np.dtype(descr))[0]\n",
      "/home/katie/anaconda3/lib/python3.6/site-packages/msgpack_numpy.py:84: DeprecationWarning: The binary mode of fromstring is deprecated, as it behaves surprisingly on unicode inputs. Use frombuffer instead\n",
      "  dtype=np.dtype(descr)).reshape(obj[b'shape'])\n",
      "/home/katie/anaconda3/lib/python3.6/site-packages/msgpack_numpy.py:84: DeprecationWarning: The binary mode of fromstring is deprecated, as it behaves surprisingly on unicode inputs. Use frombuffer instead\n",
      "  dtype=np.dtype(descr)).reshape(obj[b'shape'])\n",
      "/home/katie/anaconda3/lib/python3.6/site-packages/msgpack_numpy.py:88: DeprecationWarning: The binary mode of fromstring is deprecated, as it behaves surprisingly on unicode inputs. Use frombuffer instead\n",
      "  dtype=np.dtype(descr))[0]\n",
      "/home/katie/anaconda3/lib/python3.6/site-packages/msgpack_numpy.py:84: DeprecationWarning: The binary mode of fromstring is deprecated, as it behaves surprisingly on unicode inputs. Use frombuffer instead\n",
      "  dtype=np.dtype(descr)).reshape(obj[b'shape'])\n",
      "/home/katie/anaconda3/lib/python3.6/site-packages/msgpack_numpy.py:84: DeprecationWarning: The binary mode of fromstring is deprecated, as it behaves surprisingly on unicode inputs. Use frombuffer instead\n",
      "  dtype=np.dtype(descr)).reshape(obj[b'shape'])\n",
      "/home/katie/anaconda3/lib/python3.6/site-packages/msgpack_numpy.py:84: DeprecationWarning: The binary mode of fromstring is deprecated, as it behaves surprisingly on unicode inputs. Use frombuffer instead\n",
      "  dtype=np.dtype(descr)).reshape(obj[b'shape'])\n",
      "/home/katie/anaconda3/lib/python3.6/site-packages/msgpack_numpy.py:88: DeprecationWarning: The binary mode of fromstring is deprecated, as it behaves surprisingly on unicode inputs. Use frombuffer instead\n",
      "  dtype=np.dtype(descr))[0]\n",
      "/home/katie/anaconda3/lib/python3.6/site-packages/msgpack_numpy.py:84: DeprecationWarning: The binary mode of fromstring is deprecated, as it behaves surprisingly on unicode inputs. Use frombuffer instead\n",
      "  dtype=np.dtype(descr)).reshape(obj[b'shape'])\n",
      "/home/katie/anaconda3/lib/python3.6/site-packages/msgpack_numpy.py:84: DeprecationWarning: The binary mode of fromstring is deprecated, as it behaves surprisingly on unicode inputs. Use frombuffer instead\n",
      "  dtype=np.dtype(descr)).reshape(obj[b'shape'])\n",
      "/home/katie/anaconda3/lib/python3.6/site-packages/msgpack_numpy.py:88: DeprecationWarning: The binary mode of fromstring is deprecated, as it behaves surprisingly on unicode inputs. Use frombuffer instead\n",
      "  dtype=np.dtype(descr))[0]\n",
      "/home/katie/anaconda3/lib/python3.6/site-packages/msgpack_numpy.py:84: DeprecationWarning: The binary mode of fromstring is deprecated, as it behaves surprisingly on unicode inputs. Use frombuffer instead\n",
      "  dtype=np.dtype(descr)).reshape(obj[b'shape'])\n",
      "/home/katie/anaconda3/lib/python3.6/site-packages/msgpack_numpy.py:84: DeprecationWarning: The binary mode of fromstring is deprecated, as it behaves surprisingly on unicode inputs. Use frombuffer instead\n",
      "  dtype=np.dtype(descr)).reshape(obj[b'shape'])\n",
      "/home/katie/anaconda3/lib/python3.6/site-packages/msgpack_numpy.py:88: DeprecationWarning: The binary mode of fromstring is deprecated, as it behaves surprisingly on unicode inputs. Use frombuffer instead\n",
      "  dtype=np.dtype(descr))[0]\n",
      "/home/katie/anaconda3/lib/python3.6/site-packages/msgpack_numpy.py:84: DeprecationWarning: The binary mode of fromstring is deprecated, as it behaves surprisingly on unicode inputs. Use frombuffer instead\n",
      "  dtype=np.dtype(descr)).reshape(obj[b'shape'])\n",
      "/home/katie/anaconda3/lib/python3.6/site-packages/msgpack_numpy.py:84: DeprecationWarning: The binary mode of fromstring is deprecated, as it behaves surprisingly on unicode inputs. Use frombuffer instead\n",
      "  dtype=np.dtype(descr)).reshape(obj[b'shape'])\n",
      "/home/katie/anaconda3/lib/python3.6/site-packages/msgpack_numpy.py:88: DeprecationWarning: The binary mode of fromstring is deprecated, as it behaves surprisingly on unicode inputs. Use frombuffer instead\n",
      "  dtype=np.dtype(descr))[0]\n",
      "/home/katie/anaconda3/lib/python3.6/site-packages/msgpack_numpy.py:84: DeprecationWarning: The binary mode of fromstring is deprecated, as it behaves surprisingly on unicode inputs. Use frombuffer instead\n",
      "  dtype=np.dtype(descr)).reshape(obj[b'shape'])\n",
      "/home/katie/anaconda3/lib/python3.6/site-packages/msgpack_numpy.py:84: DeprecationWarning: The binary mode of fromstring is deprecated, as it behaves surprisingly on unicode inputs. Use frombuffer instead\n",
      "  dtype=np.dtype(descr)).reshape(obj[b'shape'])\n",
      "/home/katie/anaconda3/lib/python3.6/site-packages/msgpack_numpy.py:88: DeprecationWarning: The binary mode of fromstring is deprecated, as it behaves surprisingly on unicode inputs. Use frombuffer instead\n",
      "  dtype=np.dtype(descr))[0]\n",
      "/home/katie/anaconda3/lib/python3.6/site-packages/msgpack_numpy.py:84: DeprecationWarning: The binary mode of fromstring is deprecated, as it behaves surprisingly on unicode inputs. Use frombuffer instead\n",
      "  dtype=np.dtype(descr)).reshape(obj[b'shape'])\n",
      "/home/katie/anaconda3/lib/python3.6/site-packages/msgpack_numpy.py:84: DeprecationWarning: The binary mode of fromstring is deprecated, as it behaves surprisingly on unicode inputs. Use frombuffer instead\n",
      "  dtype=np.dtype(descr)).reshape(obj[b'shape'])\n",
      "/home/katie/anaconda3/lib/python3.6/site-packages/msgpack_numpy.py:84: DeprecationWarning: The binary mode of fromstring is deprecated, as it behaves surprisingly on unicode inputs. Use frombuffer instead\n",
      "  dtype=np.dtype(descr)).reshape(obj[b'shape'])\n",
      "/home/katie/anaconda3/lib/python3.6/site-packages/msgpack_numpy.py:84: DeprecationWarning: The binary mode of fromstring is deprecated, as it behaves surprisingly on unicode inputs. Use frombuffer instead\n",
      "  dtype=np.dtype(descr)).reshape(obj[b'shape'])\n"
     ]
    }
   ],
   "source": [
    "# Initialize spacy 'en' model, keeping only tagger component (for efficiency)\n",
    "# python3 -m spacy download en\n",
    "nlp = spacy.load('en', disable=['parser', 'ner'])"
   ]
  },
  {
   "cell_type": "code",
   "execution_count": 40,
   "metadata": {
    "collapsed": true
   },
   "outputs": [],
   "source": [
    "#Preprocessing function- apply to df or to MyDocs class?\n",
    "# [tokenize -- lowercase -- remove punctuation]<simple_preprocess -- remove stopwords --  [remove very short words]s_p\n",
    "# [-- POS tag and remove -- lemmatize]  -- remove numbers[dealt with by lemmatization]\n",
    "# could you run the files through and write straight to file? then the preprocessing would need to be applied to all the \n",
    "# data in stream format, hence removing emails and web addresses etc would need to be done in the pipeline\n",
    "# could stream data from one file to another. how to retain document-per-line form?\n",
    "# simple_preprocess will tokenize, remove punctuation and discard anything shorter than 2 (set this option to 3) and \n",
    "# longer than 15\n",
    "\n",
    "# read in -- process -- write out to file\n",
    "\n",
    "# Define functions for stopwords and lemmatization- keep these functions\n",
    "def remove_stopwords(texts):\n",
    "    return [word for word in simple_preprocess(str(texts)) if word not in stop_words] \n",
    "\n",
    "def preprocess(doc):\n",
    "    allowed_postags=['NOUN', 'ADJ', 'VERB', 'ADV']\n",
    "    no_stops = remove_stopwords(doc)\n",
    "    texts_out = []\n",
    "    doc = nlp(doc)\n",
    "    texts_out.append([ token.lemma_ for token in doc if token.pos_ in allowed_postags and token.lemma_ not in [\"-pron-\", \"#\"] ]) # what happens if you sub [ for (?\n",
    "    \n",
    "    return texts_out\n",
    "\n",
    "# need to get rid of -PRON- and # as words\n"
   ]
  },
  {
   "cell_type": "code",
   "execution_count": 1,
   "metadata": {},
   "outputs": [],
   "source": [
    "# Misspellings will be a problem perhaps. How best to deal with? Maybe don't automatically distrust Hunspell- test it out"
   ]
  },
  {
   "cell_type": "code",
   "execution_count": 54,
   "metadata": {
    "collapsed": true
   },
   "outputs": [],
   "source": [
    "processed_text_file = \"processed_text_file.txt\""
   ]
  },
  {
   "cell_type": "code",
   "execution_count": 58,
   "metadata": {
    "collapsed": true
   },
   "outputs": [],
   "source": [
    "def file_stream_preprocess(raw_data_file, processed_text_file):\n",
    "    with open(raw_data_file, 'r') as rawf:\n",
    "        newf = open(processed_text_file, 'a')\n",
    "        for line in rawf:\n",
    "            processed_line = preprocess(line)\n",
    "            newf.write(str(processed_line).strip('[]')+'\\n')\n",
    "        newf.close()        \n",
    "    return newf\n"
   ]
  },
  {
   "cell_type": "code",
   "execution_count": 62,
   "metadata": {
    "collapsed": true
   },
   "outputs": [],
   "source": [
    "import timeit"
   ]
  },
  {
   "cell_type": "code",
   "execution_count": 63,
   "metadata": {},
   "outputs": [
    {
     "data": {
      "text/plain": [
       "165.9094397580002"
      ]
     },
     "execution_count": 63,
     "metadata": {},
     "output_type": "execute_result"
    }
   ],
   "source": [
    "tic = timeit.default_timer()\n",
    "file_stream_preprocess(raw_data_file, processed_text_file)\n",
    "toc = timeit.default_timer()\n",
    "toc-tic"
   ]
  },
  {
   "cell_type": "markdown",
   "metadata": {},
   "source": [
    "This will return the elapsed wall clock (real) time, not CPU time. And as described in the timeit documentation chooses the most precise available real-world timer depending on the platform.\n",
    "\n",
    "ALso, beginning with Python 3.3 this same functionality is available with the time.perf_counter performance counter. Under 3.3+ timeit.default_timer() refers to this new counter.\n",
    "\n",
    "For more precise/complex performance calculations, timeit includes more sophisticated calls for automatically timing small code snippets including averaging run time over a defined set of repetitions."
   ]
  },
  {
   "cell_type": "markdown",
   "metadata": {},
   "source": [
    "It has written it differently than before now that it is a function, also has not removed \"-PRON-\""
   ]
  },
  {
   "cell_type": "code",
   "execution_count": 64,
   "metadata": {
    "collapsed": true
   },
   "outputs": [],
   "source": [
    "processed_text = \"processed_text.txt\""
   ]
  },
  {
   "cell_type": "code",
   "execution_count": 65,
   "metadata": {},
   "outputs": [
    {
     "data": {
      "text/plain": [
       "168.58842722300005"
      ]
     },
     "execution_count": 65,
     "metadata": {},
     "output_type": "execute_result"
    }
   ],
   "source": [
    "tic = timeit.default_timer()\n",
    "with open(raw_data_file, 'r') as rawf:\n",
    "        newf = open(processed_text, 'a')\n",
    "        for line in rawf:\n",
    "            processed_line = preprocess(line)\n",
    "            newf.write(str(processed_line).strip('[]')+'\\n')\n",
    "        newf.close()\n",
    "toc = timeit.default_timer()\n",
    "\n",
    "toc - tic"
   ]
  },
  {
   "cell_type": "markdown",
   "metadata": {},
   "source": [
    "this took 3 more seconds, although that is probably negligible because it is measuring real time"
   ]
  },
  {
   "cell_type": "code",
   "execution_count": 66,
   "metadata": {
    "collapsed": true
   },
   "outputs": [],
   "source": [
    "class MyDocs(object):\n",
    "    def __init__(self, file):\n",
    "        self.file = file\n",
    "    def __iter__(self):\n",
    "        for line in open(self.file, 'r'):  \n",
    "            yield gensim.utils.simple_preprocess(str(line), deacc=True)"
   ]
  },
  {
   "cell_type": "code",
   "execution_count": 67,
   "metadata": {
    "collapsed": true
   },
   "outputs": [],
   "source": [
    "docs = MyDocs(processed_text)\n",
    "# successful iterator item\n",
    "# or maybe use one of the built-in corpus functions?"
   ]
  },
  {
   "cell_type": "code",
   "execution_count": 68,
   "metadata": {
    "collapsed": true
   },
   "outputs": [],
   "source": [
    "dictionary = Dictionary(docs)\n",
    "# shows that dictionary can take an iterator"
   ]
  },
  {
   "cell_type": "code",
   "execution_count": 69,
   "metadata": {},
   "outputs": [
    {
     "name": "stdout",
     "output_type": "stream",
     "text": [
      "{'ballanswer': 0, 'identical': 1, 'live': 2, 'pron': 3, 'scrotum': 4, 'time': 5, 'twin': 6, 'unlikelymagic': 7, 'whom': 8, 'ball': 9, 'dis': 10, 'new': 11, 'who': 12, 'all': 13, 'fish': 14, 'long': 15, 'so': 16, 'thank': 17, 'at': 18, 'cry': 19, 'follow': 20, 'get': 21, 'sleep': 22, 'then': 23, 'shit': 24, 'basement': 25, 'door': 26, 'lock': 27, 'mind': 28, 'never': 29, 'lawyer': 30, 'answer': 31, 'be': 32, 'block': 33, 'learn': 34, 'more': 35, 'view': 36, 'insert': 37, 'quater': 38, 'better': 39, 'safe': 40, 'sorry': 41, 'animal': 42, 'kind': 43, 'first': 44, 'let': 45, 'smoke': 46, 'call': 47, 'mom': 48, 'word': 49, 'light': 50, 'need': 51, 'off': 52, 'words': 53, 'smile': 54, 'stream': 55, 'video': 56, 'affiliation': 57, 'political': 58, 'what': 59, 'cattle': 60, 'hand': 61, 'prod': 62, 'ask': 63, 'how': 64, 'lubricant': 65, 'there': 66, 'friend': 67, 'hot': 68, 'say': 69, 'smell': 70, 'pasttensesong': 71, 'top': 72, 'nigga': 73, 'badass': 74, 'empty': 75, 'go': 76, 'show': 77, 'soul': 78, 'tweetsfrom': 79, 'yearsago': 80, 'come': 81, 'dad': 82, 'do': 83, 'ignition': 84, 'keyless': 85, 'think': 86, 'when': 87, 'will': 88, 'wiring': 89, 'least': 90, 'not': 91, 'planet': 92, 'warm': 93, 'too': 94, 'change': 95, 'life': 96, 'catch': 97, 'king': 98, 'look': 99, 'neat': 100, 'phone': 101, 'bad': 102, 'ever': 103, 'date': 104, 'form': 105, 'relationship': 106, 'true': 107, 'dud': 108, 'make': 109, 'movie': 110, 'seriously': 111, 'such': 112, 'believe': 113, 'black': 114, 'can': 115, 'guy': 116, 'president': 117, 'run': 118, 'beat': 119, 'nobody': 120, 'patriot': 121, 'severus': 122, 'snape': 123, 'man': 124, 'wait': 125, 'here': 126, 'pound': 127, 'sign': 128, 'have': 129, 'money': 130, 'circuit': 131, 'day': 132, 'panic': 133, 'scan': 134, 'short': 135, 'chillin': 136, 'crew': 137, 'mighty': 138, 'op': 139, 'robothiphop': 140, 'liquidmetal': 141, 'stay': 142, 'aware': 143, 'extra': 144, 'fly': 145, 'lookin': 146, 'self': 147, 'testify': 148, 'touch': 149, 'historiasaden': 150, 'palabra': 151, 'ck': 152, 'claim': 153, 'click': 154, 'glitch': 155, 'drive': 156, 'flash': 157, 'grand': 158, 'master': 159, 'okla': 160, 'phantom': 161, 'th': 162, 'dumb': 163, 'meet': 164, 'find': 165, 'dirty': 166, 'clue': 167, 'homeopathic': 168, 'medicine': 169, 'really': 170, 'work': 171, 'die': 172, 'should': 173, 'potter': 174, 'trash': 175, 'equal': 176, 'page': 177, 'chicken': 178, 'cross': 179, 'damn': 180, 'deal': 181, 'road': 182, 'care': 183, 'government': 184, 'megaman': 185, 'bts': 186, 'kpop': 187, 'invent': 188, 'serve': 189, 'bathroom': 190, 'customer': 191, 'only': 192, 'pay': 193, 'that': 194, 'why': 195, 'big': 196, 'huge': 197, 'penis': 198, 'still': 199, 'break': 200, 'mean': 201, 'nature': 202, 'reflection': 203, 'couple': 204, 'inch': 205, 'baller': 206, 'bit': 207, 'girl': 208, 'good': 209, 'little': 210, 'rap': 211, 'tall': 212, 'wish': 213, 'actually': 214, 'echo': 215, 'hear': 216, 'rise': 217, 'system': 218, 'pension': 219, 'tight': 220, 'hip': 221, 'shake': 222, 'dead': 223, 'grateful': 224, 'second': 225, 'home': 226, 'rest': 227, 'sweet': 228, 'wake': 229, 'awww': 230, 'cute': 231, 'soo': 232, 'stonedcomicbook': 233, 'american': 234, 'last': 235, 'public': 236, 'year': 237, 'jones': 238, 'hungry': 239, 'like': 240, 'earthdaysong': 241, 'grease': 242, 'lightning': 243, 'fix': 244, 'song': 245, 'landfill': 246, 'frack': 247, 'police': 248, 'christian': 249, 'kick': 250, 'muslim': 251, 'prayer': 252, 'sing': 253, 'woman': 254, 'talent': 255, 'bang': 256, 'creepy': 257, 'daughter': 258, 'disgusting': 259, 'own': 260, 'want': 261, 'conspiracysong': 262, 'wire': 263, 'lace': 264, 'real': 265, 'stand': 266, 'agent': 267, 'brew': 268, 'special': 269, 'carry': 270, 'curious': 271, 'disembowel': 272, 'fail': 273, 'drug': 274, 'crisis': 275, 'mid': 276, 'modern': 277, 'rokos': 278, 'amputee': 279, 'midget': 280, 'half': 281, 'order': 282, 'poop': 283, 'whinny': 284, 'hell': 285, 'individual': 286, 'back': 287, 'boy': 288, 'fat': 289, 'ill': 290, 'now': 291, 'whenitimetravel': 292, 'almost': 293, 'happymothersday': 294, 'kinda': 295, 'happen': 296, 'typo': 297, 'would': 298, 'condom': 299, 'father': 300, 'avoid': 301, 'crazy': 302, 'grammar': 303, 'tense': 304, 'usually': 305, 'daylight': 306, 'private': 307, 'saving': 308, 'summeramovie': 309, 'lose': 310, 'epic': 311, 'fast': 312, 'death': 313, 'pointsme': 314, 'bread': 315, 'night': 316, 'lien': 317, 'got': 318, 'makeabookwarm': 319, 'spider': 320, 'peace': 321, 'baked': 322, 'kendrick': 323, 'sit': 324, 'wear': 325, 'olympictv': 326, 'rowing': 327, 'fart': 328, 'tub': 329, 'picture': 330, 'street': 331, 'take': 332, 'tree': 333, 'must': 334, 'natural': 335, 'next': 336, 'rock': 337, 'see': 338, 'someone': 339, 'russian': 340, 'sock': 341, 'bomb': 342, 'already': 343, 'one': 344, 'ago': 345, 'great': 346, 'migration': 347, 'running': 348, 'historical': 349, 'honestly': 350, 'know': 351, 'pretty': 352, 'montreal': 353, 'darryl': 354, 'everybody': 355, 'love': 356, 'poutine': 357, 'dore': 358, 'explorer': 359, 'boring': 360, 'advice': 361, 'issues': 362, 'chocolate': 363, 'honey': 364, 'white': 365, 'fire': 366, 'check': 367, 'else': 368, 'fuck': 369, 'right': 370, 'keep': 371, 'info': 372, 'kill': 373, 'reveal': 374, 'sundaymorn': 375, 'wikileaks': 376, 'bed': 377, 'warn': 378, 'bring': 379, 'resist': 380, 'swamp': 381, 'stamp': 382, 'tramp': 383, 'something': 384, 'try': 385, 'weird': 386, 'fun': 387, 'yet': 388, 'watch': 389, 'cat': 390, 'daddi': 391, 'finna': 392, 'play': 393, 'just': 394, 'pet': 395, 'stare': 396, 'game': 397, 'hashtag': 398, 'much': 399, 'business': 400, 'office': 401, 'sense': 402, 'wonder': 403, 'end': 404, 'together': 405, 'way': 406, 'retirement': 407, 'sort': 408, 'could': 409, 'momentum': 410, 'nothing': 411, 'possibly': 412, 'throw': 413, 'about': 414, 'as': 415, 'become': 416, 'likely': 417, 'add': 418, 'war': 419, 'blog': 420, 'honest': 421, 'everyone': 422, 'moron': 423, 'flip': 424, 'pregnancy': 425, 'teen': 426, 'full': 427, 'hair': 428, 'head': 429, 'old': 430, 'oyster': 431, 'world': 432, 'nail': 433, 'team': 434, 'career': 435, 'over': 436, 'shave': 437, 'elect': 438, 'bank': 439, 'give': 440, 'quest': 441, 'listen': 442, 'drag': 443, 'overheeeeat': 444, 'trend': 445, 'unit': 446, 'beauty': 447, 'cuticle': 448, 'dirt': 449, 'open': 450, 'product': 451, 'remove': 452, 'trap': 453, 'water': 454, 'which': 455, 'brain': 456, 'insane': 457, 'mainframe': 458, 'codemonkey': 459, 'codertee': 460, 'coderteeshirt': 461, 'thang': 462, 'case': 463, 'miss': 464, 'retweet': 465, 'track': 466, 'edm': 467, 'indie': 468, 'most': 469, 'people': 470, 'buffer': 471, 'ooooo': 472, 'ooooooo': 473, 'twitch': 474, 'dumberbroadway': 475, 'pooh': 476, 'fixer': 477, 'rebelonbet': 478, 'tcmparty': 479, 'leave': 480, 'summer': 481, 'wrath': 482, 'where': 483, 'chip': 484, 'cow': 485, 'survivor': 486, 'loud': 487, 'milk': 488, 'awesome': 489, 'flashmob': 490, 'tag': 491, 'happy': 492, 'also': 493, 'balloon': 494, 'impressed': 495, 'belong': 496, 'pizza': 497, 'stilla': 498, 'virgin': 499, 'exist': 500, 'supremacy': 501, 'pineapple': 502, 'harmful': 503, 'accuser': 504, 'criminal': 505, 'false': 506, 'penny': 507, 'rip': 508, 'well': 509, 'wishing': 510, 'identity': 511, 'dog': 512, 'talk': 513, 'alive': 514, 'argument': 515, 'win': 516, 'flea': 517, 'hard': 518, 'plea': 519, 'whisker': 520, 'whisper': 521, 'apparently': 522, 'hearing': 523, 'pianist': 524, 'kid': 525, 'stick': 526, 'diet': 527, 'easterin': 528, 'start': 529, 'sure': 530, 'tomorrow': 531, 'truestory': 532, 'vein': 533, 'early': 534, 'season': 535, 'wabbit': 536, 'bean': 537, 'jelly': 538, 'help': 539, 'styx': 540, 'walk': 541, 'out': 542, 'tune': 543, 'incredible': 544, 'maker': 545, 'widow': 546, 'hemp': 547, 'toke': 548, 'men': 549, 'coke': 550, 'dagger': 551, 'longgg': 552, 'scandal': 553, 'butte': 554, 'lie': 555, 'clean': 556, 'energy': 557, 'hashtagwar': 558, 'body': 559, 'down': 560, 'glacier': 561, 'earth': 562, 'ozone': 563, 'recycle': 564, 'reduce': 565, 'reuse': 566, 'flow': 567, 'different': 568, 'hold': 569, 'less': 570, 'other': 571, 'position': 572, 'brainwash': 573, 'conspiracy': 574, 'dismiss': 575, 'event': 576, 'may': 577, 'theory': 578, 'arm': 579, 'tonight': 580, 'plan': 581, 'admit': 582, 'attack': 583, 'brainwashing': 584, 'dozen': 585, 'education': 586, 'flag': 587, 'blazed': 588, 'machine': 589, 'monster': 590, 'buy': 591, 'instead': 592, 'plier': 593, 'book': 594, 'lining': 595, 'plat': 596, 'silver': 597, 'mortgage': 598, 'deserve': 599, 'reason': 600, 'anyone': 601, 'bs': 602, 'mayhem_bot': 603, 'momin': 604, 'name': 605, 'surname': 606, 'air': 607, 'conditioner': 608, 'turn': 609, 'burn': 610, 'reading': 611, 'sleepless': 612, 'bored': 613, 'bland': 614, 'revenge': 615, 'blaze': 616, 'beach': 617, 'fantastic': 618, 'power': 619, 'hug': 620, 'squeeze': 621, 'metric': 622, 'sweat': 623, 'cheese': 624, 'grilled': 625, 'move': 626, 'dress': 627, 'freakum': 628, 'sweater': 629, 'baby': 630, 'kiss': 631, 'ren': 632, 'titanic': 633, 'rumble': 634, 'maple': 635, 'canadian': 636, 'freak': 637, 'horror': 638, 'snow': 639, 'late': 640, 'heart': 641, 'socialize': 642, 'sunny': 643, 'follower': 644, 'map': 645, 'ukraine': 646, 'crook': 647, 'thief': 648, 'barrel': 649, 'blast': 650, 'earlier': 651, 'massive': 652, 'misleadingly': 653, 'rebel': 654, 'report': 655, 'use': 656, 'again': 657, 'even': 658, 'funny': 659, 'driver': 660, 'sledge': 661, 'recent': 662, 'lick': 663, 'lifeline': 664, 'sex': 665, 'wordgreatidea': 666, 'pony': 667, 'join': 668, 'wanna': 669, 'abortion': 670, 'hope': 671, 'pro': 672, 'remember': 673, 'brother': 674, 'lot': 675, 'barbed': 676, 'ignore': 677, 'fit': 678, 'inside': 679, 'thursdaythought': 680, 'arrive': 681, 'dvd': 682, 'weekend': 683, 'today': 684, 'project': 685, 'hero': 686, 'super': 687, 'curse': 688, 'nutjob': 689, 'imagine': 690, 'button': 691, 'stupid': 692, 'thing': 693, 'school': 694, 'gravity': 695, 'guess': 696, 'succeed': 697, 'papa': 698, 'pee': 699, 'art': 700, 'thou': 701, 'train': 702, 'away': 703, 'heiferybody': 704, 'flower': 705, 'greatness': 706, 'lynch': 707, 'mob': 708, 'throwback': 709, 'french': 710, 'fry': 711, 'schumer': 712, 'trump': 713, 'poor': 714, 'problem': 715, 'roll': 716, 'bear': 717, 'few': 718, 'toss': 719, 'accept': 720, 'eat': 721, 'genie': 722, 'sandwich': 723, 'dude': 724, 'enough': 725, 'groomer': 726, 'harsh': 727, 'license': 728, 'revoke': 729, 'goonie': 730, 'gold': 731, 'luck': 732, 'pot': 733, 'rainbow': 734, 'sinkhole': 735, 'politic': 736, 'fool': 737, 'ter': 738, 'thrombosis': 739, 'egg': 740, 'evening': 741, 'family': 742, 'spend': 743, 'bot': 744, 'screw': 745, 'put': 746, 'bound': 747, 'nursing': 748, 'anybody': 749, 'mo': 750, 'obvious': 751, 'morphing': 752, 'munchie': 753, 'thor': 754, 'cloakanddagger': 755, 'expose': 756, 'lmao': 757, 'marvel': 758, 'meme': 759, 'pewdiepie': 760, 'anymore': 761, 'plant': 762, 'feed': 763, 'line': 764, 'pocket': 765, 'rat': 766, 'session': 767, 'create': 768, 'demonize': 769, 'depiction': 770, 'mentalillness': 771, 'islamic': 772, 'liberal': 773, 'terror': 774, 'celebrate': 775, 'culture': 776, 'fighting': 777, 'unnecessary': 778, 'corey': 779, 'dateline': 780, 'kluber': 781, 'march': 782, 'paul': 783, 'reds': 784, 'navy': 785, 'shame': 786, 'church': 787, 'basket': 788, 'deplorable': 789, 'envy': 790, 'green': 791, 'tasket': 792, 'tisket': 793, 'absolutely': 794, 'ignorance': 795, 'joke': 796, 'mindless': 797, 'topic': 798, 'chem': 799, 'trail': 800, 'alternative': 801, 'fact': 802, 'gun': 803, 'send': 804, 'suppose': 805, 'red': 806, 'area': 807, 'film': 808, 'micro': 809, 'climate': 810, 'house': 811, 'club': 812, 'mickey': 813, 'motorcycle': 814, 'mouse': 815, 'deny': 816, 'sciencemarch': 817, 'dodge': 818, 'tennis': 819, 'ender': 820, 'sale': 821, 'age': 822, 'express': 823, 'gratitude': 824, 'chemo': 825, 'forever': 826, 'always': 827, 'discipline': 828, 'lol': 829, 'patience': 830, 'sacrifice': 831, 'tolerance': 832, 'basically': 833, 'simply': 834, 'thaw': 835, 'travel': 836, 'scar': 837, 'tell': 838, 'awhile': 839, 'groundhog': 840, 'stop': 841, 'grandmother': 842, 'blue': 843, 'box': 844, 'telephone': 845, 'pant': 846, 'yoga': 847, 'backwards': 848, 'forward': 849, 'jump': 850, 'universe': 851, 'horse': 852, 'vote': 853, 'forest': 854, 'btu': 855, 'drink': 856, 'sunburn': 857, 'wet': 858, 'greek': 859, 'heat': 860, 'index': 861, 'extraordinary': 862, 'gentleman': 863, 'league': 864, 'softball': 865, 'rain': 866, 'desperately': 867, 'seek': 868, 'plane': 869, 'snake': 870, 'furnace': 871, 'monk': 872, 'sell': 873, 'free': 874, 'tweed': 875, 'icestation': 876, 'gas': 877, 'ring': 878, 'theme': 879, 'drunk': 880, 'tower': 881, 'picker': 882, 'point': 883, 'souvenir': 884, 'girlfriend': 885, 'harbor': 886, 'pearl': 887, 'fake': 888, 'landing': 889, 'grab': 890, 'pussy': 891, 'wherever': 892, 'spuzzum': 893, 'surry': 894, 'tooeasy': 895, 'blow': 896, 'class': 897, 'emergency': 898, 'submarine': 899, 'district': 900, 'fighter': 901, 'battle': 902, 'combat': 903, 'participate': 904, 'perch': 905, 'sandbag': 906, 'soldier': 907, 'japanese': 908, 'suicide': 909, 'torpedo': 910, 'celebration': 911, 'child': 912, 'city': 913, 'department': 914, 'hospital': 915, 'surgical': 916, 'visit': 917, 'wave': 918, 'armored': 919, 'homemade': 920, 'syrian': 921, 'vehicle': 922, 'bush': 923, 'capture': 924, 'member': 925, 'south': 926, 'british': 927, 'circa': 928, 'high': 929, 'probably': 930, 'speed': 931, 'steam': 932, 'trial': 933, 'kurdish': 934, 'newly': 935, 'refugee': 936, 'aid': 937, 'convoy': 938, 'plague': 939, 'starvation': 940, 'accomplish': 941, 'clash': 942, 'intensify': 943, 'protester': 944, 'front': 945, 'training': 946, 'colombian': 947, 'floatplane': 948, 'material': 949, 'sensitive': 950, 'turkish': 951, 'ypg': 952, 'exercise': 953, 'military': 954, 'river': 955, 'tank': 956, 'core': 957, 'plutonium': 958, 'prisoner': 959, 'troop': 960, 'commit': 961, 'crime': 962, 'guard': 963, 'policeman': 964, 'suspect': 965, 'tribesman': 966, 'comrade': 967, 'patch': 968, 'wound': 969, 'female': 970, 'assassinate': 971, 'extremist': 972, 'confirm': 973, 'rd': 974, 'sniper': 975, 'st': 976, 'devastated': 977, 'drone': 978, 'eastern': 979, 'footage': 980, 'suburb': 981, 'communist': 982, 'militant': 983, 'overlook': 984, 'spanish': 985, 'aircraft': 986, 'foreground': 987, 'marking': 988, 'raid': 989, 'star': 990, 'su': 991, 'admiral': 992, 'frigate': 993, 'sea': 994, 'army': 995, 'camp': 996, 'declare': 997, 'recruit': 998, 'shortly': 999, 'defender': 1000, 'young': 1001, 'detonate': 1002, 'mortar': 1003, 'remain': 1004, 'safety': 1005, 'sapper': 1006, 'shell': 1007, 'board': 1008, 'mascot': 1009, 'paw': 1010, 'sailor': 1011, 'ship': 1012, 'activist': 1013, 'candle': 1014, 'central': 1015, 'neighbourhood': 1016, 'victim': 1017, 'iranian': 1018, 'iraqi': 1019, 'pickup': 1020, 'truck': 1021, 'crater': 1022, 'pool': 1023, 'swim': 1024, 'unarmed': 1025, 'background': 1026, 'destroy': 1027, 'mine': 1028, 'afghan': 1029, 'fight': 1030, 'offer': 1031, 'tea': 1032, 'thirsty': 1033, 'action': 1034, 'australian': 1035, 'campaign': 1036, 'anti': 1037, 'balaka': 1038, 'militia': 1039, 'patrol': 1040, 'village': 1041, 'egyptian': 1042, 'israeli': 1043, 'liberated': 1044, 'receive': 1045, 'technician': 1046, 'frontline': 1047, 'missile': 1048, 'strike': 1049, 'bag': 1050, 'executioner': 1051, 'hang': 1052, 'iran': 1053, 'lay': 1054, 'shoulder': 1055, 'steal': 1056, 'worth': 1057, 'cocktail': 1058, 'indonesian': 1059, 'molotov': 1060, 'auction': 1061, 'furniture': 1062, 'non': 1063, 'tax': 1064, 'airbase': 1065, 'sortie': 1066, 'riot': 1067, 'minaret': 1068, 'pull': 1069, 'respect': 1070, 'shoe': 1071, 'hit': 1072, 'shrapnel': 1073, 'force': 1074, 'lead': 1075, 'progress': 1076, 'battleship': 1077, 'officer': 1078, 'border': 1079, 'outside': 1080, 'survive': 1081, 'famous': 1082, 'player': 1083, 'soccer': 1084, 'battery': 1085, 'howitzer': 1086, 'mm': 1087, 'erect': 1088, 'aim': 1089, 'corporal': 1090, 'elephant': 1091, 'conspirator': 1092, 'execution': 1093, 'highway': 1094, 'result': 1095, 'retreat': 1096, 'grandparent': 1097, 'reside': 1098, 'resident': 1099, 'side': 1100, 'bombing': 1101, 'storm': 1102, 'type': 1103, 'announce': 1104, 'official': 1105, 'relation': 1106, 'african': 1107, 'colony': 1108, 'aftermath': 1109, 'barrack': 1110, 'besiege': 1111, 'protest': 1112, 'support': 1113, 'handbag': 1114, 'nazi': 1115, 'neo': 1116, 'german': 1117, 'heavy': 1118, 'car': 1119, 'gather': 1120, 'initial': 1121, 'display': 1122, 'pigeon': 1123, 'photo': 1124, 'casket': 1125, 'ypj': 1126, 'cameraman': 1127, 'escape': 1128, 'islamist': 1129, 'target': 1130, 'destroyer': 1131, 'ambush': 1132, 'rpg': 1133, 'saudi': 1134, 'yemeni': 1135, 'damaged': 1136, 'helmet': 1137, 'lucky': 1138, 'sledgehammer': 1139, 'tomb': 1140, 'contain': 1141, 'husband': 1142, 'mass': 1143, 'plastic': 1144, 'armenian': 1145, 'genocide': 1146, 'starve': 1147, 'tease': 1148, 'canton': 1149, 'liberation': 1150, 'milkman': 1151, 'image': 1152, 'monastery': 1153, 'satellite': 1154, 'site': 1155, 'assyrian': 1156, 'construct': 1157, 'wagon': 1158, 'armed': 1159, 'jungle': 1160, 'malayan': 1161, 'sergeant': 1162, 'communication': 1163, 'royal': 1164, 'trench': 1165, 'cambodian': 1166, 'paratrooper': 1167, 'ied': 1168, 'southern': 1169, 'partially': 1170, 'perform': 1171, 'captivity': 1172, 'release': 1173, 'terorist': 1174, 'arabian': 1175, 'civilian': 1176, 'crouch': 1177, 'demonstration': 1178, 'threaten': 1179, 'building': 1180, 'guitar': 1181, 'practice': 1182, 'rubble': 1183, 'inspect': 1184, 'heroic': 1185, 'hall': 1186, 'sport': 1187, 'await': 1188, 'compound': 1189, 'pow': 1190, 'transfer': 1191, 'search': 1192, 'spring': 1193, 'weapon': 1194, 'moment': 1195, 'spy': 1196, 'uniform': 1197, 'coctail': 1198, 'embassy': 1199, 'rifle': 1200, 'staging': 1201, 'complete': 1202, 'parachute': 1203, 'series': 1204, 'ammunition': 1205, 'condition': 1206, 'field': 1207, 'instructor': 1208, 'fsa': 1209, 'carrier': 1210, 'indian': 1211, 'ak': 1212, 'defend': 1213, 'pose': 1214, 'son': 1215, 'interpreter': 1216, 'georgian': 1217, 'advance': 1218, 'airstrike': 1219, 'bunker': 1220, 'hide': 1221, 'hole': 1222, 'serbian': 1223, 'set': 1224, 'kamikaze': 1225, 'sikkimese': 1226, 'former': 1227, 'part': 1228, 'program': 1229, 'reintegration': 1230, 'return': 1231, 'closely': 1232, 'marine': 1233, 'pig': 1234, 'wild': 1235, 'goat': 1236, 'living': 1237, 'piano': 1238, 'room': 1239, 'wreck': 1240, 'land': 1241, 'construction': 1242, 'antiaircraft': 1243, 'yugoslav': 1244, 'bottle': 1245, 'journey': 1246, 'battalion': 1247, 'defeat': 1248, 'height': 1249, 'kitten': 1250, 'activity': 1251, 'blindfold': 1252, 'ally': 1253, 'group': 1254, 'organize': 1255, 'volunteer': 1256, 'chechen': 1257, 'injure': 1258, 'crash': 1259, 'enemy': 1260, 'teacher': 1261, 'conflict': 1262, 'libyan': 1263, 'annihilate': 1264, 'improvise': 1265, 'snap': 1266, 'defiance': 1267, 'gesture': 1268, 'palestinian': 1269, 'raise': 1270, 'toy': 1271, 'leader': 1272, 'photograph': 1273, 'squad': 1274, 'bus': 1275, 'independence': 1276, 'buddy': 1277, 'range': 1278, 'security': 1279, 'mother': 1280, 'wade': 1281, 'nuclear': 1282, 'seem': 1283, 'tiny': 1284, 'north': 1285, 'civil': 1286, 'mourn': 1287, 'base': 1288, 'pink': 1289, 'fierce': 1290, 'terrorist': 1291, 'leg': 1292, 'pouch': 1293, 'main': 1294, 'schwere': 1295, 'tiger': 1296, 'cruiser': 1297, 'defect': 1298, 'sinking': 1299, 'combined': 1300, 'operate': 1301, 'fill': 1302, 'grave': 1303, 'kneel': 1304, 'cigarette': 1305, 'puff': 1306, 'shock': 1307, 'pin': 1308, 'up': 1309, 'masked': 1310, 'revolution': 1311, 'ukrainian': 1312, 'react': 1313, 'violent': 1314, 'caricature': 1315, 'boxing': 1316, 'match': 1317, 'mask': 1318, 'onion': 1319, 'peel': 1320, 'operation': 1321, 'nationalist': 1322, 'polish': 1323, 'symbol': 1324, 'aviation': 1325, 'damage': 1326, 'dry': 1327, 'presumably': 1328, 'fifth': 1329, 'captive': 1330, 'vietnamese': 1331, 'lighting': 1332, 'town': 1333, 'commander': 1334, 'direct': 1335, 'personally': 1336, 'purportedly': 1337, 'undated': 1338, 'artillery': 1339, 'brigade': 1340, 'unidentified': 1341, 'holiday': 1342, 'local': 1343, 'dutch': 1344, 'occupation': 1345, 'creep': 1346, 'mailbox': 1347, 'soviet': 1348, 'ch': 1349, 'ramp': 1350, 'southeastern': 1351, 'amputate': 1352, 'elbow': 1353, 'farm': 1354, 'injured': 1355, 'cannon': 1356, 'donkey': 1357, 'equip': 1358, 'blossom': 1359, 'branch': 1360, 'cherry': 1361, 'chiran': 1362, 'depart': 1363, 'farewell': 1364, 'pilot': 1365, 'abandon': 1366, 'debris': 1367, 'tortoise': 1368, 'academy': 1369, 'cadet': 1370, 'dig': 1371, 'chat': 1372, 'clearing': 1373, 'province': 1374, 'flight': 1375, 'puppy': 1376, 'massacre': 1377, 'accuse': 1378, 'escort': 1379, 'irish': 1380, 'question': 1381, 'archipelago': 1382, 'period': 1383, 'submerge': 1384, 'camel': 1385, 'pyramid': 1386, 'rid': 1387, 'serviceman': 1388, 'build': 1389, 'defense': 1390, 'makeshift': 1391, 'gangway': 1392, 'diy': 1393, 'rocket': 1394, 'affair': 1395, 'punishment': 1396, 'hat': 1397, 'chinese': 1398, 'encourage': 1399, 'include': 1400, 'retake': 1401, 'ready': 1402, 'circus': 1403, 'observe': 1404, 'ruin': 1405, 'fallschirmjager': 1406, 'roof': 1407, 'siege': 1408, 'trooper': 1409, 'heavily': 1410, 'prolonged': 1411, 'several': 1412, 'week': 1413, 'cave': 1414, 'inscription': 1415, 'mountain': 1416, 'shelter': 1417, 'underground': 1418, 'forget': 1419, 'often': 1420, 'corpsman': 1421, 'holder': 1422, 'note': 1423, 'plasma': 1424, 'tend': 1425, 'beginning': 1426, 'chasseur': 1427, 'dragoon': 1428, 'present': 1429, 'armor': 1430, 'corp': 1431, 'disaster': 1432, 'drop': 1433, 'jet': 1434, 'napalm': 1435, 'evacuation': 1436, 'tear': 1437, 'oil': 1438, 'refinery': 1439, 'attempt': 1440, 'island': 1441, 'overnight': 1442, 'reach': 1443, 'rescue': 1444, 'helicopter': 1445, 'pluck': 1446, 'weep': 1447, 'barrier': 1448, 'insurgent': 1449, 'tajikistan': 1450, 'dance': 1451, 'successful': 1452, 'victory': 1453, 'worker': 1454, 'beast': 1455, 'rare': 1456, 'invasion': 1457, 'perimeter': 1458, 'bomber': 1459, 'somewhere': 1460, 'cause': 1461, 'citadel': 1462, 'devastation': 1463, 'iconic': 1464, 'jihadi': 1465, 'tunnel': 1466, 'vast': 1467, 'concentration': 1468, 'reaction': 1469, 'fall': 1470, 'personnel': 1471, 'rooftop': 1472, 'station': 1473, 'dinner': 1474, 'camera': 1475, 'da': 1476, 'ish': 1477, 'heritage': 1478, 'torch': 1479, 'battlefield': 1480, 'ballistic': 1481, 'shadow': 1482, 'tanker': 1483, 'tu': 1484, 'panzer': 1485, 'driving': 1486, 'fighters': 1487, 'degtyaryov': 1488, 'aerial': 1489, 'engage': 1490, 'incoming': 1491, 'successfully': 1492, 'threat': 1493, 'close': 1494, 'hungarian': 1495, 'projector': 1496, 'deck': 1497, 'firebrand': 1498, 'control': 1499, 'reportedly': 1500, 'extinguish': 1501, 'insist': 1502, 'surround': 1503, 'fencer': 1504, 'aft': 1505, 'cruise': 1506, 'launch': 1507, 'albanian': 1508, 'conduct': 1509, 'joint': 1510, 'performance': 1511, 'arch': 1512, 'pass': 1513, 'wedding': 1514, 'architecture': 1515, 'culturally': 1516, 'monument': 1517, 'recreate': 1518, 'rich': 1519, 'missing': 1520, 'place': 1521, 'portrait': 1522, 'bridge': 1523, 'device': 1524, 'retard': 1525, 'martyr': 1526, 'supply': 1527, 'mujahadeen': 1528, 'flee': 1529, 'male': 1530, 'mostly': 1531, 'aboriginal': 1532, 'highland': 1533, 'allegedly': 1534, 'farmer': 1535, 'viet': 1536, 'camouflaged': 1537, 'mud': 1538, 'preparation': 1539, 'depict': 1540, 'dummy': 1541, 'sana': 1542, 'cost': 1543, 'roadside': 1544, 'graffiti': 1545, 'past': 1546, 'youth': 1547, 'code': 1548, 'easy': 1549, 'yield': 1550, 'pyramids': 1551, 'arrest': 1552, 'evade': 1553, 'welcome': 1554, 'bedouin': 1555, 'golf': 1556, 'swing': 1557, 'bathing': 1558, 'theater': 1559, 'fence': 1560, 'prank': 1561, 'failure': 1562, 'test': 1563, 'bombardment': 1564, 'graduate': 1565, 'highschool': 1566, 'proudly': 1567, 'centre': 1568, 'engagement': 1569, 'loula': 1570, 'mohammed': 1571, 'party': 1572, 'refugees': 1573, 'grow': 1574, 'chemical': 1575, 'dust': 1576, 'ground': 1577, 'radioactive': 1578, 'settle': 1579, 'medical': 1580, 'wounded': 1581, 'democracy': 1582, 'explosion': 1583, 'rally': 1584, 'commando': 1585, 'salute': 1586, 'salvation': 1587, 'center': 1588, 'post': 1589, 'exhibition': 1590, 'painter': 1591, 'painting': 1592, 'balcony': 1593, 'curfew': 1594, 'relax': 1595, 'staff': 1596, 'plaza': 1597, 'english': 1598, 'factory': 1599, 'munition': 1600, 'paint': 1601, 'shipment': 1602, 'firing': 1603, 'islands': 1604, 'experimental': 1605, 'launcher': 1606, 'multiple': 1607, 'saturation': 1608, 'adapt': 1609, 'korean': 1610, 'variant': 1611, 'erupt': 1612, 'fireball': 1613, 'artist': 1614, 'shoot': 1615, 'snapshot': 1616, 'autocannon': 1617, 'gunpoint': 1618, 'hiding': 1619, 'animated': 1620, 'energia': 1621, 'lift': 1622, 'payload': 1623, 'spacecraft': 1624, 'icbm': 1625, 'sip': 1626, 'auxiliary': 1627, 'service': 1628, 'ite': 1629, 'shi': 1630, 'humiliate': 1631, 'moderate': 1632, 'goodbye': 1633, 'foog': 1634, 'insecurity': 1635, 'phase': 1636, 'retreating': 1637, 'wall': 1638, 'condense': 1639, 'cub': 1640, 'polar': 1641, 'barge': 1642, 'armoured': 1643, 'pkk': 1644, 'expansion': 1645, 'formation': 1646, 'unknown': 1647, 'dec': 1648, 'logistic': 1649, 'isis': 1650, 'factional': 1651, 'clutch': 1652, 'food': 1653, 'installation': 1654, 'loot': 1655, 'lady': 1656, 'letter': 1657, 'anglo': 1658, 'rendezvous': 1659, 'medium': 1660, 'effigy': 1661, 'ca': 1662, 'division': 1663, 'pray': 1664, 'begin': 1665, 'signal': 1666, 'countryside': 1667, 'manage': 1668, 'northern': 1669, 'barricade': 1670, 'territory': 1671, 'drill': 1672, 'wooden': 1673, 'west': 1674, 'spoil': 1675, 'demonstrator': 1676, 'opposition': 1677, 'provide': 1678, 'supporter': 1679, 'memorial': 1680, 'region': 1681, 'major': 1682, 'recapture': 1683, 'step': 1684, 'folk': 1685, 'picnic': 1686, 'huddle': 1687, 'attention': 1688, 'cremation': 1689, 'pyre': 1690, 'wed': 1691, 'defaced': 1692, 'allow': 1693, 'betray': 1694, 'enter': 1695, 'dive': 1696, 'scout': 1697, 'cheer': 1698, 'armour': 1699, 'religious': 1700, 'deadly': 1701, 'stagger': 1702, 'breath': 1703, 'shortness': 1704, 'vomit': 1705, 'edge': 1706, 'exhausted': 1707, 'ethiopian': 1708, 'expert': 1709, 'repair': 1710, 'somali': 1711, 'cairo': 1712, 'jan': 1713, 'protect': 1714, 'encounter': 1715, 'colour': 1716, 'face': 1717, 'national': 1718, 'history': 1719, 'regard': 1720, 'spillover': 1721, 'capital': 1722, 'explode': 1723, 'tube': 1724, 'command': 1725, 'frame': 1726, 'strategic': 1727, 'no': 1728, 'alert': 1729, 'airplane': 1730, 'middle': 1731, 'amx': 1732, 'tactical': 1733, 'arab': 1734, 'macedonian': 1735, 'rnlaf': 1736, 'anarchist': 1737, 'transport': 1738, 'contamination': 1739, 'testing': 1740, 'various': 1741, 'coast': 1742, 'many': 1743, 'warning': 1744, 'assault': 1745, 'visible': 1746, 'shanty': 1747, 'teach': 1748, 'governor': 1749, 'state': 1750, 'co': 1751, 'founder': 1752, 'rapist': 1753, 'asylum': 1754, 'seeker': 1755, 'idomeni': 1756, 'boot': 1757, 'lieutenant': 1758, 'wipe': 1759, 'idle': 1760, 'oh': 1761, 'revetment': 1762, 'grenade': 1763, 'belonging': 1764, 'protection': 1765, 'drift': 1766, 'wrong': 1767, 'multi': 1768, 'purpose': 1769, 'rebellion': 1770, 'evacuate': 1771, 'halt': 1772, 'metro': 1773, 'parliament': 1774, 'standing': 1775, 'prepare': 1776, 'overhead': 1777, 'football': 1778, 'stadium': 1779, 'hijack': 1780, 'guncam': 1781, 'onto': 1782, 'propel': 1783, 'capability': 1784, 'detection': 1785, 'belorussian': 1786, 'footstep': 1787, 'sm': 1788, 'senegalese': 1789, 'clear': 1790, 'london': 1791, 'standup': 1792, 'theatre': 1793, 'lotion': 1794, 'comedian': 1795, 'hologram': 1796, 'powerpoint': 1797, 'crunchy': 1798, 'explain': 1799, 'nougat': 1800, 'small': 1801, 'sticker': 1802, 'toilet': 1803, 'wheel': 1804, 'link': 1805, 'personal': 1806, 'quite': 1807, 'reanact': 1808, 'tip': 1809, 'couch': 1810, 'soon': 1811, 'tv': 1812, 'bias': 1813, 'fakemotherfact': 1814, 'promote': 1815, 'sonnet': 1816, 'verizon': 1817, 'wireless': 1818, 'act': 1819, 'anything': 1820, 'embarrassing': 1821, 'carphone': 1822, 'remake': 1823, 'save': 1824, 'suck': 1825, 'warehouse': 1826, 'disgusted': 1827, 'large': 1828, 'swan': 1829, 'abhorrent': 1830, 'human': 1831, 'animate': 1832, 'centipede': 1833, 'produce': 1834, 'version': 1835, 'everyday': 1836, 'job': 1837, 'month': 1838, 'pretend': 1839, 'paper': 1840, 'resignation': 1841, 'write': 1842, 'ink': 1843, 'coat': 1844, 'cupboard': 1845, 'banana': 1846, 'hammock': 1847, 'desk': 1848, 'razor': 1849, 'enjoy': 1850, 'podcast': 1851, 'once': 1852, 'cleaner': 1853, 'iron': 1854, 'skin': 1855, 'wash': 1856, 'cover': 1857, 'episode': 1858, 'record': 1859, 'story': 1860, 'suggestion': 1861, 'copter': 1862, 'pun': 1863, 'cookie': 1864, 'dairy': 1865, 'gluten': 1866, 'soy': 1867, 'crap': 1868, 'fortune': 1869, 'finish': 1870, 'read': 1871, 'restaurant': 1872, 'rob': 1873, 'kidnap': 1874, 'mcmldn': 1875, 'square': 1876, 'person': 1877, 'womack': 1878, 'beautiful': 1879, 'ferris': 1880, 'park': 1881, 'spin': 1882, 'because': 1883, 'trouble': 1884, 'correct': 1885, 'infection': 1886, 'swipe': 1887, 'lend': 1888, 'monkey': 1889, 'album': 1890, 'mumford': 1891, 'abs': 1892, 'impressive': 1893, 'killer': 1894, 'mention': 1895, 'ponytail': 1896, 'account': 1897, 'associate': 1898, 'jealous': 1899, 'on': 1900, 'otherwise': 1901, 'cone': 1902, 'alright': 1903, 'hour': 1904, 'lane': 1905, 'mirror': 1906, 'van': 1907, 'list': 1908, 'soundtrack': 1909, 'across': 1910, 'format': 1911, 'mp': 1912, 'okay': 1913, 'danger': 1914, 'flushing': 1915, 'roulette': 1916, 'splash': 1917, 'appointment': 1918, 'later': 1919, 'secretary': 1920, 'snoop': 1921, 'tory': 1922, 'celebrity': 1923, 'tent': 1924, 'fog': 1925, 'foreign': 1926, 'postwoman': 1927, 'twice': 1928, 'news': 1929, 'bar': 1930, 'disney': 1931, 'gorilla': 1932, 'kong': 1933, 'movierestaurant': 1934, 'giant': 1935, 'involve': 1936, 'jolly': 1937, 'advert': 1938, 'burglar': 1939, 'in': 1940, 'able': 1941, 'far': 1942, 'fetched': 1943, 'realise': 1944, 'ridiculous': 1945, 'convict': 1946, 'idea': 1947, 'innocently': 1948, 'morning': 1949, 'pedophile': 1950, 'presenter': 1951, 'wheniwasakidiwa': 1952, 'camping': 1953, 'suggest': 1954, 'tour': 1955, 'remind': 1956, 'vow': 1957, 'around': 1958, 'garden': 1959, 'cancel': 1960, 'dogg': 1961, 'issue': 1962, 'diagnose': 1963, 'narcolepsy': 1964, 'everything': 1965, 'shady': 1966, 'shop': 1967, 'sunglass': 1968, 'charity': 1969, 'greyhound': 1970, 'jockey': 1971, 'retire': 1972, 'setup': 1973, 'spare': 1974, 'thought': 1975, 'suit': 1976, 'future': 1977, 'tweet': 1978, 'consider': 1979, 'disappointment': 1980, 'everytime': 1981, 'glimpse': 1982, 'naked': 1983, 'through': 1984, 'odd': 1985, 'shaving': 1986, 'animation': 1987, 'feel': 1988, 'violate': 1989, 'enterprise': 1990, 'interested': 1991, 'owner': 1992, 'previous': 1993, 'prison': 1994, 'maybe': 1995, 'tweeting': 1996, 'awful': 1997, 'blind': 1998, 'houseparty': 1999, 'negotiation': 2000, 'browse': 2001, 'delete': 2002, 'remembering': 2003, 'builder': 2004, 'mechanic': 2005, 'speaker': 2006, 'festival': 2007, 'puppet': 2008, 'string': 2009, 'ticket': 2010, 'friendly': 2011, 'window': 2012, 'belt': 2013, 'counterfeit': 2014, 'cold': 2015, 'foot': 2016, 'camper': 2017, 'desperate': 2018, 'straight': 2019, 'poo': 2020, 'pile': 2021, 'yesterday': 2022, 'suitable': 2023, 'caution': 2024, 'content': 2025, 'extreme': 2026, 'opening': 2027, 'user': 2028, 'afternoon': 2029, 'impression': 2030, 'lovely': 2031, 'mislead': 2032, 'pic': 2033, 'stage': 2034, 'disagree': 2035, 'execute': 2036, 'sfact': 2037, 'tale': 2038, 'internet': 2039, 'porn': 2040, 'sexy': 2041, 'speedo': 2042, 'favour': 2043, 'hairstyle': 2044, 'pubic': 2045, 'bunch': 2046, 'muppet': 2047, 'duvet': 2048, 'vibe': 2049, 'worried': 2050, 'bone': 2051, 'ankle': 2052, 'eurovision': 2053, 'winner': 2054, 'crumble': 2055, 'maketechedible': 2056, 'graze': 2057, 'knee': 2058, 'moon': 2059, 'goosebump': 2060, 'reunion': 2061, 'skirt': 2062, 'leaf': 2063, 'mixed': 2064, 'salad': 2065, 'science': 2066, 'diaper': 2067, 'nice': 2068, 'romantic': 2069, 'hilarious': 2070, 'fruit': 2071, 'pair': 2072, 'pier': 2073, 'endless': 2074, 'health': 2075, 'organ': 2076, 'physically': 2077, 'suffer': 2078, 'waist': 2079, 'enjoyable': 2080, 'interview': 2081, 'very': 2082, 'walkway': 2083, 'ghost': 2084, 'anchorman': 2085, 'sharedwordmovie': 2086, 'sesame': 2087, 'wolf': 2088, 'along': 2089, 'comiccon': 2090, 'gentle': 2091, 'appropriate': 2092, 'frozen': 2093, 'ice': 2094, 'though': 2095, 'worry': 2096, 'con': 2097, 'retrain': 2098, 'serial': 2099, 'steward': 2100, 'landy': 2101, 'pamela': 2102, 'edition': 2103, 'hipster': 2104, 'playmobil': 2105, 'celeb': 2106, 'switch': 2107, 'course': 2108, 'scream': 2109, 'favorite': 2110, 'bill': 2111, 'josh': 2112, 'shorten': 2113, 'ep': 2114, 'tongue': 2115, 'sore': 2116, 'listener': 2117, 'thanx': 2118, 'anyway': 2119, 'plug': 2120, 'regret': 2121, 'gym': 2122, 'properly': 2123, 'musician': 2124, 'review': 2125, 'iwillstill': 2126, 'understand': 2127, 'whenim': 2128, 'bother': 2129, 'cue': 2130, 'bet': 2131, 'tribble': 2132, 'bun': 2133, 'meat': 2134, 'beak': 2135, 'burger': 2136, 'celebs': 2137, 'donut': 2138, 'drape': 2139, 'eagle': 2140, 'net': 2141, 'obese': 2142, 'stripe': 2143, 'discuss': 2144, 'transplant': 2145, 'koolaid': 2146, 'myfollowersin': 2147, 'inspire': 2148, 'piece': 2149, 'table': 2150, 'draw': 2151, 'struggle': 2152, 'concern': 2153, 'neverland': 2154, 'fungus': 2155, 'nearly': 2156, 'vegetarian': 2157, 'sound': 2158, 'tribute': 2159, 'corrupt': 2160, 'brief': 2161, 'added': 2162, 'sugar': 2163, 'blatter': 2164, 'comedy': 2165, 'absorb': 2166, 'tampon': 2167, 'curl': 2168, 'mum': 2169, 'sincewebeinghon': 2170, 'statement': 2171, 'western': 2172, 'beard': 2173, 'bodied': 2174, 'agree': 2175, 'birthday': 2176, 'invite': 2177, 'politician': 2178, 'upset': 2179, 'tmw': 2180, 'apocalypse': 2181, 'discrimination': 2182, 'law': 2183, 'wheelchair': 2184, 'labour': 2185, 'secret': 2186, 'accidently': 2187, 'ban': 2188, 'eye': 2189, 'fork': 2190, 'poke': 2191, 'whenever': 2192, 'guarantee': 2193, 'aisle': 2194, 'spillage': 2195, 'viagra': 2196, 'cutlery': 2197, 'difference': 2198, 'lesson': 2199, 'shout': 2200, 'burrito': 2201, 'pop': 2202, 'completely': 2203, 'dinosaur': 2204, 'genitalia': 2205, 'model': 2206, 'smooth': 2207, 'whoever': 2208, 'cake': 2209, 'despicable': 2210, 'disc': 2211, 'floppy': 2212, 'antique': 2213, 'roadshow': 2214, 'lazy': 2215, 'jean': 2216, 'cock': 2217, 'trek': 2218, 'inspiration': 2219, 'sir': 2220, 'aggravation': 2221, 'conversation': 2222, 'satisfaction': 2223, 'fault': 2224, 'parent': 2225, 'whytheyfiredme': 2226, 'stapler': 2227, 'swingline': 2228, 'meeting': 2229, 'productive': 2230, 'iheadfortheexit': 2231, 'castle': 2232, 'ceremony': 2233, 'definition': 2234, 'irony': 2235, 'queen': 2236, 'signing': 2237, 'yummy': 2238, 'soup': 2239, 'chunk': 2240, 'uptown': 2241, 'ruth': 2242, 'feab': 2243, 'sum': 2244, 'hillbilly': 2245, 'hound': 2246, 'swivelling': 2247, 'company': 2248, 'furious': 2249, 'breaker': 2250, 'bingo': 2251, 'glory': 2252, 'marry': 2253, 'shag': 2254, 'imnothappyif': 2255, 'hardy': 2256, 'due': 2257, 'wife': 2258, 'ageamovie': 2259, 'hate': 2260, 'hinder': 2261, 'laugh': 2262, 'masturbate': 2263, 'climb': 2264, 'drunken': 2265, 'platform': 2266, 'itsworthmention': 2267, 'directly': 2268, 'shameless': 2269, 'circulation': 2270, 'cut': 2271, 'skinnyjean': 2272, 'feedback': 2273, 'comedic': 2274, 'delight': 2275, 'thirstythursday': 2276, 'bow': 2277, 'tie': 2278, 'tooncomplaint': 2279, 'double': 2280, 'tennisamovie': 2281, 'brandaband': 2282, 'color': 2283, 'it': 2284, 'online': 2285, 'profile': 2286, 'band': 2287, 'mill': 2288, 'of': 2289, 'pebble': 2290, 'amazing': 2291, 'montage': 2292, 'rabbit': 2293, 'alone': 2294, 'bottom': 2295, 'cheap': 2296, 'skinny': 2297, 'tracksuit': 2298, 'global': 2299, 'arse': 2300, 'fanny': 2301, 'wank': 2302, 'askeljames': 2303, 'askeljame': 2304, 'bedroom': 2305, 'gear': 2306, 'delivery': 2307, 'elsewhere': 2308, 'quicker': 2309, 'stab': 2310, 'expire': 2311, 'prosofdatingme': 2312, 'restrain': 2313, 'cool': 2314, 'indoor': 2315, 'biscuit': 2316, 'siri': 2317, 'armpit': 2318, 'dispense': 2319, 'ham': 2320, 'sun': 2321, 'tan': 2322, 'load': 2323, 'sake': 2324, 'sh': 2325, 'leapsecond': 2326, 'immediately': 2327, 'recognise': 2328, 'voice': 2329, 'bond': 2330, 'character': 2331, 'european': 2332, 'expense': 2333, 'trip': 2334, 'catalogue': 2335, 'itune': 2336, 'website': 2337, 'joe': 2338, 'ugly': 2339, 'cable': 2340, 'sexual': 2341, 'tension': 2342, 'driveway': 2343, 'fleshlight': 2344, 'row': 2345, 'crunch': 2346, 'wind': 2347, 'denim': 2348, 'mesh': 2349, 'shirt': 2350, 'amount': 2351, 'melt': 2352, 'monocle': 2353, 'weather': 2354, 'borrow': 2355, 'butt': 2356, 'crack': 2357, 'liner': 2358, 'panty': 2359, 'sweaty': 2360, 'treat': 2361, 'magical': 2362, 'assess': 2363, 'doctor': 2364, 'qualified': 2365, 'whole': 2366, 'heatwavemovie': 2367, 'disappoint': 2368, 'host': 2369, 'shocking': 2370, 'single': 2371, 'ifidontcomeback': 2372, 'laptop': 2373, 'fine': 2374, 'willow': 2375, 'busy': 2376, 'ghostbuster': 2377, 'spirit': 2378, 'rarely': 2379, 'whatidtell': 2380, 'yearoldme': 2381, 'further': 2382, 'childish': 2383, 'dick': 2384, 'myspousethink': 2385, 'clever': 2386, 'ear': 2387, 'mouth': 2388, 'carton': 2389, 'oatly': 2390, 'spot': 2391, 'growingupugly': 2392, 'available': 2393, 'hogwart': 2394, 'surely': 2395, 'treas': 2396, 'accompaniment': 2397, 'cream': 2398, 'perfect': 2399, 'demo': 2400, 'fakecarfact': 2401, 'ford': 2402, 'mile': 2403, 'reverse': 2404, 'aged': 2405, 'thingsigetalot': 2406, 'bin': 2407, 'finally': 2408, 'nipple': 2409, 'plate': 2410, 'wiener': 2411, 'push': 2412, 'whythehellnot': 2413, 'tequila': 2414, 'worm': 2415, 'bankrupt': 2416, 'country': 2417, 'groove': 2418, 'mtvhott': 2419, 'nominate': 2420, 'passion': 2421, 'proud': 2422, 'hoof': 2423, 'wizard': 2424, 'anger': 2425, 'management': 2426, 'technique': 2427, 'itsfunnywheni': 2428, 'fakeparentfact': 2429, 'tired': 2430, 'clinic': 2431, 'std': 2432, 'permission': 2433, 'complicated': 2434, 'same': 2435, 'fortnightly': 2436, 'channel': 2437, 'sky': 2438, 'batcave': 2439, 'grinder': 2440, 'pick': 2441, 'fair': 2442, 'lion': 2443, 'boost': 2444, 'fridayfeel': 2445, 'ridgely': 2446, 'amstrad': 2447, 'bttf': 2448, 'complain': 2449, 'perspective': 2450, 'hill': 2451, 'millennium': 2452, 'charm': 2453, 'immune': 2454, 'lip': 2455, 'rubber': 2456, 'blasphemy': 2457, 'christ': 2458, 'legal': 2459, 'effect': 2460, 'longer': 2461, 'watching': 2462, 'sensation': 2463, 'cast': 2464, 'offensive': 2465, 'generation': 2466, 'loom': 2467, 'fan': 2468, 'sponsorship': 2469, 'favourite': 2470, 'childhood': 2471, 'kingdom': 2472, 'memory': 2473, 'sequal': 2474, 'bully': 2475, 'racist': 2476, 'dear': 2477, 'entertainment': 2478, 'legend': 2479, 'fakehipsterfact': 2480, 'stranger': 2481, 'tug': 2482, 'savour': 2483, 'unite': 2484, 'fido': 2485, 'fur': 2486, 'shed': 2487, 'entry': 2488, 'minute': 2489, 'classification': 2490, 'bucket': 2491, 'askpier': 2492, 'goodness': 2493, 'publicity': 2494, 'upload': 2495, 'youtube': 2496, 'nightmare': 2497, 'broom': 2498, 'coverage': 2499, 'motion': 2500, 'slow': 2501, 'sweeping': 2502, 'hoursiwould': 2503, 'ifionlyhad': 2504, 'meal': 2505, 'minion': 2506, 'swear': 2507, 'advent': 2508, 'calendar': 2509, 'choice': 2510, 'anecdote': 2511, 'digestive': 2512, 'dressed': 2513, 'pack': 2514, 'shoplift': 2515, 'smartly': 2516, 'supermarket': 2517, 'dyslexic': 2518, 'familiar': 2519, 'inner': 2520, 'incidentally': 2521, 'magic': 2522, 'evil': 2523, 'challenge': 2524, 'comic': 2525, 'relief': 2526, 'accompany': 2527, 'wordeulogy': 2528, 'left': 2529, 'wing': 2530, 'corner': 2531, 'ed': 2532, 'practical': 2533, 'friday': 2534, 'istillhavent': 2535, 'outfit': 2536, 'cart': 2537, 'item': 2538, 'shopping': 2539, 'whennooneislook': 2540, 'delay': 2541, 'tubestrike': 2542, 'number': 2543, 'lingerie': 2544, 'pantie': 2545, 'section': 2546, 'sniff': 2547, 'alot': 2548, 'store': 2549, 'unable': 2550, 'dough': 2551, 'eczema': 2552, 'pillsbury': 2553, 'ad': 2554, 'instagram': 2555, 'bisque': 2556, 'lobster': 2557, 'yada': 2558, 'eyebrow': 2559, 'dictator': 2560, 'genocidal': 2561, 'maniac': 2562, 'sick': 2563, 'sister': 2564, 'orgasm': 2565, 'lash': 2566, 'expect': 2567, 'nod': 2568, 'niece': 2569, 'choke': 2570, 'you': 2571, 'market': 2572, 'interesting': 2573, 'swell': 2574, 'looney': 2575, 'ptttt': 2576, 'rating': 2577, 'access': 2578, 'chuck': 2579, 'occasionally': 2580, 'pitch': 2581, 'whine': 2582, 'compiler': 2583, 'ghetto': 2584, 'harmony': 2585, 'modem': 2586, 'thug': 2587, 'robot': 2588, 'hov': 2589, 'programming': 2590, 'download': 2591, 'file': 2592, 'byte': 2593, 'gig': 2594, 'notorious': 2595, 'bug': 2596, 'orange': 2597, 'vend': 2598, 'zoo': 2599, 'hiroshima': 2600, 'murder': 2601, 'beef': 2602, 'makehersmile': 2603, 'privilege': 2604, 'instrument': 2605, 'diversity': 2606, 'mix': 2607, 'cook': 2608, 'meth': 2609, 'tweaker': 2610, 'payment': 2611, 'coin': 2612, 'lower': 2613, 'ok': 2614, 'slot': 2615, 'irresistible': 2616, 'dream': 2617, 'aleve': 2618, 'weed': 2619, 'lettuce': 2620, 'stone': 2621, 'is': 2622, 'ride': 2623, 'retarded': 2624, 'apply': 2625, 'convince': 2626, 'rule': 2627, 'his': 2628, 'approximately': 2629, 'judge': 2630, 'peep': 2631, 'cup': 2632, 'fluoride': 2633, 'vacine': 2634, 'eyed': 2635, 'titty': 2636, 'henry': 2637, 'shroom': 2638, 'receipt': 2639, 'budgetmovie': 2640, 'pre': 2641, 'delicious': 2642, 'truly': 2643, 'gin': 2644, 'occasional': 2645, 'tonic': 2646, 'bury': 2647, 'dryer': 2648, 'troll': 2649, 'path': 2650, 'grandfather': 2651, 'cloudy': 2652, 'harold': 2653, 'budget': 2654, 'yacht': 2655, 'richmovie': 2656, 'wick': 2657, 'catcher': 2658, 'fizz': 2659, 'flavor': 2660, 'freeze': 2661, 'popsicle': 2662, 'soda': 2663, 'breaststroke': 2664, 'diff': 2665, 'rent': 2666, 'shade': 2667, 'closer': 2668, 'trust': 2669, 'impair': 2670, 'essential': 2671, 'role': 2672, 'escalate': 2673, 'dump': 2674, 'graf': 2675, 'effort': 2676, 'endgame': 2677, 'sunni': 2678, 'reopen': 2679, 'migrant': 2680, 'emerge': 2681, 'terrified': 2682, 'analyst': 2683, 'confess': 2684, 'plot': 2685, 'alliance': 2686, 'coalition': 2687, 'pour': 2688, 'merge': 2689, 'atgm': 2690, 'axis': 2691, 'continued': 2692, 'checkpoint': 2693, 'amp': 2694, 'ongoing': 2695, 'electricity': 2696, 'tartous': 2697, 'residential': 2698, 'mosque': 2699, 'scene': 2700, 'behead': 2701, 'smuggle': 2702, 'zone': 2703, 'update': 2704, 'source': 2705, 'delegation': 2706, 'secure': 2707, 'authority': 2708, 'seize': 2709, 'average': 2710, 'forecast': 2711, 'temperature': 2712, 'east': 2713, 'reinforcement': 2714, 'defector': 2715, 'prize': 2716, 'smuggler': 2717, 'trade': 2718, 'confiscate': 2719, 'popular': 2720, 'terrorists': 2721, 'charge': 2722, 'found': 2723, 'blacklist': 2724, 'cell': 2725, 'isil': 2726, 'waning': 2727, 'locate': 2728, 'peak': 2729, 'warplane': 2730, 'foc': 2731, 'rift': 2732, 'besieged': 2733, 'exchange': 2734, 'rate': 2735, 'usd': 2736, 'counter': 2737, 'solve': 2738, 'terrorism': 2739, 'gunman': 2740, 'academic': 2741, 'choose': 2742, 'sectarian': 2743, 'zarif': 2744, 'cultural': 2745, 'humanitarian': 2746, 'daraa': 2747, 'vicinity': 2748, 'bukamal': 2749, 'machinegun': 2750, 'nest': 2751, 'score': 2752, 'repulse': 2753, 'rely': 2754, 'assassination': 2755, 'northeast': 2756, 'gay': 2757, 'desecrate': 2758, 'aicraft': 2759, 'foil': 2760, 'trib': 2761, 'fear': 2762, 'implementation': 2763, 'prevent': 2764, 'continue': 2765, 'cabinet': 2766, 'housing': 2767, 'weekly': 2768, 'achieve': 2769, 'gain': 2770, 'aspire': 2771, 'million': 2772, 'eliminate': 2773, 'establish': 2774, 'important': 2775, 'success': 2776, 'organization': 2777, 'shields': 2778, 'equipment': 2779, 'flank': 2780, 'final': 2781, 'liberate': 2782, 'dawn': 2783, 'neighborhood': 2784, 'abduct': 2785, 'professor': 2786, 'armament': 2787, 'shelling': 2788, 'spread': 2789, 'detainee': 2790, 'detention': 2791, 'jail': 2792, 'tripartite': 2793, 'tunisian': 2794, 'jewish': 2795, 'settlement': 2796, 'officially': 2797, 'price': 2798, 'tumble': 2799, 'policy': 2800, 'responsibility': 2801, 'futile': 2802, 'social': 2803, 'bogeyman': 2804, 'cologne': 2805, 'concert': 2806, 'singer': 2807, 'risk': 2808, 'student': 2809, 'neutralize': 2810, 'situation': 2811, 'casualty': 2812, 'repel': 2813, 'explosive': 2814, 'scale': 2815, 'jihadist': 2816, 'response': 2817, 'campus': 2818, 'chief': 2819, 'faction': 2820, 'information': 2821, 'reset': 2822, 'expand': 2823, 'populated': 2824, 'restore': 2825, 'bride': 2826, 'court': 2827, 'hamper': 2828, 'resolve': 2829, 'prosecutor': 2830, 'extradite': 2831, 'portuguese': 2832, 'asset': 2833, 'refugeecrisis': 2834, 'footprint': 2835, 'approach': 2836, 'pipeline': 2837, 'lasting': 2838, 'bird': 2839, 'boat': 2840, 'ethnic': 2841, 'tinderbox': 2842, 'outskirt': 2843, 'aqrab': 2844, 'injury': 2845, 'airport': 2846, 'mount': 2847, 'crossroad': 2848, 'km': 2849, 'distribute': 2850, 'engineer': 2851, 'desert': 2852, 'hom': 2853, 'isurgent': 2854, 'idp': 2855, 'prosecute': 2856, 'stronghold': 2857, 'internal': 2858, 'key': 2859, 'ten': 2860, 'correspondent': 2861, 'barbaric': 2862, 'condemn': 2863, 'wester': 2864, 'possible': 2865, 'radicalize': 2866, 'affirm': 2867, 'commitment': 2868, 'cooperate': 2869, 'deliver': 2870, 'honor': 2871, 'martyrs': 2872, 'blatant': 2873, 'mfa': 2874, 'regime': 2875, 'violation': 2876, 'ahead': 2877, 'hundred': 2878, 'congratulate': 2879, 'sanction': 2880, 're': 2881, 'participant': 2882, 'contradiction': 2883, 'reporter': 2884, 'northwest': 2885, 'hvillage': 2886, 'regain': 2887, 'sharifa': 2888, 'headquarters': 2889, 'location': 2890, 'rasafa': 2891, 'increase': 2892, 'journalist': 2893, 'intelligence': 2894, 'cementery': 2895, 'den': 2896, 'fortress': 2897, 'seethe': 2898, 'web': 2899, 'flu': 2900, 'swine': 2901, 'accord': 2902, 'slave': 2903, 'sector': 2904, 'subsidize': 2905, 'crossing': 2906, 'general': 2907, 'contact': 2908, 'schoolgirl': 2909, 'rival': 2910, 'unity': 2911, 'barbarity': 2912, 'level': 2913, 'slavery': 2914, 'staggering': 2915, 'violence': 2916, 'possibility': 2917, 'favor': 2918, 'mainstream': 2919, 'hacker': 2920, 'northeastern': 2921, 'purification': 2922, 'palace': 2923, 'presidential': 2924, 'splinter': 2925, 'neutralized': 2926, 'disease': 2927, 'lethal': 2928, 'rot': 2929, 'rape': 2930, 'regulator': 2931, 'revealnig': 2932, 'hideout': 2933, 'ceasefire': 2934, 'normal': 2935, 'inflict': 2936, 'loss': 2937, 'syrianarmy': 2938, 'isle': 2939, 'jacket': 2940, 'bona': 2941, 'fide': 2942, 'outraged': 2943, 'affiliate': 2944, 'recruiting': 2945, 'digest': 2946, 'militaryman': 2947, 'airstrik': 2948, 'infographic': 2949, 'bombard': 2950, 'gathering': 2951, 'deter': 2952, 'cage': 2953, 'correction': 2954, 'inaccurate': 2955, 'depot': 2956, 'fuel': 2957, 'improve': 2958, 'amnesty': 2959, 'deliberately': 2960, 'assasination': 2961, 'callofduty': 2962, 'chill': 2963, 'style': 2964, 'benefit': 2965, 'martyrdom': 2966, 'surrender': 2967, 'easily': 2968, 'hurry': 2969, 'referendum': 2970, 'airfield': 2971, 'approve': 2972, 'obstacle': 2973, 'responsible': 2974, 'convene': 2975, 'deploy': 2976, 'trainer': 2977, 'survey': 2978, 'spark': 2979, 'sporadic': 2980, 'technology': 2981, 'organisation': 2982, 'cash': 2983, 'loyalty': 2984, 'killing': 2985, 'rage': 2986, 'representative': 2987, 'jihottie': 2988, 'dangerous': 2989, 'drown': 2990, 'refugeescrisis': 2991, 'shipwreck': 2992, 'spies': 2993, 'biden': 2994, 'impose': 2995, 'pm': 2996, 'urge': 2997, 'acupuncture': 2998, 'practise': 2999, 'sorcery': 3000, 'weaken': 3001, 'yearend': 3002, 'clip': 3003, 'nut': 3004, 'warp': 3005, 'prompt': 3006, 'reconsideration': 3007, 'mercenary': 3008, 'attacker': 3009, 'nickname': 3010, 'elite': 3011, 'expel': 3012, 'gov': 3013, 'soran': 3014, 'surrounding': 3015, 'ensure': 3016, 'criticize': 3017, 'stance': 3018, 'cooperation': 3019, 'regional': 3020, 'accelerate': 3021, 'solution': 3022, 'confrontation': 3023, 'recognize': 3024, 'senator': 3025, 'decisive': 3026, 'disrupt': 3027, 'freedom': 3028, 'safeguard': 3029, 'strategy': 3030, 'involved': 3031, 'route': 3032, 'trailer': 3033, 'upcoming': 3034, 'agreement': 3035, 'compliance': 3036, 'dissociate': 3037, 'critically': 3038, 'mansion': 3039, 'retook': 3040, 'candy': 3041, 'detain': 3042, 'resistance': 3043, 'serious': 3044, 'graduation': 3045, 'leaflet': 3046, 'lack': 3047, 'daub': 3048, 'imminent': 3049, 'slogan': 3050, 'statue': 3051, 'infiltrator': 3052, 'necessity': 3053, 'stress': 3054, 'ahrar': 3055, 'jihadists': 3056, 'diplomacy': 3057, 'era': 3058, 'ahrar_al_sham': 3059, 'sheikh_miskeen': 3060, 'urban': 3061, 'entire': 3062, 'terrify': 3063, 'estimate': 3064, 'near': 3065, 'anniversary': 3066, 'clarity': 3067, 'rural': 3068, 'condemnation': 3069, 'immediate': 3070, 'require': 3071, 'stern': 3072, 'decide': 3073, 'lebanese': 3074, 'envoy': 3075, 'argue': 3076, 'demand': 3077, 'low': 3078, 'northen': 3079, 'analysis': 3080, 'aleppo': 3081, 'refuse': 3082, 'bi': 3083, 'allege': 3084, 'extrajudicial': 3085, 'recently': 3086, 'initially': 3087, 'senior': 3088, 'neutralizes': 3089, 'term': 3090, 'attend': 3091, 'invitation': 3092, 'tumultuous': 3093, 'renew': 3094, 'crush': 3095, 'marriage': 3096, 'camo': 3097, 'cessation': 3098, 'hostility': 3099, 'figther': 3100, 'infighting': 3101, 'initiative': 3102, 'expulsion': 3103, 'voluntary': 3104, 'manbij': 3105, 'occupied': 3106, 'critic': 3107, 'software': 3108, 'crane': 3109, 'credibility': 3110, 'cop': 3111, 'difficult': 3112, 'reject': 3113, 'thousand': 3114, 'handgun': 3115, 'hotel': 3116, 'schedule': 3117, 'rouhani': 3118, 'outcome': 3119, 'politics': 3120, 'export': 3121, 'ado': 3122, 'app': 3123, 'graphic': 3124, 'drow': 3125, 'poverty': 3126, 'brutal': 3127, 'virginity': 3128, 'precondition': 3129, 'fearful': 3130, 'attract': 3131, 'hack': 3132, 'dialogue': 3133, 'fi': 3134, 'process': 3135, 'bogdanov': 3136, 'radio': 3137, 'coastguard': 3138, 'indict': 3139, 'purport': 3140, 'exit': 3141, 'refocus': 3142, 'clearly': 3143, 'inadequate': 3144, 'migrantcrisis': 3145, 'aegean': 3146, 'drowned': 3147, 'toddler': 3148, 'counterattack': 3149, 'weight': 3150, 'mayan': 3151, 'current': 3152, 'foreigner': 3153, 'nightclub': 3154, 'involvement': 3155, 'speak': 3156, 'mess': 3157, 'cyber': 3158, 'space': 3159, 'weigh': 3160, 'corruption': 3161, 'investigate': 3162, 'conference': 3163, 'industrial': 3164, 'quarter': 3165, 'citizen': 3166, 'refuge': 3167, 'guilty': 3168, 'sink': 3169, 'hi': 3170, 'rustbucket': 3171, 'tech': 3172, 'convey': 3173, 'highlight': 3174, 'airspace': 3175, 'allegation': 3176, 'refute': 3177, 'consensus': 3178, 'doc': 3179, 'subject': 3180, 'rumor': 3181, 'airborne': 3182, 'detail': 3183, 'al': 3184, 'izza': 3185, 'jaish': 3186, 'withdraw': 3187, 'rank': 3188, 'shiite': 3189, 'shrine': 3190, 'enhance': 3191, 'mutual': 3192, 'determined': 3193, 'intra': 3194, 'optimistic': 3195, 'abdullahian': 3196, 'development': 3197, 'advanced': 3198, 'multirole': 3199, 'attendance': 3200, 'respon': 3201, 'seriousness': 3202, 'persistence': 3203, 'lawmaker': 3204, 'stability': 3205, 'batch': 3206, 'shower': 3207, 'constitution': 3208, 'draft': 3209, 'text': 3210, 'workplace': 3211, 'botch': 3212, 'administration': 3213, 'comprehensive': 3214, 'rout': 3215, 'parry': 3216, 'modernized': 3217, 'resume': 3218, 'kilometre': 3219, 'clampdown': 3220, 'swedish': 3221, 'figure': 3222, 'stuff': 3223, 'priest': 3224, 'recruiter': 3225, 'teenager': 3226, 'muezzin': 3227, 'severing': 3228, 'probe': 3229, 'network': 3230, 'corps': 3231, 'mobilization': 3232, 'dam': 3233, 'distribution': 3234, 'package': 3235, 'port': 3236, 'exposure': 3237, 'sarin': 3238, 'insult': 3239, 'nab': 3240, 'entrance': 3241, 'southeast': 3242, 'request': 3243, 'brutally': 3244, 'cartoon': 3245, 'mistake': 3246, 'olympic': 3247, 'sidestep': 3248, 'stem': 3249, 'coordinate': 3250, 'deliberate': 3251, 'incidental': 3252, 'shut': 3253, 'diss': 3254, 'locked': 3255, 'develop': 3256, 'passenger': 3257, 'surface': 3258, 'partly': 3259, 'rainshower': 3260, 'hilltop': 3261, 'thermobaric': 3262, 'ayb': 3263, 'shu': 3264, 'deployment': 3265, 'missil': 3266, 'assassin': 3267, 'crossdress': 3268, 'verge': 3269, 'northwestern': 3270, 'international': 3271, 'oilfield': 3272, 'firm': 3273, 'vest': 3274, 'civilization': 3275, 'efficient': 3276, 'homeland': 3277, 'absentia': 3278, 'sentence': 3279, 'hurt': 3280, 'deport': 3281, 'ratchet': 3282, 'liver': 3283, 'depraved': 3284, 'slip': 3285, 'aka': 3286, 'withdrawal': 3287, 'fully': 3288, 'practicing': 3289, 'focus': 3290, 'mediation': 3291, 'reconcile': 3292, 'tribe': 3293, 'notable': 3294, 'revolt': 3295, 'airforce': 3296, 'stock': 3297, 'relaunch': 3298, 'stall': 3299, 'tourist': 3300, 'collapse': 3301, 'rapidly': 3302, 'departure': 3303, 'reconciliation': 3304, 'bronze': 3305, 'medal': 3306, 'heroin': 3307, 'pusher': 3308, 'veterans': 3309, 'extend': 3310, 'und': 3311, 'aggravate': 3312, 'leak': 3313, 'suffering': 3314, 'detachment': 3315, 'feature': 3316, 'militants': 3317, 'disbeliever': 3318, 'dahiq': 3319, 'replace': 3320, 'resign': 3321, 'drain': 3322, 'lake': 3323, 'aspect': 3324, 'subdistrict': 3325, 'separate': 3326, 'naval': 3327, 'permanent': 3328, 'mark': 3329, 'substance': 3330, 'suffocation': 3331, 'toxic': 3332, 'allegiance': 3333, 'pledge': 3334, 'czech': 3335, 'deputy': 3336, 'minister': 3337, 'economic': 3338, 'advisory': 3339, 'confront': 3340, 'investigation': 3341, 'berm': 3342, 'convention': 3343, 'roundabout': 3344, 'eed': 3345, 'sa': 3346, 'harm': 3347, 'repeatedly': 3348, 'cargo': 3349, 'ghouta': 3350, 'pilgrim': 3351, 'diplomatic': 3352, 'ax': 3353, 'similar': 3354, 'monitor': 3355, 'aas': 3356, 'spokesperson': 3357, 'surprise': 3358, 'output': 3359, 'pressure': 3360, 'pantsir': 3361, 'previously': 3362, 'credential': 3363, 'displace': 3364, 'outlaw': 3365, 'internment': 3366, 'reconstruction': 3367, 'dealer': 3368, 'intensifie': 3369, 'taf': 3370, 'sawmill': 3371, 'adulterer': 3372, 'mission': 3373, 'mig': 3374, 'wide': 3375, 'certain': 3376, 'units': 3377, 'ibtaa': 3378, 'obligation': 3379, 'newspaper': 3380, 'implement': 3381, 'lavrov': 3382, 'resolution': 3383, 'infiltrate': 3384, 'batallion': 3385, 'union': 3386, 'datum': 3387, 'design': 3388, 'geographic': 3389, 'participation': 3390, 'needy': 3391, 'crackdown': 3392, 'conclude': 3393, 'fortification': 3394, 'bugger': 3395, 'hop': 3396, 'oppose': 3397, 'connect': 3398, 'reserve': 3399, 'nation': 3400, 'cavusoglu': 3401, 'symbolic': 3402, 'crosshair': 3403, 'consist': 3404, 'approx': 3405, 'manpower': 3406, 'whose': 3407, 'festivity': 3408, 'airdrop': 3409, 'erdogan': 3410, 'junction': 3411, 'peshmerga': 3412, 'assist': 3413, 'isof': 3414, 'sulfur': 3415, 'significant': 3416, 'greet': 3417, 'underway': 3418, 'objective': 3419, 'elefant': 3420, 'status': 3421, 'example': 3422, 'propaganda': 3423, 'indirectly': 3424, 'perpetrator': 3425, 'total': 3426, 'mrap': 3427, 'proxy': 3428, 'tighten': 3429, 'mg': 3430, 'iraq': 3431, 'gap': 3432, 'population': 3433, 'reconsider': 3434, 'tr': 3435, 'assistance': 3436, 'brickwork': 3437, 'deep': 3438, 'mosul': 3439, 'kilometer': 3440, 'collaborate': 3441, 'govt': 3442, 'option': 3443, 'sub': 3444, 'mayor': 3445, 'intense': 3446, 'oct': 3447, 'mode': 3448, 'ignimashi': 3449, 'amaq': 3450, 'enforcement': 3451, 'streaming': 3452, 'portray': 3453, 'cam': 3454, 'dramatic': 3455, 'radical': 3456, 'remarkable': 3457, 'ec': 3458, 'mi': 3459, 'currency': 3460, 'prepar': 3461, 'suspend': 3462, 'fruitful': 3463, 'fresh': 3464, 'overwhelm': 3465, 'winter': 3466, 'narrowly': 3467, 'slightly': 3468, 'hamlet': 3469, 'convert': 3470, 'consecutive': 3471, 'knife': 3472, 'pause': 3473, 'putin': 3474, 'leadership': 3475, 'defence': 3476, 'unleash': 3477, 'corridor': 3478, 'aggression': 3479, 'sovereignty': 3480, 'opportunity': 3481, 'governmental': 3482, 'rehabilitation': 3483, 'truce': 3484, 'brigadier': 3485, 'innocent': 3486, 'perpetrate': 3487, 'broker': 3488, 'rush': 3489, 'discover': 3490, 'metre': 3491, 'ancient': 3492, 'pursue': 3493, 'secretive': 3494, 'broadcasting': 3495, 'insistence': 3496, 'strong': 3497, 'tackle': 3498, 'enslave': 3499, 'assert': 3500, 'shield': 3501, 'sleeper': 3502, 'prime': 3503, 'insight': 3504, 'geolocation': 3505, 'keen': 3506, 'shaheed': 3507, 'debate': 3508, 'visitor': 3509, 'swiss': 3510, 'ongo': 3511, 'presence': 3512, 'curb': 3513, 'passage': 3514, 'onslaught': 3515, 'villager': 3516, 'dole': 3517, 'flogging': 3518, 'connection': 3519, 'traditional': 3520, 'funeral': 3521, 'reflect': 3522, 'researcher': 3523, 'sentiment': 3524, 'southwest': 3525, 'prospect': 3526, 'confiscation': 3527, 'alleged': 3528, 'election': 3529, 'speech': 3530, 'gunshot': 3531, 'destruction': 3532, 'behind': 3533, 'stir': 3534, 'iraqis': 3535, 'tough': 3536, 'alongside': 3537, 'whereabout': 3538, 'plume': 3539, 'isolation': 3540, 'mousehole': 3541, 'eradicate': 3542, 'publish': 3543, 'rag': 3544, 'collect': 3545, 'cooking': 3546, 'spill': 3547, 'horrible': 3548, 'bind': 3549, 'italian': 3550, 'kurd': 3551, 'mod': 3552, 'comander': 3553, 'carter': 3554, 'consolidate': 3555, 'ifv': 3556, 'relative': 3557, 'airlift': 3558, 'accusation': 3559, 'inquiry': 3560, 'linger': 3561, 'myth': 3562, 'infiltration': 3563, 'concentrate': 3564, 'entity': 3565, 'shaaban': 3566, 'zionist': 3567, 'epell': 3568, 'destabilize': 3569, 'zakharova': 3570, 'thwart': 3571, 'ah': 3572, 'sina': 3573, 'importance': 3574, 'institutions': 3575, 'fulfill': 3576, 'ob': 3577, 'headquarter': 3578, 'churkin': 3579, 'sponsor': 3580, 'sof': 3581, 'powerful': 3582, 'poison': 3583, 'easter': 3584, 'selective': 3585, 'counterpart': 3586, 'press': 3587, 'doubt': 3588, 'interference': 3589, 'removal': 3590, 'partner': 3591, 'spokesman': 3592, 'employment': 3593, 'expo': 3594, 'broadcast': 3595, 'triple': 3596, 'killrd': 3597, 'swimmer': 3598, 'archaeological': 3599, 'implementin': 3600, 'ravage': 3601, 'secretly': 3602, 'malfunction': 3603, 'bloody': 3604, 'uparmored': 3605, 'rough': 3606, 'entirely': 3607, 'jordanian': 3608, 'veteran': 3609, 'denial': 3610, 'guerre': 3611, 'nom': 3612, 'shooter': 3613, 'hostage': 3614, 'remaining': 3615, 'complex': 3616, 'reinforce': 3617, 'indiscriminate': 3618, 'brace': 3619, 'planning': 3620, 'nd': 3621, 'demolish': 3622, 'shaky': 3623, 'denounce': 3624, 'exploit': 3625, 'sdf': 3626, 'strongly': 3627, 'internationally': 3628, 'famine': 3629, 'captured': 3630, 'reenter': 3631, 'def': 3632, 'min': 3633, 'ton': 3634, 'torture': 3635, 'condolence': 3636, 'message': 3637, 'flood': 3638, 'trigger': 3639, 'pain': 3640, 'quickly': 3641, 'discussed': 3642, 'relatively': 3643, 'wage': 3644, 'ultimatum': 3645, 'encircle': 3646, 'pill': 3647, 'informal': 3648, 'fund': 3649, 'reestablish': 3650, 'eventually': 3651, 'absence': 3652, 'decision': 3653, 'danish': 3654, 'independent': 3655, 'consequence': 3656, 'tak': 3657, 'educated': 3658, 'wealthy': 3659, 'deluge': 3660, 'directive': 3661, 'qualification': 3662, 'native': 3663, 'complicate': 3664, 'additional': 3665, 'decree': 3666, 'breeder': 3667, 'caliphate': 3668, 'fatwa': 3669, 'jihad': 3670, 'btw': 3671, 'valley': 3672, 'accidentally': 3673, 'nearby': 3674, 'exhibit': 3675, 'sombre': 3676, 'incident': 3677, 'silo': 3678, 'uav': 3679, 'warship': 3680, 'indefinite': 3681, 'ratify': 3682, 'marathon': 3683, 'infrastructure': 3684, 'unconfirmed': 3685, 'assasinat': 3686, 'slit': 3687, 'throat': 3688, 'mysterious': 3689, 'plead': 3690, 'apart': 3691, 'org': 3692, 'blunt': 3693, 'laboratory': 3694, 'adultery': 3695, 'publicly': 3696, 'represent': 3697, 'sword': 3698, 'veto': 3699, 'colonial': 3700, 'longing': 3701, 'barada': 3702, 'coop': 3703, 'limit': 3704, 'financial': 3705, 'sandstorm': 3706, 'adjacent': 3707, 'ahl': 3708, 'chop': 3709, 'rebels': 3710, 'outpost': 3711, 'decline': 3712, 'evolve': 3713, 'enrage': 3714, 'postion': 3715, 'fray': 3716, 'nerve': 3717, 'trace': 3718, 'rapid': 3719, 'nineveh': 3720, 'biblical': 3721, 'treason': 3722, 'basic': 3723, 'shortage': 3724, 'tarma': 3725, 'dark': 3726, 'communicate': 3727, 'stockpile': 3728, 'detonator': 3729, 'judiciary': 3730, 'methodology': 3731, 'buss': 3732, 'cuise': 3733, 'facility': 3734, 'object': 3735, 'holy': 3736, 'conquer': 3737, 'km²': 3738, 'ash': 3739, 'uprising': 3740, 'bastion': 3741, 'percent': 3742, 'hashd': 3743, 'third': 3744, 'title': 3745, 'laden': 3746, 'wealth': 3747, 'archeological': 3748, 'airfireld': 3749, 'saman': 3750, 'ammo': 3751, 'reconnaissance': 3752, 'sustain': 3753, 'guide': 3754, 'purchase': 3755, 'steppe': 3756, 'manufacture': 3757, 'mustard': 3758, 'acknowledge': 3759, 'precise': 3760, 'shot': 3761, 'prevail': 3762, 'beg': 3763, 'repeat': 3764, 'revival': 3765, 'crucial': 3766, 'incursion': 3767, 'silence': 3768, 'downtown': 3769, 'runway': 3770, 'agency': 3771, 'photographer': 3772, 'fourth': 3773, 'internacional': 3774, 'wich': 3775, 'directed': 3776, 'undergo': 3777, 'upgrade': 3778, 'apostate': 3779, 'documentation': 3780, 'ministry': 3781, 'cafe': 3782, 'idlib': 3783, 'memorize': 3784, 'noble': 3785, 'salih': 3786, 'warrant': 3787, 'pulse': 3788, 'fend': 3789, 'currently': 3790, 'sarc': 3791, 'alqaeda': 3792, 'evict': 3793, 'parades': 3794, 'shift': 3795, 'basin': 3796, 'сivilian': 3797, 'collusion': 3798, 'crucify': 3799, 'instruction': 3800, 'slice': 3801, 'belgian': 3802, 'to': 3803, 'adopt': 3804, 'archive': 3805, 'amusement': 3806, 'midnight': 3807, 'sweetheart': 3808, 'minority': 3809, 'snip': 3810, 'booby': 3811, 'prominent': 3812, 'merger': 3813, 'casing': 3814, 'disconnect': 3815, 'tahrir': 3816, 'atack': 3817, 'enforce': 3818, 'livestream': 3819, 'ablaze': 3820, 'dispatch': 3821, 'morale': 3822, 'municipality': 3823, 'contribute': 3824, 'shabiran': 3825, 'decapitate': 3826, 'roam': 3827, 'article': 3828, 'upcom': 3829, 'delinquency': 3830, 'grant': 3831, 'reward': 3832, 'obstruct': 3833, 'fodder': 3834, 'arsenal': 3835, 'recall': 3836, 'specialist': 3837, 'planner': 3838, 'displacement': 3839, 'forcibly': 3840, 'cache': 3841, 'ambulance': 3842, 'companion': 3843, 'lost': 3844, 'jus': 3845, 'immigrant': 3846, 'kindergarten': 3847, 'knowledge': 3848, 'irreversible': 3849, 'terroism': 3850, 'superwoman': 3851, 'domination': 3852, 'weak': 3853, 'khariji': 3854, 'moreover': 3855, 'shiate': 3856, 'blame': 3857, 'silly': 3858, 'shoudn': 3859, 'migracy': 3860, 'historic': 3861, 'merkel': 3862, 'ambassador': 3863, 'decrie': 3864, 'tribal': 3865, 'dismant': 3866, 'after': 3867, 'assad': 3868, 'imperative': 3869, 'pumping': 3870, 'gate': 3871, 'warfare': 3872, 'document': 3873, 'backer': 3874, 'community': 3875, 'intifada': 3876, 'devil': 3877, 'prefer': 3878, 'fade': 3879, 'obama': 3880, 'enclave': 3881, 'trauma': 3882, 'syaf': 3883, 'sinai': 3884, 'sharia': 3885, 'delinquent': 3886, 'punish': 3887, 'statistic': 3888, 'recalibrat': 3889, 'compensation': 3890, 'businessman': 3891, 'forum': 3892, 'sudanese': 3893, 'depend': 3894, 'fate': 3895, 'visa': 3896, 'waiver': 3897, 'dungeon': 3898, 'nusra': 3899, 'houthis': 3900, 'emphasize': 3901, 'insurance': 3902, 'educational': 3903, 'unicef': 3904, 'murdur': 3905, 'finance': 3906, 'abroad': 3907, 'persecute': 3908, 'cleanse': 3909, 'inter': 3910, 'headlong': 3911, 'tourism': 3912, 'grouping': 3913, 'battlefront': 3914, 'cult': 3915, 'inevitable': 3916, 'pave': 3917, 'propose': 3918, 'oversee': 3919, 'bc': 3920, 'hidden': 3921, 'pen': 3922, 'jeopardize': 3923, 'disclose': 3924, 'federal': 3925, 'evidence': 3926, 'rainfall': 3927, 'university': 3928, 'militiaman': 3929, 'euro': 3930, 'revive': 3931, 'appear': 3932, 'cleric': 3933, 'teenage': 3934, 'southwestern': 3935, 'minibus': 3936, 'administrative': 3937, 'centennial': 3938, 'commemorate': 3939, 'disappointed': 3940, 'sad': 3941, 'shocked': 3942, 'assumption': 3943, 'snowfall': 3944, 'bulldozer': 3945, 'illuminate': 3946, 'integrity': 3947, 'summit': 3948, 'territorial': 3949, 'trilateral': 3950, 'gunfight': 3951, 'crucifixion': 3952, 'governance': 3953, 'souran': 3954, 'leishmaniasis': 3955, 'ideology': 3956, 'share': 3957, 'allocate': 3958, 'cyberattack': 3959, 'ponder': 3960, 'fundraising': 3961, 'uncover': 3962, 'alley': 3963, 'republic': 3964, 'bilateral': 3965, 'pakistani': 3966, 'unreadable': 3967, 'observer': 3968, 'recruitment': 3969, 'landmark': 3970, 'mobile': 3971, 'economy': 3972, 'turmoil': 3973, 'wrathofeuphrate': 3974, 'angels': 3975, 'pure': 3976, 'consultancy': 3977, 'faith': 3978, 'certificate': 3979, 'sukuk': 3980, 'waqf': 3981, 'teaser': 3982, 'handoff': 3983, 'neutral': 3984, 'solidarity': 3985, 'snowy': 3986, 'ribat': 3987, 'mull': 3988, 'competition': 3989, 'ringleader': 3990, 'orphan': 3991, 'syriatalk': 3992, 'unanimously': 3993, 'attackts': 3994, 'ninth': 3995, 'primary': 3996, 'saa': 3997, 'syria': 3998, 'emirate': 3999, 'inseparability': 4000, 'fuselage': 4001, 'indicate': 4002, 'annual': 4003, 'syrian_army': 4004, 'poster': 4005, 'alloush': 4006, 'reign': 4007, 'al_shabab': 4008, 'organizati': 4009, 'eve': 4010, 'abidance': 4011, 'int': 4012, 'harvest': 4013, 'democratic': 4014, 'pushback': 4015, 'organizations': 4016, 'orphanage': 4017, 'volume': 4018, 'marketplace': 4019, 'digital': 4020, 'engine': 4021, 'enrich': 4022, 'shamra': 4023, 'afforestation': 4024, 'ifax': 4025, 'breach': 4026, 'colossal': 4027, 'civilians': 4028, 'fabricate': 4029, 'cafes': 4030, 'clothe': 4031, 'breastfeed': 4032, 'fanatic': 4033, 'mutilate': 4034, 'carnival': 4035, 'copy': 4036, 'damascus': 4037, 'dzhobar': 4038, 'truth': 4039, 'proof': 4040, 'embolden': 4041, 'congressman': 4042, 'donate': 4043, 'jaddal': 4044, 'regiment': 4045, 'vehicl': 4046, 'appoint': 4047, 'displaced': 4048, 'targeting': 4049, 'trafficking': 4050, 'cease': 4051, 'proposal': 4052, 'pinpoint': 4053, 'ramadi': 4054, 'deportation': 4055, 'latest': 4056, 'prelude': 4057, 'baghdadi': 4058, 'initiate': 4059, 'axi': 4060, 'corpse': 4061, 'desecration': 4062, 'illegal': 4063, 'destructive': 4064, 'distract': 4065, 'spar': 4066, 'outage': 4067, 'twitter': 4068, 'arrival': 4069, 'reorganize': 4070, 'sight': 4071, 'negotiate': 4072, 'exempt': 4073, 'germany': 4074, 'integrate': 4075, 'fed': 4076, 'theft': 4077, 'refining': 4078, 'hama': 4079, 'youngster': 4080, 'women': 4081, 'afraid': 4082, 'crusader': 4083, 'derail': 4084, 'growth': 4085, 'improved': 4086, 'encryption': 4087, 'sukhoi': 4088, 'exploitation': 4089, 'preach': 4090, 'extorted': 4091, 'willing': 4092, 'capacity': 4093, 'employee': 4094, 'apologetic': 4095, 'eject': 4096, 'unlikely': 4097, 'elimination': 4098, 'totally': 4099, 'premier': 4100, 'fortify': 4101, 'conflicting': 4102, 'undermine': 4103, 'fabrication': 4104, 'flog': 4105, 'smuggling': 4106, 'telegram': 4107, 'polio': 4108, 'grip': 4109, 'extermination': 4110, 'paramilitary': 4111, 'grain': 4112, 'uderstand': 4113, 'tannourah': 4114, 'arar': 4115, 'intervention': 4116, 'relocate': 4117, 'coward': 4118, 'achievement': 4119, 'effectiveness': 4120, 'regenerate': 4121, 'unacceptable': 4122, 'reaffirm': 4123, 'accuracy': 4124, 'shore': 4125, 'coordination': 4126, 'specific': 4127, 'unclear': 4128, 'thus': 4129, 'swap': 4130, 'qatari': 4131, 'adherence': 4132, 'verify': 4133, 'witness': 4134, 'resolutions': 4135, 'scientific': 4136, 'null': 4137, 'society': 4138, 'wo': 4139, 'determine': 4140, 'deplete': 4141, 'uranium': 4142, 'catastrophic': 4143, 'dna': 4144, 'advisor': 4145, 'geopolitical': 4146, 'pawn': 4147, 'affect': 4148, 'committed': 4149, 'demographic': 4150, 'redraw': 4151, 'renovate': 4152, 'goal': 4153, 'announcement': 4154, 'nasrallah': 4155, 'quash': 4156, 'production': 4157, 'badly': 4158, 'bust': 4159, 'conservationist': 4160, 'printer': 4161, 'groom': 4162, 'cjtfoir': 4163, 'storage': 4164, 'study': 4165, 'refinement': 4166, 'wellhead': 4167, 'intend': 4168, 'rebuild': 4169, 'music': 4170, 'inject': 4171, 'spyplane': 4172, 'unlawful': 4173, 'pharmaceutical': 4174, 'neighbor': 4175, 'congestion': 4176, 'instruct': 4177, 'readiness': 4178, 'welfare': 4179, 'ambition': 4180, 'ease': 4181, 'governorate': 4182, 'skirmish': 4183, 'khalifa': 4184, 'oath': 4185, 'jack': 4186, 'pump': 4187, 'phd': 4188, 'sympathy': 4189, 'battleground': 4190, 'peaceful': 4191, 'warzone': 4192, 'priority': 4193, 'genevatalk': 4194, 'operator': 4195, 'islamicstate': 4196, 'encirclement': 4197, 'countries': 4198, 'thermal': 4199, 'agricultural': 4200, 'improvement': 4201, 'pmu': 4202, 'prepear': 4203, 'gadget': 4204, 'capturd': 4205, 'dara': 4206, 'direction': 4207, 'author': 4208, 'sexually': 4209, 'thei': 4210, 'tthen': 4211, 'amend': 4212, 'committee': 4213, 'refer': 4214, 'provisional': 4215, 'chassis': 4216, 'flamethrower': 4217, 'don': 4218, 'cancellation': 4219, 'cemetery': 4220, 'dedicate': 4221, 'poem': 4222, 'basis': 4223, 'exclude': 4224, 'ezzor': 4225, 'preacher': 4226, 'reunite': 4227, 'tactic': 4228, 'prop': 4229, 'rig': 4230, 'excuse': 4231, 'reversal': 4232, 'nomination': 4233, 'submit': 4234, 'bloodsh': 4235, 'quality': 4236, 'cleaver': 4237, 'hindu': 4238, 'temple': 4239, 'qabasin': 4240, 'separation': 4241, 'inlet': 4242, 'manifold': 4243, 'emir': 4244, 'necessary': 4245, 'anxiety': 4246, 'dprk': 4247, 'grad': 4248, 'boast': 4249, 'disel': 4250, 'rejoice': 4251, 'deconfliction': 4252, 'maintain': 4253, 'hunt': 4254, 'raising': 4255, 'abuse': 4256, 'coptic': 4257, 'sabotage': 4258, 'degree': 4259, 'eager': 4260, 'parliamentary': 4261, 'tool': 4262, 'deadline': 4263, 'reiterate': 4264, 'informant': 4265, 'conservative': 4266, 'consistently': 4267, 'address': 4268, 'suddenly': 4269, 'strap': 4270, 'quarry': 4271, 'manuscript': 4272, 'badminton': 4273, 'dji': 4274, 'quadcopter': 4275, 'showroom': 4276, 'dash': 4277, 'executes': 4278, 'application': 4279, 'parliamentar': 4280, 'exclusive': 4281, 'revelation': 4282, 'bell': 4283, 'candidate': 4284, 'genuine': 4285, 'understanding': 4286, 'deeper': 4287, 'schoolboy': 4288, 'reservoir': 4289, 'bakery': 4290, 'teachers': 4291, 'glance': 4292, 'electio': 4293, 'legislative': 4294, 'applicat': 4295, 'wag': 4296, 'viechle': 4297, 'largely': 4298, 'hail': 4299, 'indirect': 4300, 'ripe': 4301, 'unhq': 4302, 'unify': 4303, 'hayyan': 4304, 'occupy': 4305, 'traitor': 4306, 'sneak': 4307, 'sarmin': 4308, 'diary': 4309, 'housewife': 4310, 'belie': 4311, 'feign': 4312, 'billion': 4313, 'donor': 4314, 'unbroadcast': 4315, 'translate': 4316, 'financing': 4317, 'conspicuous': 4318, 'brave': 4319, 'jurist': 4320, 'threatening': 4321, 'arabic': 4322, 'turkman': 4323, 'overshadow': 4324, 'concerned': 4325, 'prove': 4326, 'vbied': 4327, 'split': 4328, 'passport': 4329, 'discard': 4330, 'pictrure': 4331, 'capur': 4332, 'luxury': 4333, 'fury': 4334, 'identify': 4335, 'ultimate': 4336, 'chase': 4337, 'deirezzor': 4338, 'deterrent': 4339, 'procedure': 4340, 'prohibit': 4341, 'erase': 4342, 'belief': 4343, 'dare': 4344, 'disastrous': 4345, 'indicator': 4346, 'orbit': 4347, 'rityan': 4348, 'rainy': 4349, 'promise': 4350, 'weaponize': 4351, 'villag': 4352, 'basketball': 4353, 'treasure': 4354, 'unearth': 4355, 'cite': 4356, 'exacerbate': 4357, 'wanted': 4358, 'contribution': 4359, 'flame': 4360, 'inferno': 4361, 'sucide': 4362, 'awareness': 4363, 'defame': 4364, 'uncertainty': 4365, 'artistic': 4366, 'masterpiece': 4367, 'setback': 4368, 'detailed': 4369, 'discussion': 4370, 'spox': 4371, 'repentance': 4372, 'senate': 4373, 'strip': 4374, 'sorcerer': 4375, 'toll': 4376, 'pantsyr': 4377, 'overcome': 4378, 'bolster': 4379, 'forbid': 4380, 'palmyre': 4381, 'obtain': 4382, 'villagie': 4383, 'extent': 4384, 'amenian': 4385, 'operative': 4386, 'contingent': 4387, 'beloved': 4388, 'sphere': 4389, 'hq': 4390, 'critical': 4391, 'introduce': 4392, 'entrench': 4393, 'vital': 4394, 'slam': 4395, 'seduction': 4396, 'preserve': 4397, 'making': 4398, 'lifestyle': 4399, 'pat': 4400, 'landmine': 4401, 'render': 4402, 'confusion': 4403, 'impotence': 4404, 'metropolis': 4405, 'dismantle': 4406, 'poet': 4407, 'stray': 4408, 'broad': 4409, 'spectrum': 4410, 'strand': 4411, 'promising': 4412, 'vigorously': 4413, 'occur': 4414, 'coincide': 4415, 'institution': 4416, 'descendant': 4417, 'knaf': 4418, 'praise': 4419, 'citizenship': 4420, 'artifact': 4421, 'original': 4422, 'proceed': 4423, 'round': 4424, 'beheading': 4425, 'federalization': 4426, 'backpedal': 4427, 'misconceive': 4428, 'constructive': 4429, 'positive': 4430, 'peskov': 4431, 'representation': 4432, 'migrationcrisis': 4433, 'hotelier': 4434, 'decrease': 4435, 'worldview': 4436, 'horseback': 4437, 'sticking': 4438, 'clinically': 4439, 'larijani': 4440, 'reduction': 4441, 'reassure': 4442, 'fsb': 4443, 'strengthen': 4444, 'athlete': 4445, 'resumption': 4446, 'rapprochement': 4447, 'separatist': 4448, 'respond': 4449, 'justice': 4450, 'rigorous': 4451, 'angst': 4452, 'girls': 4453, 'soft': 4454, 'chance': 4455, 'compete': 4456, 'olympiad': 4457, 'motivate': 4458, 'phosphorous': 4459, 'cent': 4460, 'interactive': 4461, 'adviser': 4462, 'millitary': 4463, 'contract': 4464, 'weaponry': 4465, 'foundation': 4466, 'hehind': 4467, 'bookshelf': 4468, 'limestone': 4469, 'roman': 4470, 'unravel': 4471, 'perhaps': 4472, 'relate': 4473, 'medic': 4474, 'element': 4475, 'mastermind': 4476, 'decry': 4477, 'humanity': 4478, 'expatriate': 4479, 'declassify': 4480, 'osamabinladen': 4481, 'yo': 4482, 'paranoia': 4483, 'punctuate': 4484, 'torturing': 4485, 'internally': 4486, 'palmyra': 4487, 'isis_hunter': 4488, 'summon': 4489, 'constitutional': 4490, 'unilateral': 4491, 'durin': 4492, 'slash': 4493, 'takeover': 4494, 'bolt': 4495, 'chest': 4496, 'ray': 4497, 'conclusion': 4498, 'funding': 4499, 'injur': 4500, 'sev': 4501, 'ala': 4502, 'colonialism': 4503, 'settler': 4504, 'scorch': 4505, 'heliborne': 4506, 'peninsula': 4507, 'raqqa_campaign': 4508, 'lone': 4509, 'machete': 4510, 'mow': 4511, 'haven': 4512, 'stabilized': 4513, 'tillerson': 4514, 'skydiver': 4515, 'traffic': 4516, 'tablet': 4517, 'exile': 4518, 'crown': 4519, 'prince': 4520, 'burden': 4521, 'muddle': 4522, 'tuberculosis': 4523, 'ascribe': 4524, 'spectre': 4525, 'pillage': 4526, 'fm': 4527, 'resourc': 4528, 'adjourn': 4529, 'bahrain': 4530, 'isolate': 4531, 'capable': 4532, 'demolition': 4533, 'shooting': 4534, 'homosexuality': 4535, 'catholic': 4536, 'congratulatory': 4537, 'plundered': 4538, 'messaging': 4539, 'demin': 4540, 'upside': 4541, 'governme': 4542, 'motive': 4543, 'demine': 4544, 'disposal': 4545, 'gaze': 4546, 'machinery': 4547, 'windfall': 4548, 'stabilize': 4549, 'algerian': 4550, 'council': 4551, 'spillway': 4552, 'mediate': 4553, 'broke': 4554, 'scam': 4555, 'sophisticated': 4556, 'suspended': 4557, 'indefinitely': 4558, 'muhajireen': 4559, 'prehistory': 4560, 'indictment': 4561, 'converge': 4562, 'blood': 4563, 'federalism': 4564, 'prepared': 4565, 'qualifier': 4566, 'qualify': 4567, 'arzeh': 4568, 'united': 4569, 'poise': 4570, 'compilation': 4571, 'heads': 4572, 'picking': 4573, 'determination': 4574, 'abusive': 4575, 'changer': 4576, 'frank': 4577, 'placard': 4578, 'robotic': 4579, 'creaky': 4580, 'radicalis': 4581, 'extensive': 4582, 'graduates': 4583, 'wmd': 4584, 'cutoff': 4585, 'syaaf': 4586, 'eldest': 4587, 'nanny': 4588, 'bulgarian': 4589, 'seizure': 4590, 'begging': 4591, 'gradually': 4592, 'davutoglu': 4593, 'nyet': 4594, 'caucasian': 4595, 'descent': 4596, 'crashed': 4597, 'cuban': 4598, 'uproot': 4599, 'accepted': 4600, 'impoverished': 4601, 'dread': 4602, 'firefight': 4603, 'headshot': 4604, 'emptive': 4605, 'brainwashed': 4606, 'deserter': 4607, 'pregnant': 4608, 'candidacy': 4609, 'legality': 4610, 'apostates': 4611, 'acquire': 4612, 'sole': 4613, 'fashion': 4614, 'textil': 4615, 'objection': 4616, 'stake': 4617, 'muzzy': 4618, 'vehicel': 4619, 'despair': 4620, 'memorization': 4621, 'scourge': 4622, 'unified': 4623, 'commandos': 4624, 'outgoing': 4625, 'resource': 4626, 'daily': 4627, 'beekeeping': 4628, 'elderly': 4629, 'nationwide': 4630, 'defuse': 4631, 'apartment': 4632, 'compose': 4633, 'illicit': 4634, 'suspicious': 4635, 'piss': 4636, 'scared': 4637, 'nance': 4638, 'agenda': 4639, 'akilat': 4640, 'microchip': 4641, 'emulate': 4642, 'iskander': 4643, 'inward': 4644, 'monarch': 4645, 'intervene': 4646, 'electoral': 4647, 'import': 4648, 'roadblock': 4649, 'colonel': 4650, 'fraying': 4651, 'brochure': 4652, 'artwork': 4653, 'creative': 4654, 'thrive': 4655, 'restoration': 4656, 'lik': 4657, 'poll': 4658, 'terrorattack': 4659, 'radiocontrolled': 4660, 'diplomat': 4661, 'mystery': 4662, 'yazidigenocide': 4663, 'haunt': 4664, 'jewelry': 4665, 'casting': 4666, 'yrs': 4667, 'memorable': 4668, 'hashish': 4669, 'constituency': 4670, 'voting': 4671, 'voter': 4672, 'backbone': 4673, 'interaction': 4674, 'magazine': 4675, 'captivate': 4676, 'faylaq': 4677, 'immunity': 4678, 'defiant': 4679, 'effective': 4680, 'patrushev': 4681, 'ppl': 4682, 'smash': 4683, 'syrianarabarmy': 4684, 'emigrate': 4685, 'plain': 4686, 'fiasco': 4687, 'mounzer': 4688, 'gunfire': 4689, 'seiz': 4690, 'scenario': 4691, 'unmanageable': 4692, 'ability': 4693, 'confidence': 4694, 'inmate': 4695, 'aide': 4696, 'finnish': 4697, 'crisp': 4698, 'holding': 4699, 'continuous': 4700, 'ddo': 4701, 'publication': 4702, 'related': 4703, 'slaughter': 4704, 'flagrant': 4705, 'unveil': 4706, 'annulment': 4707, 'appeal': 4708, 'aussie': 4709, 'comply': 4710, 'parade': 4711, 'property': 4712, 'resurrect': 4713, 'mikad': 4714, 'suspension': 4715, 'slowly': 4716, 'vie': 4717, 'heartbreaking': 4718, 'smallpox': 4719, 'unchecked': 4720, 'parallel': 4721, 'disappearance': 4722, 'abduction': 4723, 'misty': 4724, 'embattle': 4725, 'ploy': 4726, 'inhumane': 4727, 'civillian': 4728, 'taxi': 4729, 'yellow': 4730, 'malaysian': 4731, 'procession': 4732, 'icrc': 4733, 'reply': 4734, 'gazelle': 4735, 'disinformation': 4736, 'inolv': 4737, 'contradict': 4738, 'interest': 4739, 'velayati': 4740, 'clothing': 4741, 'leather': 4742, 'developmental': 4743, 'immunization': 4744, 'reform': 4745, 'arming': 4746, 'apologized': 4747, 'bonus': 4748, 'pad': 4749, 'exceptional': 4750, 'cyberwar': 4751, 'bunny': 4752, 'boar': 4753, 'rampage': 4754, 'strength': 4755, 'legacy': 4756, 'sudden': 4757, 'transfers': 4758, 'obsession': 4759, 'escalation': 4760, 'illegitimate': 4761, 'untrue': 4762, 'reality': 4763, 'attach': 4764, 'procce': 4765, 'offset': 4766, 'sheet': 4767, 'disabled': 4768, 'brand': 4769, 'inferior': 4770, 'substitute': 4771, 'radar': 4772, 'partial': 4773, 'religiously': 4774, 'veil': 4775, 'wine': 4776, 'contest': 4777, 'bearded': 4778, 'squadron': 4779, 'establishment': 4780, 'loser': 4781, 'ammonium': 4782, 'nitrate': 4783, 'barrage': 4784, 'devastate': 4785, 'maverick': 4786, 'declaration': 4787, 'deem': 4788, 'passageway': 4789, 'harder': 4790, 'reformist': 4791, 'oust': 4792, 'invest': 4793, 'slump': 4794, 'workshop': 4795, 'dominate': 4796, 'atrocity': 4797, 'odyssey': 4798, 'recount': 4799, 'citrus': 4800, 'crop': 4801, 'drinking': 4802, 'marketing': 4803, 'salamiyeh': 4804, 'diabetes': 4805, 'patient': 4806, 'forensic': 4807, 'crucifie': 4808, 'mugger': 4809, 'dsestroy': 4810, 'language': 4811, 'evader': 4812, 'bid': 4813, 'lure': 4814, 'documentary': 4815, 'filmmaker': 4816, 'ancien': 4817, 'extremism': 4818, 'demirtas': 4819, 'grass': 4820, 'disguise': 4821, 'cement': 4822, 'gamble': 4823, 'locator': 4824, 'irresponsible': 4825, 'briefing': 4826, 'hangar': 4827, 'intact': 4828, 'bazaar': 4829, 'comb': 4830, 'deminer': 4831, 'trafficker': 4832, 'victimize': 4833, 'biological': 4834, 'primitive': 4835, 'task': 4836, 'soap': 4837, 'rebuf': 4838, 'unannounc': 4839, 'groups': 4840, 'recover': 4841, 'unforgivable': 4842, 'scholarship': 4843, 'rather': 4844, 'denomination': 4845, 'abyad': 4846, 'panel': 4847, 'slide': 4848, 'steel': 4849, 'spending': 4850, 'indoctrinate': 4851, 'usual': 4852, 'measure': 4853, 'insufficient': 4854, 'director': 4855, 'resting': 4856, 'constitute': 4857, 'mound': 4858, 'closure': 4859, 'reconvene': 4860, 'mahdoum': 4861, 'positional': 4862, 'tamouz': 4863, 'sharp': 4864, 'unprecedented': 4865, 'globally': 4866, 'exam': 4867, 'alphabet': 4868, 'demise': 4869, 'untimely': 4870, 'cloud': 4871, 'suspicion': 4872, 'baseless': 4873, 'mediators': 4874, 'restart': 4875, 'library': 4876, 'blocking': 4877, 'barzeh': 4878, 'trainingscamp': 4879, 'livelihood': 4880, 'municipal': 4881, 'wastewater': 4882, 'disagreement': 4883, 'knot': 4884, 'bombardmetns': 4885, 'observatory': 4886, 'stretch': 4887, 'thin': 4888, 'grim': 4889, 'plight': 4890, 'select': 4891, 'cotton': 4892, 'cereal': 4893, 'crowd': 4894, 'incl': 4895, 'mistakenly': 4896, 'masacre': 4897, 'horrific': 4898, 'compensate': 4899, 'systemized': 4900, 'credit': 4901, 'canal': 4902, 'irrigation': 4903, 'fortifie': 4904, 'slope': 4905, 'austrian': 4906, 'championship': 4907, 'kickboxing': 4908, 'martial': 4909, 'transportation': 4910, 'shape': 4911, 'influence': 4912, 'antitank': 4913, 'guideline': 4914, 'dropping': 4915, 'leverage': 4916, 'county': 4917, 'repay': 4918, 'completion': 4919, 'meter': 4920, 'asad': 4921, 'balance': 4922, 'brics': 4923, 'opponent': 4924, 'nayrab': 4925, 'kuwaiti': 4926, 'forgive': 4927, 'predict': 4928, 'mobilize': 4929, 'peacemak': 4930, 'bln': 4931, 'pct': 4932, 'acid': 4933, 'dissolve': 4934, 'nitric': 4935, 'rename': 4936, 'commercial': 4937, 'lbierat': 4938, 'shia': 4939, 'boil': 4940, 'trophy': 4941, 'offtop': 4942, 'inaugurate': 4943, 'summary': 4944, 'inghimasi': 4945, 'active': 4946, 'spying': 4947, 'experience': 4948, 'method': 4949, 'surveillance': 4950, 'sieg': 4951, 'renewed': 4952, 'approval': 4953, 'seige': 4954, 'detect': 4955, 'moata': 4956, 'coloni': 4957, 'railroad': 4958, 'afterward': 4959, 'earthquake': 4960, 'transition': 4961, 'cinema': 4962, 'duty': 4963, 'khan_touman': 4964, 'showcas': 4965, 'differentiate': 4966, 'translation': 4967, 'calm': 4968, 'blitz': 4969, 'investment': 4970, 'de': 4971, 'memorandum': 4972, 'eclectic': 4973, 'carbomb': 4974, 'midway': 4975, 'regroup': 4976, 'investigator': 4977, 'depth': 4978, 'unofficial': 4979, 'responsibilty': 4980, 'alnusra': 4981, 'mobiliz': 4982, 'temporary': 4983, 'disband': 4984, 'mansheya': 4985, 'hotspot': 4986, 'gharbi': 4987, 'treatment': 4988, 'manchester': 4989, 'coastal': 4990, 'disappear': 4991, 'alteration': 4992, 'analysys': 4993, 'sat': 4994, 'rev': 4995, 'donation': 4996, 'falsely': 4997, 'nott': 4998, 'caravan': 4999, 'mishap': 5000, 'towm': 5001, 'doorstep': 5002, 'asks': 5003, 'funnel': 5004, 'selfie': 5005, 'helplessness': 5006, 'steadfast': 5007, 'beggar': 5008, 'explore': 5009, 'anticipate': 5010, 'pierce': 5011, 'mock': 5012, 'brag': 5013, 'insignia': 5014, 'escapee': 5015, 'impede': 5016, 'bombings': 5017, 'latter': 5018, 'solid': 5019, 'karma': 5020, 'reconstruct': 5021, 'isolated': 5022, 'testimony': 5023, 'jeopardy': 5024, 'debrief': 5025, 'rep': 5026, 'tournament': 5027, 'badge': 5028, 'soldiers': 5029, 'analytic': 5030, 'hr': 5031, 'trample': 5032, 'suwayda': 5033, 'eyewitness': 5034, 'massgrave': 5035, 'secondary': 5036, 'holdout': 5037, 'trading': 5038, 'beyong': 5039, 'tanf': 5040, 'qalamoun': 5041, 'burka': 5042, 'uncovered': 5043, 'vaccine': 5044, 'glove': 5045, 'bordertown': 5046, 'ignite': 5047, 'courtesy': 5048, 'ez': 5049, 'pummel': 5050, 'impenetrable': 5051, 'widen': 5052, 'philippine': 5053, 'philliphine': 5054, 'billiard': 5055, 'domino': 5056, 'shisha': 5057, 'hammer': 5058, 'curtail': 5059, 'sharply': 5060, 'bloodshed': 5061, 'taste': 5062, 'salutation': 5063, 'married': 5064, 'tow': 5065, 'stash': 5066, 'miltiary': 5067, 'quit': 5068, 'automatic': 5069, 'mercenaries': 5070, 'svbied': 5071, 'carve': 5072, 'folly': 5073, 'lobby': 5074, 'quneitra': 5075, 'disfigure': 5076, 'forces': 5077, 'fringe': 5078, 'outflank': 5079, 'chapter': 5080, 'designate': 5081, 'hd': 5082, 'brink': 5083, 'messy': 5084, 'tangled': 5085, 'advise': 5086, 'meanwhile': 5087, 'borodavkin': 5088, 'capricious': 5089, 'sponsors': 5090, 'broadening': 5091, 'jetliner': 5092, 'estate': 5093, 'registration': 5094, 'rem': 5095, 'sec': 5096, 'opt': 5097, 'suicidal': 5098, 'defy': 5099, 'legitimacy': 5100, 'encouraged': 5101, 'electronic': 5102, 'victorious': 5103, 'occasion': 5104, 'rambo': 5105, 'testicle': 5106, 'fortified': 5107, 'wannabe': 5108, 'fou': 5109, 'shine': 5110, 'triumph': 5111, 'civilan': 5112, 'congratulation': 5113, 'divide': 5114, 'universal': 5115, 'subtitle': 5116, 'nsya': 5117, 'realize': 5118, 'warlord': 5119, 'conrol': 5120, 'offcially': 5121, 'data': 5122, 'dividing': 5123, 'observation': 5124, 'lunch': 5125, 'proclaim': 5126, 'span': 5127, 'gang': 5128, 'glorious': 5129, 'dod': 5130, 'systematically': 5131, 'scholar': 5132, 'actively': 5133, 'biography': 5134, 'enslavement': 5135, 'justification': 5136, 'avenue': 5137, 'blend': 5138, 'amassing': 5139, 'increasingly': 5140, 'sfaiyeh': 5141, 'infidel': 5142, 'enrol': 5143, 'resolute': 5144, 'summarily': 5145, 'spg': 5146, 'circulate': 5147, 'derive': 5148, 'poliovirus': 5149, 'wheat': 5150, 'subjugate': 5151, 'hezbollah': 5152, 'rumour': 5153, 'monitoring': 5154, 'tigerforce': 5155, 'phosphoru': 5156, 'overjoy': 5157, 'vanquished': 5158, 'banquet': 5159, 'passing': 5160, 'seminar': 5161, 'meshleb': 5162, 'sinaa': 5163, 'drastic': 5164, 'caliph': 5165, 'fugitive': 5166, 'neighbour': 5167, 'radicalism': 5168, 'singaporean': 5169, 'couterattack': 5170, 'narcotic': 5171, 'artificial': 5172, 'dailymail': 5173, 'illustrate': 5174, 'neutrality': 5175, 'schooling': 5176, 'sdfcaptured': 5177, 'dm': 5178, 'matter': 5179, 'frameborder': 5180, 'fellow': 5181, 'trickle': 5182, 'pace': 5183, 'pincer': 5184, 'precious': 5185, 'treasurer': 5186, 'hesitate': 5187, 'preparatory': 5188, 'eternal': 5189, 'quantum': 5190, 'superposition': 5191, 'limited': 5192, 'rebirth': 5193, 'impartiality': 5194, 'syriac': 5195, 'ag': 5196, 'overt': 5197, 'unjustified': 5198, 'secular': 5199, 'homosexual': 5200, 'deadlock': 5201, 'orthodox': 5202, 'routine': 5203, 'offcer': 5204, 'resort': 5205, 'illness': 5206, 'preventable': 5207, 'arouse': 5208, 'register': 5209, 'urgent': 5210, 'chaos': 5211, 'plunge': 5212, 'pit': 5213, 'formidable': 5214, 'roadway': 5215, 'lgbt': 5216, 'recognition': 5217, 'strain': 5218, 'partnership': 5219, 'sympathizer': 5220, 'regularly': 5221, 'dissent': 5222, 'doom': 5223, 'plenty': 5224, 'defendant': 5225, 'com': 5226, 'boxer': 5227, 'terminal': 5228, 'raze': 5229, 'cancer': 5230, 'lung': 5231, 'seller': 5232, 'tacit': 5233, 'infromation': 5234, 'obviously': 5235, 'below': 5236, 'detonation': 5237, 'bullet': 5238, 'photographic': 5239, 'feast': 5240, 'nb': 5241, 'provocation': 5242, 'antiquity': 5243, 'cjtfor': 5244, 'empowerment': 5245, 'pulverize': 5246, 'freshly': 5247, 'pillar': 5248, 'alawite': 5249, 'brawl': 5250, 'ocurr': 5251, 'opinion': 5252, 'fee': 5253, 'closed': 5254, 'politicize': 5255, 'before': 5256, 'worldwide': 5257, 'actual': 5258, 'regular': 5259, 'snazzy': 5260, 'centcom': 5261, 'foothold': 5262, 'unhappy': 5263, 'intensive': 5264, 'weapom': 5265, 'defenseone': 5266, 'sail': 5267, 'inglorious': 5268, 'embargo': 5269, 'mechanism': 5270, 'screenshot': 5271, 'runner': 5272, 'ra': 5273, 'remnant': 5274, 'imagery': 5275, 'southeren': 5276, 'croatian': 5277, 'vhs': 5278, 'agitation': 5279, 'ramming': 5280, 'strangle': 5281, 'nuke': 5282, 'andvance': 5283, 'jeep': 5284, 'kg': 5285, 'investigtion': 5286, 'bombs': 5287, 'describe': 5288, 'lawsuit': 5289, 'trespassing': 5290, 'refigeess': 5291, 'embelish': 5292, 'niqab': 5293, 'habitable': 5294, 'unscathed': 5295, 'landline': 5296, 'iftar': 5297, 'manufacturing': 5298, 'planting': 5299, 'incendiary': 5300, 'fasting': 5301, 'allied': 5302, 'farmland': 5303, 'partake': 5304, 'hesitation': 5305, 'gymnast': 5306, 'apology': 5307, 'sisi': 5308, 'elder': 5309, 'shiekh': 5310, 'transit': 5311, 'dollar': 5312, 'enlarge': 5313, 'heliport': 5314, 'parking': 5315, 'aircover': 5316, 'supposedly': 5317, 'correctness': 5318, 'colorize': 5319, 'severe': 5320, 'chair': 5321, 'geologist': 5322, 'thesaa': 5323, 'column': 5324, 'screen': 5325, 'horribly': 5326, 'fittingly': 5327, 'metastasized': 5328, 'proclamation': 5329, 'proper': 5330, 'disarm': 5331, 'justify': 5332, 'progressive': 5333, 'debut': 5334, 'beset': 5335, 'projectile': 5336, 'decapitation': 5337, 'pitfall': 5338, 'rotary': 5339, 'durable': 5340, 'conquest': 5341, 'revisit': 5342, 'owe': 5343, 'contagious': 5344, 'contaminate': 5345, 'outbreak': 5346, 'covertly': 5347, 'shamkhani': 5348, 'working': 5349, 'comparison': 5350, 'spike': 5351, 'inluence': 5352, 'chokehold': 5353, 'entirety': 5354, 'atmosphere': 5355, 'blackout': 5356, 'worsen': 5357, 'antonov': 5358, 'unanswer': 5359, 'outcry': 5360, 'safely': 5361, 'nationality': 5362, 'informed': 5363, 'unspoken': 5364, 'implicate': 5365, 'noose': 5366, 'wreckage': 5367, 'deceased': 5368, 'counterfeiting': 5369, 'judicial': 5370, 'simplify': 5371, 'camouflage': 5372, 'speculation': 5373, 'us': 5374, 'breed': 5375, 'informer': 5376, 'being': 5377, 'operating': 5378, 'junior': 5379, 'surgery': 5380, 'define': 5381, 'kaleidoscope': 5382, 'relieve': 5383, 'amass': 5384, 'firewood': 5385, 'moroccan': 5386, 'fraudster': 5387, 'pensioner': 5388, 'vulnerable': 5389, 'spaag': 5390, 'tonyblair': 5391, 'swarm': 5392, 'counsel': 5393, 'parameter': 5394, 'medieval': 5395, 'willingness': 5396, 'svied': 5397, 'dove': 5398, 'albukamal': 5399, 'provoke': 5400, 'unpunished': 5401, 'quartet': 5402, 'impossible': 5403, 'nighttime': 5404, 'combatant': 5405, 'factor': 5406, 'parliamentarian': 5407, 'steadfastness': 5408, 'inflaming': 5409, 'crowded': 5410, 'barely': 5411, 'shred': 5412, 'undfold': 5413, 'outgunn': 5414, 'outnumber': 5415, 'undersupplied': 5416, 'continuation': 5417, 'insurgence': 5418, 'petition': 5419, 'chopper': 5420, 'reasoning': 5421, 'award': 5422, 'posthumously': 5423, 'strom': 5424, 'cowardice': 5425, 'incompetence': 5426, 'soil': 5427, 'transgression': 5428, 'tout': 5429, 'scath': 5430, 'timidity': 5431, 'sutoro': 5432, 'formula': 5433, 'defensive': 5434, 'lingeri': 5435, 'secur': 5436, 'birth': 5437, 'annually': 5438, 'avenge': 5439, 'crucified': 5440, 'retaliatory': 5441, 'television': 5442, 'salt': 5443, 'appreciate': 5444, 'cough': 5445, 'ours': 5446, 'openly': 5447, 'overview': 5448, 'grata': 5449, 'persona': 5450, 'pork': 5451, 'scumbag': 5452, 'ironic': 5453, 'informative': 5454, 'intention': 5455, 'dubaysan': 5456, 'coup': 5457, 'fleet': 5458, 'miitary': 5459, 'harbour': 5460, 'karate': 5461, 'purge': 5462, 'penalty': 5463, 'dish': 5464, 'satelite': 5465, 'sinful': 5466, 'domain': 5467, 'supress': 5468, 'tukish': 5469, 'diamond': 5470, 'custody': 5471, 'maaq': 5472, 'officilly': 5473, 'quick': 5474, 'whatev': 5475, 'retaliate': 5476, 'pretence': 5477, 'hostile': 5478, 'vilalge': 5479, 'picuture': 5480, 'executive': 5481, 'requirement': 5482, 'vision': 5483, 'girespi': 5484, 'medication': 5485, 'accident': 5486, 'radius': 5487, 'outrun': 5488, 'rabi': 5489, 'rumaylan': 5490, 'symptom': 5491, 'impact': 5492, 'plotter': 5493, 'agriculture': 5494, 'persist': 5495, 'banknote': 5496, 'sever': 5497, 'chlorine': 5498, 'terminate': 5499, 'sack': 5500, 'asayish': 5501, 'investigaion': 5502, 'unair': 5503, 'greenhorn': 5504, 'traditonal': 5505, 'comdemn': 5506, 'stag': 5507, 'unblurred': 5508, 'strange': 5509, 'clueless': 5510, 'apologize': 5511, 'condem': 5512, 'bmp': 5513, 'wikileak': 5514, 'homefront': 5515, 'annex': 5516, 'exteremely': 5517, 'suspensded': 5518, 'consultation': 5519, 'bodies': 5520, 'ballet': 5521, 'pokemon': 5522, 'civ': 5523, 'cezire': 5524, 'clock': 5525, 'traction': 5526, 'tragic': 5527, 'sneaky': 5528, 'imprison': 5529, 'infant': 5530, 'bookshop': 5531, 'tacmap': 5532, 'domestic': 5533, 'hardly': 5534, 'reputation': 5535, 'pipe': 5536, 'dresser': 5537, 'legendary': 5538, 'ties': 5539, 'begginning': 5540, 'decimate': 5541, 'assume': 5542, 'dental': 5543, 'kidnapping': 5544, 'mental': 5545, 'intensity': 5546, 'brazilian': 5547, 'recycling': 5548, 'banking': 5549, 'engineering': 5550, 'reciv': 5551, 'module': 5552, 'ministerial': 5553, 'timeline': 5554, 'gulen': 5555, 'ansbach': 5556, 'count': 5557, 'stack': 5558, 'density': 5559, 'dual': 5560, 'inense': 5561, 'retaliation': 5562, 'ransom': 5563, 'burie': 5564, 'prim': 5565, 'blessing': 5566, 'intlligence': 5567, 'firestorm': 5568, 'healthy': 5569, 'revenue': 5570, 'creation': 5571, 'sukhnah': 5572, 'neglect': 5573, 'children': 5574, 'stach': 5575, 'century': 5576, 'savage': 5577, 'inspector': 5578, 'gasfield': 5579, 'grin': 5580, 'mallah': 5581, 'boukamal': 5582, 'diploma': 5583, 'honour': 5584, 'mall': 5585, 'evolving': 5586, 'employ': 5587, 'imam': 5588, 'anonymous': 5589, 'designer': 5590, 'valve': 5591, 'subcommittee': 5592, 'sukhna': 5593, 'pardon': 5594, 'motivational': 5595, 'psych': 5596, 'minor': 5597, 'formally': 5598, 'shorthand': 5599, 'ope': 5600, 'tire': 5601, 'visibility': 5602, 'mend': 5603, 'confim': 5604, 'smog': 5605, 'inspection': 5606, 'canister': 5607, 'cannister': 5608, 'literally': 5609, 'unexplained': 5610, 'flare': 5611, 'invade': 5612, 'mufti': 5613, 'employer': 5614, 'watering': 5615, 'bent': 5616, 'bloodiest': 5617, 'alm': 5618, 'nabil': 5619, 'prophet': 5620, 'supreme': 5621, 'consulate': 5622, 'rescuer': 5623, 'audio': 5624, 'fatality': 5625, 'gift': 5626, 'prolong': 5627, 'exodus': 5628, 'sohr': 5629, 'potentially': 5630, 'structure': 5631, 'research': 5632, 'mummy': 5633, 'sin': 5634, 'detector': 5635, 'knowingly': 5636, 'tracker': 5637, 'clasp': 5638, 'closing': 5639, 'divining': 5640, 'glorified': 5641, 'rod': 5642, 'pilgrimage': 5643, 'container': 5644, 'revealing': 5645, 'sacred': 5646, 'playground': 5647, 'cliff': 5648, 'coffin': 5649, 'supervision': 5650, 'updated': 5651, 'craft': 5652, 'carried': 5653, 'laucher': 5654, 'kit': 5655, 'heli': 5656, 'tail': 5657, 'recorder': 5658, 'fantasy': 5659, 'imperialism': 5660, 'setteld': 5661, 'pope': 5662, 'airframe': 5663, 'ordeal': 5664, 'beacon': 5665, 'cuteness': 5666, 'anounce': 5667, 'miniscule': 5668, 'pioneer': 5669, 'icon': 5670, 'gloat': 5671, 'humanita': 5672, 'embrace': 5673, 'operati': 5674, 'grape': 5675, 'vegetable': 5676, 'bondarev': 5677, 'squads': 5678, 'constant': 5679, 'bookstore': 5680, 'redemption': 5681, 'hopeful': 5682, 'origin': 5683, 'broken': 5684, 'manasher': 5685, 'accuss': 5686, 'motorbike': 5687, 'disbelief': 5688, 'postcard': 5689, 'conjoined': 5690, 'saparat': 5691, 'surgically': 5692, 'heartwarm': 5693, 'flyer': 5694, 'impos': 5695, 'pigs': 5696, 'size': 5697, 'zor': 5698, 'shaabi': 5699, 'clearance': 5700, 'inhabitant': 5701, 'distinguished': 5702, 'cyclist': 5703, 'countrywide': 5704, 'coutryside': 5705, 'abuser': 5706, 'shotgun': 5707, 'cork': 5708, 'underage': 5709, 'billboard': 5710, 'smoking': 5711, 'boiling': 5712, 'immerse': 5713, 'tar': 5714, 'hemorrhage': 5715, 'daring': 5716, 'mere': 5717, 'mossad': 5718, 'supervise': 5719, 'association': 5720, 'freight': 5721, 'loading': 5722, 'technical': 5723, 'licensing': 5724, 'adhere': 5725, 'foe': 5726, 'honeymoon': 5727, 'inauguration': 5728, 'overall': 5729, 'reshuffle': 5730, 'millon': 5731, 'scrap': 5732, 'drama': 5733, 'morally': 5734, 'unambiguous': 5735, 'hardware': 5736, 'controlled': 5737, 'tentative': 5738, 'grapple': 5739, 'clocktower': 5740, 'oqab': 5741, 'bythewar': 5742, 'havebeen': 5743, 'repatriate': 5744, 'humaniarian': 5745, 'locality': 5746, 'transmission': 5747, 'usher': 5748, 'altitude': 5749, 'somewhat': 5750, 'jihaderotica': 5751, 'notably': 5752, 'devise': 5753, 'heinous': 5754, 'steady': 5755, 'decade': 5756, 'magnificent': 5757, 'sculpture': 5758, 'fagot': 5759, 'rebell': 5760, 'typical': 5761, 'bodyguard': 5762, 'casual': 5763, 'undercover': 5764, 'unprepared': 5765, 'secured': 5766, 'shura': 5767, 'reportadly': 5768, 'barbarian': 5769, 'bay': 5770, 'abductee': 5771, 'reception': 5772, 'scramble': 5773, 'subside': 5774, 'temporarily': 5775, 'indication': 5776, 'homework': 5777, 'usaf': 5778, 'vaccinated': 5779, 'threatened': 5780, 'attacк': 5781, 'qamqam': 5782, 'institute': 5783, 'chant': 5784, 'gaziantep': 5785, 'syndicate': 5786, 'tracer': 5787, 'homegrown': 5788, 'entitle': 5789, 'turbo': 5790, 'addition': 5791, 'chain': 5792, 'brass': 5793, 'underline': 5794, 'beware': 5795, 'fairly': 5796, 'dispute': 5797, 'remote': 5798, 'turret': 5799, 'hav': 5800, 'infantry': 5801, 'postpone': 5802, 'copt': 5803, 'arsal': 5804, 'glad': 5805, 'standard': 5806, 'mobilis': 5807, 'inability': 5808, 'leftright': 5809, 'enemies': 5810, 'url': 5811, 'bishop': 5812, 'dissident': 5813, 'originally': 5814, 'ir': 5815, 'sha': 5816, 'flock': 5817, 'deserted': 5818, 'seemingly': 5819, 'whatsoever': 5820, 'pamphlet': 5821, 'funniest': 5822, 'attar': 5823, 'instate': 5824, 'survival': 5825, 'guerrilla': 5826, 'vessel': 5827, 'volatility': 5828, 'undesirable': 5829, 'ourskirt': 5830, 'shrink': 5831, 'demonstrate': 5832, 'massively': 5833, 'oppression': 5834, 'opposite': 5835, 'abandonment': 5836, 'betrayal': 5837, 'hometown': 5838, 'adhimiyah': 5839, 'incapacitate': 5840, 'label': 5841, 'rojava': 5842, 'brutalize': 5843, 'supervison': 5844, 'exchage': 5845, 'murmur': 5846, 'encouraging': 5847, 'hike': 5848, 'saying': 5849, 'activate': 5850, 'wrap': 5851, 'reclaim': 5852, 'morph': 5853, 'niza': 5854, 'medial': 5855, 'religioius': 5856, 'boroujerdi': 5857, 'evaluation': 5858, 'rehabilitate': 5859, 'burning': 5860, 'opp': 5861, 'refrain': 5862, 'rumfa': 5863, 'personality': 5864, 'inc': 5865, 'unbeliever': 5866, 'sacrificial': 5867, 'sheep': 5868, 'regulation': 5869, 'spiral': 5870, 'iittle': 5871, 'sized': 5872, 'backfire': 5873, 'puts': 5874, 'sniping': 5875, 'printout': 5876, 'tonne': 5877, 'congflict': 5878, 'ruse': 5879, 'college': 5880, 'fovour': 5881, 'establi': 5882, 'malicious': 5883, 'beatiful': 5884, 'somber': 5885, 'persuade': 5886, 'suzki': 5887, 'ccaptur': 5888, 'policestation': 5889, 'sandal': 5890, 'homed': 5891, 'fatah': 5892, 'exceed': 5893, 'sympathiser': 5894, 'lifting': 5895, 'yell': 5896, 'beheads': 5897, 'doll': 5898, 'carpet': 5899, 'atom': 5900, 'excecut': 5901, 'programme': 5902, 'waterfront': 5903, 'char': 5904, 'delve': 5905, 'observational': 5906, 'tone': 5907, 'breaking': 5908, 'readership': 5909, 'reminder': 5910, 'dif': 5911, 'explell': 5912, 'burst': 5913, 'laughter': 5914, 'transparency': 5915, 'mmc': 5916, 'beheader': 5917, 'asian': 5918, 'jaf': 5919, 'concentrated': 5920, 'hawsh_nasri': 5921, 'urgently': 5922, 'salesman': 5923, 'ruaf': 5924, 'unlimited': 5925, 'hire': 5926, 'politicization': 5927, 'delic': 5928, 'advertising': 5929, 'vacation': 5930, 'dangerously': 5931, 'mech': 5932, 'villa': 5933, 'viewpoint': 5934, 'enormous': 5935, 'outdoor': 5936, 'sham': 5937, 'knock': 5938, 'cleansing': 5939, 'comment': 5940, 'abide': 5941, 'fame': 5942, 'stellar': 5943, 'skepticism': 5944, 'aramaic': 5945, 'singing': 5946, 'raqqa': 5947, 'accidental': 5948, 'discharge': 5949, 'premature': 5950, 'potu': 5951, 'dist': 5952, 'grooup': 5953, 'shootout': 5954, 'kil': 5955, 'print': 5956, 'monthly': 5957, 'salary': 5958, 'endowment': 5959, 'symbolize': 5960, 'mr': 5961, 'blessed': 5962, 'install': 5963, 'pontoon': 5964, 'race': 5965, 'hadalat': 5966, 'miner': 5967, 'assessment': 5968, 'intel': 5969, 'frustrate': 5970, 'askari': 5971, 'especially': 5972, 'castello': 5973, 'strategist': 5974, 'hook': 5975, 'endanger': 5976, 'casefire': 5977, 'vigilante': 5978, 'pact': 5979, 'mortally': 5980, 'organizer': 5981, 'alleviate': 5982, 'hurl': 5983, 'livestock': 5984, 'controller': 5985, 'align': 5986, 'tabani': 5987, 'boundary': 5988, 'extension': 5989, 'excruciating': 5990, 'demilitarize': 5991, 'surviving': 5992, 'traumatise': 5993, 'categorically': 5994, 'numerous': 5995, 'colleague': 5996, 'exert': 5997, 'hunting': 5998, 'surveilance': 5999, 'stunt': 6000, 'pollitical': 6001, 'truthful': 6002, 'downed': 6003, 'advancing': 6004, 'preplann': 6005, 'repentant': 6006, 'circle': 6007, 'borderline': 6008, 'disembark': 6009, 'botched': 6010, 'kadrish': 6011, 'slower': 6012, 'preliminary': 6013, 'controversial': 6014, 'daesh': 6015, 'reckless': 6016, 'pole': 6017, 'abdollahian': 6018, 'dzhagaryan': 6019, 'alarm': 6020, 'interim': 6021, 'kindly': 6022, 'onboard': 6023, 'prong': 6024, 'simultaneously': 6025, 'los': 6026, 'levant': 6027, 'portsmouth': 6028, 'appearance': 6029, 'dot': 6030, 'approf': 6031, 'adult': 6032, 'principle': 6033, 'bleak': 6034, 'forgiveness': 6035, 'heartbroken': 6036, 'criminality': 6037, 'tyranny': 6038, 'impending': 6039, 'flagship': 6040, 'burri': 6041, 'predator': 6042, 'outrageous': 6043, 'welding': 6044, 'сapture': 6045, 'сlaim': 6046, 'snuff': 6047, 'qadam': 6048, 'frontpage': 6049, 'posibility': 6050, 'sharing': 6051, 'conjunction': 6052, 'ruling': 6053, 'discretion': 6054, 'fertilizer': 6055, 'greenlight': 6056, 'hurricane': 6057, 'oven': 6058, 'roast': 6059, 'taqla': 6060, 'forthcoming': 6061, 'vid': 6062, 'facilitate': 6063, 'movement': 6064, 'deceive': 6065, 'rebranding': 6066, 'adan': 6067, 'ma': 6068, 'mandate': 6069, 'fossil': 6070, 'overwhelming': 6071, 'officialy': 6072, 'apologise': 6073, 'handedly': 6074, 'letti': 6075, 'sue': 6076, 'semi': 6077, 'apple': 6078, 'hectare': 6079, 'separately': 6080, 'lawful': 6081, 'hasakah': 6082, 'firdous': 6083, 'overthrow': 6084, 'maximum': 6085, 'eskan': 6086, 'firecontrol': 6087, 'apparent': 6088, 'dosier': 6089, 'relinquish': 6090, 'qualifie': 6091, 'industry': 6092, 'famile': 6093, 'enhanced': 6094, 'unconscious': 6095, 'waplane': 6096, 'orchestra': 6097, 'negligent': 6098, 'professional': 6099, 'flat': 6100, 'hauler': 6101, 'loyalist': 6102, 'media': 6103, 'seed': 6104, 'autonomy': 6105, 'negotiable': 6106, 'musical': 6107, 'attached': 6108, 'electrical': 6109, 'grid': 6110, 'telefon': 6111, 'hgk': 6112, 'bmb': 6113, 'secularism': 6114, 'unharmed': 6115, 'anticipated': 6116, 'composition': 6117, 'humvee': 6118, 'endure': 6119, 'stationed': 6120, 'hrs': 6121, 'spree': 6122, 'salvage': 6123, 'scatter': 6124, 'cp': 6125, 'handle': 6126, 'microphone': 6127, 'skill': 6128, 'override': 6129, 'permit': 6130, 'coloring': 6131, 'resitance': 6132, 'particular': 6133, 'everywhere': 6134, 'replenish': 6135, 'prophecy': 6136, 'annouce': 6137, 'himars': 6138, 'specifically': 6139, 'folkloric': 6140, 'rogue': 6141, 'economically': 6142, 'layramoon': 6143, 'standby': 6144, 'beggin': 6145, 'exclusion': 6146, 'unfortunately': 6147, 'gravely': 6148, 'hmeymim': 6149, 'russia': 6150, 'purely': 6151, 'apostasy': 6152, 'notice': 6153, 'firefighter': 6154, 'cylinder': 6155, 'fatal': 6156, 'strive': 6157, 'punitive': 6158, 'undetermined': 6159, 'haul': 6160, 'geting': 6161, 'converted': 6162, 'lord': 6163, 'pressured': 6164, 'arfi': 6165, 'dreamboat': 6166, 'function': 6167, 'burqa': 6168, 'conceal': 6169, 'girlpower': 6170, 'stitching': 6171, 'substation': 6172, 'commission': 6173, 'distinction': 6174, 'innovation': 6175, 'amphibious': 6176, 'narrator': 6177, 'columnist': 6178, 'offend': 6179, 'repost': 6180, 'apc': 6181, 'error': 6182, 'reuter': 6183, 'confer': 6184, 'dub': 6185, 'turkmen': 6186, 'positively': 6187, 'offfensive': 6188, 'killed': 6189, 'pretext': 6190, 'days': 6191, 'believer': 6192, 'chainsaw': 6193}\n"
     ]
    }
   ],
   "source": [
    "print(dictionary.token2id)"
   ]
  },
  {
   "cell_type": "code",
   "execution_count": 70,
   "metadata": {
    "collapsed": true
   },
   "outputs": [],
   "source": [
    "class MyCorpus:\n",
    "    def __iter__(self):\n",
    "        for item in docs:\n",
    "            yield dictionary.doc2bow(item)"
   ]
  },
  {
   "cell_type": "code",
   "execution_count": 71,
   "metadata": {
    "collapsed": true
   },
   "outputs": [],
   "source": [
    "corpus = MyCorpus()"
   ]
  },
  {
   "cell_type": "code",
   "execution_count": 72,
   "metadata": {
    "collapsed": true
   },
   "outputs": [],
   "source": [
    "bigram = gensim.models.Phrases(docs, min_count=5, threshold=100)"
   ]
  },
  {
   "cell_type": "code",
   "execution_count": 73,
   "metadata": {},
   "outputs": [
    {
     "name": "stderr",
     "output_type": "stream",
     "text": [
      "/home/katie/anaconda3/lib/python3.6/site-packages/gensim/models/phrases.py:598: UserWarning: For a faster implementation, use the gensim.models.phrases.Phraser class\n",
      "  warnings.warn(\"For a faster implementation, use the gensim.models.phrases.Phraser class\")\n"
     ]
    }
   ],
   "source": [
    "trigram = gensim.models.Phrases(bigram[docs], threshold=100)  "
   ]
  },
  {
   "cell_type": "markdown",
   "metadata": {},
   "source": [
    "Have not actually used the bigrams and trigrams in this model"
   ]
  },
  {
   "cell_type": "code",
   "execution_count": 75,
   "metadata": {},
   "outputs": [
    {
     "name": "stdout",
     "output_type": "stream",
     "text": [
      "0.6754899980005575\n",
      "0.6704302939997433\n"
     ]
    }
   ],
   "source": [
    "tic1 = timeit.default_timer()\n",
    "bigram_mod = gensim.models.phrases.Phraser(bigram)\n",
    "toc1 = timeit.default_timer()\n",
    "print(toc1 - tic1)\n",
    "\n",
    "tic2 = timeit.default_timer()\n",
    "trigram_mod = gensim.models.phrases.Phraser(trigram)\n",
    "toc2 = timeit.default_timer()\n",
    "\n",
    "print(toc2 - tic2)"
   ]
  },
  {
   "cell_type": "code",
   "execution_count": 76,
   "metadata": {},
   "outputs": [
    {
     "data": {
      "text/plain": [
       "163.91896347000056"
      ]
     },
     "execution_count": 76,
     "metadata": {},
     "output_type": "execute_result"
    }
   ],
   "source": [
    "tic = timeit.default_timer()\n",
    "# Build LDA model from your garbage input\n",
    "# input is no longer garbage!\n",
    "lda_model = gensim.models.ldamodel.LdaModel(corpus=corpus,\n",
    "                                           id2word=dictionary,\n",
    "                                           num_topics=30, \n",
    "                                           random_state=100,\n",
    "                                           update_every=1,\n",
    "                                           chunksize=100,\n",
    "                                           passes=10,\n",
    "                                           alpha='auto',\n",
    "                                           per_word_topics=True)\n",
    "toc = timeit.default_timer()\n",
    "toc - tic"
   ]
  },
  {
   "cell_type": "code",
   "execution_count": 77,
   "metadata": {},
   "outputs": [
    {
     "name": "stdout",
     "output_type": "stream",
     "text": [
      "[(29,\n",
      "  '0.053*\"again\" + 0.051*\"head\" + 0.049*\"front\" + 0.048*\"face\" + '\n",
      "  '0.041*\"building\" + 0.040*\"training\" + 0.030*\"could\" + 0.025*\"responsible\" + '\n",
      "  '0.024*\"old\" + 0.019*\"where\"'),\n",
      " (11,\n",
      "  '0.118*\"rocket\" + 0.095*\"vehicle\" + 0.085*\"seize\" + 0.067*\"start\" + '\n",
      "  '0.045*\"down\" + 0.023*\"burn\" + 0.023*\"past\" + 0.020*\"authority\" + '\n",
      "  '0.020*\"hand\" + 0.019*\"dealer\"'),\n",
      " (16,\n",
      "  '0.091*\"meet\" + 0.079*\"plan\" + 0.068*\"can\" + 0.062*\"begin\" + 0.043*\"least\" + '\n",
      "  '0.030*\"top\" + 0.023*\"centre\" + 0.020*\"reject\" + 0.019*\"unknown\" + '\n",
      "  '0.018*\"thousand\"'),\n",
      " (24,\n",
      "  '0.243*\"more\" + 0.062*\"leave\" + 0.027*\"deploy\" + 0.025*\"sign\" + '\n",
      "  '0.025*\"defense\" + 0.023*\"what\" + 0.022*\"build\" + 0.021*\"know\" + '\n",
      "  '0.021*\"feature\" + 0.019*\"erdogan\"'),\n",
      " (9,\n",
      "  '0.133*\"operation\" + 0.124*\"commander\" + 0.088*\"arrive\" + 0.081*\"base\" + '\n",
      "  '0.048*\"breach\" + 0.040*\"retake\" + 0.027*\"pilot\" + 0.023*\"message\" + '\n",
      "  '0.022*\"territory\" + 0.021*\"as\"'),\n",
      " (5,\n",
      "  '0.224*\"new\" + 0.143*\"fire\" + 0.029*\"round\" + 0.026*\"get\" + 0.020*\"keep\" + '\n",
      "  '0.018*\"main\" + 0.018*\"grow\" + 0.017*\"thwart\" + 0.016*\"involve\" + '\n",
      "  '0.015*\"aggression\"'),\n",
      " (12,\n",
      "  '0.153*\"injure\" + 0.080*\"war\" + 0.065*\"day\" + 0.055*\"still\" + 0.052*\"number\" '\n",
      "  '+ 0.050*\"country\" + 0.049*\"go\" + 0.027*\"massacre\" + 0.024*\"gathering\" + '\n",
      "  '0.024*\"final\"'),\n",
      " (28,\n",
      "  '0.085*\"send\" + 0.052*\"shoot\" + 0.048*\"regime\" + 0.043*\"warplane\" + '\n",
      "  '0.040*\"carry\" + 0.038*\"peace\" + 0.036*\"lose\" + 0.035*\"suspect\" + '\n",
      "  '0.027*\"action\" + 0.024*\"gun\"'),\n",
      " (23,\n",
      "  '0.148*\"show\" + 0.068*\"make\" + 0.063*\"also\" + 0.047*\"help\" + 0.041*\"assault\" '\n",
      "  '+ 0.035*\"batch\" + 0.035*\"week\" + 0.034*\"car\" + 0.033*\"place\" + '\n",
      "  '0.026*\"site\"'),\n",
      " (4,\n",
      "  '0.157*\"target\" + 0.093*\"hit\" + 0.081*\"shell\" + 0.078*\"family\" + 0.059*\"map\" '\n",
      "  '+ 0.043*\"set\" + 0.037*\"give\" + 0.037*\"full\" + 0.037*\"exchange\" + '\n",
      "  '0.025*\"escape\"'),\n",
      " (10,\n",
      "  '0.236*\"pron\" + 0.198*\"have\" + 0.115*\"aid\" + 0.063*\"convoy\" + '\n",
      "  '0.045*\"humanitarian\" + 0.029*\"arm\" + 0.023*\"deliver\" + 0.020*\"celebrate\" + '\n",
      "  '0.018*\"photo\" + 0.017*\"fighting\"'),\n",
      " (3,\n",
      "  '0.255*\"terrorist\" + 0.125*\"militant\" + 0.090*\"fight\" + 0.060*\"who\" + '\n",
      "  '0.043*\"arrest\" + 0.042*\"fierce\" + 0.031*\"die\" + 0.024*\"ongoing\" + '\n",
      "  '0.021*\"side\" + 0.021*\"mass\"'),\n",
      " (0,\n",
      "  '0.118*\"claim\" + 0.064*\"countryside\" + 0.055*\"leader\" + 0.051*\"northern\" + '\n",
      "  '0.049*\"break\" + 0.048*\"official\" + 0.037*\"weather\" + 0.030*\"announce\" + '\n",
      "  '0.029*\"allegedly\" + 0.028*\"enter\"'),\n",
      " (2,\n",
      "  '0.202*\"force\" + 0.119*\"iraqi\" + 0.058*\"neighborhood\" + 0.056*\"east\" + '\n",
      "  '0.046*\"year\" + 0.040*\"lead\" + 0.037*\"last\" + 0.032*\"death\" + '\n",
      "  '0.028*\"recapture\" + 0.021*\"american\"'),\n",
      " (22,\n",
      "  '0.402*\"kill\" + 0.055*\"release\" + 0.038*\"suicide\" + 0.035*\"try\" + '\n",
      "  '0.032*\"open\" + 0.031*\"find\" + 0.028*\"bomber\" + 0.025*\"unit\" + 0.020*\"which\" '\n",
      "  '+ 0.020*\"confirm\"'),\n",
      " (27,\n",
      "  '0.146*\"clash\" + 0.135*\"take\" + 0.065*\"back\" + 0.065*\"support\" + '\n",
      "  '0.058*\"advance\" + 0.057*\"bomb\" + 0.053*\"troop\" + 0.040*\"now\" + '\n",
      "  '0.028*\"british\" + 0.024*\"see\"'),\n",
      " (13,\n",
      "  '0.233*\"attack\" + 0.100*\"destroy\" + 0.099*\"civilian\" + 0.031*\"drone\" + '\n",
      "  '0.030*\"prepare\" + 0.026*\"aircraft\" + 0.023*\"cessation\" + 0.023*\"hostility\" '\n",
      "  '+ 0.018*\"demand\" + 0.017*\"may\"'),\n",
      " (6,\n",
      "  '0.196*\"capture\" + 0.141*\"village\" + 0.089*\"fighter\" + 0.057*\"hold\" + '\n",
      "  '0.052*\"kurdish\" + 0.040*\"fsa\" + 0.037*\"amp\" + 0.033*\"field\" + '\n",
      "  '0.031*\"coalition\" + 0.028*\"man\"'),\n",
      " (21,\n",
      "  '0.631*\"be\" + 0.064*\"soldier\" + 0.049*\"battle\" + 0.035*\"liberate\" + '\n",
      "  '0.024*\"hom\" + 0.022*\"conduct\" + 0.011*\"right\" + 0.011*\"observe\" + '\n",
      "  '0.008*\"propaganda\" + 0.007*\"evacuation\"'),\n",
      " (14,\n",
      "  '0.158*\"syrian\" + 0.105*\"turkish\" + 0.087*\"rebel\" + 0.070*\"city\" + '\n",
      "  '0.065*\"military\" + 0.042*\"town\" + 0.033*\"video\" + 0.030*\"child\" + '\n",
      "  '0.027*\"tank\" + 0.026*\"member\"')]\n"
     ]
    }
   ],
   "source": [
    "# Print the Keyword in the 10 topics\n",
    "pprint(lda_model.print_topics())\n"
   ]
  },
  {
   "cell_type": "code",
   "execution_count": 282,
   "metadata": {
    "collapsed": true
   },
   "outputs": [],
   "source": [
    "# convert corpus to mm format\n",
    "corpora.MmCorpus.serialize('/mnt/storage/TopicModels/tweetcorpus.mm', corpus)"
   ]
  },
  {
   "cell_type": "code",
   "execution_count": 78,
   "metadata": {
    "collapsed": true
   },
   "outputs": [],
   "source": [
    "corpus_file = '/mnt/storage/TopicModels/tweetcorpus.mm'\n",
    "loaded_corpus = corpora.MmCorpus(corpus_file)"
   ]
  },
  {
   "cell_type": "code",
   "execution_count": 79,
   "metadata": {},
   "outputs": [
    {
     "name": "stderr",
     "output_type": "stream",
     "text": [
      "/home/katie/anaconda3/lib/python3.6/site-packages/pyLDAvis/_prepare.py:387: DeprecationWarning: \n",
      ".ix is deprecated. Please use\n",
      ".loc for label based indexing or\n",
      ".iloc for positional indexing\n",
      "\n",
      "See the documentation here:\n",
      "http://pandas.pydata.org/pandas-docs/stable/indexing.html#ix-indexer-is-deprecated\n",
      "  topic_term_dists = topic_term_dists.ix[topic_order]\n"
     ]
    },
    {
     "data": {
      "text/html": [
       "\n",
       "<link rel=\"stylesheet\" type=\"text/css\" href=\"https://cdn.rawgit.com/bmabey/pyLDAvis/files/ldavis.v1.0.0.css\">\n",
       "\n",
       "\n",
       "<div id=\"ldavis_el83121401690058255041160007855\"></div>\n",
       "<script type=\"text/javascript\">\n",
       "\n",
       "var ldavis_el83121401690058255041160007855_data = {\"mdsDat\": {\"Freq\": [8.041822724303524, 6.853078240443257, 4.7638863946322605, 4.522020363910123, 4.013026266603342, 3.9799941240168732, 3.9797791071521433, 3.941050449281849, 3.940098634663857, 3.857890619793871, 3.588212296118499, 3.2483502072454193, 3.0393787416271585, 2.86419612099063, 2.859544386661535, 2.807644360816948, 2.789150190709899, 2.7849086588997745, 2.748110833780293, 2.72791609951446, 2.7061939669986974, 2.4456310379476554, 2.388100059151938, 2.3751493587280197, 2.3601553859868356, 2.302973675831331, 2.1479560143837473, 2.1224561498630834, 2.046083803424374, 1.7552417265186016], \"cluster\": [1, 1, 1, 1, 1, 1, 1, 1, 1, 1, 1, 1, 1, 1, 1, 1, 1, 1, 1, 1, 1, 1, 1, 1, 1, 1, 1, 1, 1, 1], \"topics\": [1, 2, 3, 4, 5, 6, 7, 8, 9, 10, 11, 12, 13, 14, 15, 16, 17, 18, 19, 20, 21, 22, 23, 24, 25, 26, 27, 28, 29, 30], \"x\": [-0.3009262319842817, -0.17681404076141333, -0.1341185776224395, -0.09207347919207298, -0.060138160603815105, -0.03767986696831488, -0.05440780230085663, -0.06884771923680984, -0.0562409108950593, -0.01999770743715422, -0.045805849158228384, 0.013563849455586436, 0.005967881576571385, 0.03854851880995605, 0.03268372991509177, 0.040304973327915765, 0.0523265066033927, 0.042214630774721956, 0.042031552514942234, 0.03762365416567347, 0.03245050824479075, 0.06207350219529892, 0.08688876057624602, 0.06347400885536153, 0.07323800135440862, 0.06022791012035309, 0.09152487246415851, 0.08924077238602322, 0.07983339815578437, 0.10283331466416855], \"y\": [0.3479723160687676, -0.24715525802638555, -0.1374662454217242, -0.06828156809189445, -0.044488924151939974, -0.030999855915171043, -0.04080449747548776, -0.05837762471182929, -0.03496816936634695, -0.014521586661220465, -0.0163632414486302, 0.0033515392721586725, 0.003407855454168504, 0.009287465336631617, 0.008437994665555202, 0.016298778455165745, 0.019332472903525206, 0.01630842646247005, 0.010806003857143464, 0.014098531536697623, 0.015480392046722613, 0.016742529528748825, 0.02591712878897682, 0.017520110792153123, 0.023069370723267514, 0.022385428792093594, 0.027994896803315863, 0.029853243573790506, 0.030930947571551418, 0.034231538637724]}, \"tinfo\": {\"Category\": [\"Default\", \"Default\", \"Default\", \"Default\", \"Default\", \"Default\", \"Default\", \"Default\", \"Default\", \"Default\", \"Default\", \"Default\", \"Default\", \"Default\", \"Default\", \"Default\", \"Default\", \"Default\", \"Default\", \"Default\", \"Default\", \"Default\", \"Default\", \"Default\", \"Default\", \"Default\", \"Default\", \"Default\", \"Default\", \"Default\", \"Topic1\", \"Topic1\", \"Topic1\", \"Topic1\", \"Topic1\", \"Topic1\", \"Topic1\", \"Topic1\", \"Topic1\", \"Topic1\", \"Topic1\", \"Topic1\", \"Topic1\", \"Topic1\", \"Topic1\", \"Topic1\", \"Topic1\", \"Topic1\", \"Topic1\", \"Topic1\", \"Topic1\", \"Topic1\", \"Topic1\", \"Topic1\", \"Topic1\", \"Topic1\", \"Topic1\", \"Topic1\", \"Topic1\", \"Topic1\", \"Topic2\", \"Topic2\", \"Topic2\", \"Topic2\", \"Topic2\", \"Topic2\", \"Topic2\", \"Topic2\", \"Topic2\", \"Topic2\", \"Topic2\", \"Topic2\", \"Topic2\", \"Topic2\", \"Topic2\", \"Topic2\", \"Topic2\", \"Topic2\", \"Topic2\", \"Topic2\", \"Topic2\", \"Topic2\", \"Topic2\", \"Topic2\", \"Topic2\", \"Topic2\", \"Topic2\", \"Topic2\", \"Topic2\", \"Topic2\", \"Topic3\", \"Topic3\", \"Topic3\", \"Topic3\", \"Topic3\", \"Topic3\", \"Topic3\", \"Topic3\", \"Topic3\", \"Topic3\", \"Topic3\", \"Topic3\", \"Topic3\", \"Topic3\", \"Topic3\", \"Topic3\", \"Topic3\", \"Topic3\", \"Topic3\", \"Topic3\", \"Topic3\", \"Topic3\", \"Topic3\", \"Topic3\", \"Topic3\", \"Topic3\", \"Topic3\", \"Topic3\", \"Topic3\", \"Topic3\", \"Topic4\", \"Topic4\", \"Topic4\", \"Topic4\", \"Topic4\", \"Topic4\", \"Topic4\", \"Topic4\", \"Topic4\", \"Topic4\", \"Topic4\", \"Topic4\", \"Topic4\", \"Topic4\", \"Topic4\", \"Topic4\", \"Topic4\", \"Topic4\", \"Topic4\", \"Topic4\", \"Topic4\", \"Topic4\", \"Topic4\", \"Topic4\", \"Topic4\", \"Topic4\", \"Topic4\", \"Topic4\", \"Topic4\", \"Topic4\", \"Topic5\", \"Topic5\", \"Topic5\", \"Topic5\", \"Topic5\", \"Topic5\", \"Topic5\", \"Topic5\", \"Topic5\", \"Topic5\", \"Topic5\", \"Topic5\", \"Topic5\", \"Topic5\", \"Topic5\", \"Topic5\", \"Topic5\", \"Topic5\", \"Topic5\", \"Topic5\", \"Topic5\", \"Topic5\", \"Topic5\", \"Topic5\", \"Topic5\", \"Topic5\", \"Topic5\", \"Topic5\", \"Topic5\", \"Topic5\", \"Topic6\", \"Topic6\", \"Topic6\", \"Topic6\", \"Topic6\", \"Topic6\", \"Topic6\", \"Topic6\", \"Topic6\", \"Topic6\", \"Topic6\", \"Topic6\", \"Topic6\", \"Topic6\", \"Topic6\", \"Topic6\", \"Topic6\", \"Topic6\", \"Topic6\", \"Topic6\", \"Topic6\", \"Topic6\", \"Topic6\", \"Topic6\", \"Topic6\", \"Topic6\", \"Topic6\", \"Topic6\", \"Topic6\", \"Topic6\", \"Topic7\", \"Topic7\", \"Topic7\", \"Topic7\", \"Topic7\", \"Topic7\", \"Topic7\", \"Topic7\", \"Topic7\", \"Topic7\", \"Topic7\", \"Topic7\", \"Topic7\", \"Topic7\", \"Topic7\", \"Topic7\", \"Topic7\", \"Topic7\", \"Topic7\", \"Topic7\", \"Topic7\", \"Topic7\", \"Topic7\", \"Topic7\", \"Topic7\", \"Topic7\", \"Topic7\", \"Topic7\", \"Topic7\", \"Topic7\", \"Topic8\", \"Topic8\", \"Topic8\", \"Topic8\", \"Topic8\", \"Topic8\", \"Topic8\", \"Topic8\", \"Topic8\", \"Topic8\", \"Topic8\", \"Topic8\", \"Topic8\", \"Topic8\", \"Topic8\", \"Topic8\", \"Topic8\", \"Topic8\", \"Topic8\", \"Topic8\", \"Topic8\", \"Topic8\", \"Topic8\", \"Topic8\", \"Topic8\", \"Topic8\", \"Topic8\", \"Topic8\", \"Topic8\", \"Topic8\", \"Topic9\", \"Topic9\", \"Topic9\", \"Topic9\", \"Topic9\", \"Topic9\", \"Topic9\", \"Topic9\", \"Topic9\", \"Topic9\", \"Topic9\", \"Topic9\", \"Topic9\", \"Topic9\", \"Topic9\", \"Topic9\", \"Topic9\", \"Topic9\", \"Topic9\", \"Topic9\", \"Topic9\", \"Topic9\", \"Topic9\", \"Topic9\", \"Topic9\", \"Topic9\", \"Topic9\", \"Topic9\", \"Topic9\", \"Topic9\", \"Topic10\", \"Topic10\", \"Topic10\", \"Topic10\", \"Topic10\", \"Topic10\", \"Topic10\", \"Topic10\", \"Topic10\", \"Topic10\", \"Topic10\", \"Topic10\", \"Topic10\", \"Topic10\", \"Topic10\", \"Topic10\", \"Topic10\", \"Topic10\", \"Topic10\", \"Topic10\", \"Topic10\", \"Topic10\", \"Topic10\", \"Topic10\", \"Topic10\", \"Topic10\", \"Topic10\", \"Topic10\", \"Topic10\", \"Topic10\", \"Topic11\", \"Topic11\", \"Topic11\", \"Topic11\", \"Topic11\", \"Topic11\", \"Topic11\", \"Topic11\", \"Topic11\", \"Topic11\", \"Topic11\", \"Topic11\", \"Topic11\", \"Topic11\", \"Topic11\", \"Topic11\", \"Topic11\", \"Topic11\", \"Topic11\", \"Topic11\", \"Topic11\", \"Topic11\", \"Topic11\", \"Topic11\", \"Topic11\", \"Topic11\", \"Topic11\", \"Topic11\", \"Topic11\", \"Topic11\", \"Topic12\", \"Topic12\", \"Topic12\", \"Topic12\", \"Topic12\", \"Topic12\", \"Topic12\", \"Topic12\", \"Topic12\", \"Topic12\", \"Topic12\", \"Topic12\", \"Topic12\", \"Topic12\", \"Topic12\", \"Topic12\", \"Topic12\", \"Topic12\", \"Topic12\", \"Topic12\", \"Topic12\", \"Topic12\", \"Topic12\", \"Topic12\", \"Topic12\", \"Topic12\", \"Topic12\", \"Topic12\", \"Topic12\", \"Topic12\", \"Topic13\", \"Topic13\", \"Topic13\", \"Topic13\", \"Topic13\", \"Topic13\", \"Topic13\", \"Topic13\", \"Topic13\", \"Topic13\", \"Topic13\", \"Topic13\", \"Topic13\", \"Topic13\", \"Topic13\", \"Topic13\", \"Topic13\", \"Topic13\", \"Topic13\", \"Topic13\", \"Topic13\", \"Topic13\", \"Topic13\", \"Topic13\", \"Topic13\", \"Topic13\", \"Topic13\", \"Topic13\", \"Topic13\", \"Topic13\", \"Topic14\", \"Topic14\", \"Topic14\", \"Topic14\", \"Topic14\", \"Topic14\", \"Topic14\", \"Topic14\", \"Topic14\", \"Topic14\", \"Topic14\", \"Topic14\", \"Topic14\", \"Topic14\", \"Topic14\", \"Topic14\", \"Topic14\", \"Topic14\", \"Topic14\", \"Topic14\", \"Topic14\", \"Topic14\", \"Topic14\", \"Topic14\", \"Topic14\", \"Topic14\", \"Topic14\", \"Topic14\", \"Topic14\", \"Topic14\", \"Topic15\", \"Topic15\", \"Topic15\", \"Topic15\", \"Topic15\", \"Topic15\", \"Topic15\", \"Topic15\", \"Topic15\", \"Topic15\", \"Topic15\", \"Topic15\", \"Topic15\", \"Topic15\", \"Topic15\", \"Topic15\", \"Topic15\", \"Topic15\", \"Topic15\", \"Topic15\", \"Topic15\", \"Topic15\", \"Topic15\", \"Topic15\", \"Topic15\", \"Topic15\", \"Topic15\", \"Topic15\", \"Topic15\", \"Topic15\", \"Topic16\", \"Topic16\", \"Topic16\", \"Topic16\", \"Topic16\", \"Topic16\", \"Topic16\", \"Topic16\", \"Topic16\", \"Topic16\", \"Topic16\", \"Topic16\", \"Topic16\", \"Topic16\", \"Topic16\", \"Topic16\", \"Topic16\", \"Topic16\", \"Topic16\", \"Topic16\", \"Topic16\", \"Topic16\", \"Topic16\", \"Topic16\", \"Topic16\", \"Topic16\", \"Topic16\", \"Topic16\", \"Topic16\", \"Topic16\", \"Topic17\", \"Topic17\", \"Topic17\", \"Topic17\", \"Topic17\", \"Topic17\", \"Topic17\", \"Topic17\", \"Topic17\", \"Topic17\", \"Topic17\", \"Topic17\", \"Topic17\", \"Topic17\", \"Topic17\", \"Topic17\", \"Topic17\", \"Topic17\", \"Topic17\", \"Topic17\", \"Topic17\", \"Topic17\", \"Topic17\", \"Topic17\", \"Topic17\", \"Topic17\", \"Topic17\", \"Topic17\", \"Topic17\", \"Topic17\", \"Topic18\", \"Topic18\", \"Topic18\", \"Topic18\", \"Topic18\", \"Topic18\", \"Topic18\", \"Topic18\", \"Topic18\", \"Topic18\", \"Topic18\", \"Topic18\", \"Topic18\", \"Topic18\", \"Topic18\", \"Topic18\", \"Topic18\", \"Topic18\", \"Topic18\", \"Topic18\", \"Topic18\", \"Topic18\", \"Topic18\", \"Topic18\", \"Topic18\", \"Topic18\", \"Topic18\", \"Topic18\", \"Topic18\", \"Topic18\", \"Topic19\", \"Topic19\", \"Topic19\", \"Topic19\", \"Topic19\", \"Topic19\", \"Topic19\", \"Topic19\", \"Topic19\", \"Topic19\", \"Topic19\", \"Topic19\", \"Topic19\", \"Topic19\", \"Topic19\", \"Topic19\", \"Topic19\", \"Topic19\", \"Topic19\", \"Topic19\", \"Topic19\", \"Topic19\", \"Topic19\", \"Topic19\", \"Topic19\", \"Topic19\", \"Topic19\", \"Topic19\", \"Topic19\", \"Topic19\", \"Topic19\", \"Topic20\", \"Topic20\", \"Topic20\", \"Topic20\", \"Topic20\", \"Topic20\", \"Topic20\", \"Topic20\", \"Topic20\", \"Topic20\", \"Topic20\", \"Topic20\", \"Topic20\", \"Topic20\", \"Topic20\", \"Topic20\", \"Topic20\", \"Topic20\", \"Topic20\", \"Topic20\", \"Topic20\", \"Topic20\", \"Topic20\", \"Topic20\", \"Topic20\", \"Topic20\", \"Topic20\", \"Topic20\", \"Topic20\", \"Topic20\", \"Topic21\", \"Topic21\", \"Topic21\", \"Topic21\", \"Topic21\", \"Topic21\", \"Topic21\", \"Topic21\", \"Topic21\", \"Topic21\", \"Topic21\", \"Topic21\", \"Topic21\", \"Topic21\", \"Topic21\", \"Topic21\", \"Topic21\", \"Topic21\", \"Topic21\", \"Topic21\", \"Topic21\", \"Topic21\", \"Topic21\", \"Topic21\", \"Topic21\", \"Topic21\", \"Topic21\", \"Topic21\", \"Topic21\", \"Topic21\", \"Topic22\", \"Topic22\", \"Topic22\", \"Topic22\", \"Topic22\", \"Topic22\", \"Topic22\", \"Topic22\", \"Topic22\", \"Topic22\", \"Topic22\", \"Topic22\", \"Topic22\", \"Topic22\", \"Topic22\", \"Topic22\", \"Topic22\", \"Topic22\", \"Topic22\", \"Topic22\", \"Topic22\", \"Topic22\", \"Topic22\", \"Topic22\", \"Topic22\", \"Topic22\", \"Topic22\", \"Topic22\", \"Topic22\", \"Topic22\", \"Topic23\", \"Topic23\", \"Topic23\", \"Topic23\", \"Topic23\", \"Topic23\", \"Topic23\", \"Topic23\", \"Topic23\", \"Topic23\", \"Topic23\", \"Topic23\", \"Topic23\", \"Topic23\", \"Topic23\", \"Topic23\", \"Topic23\", \"Topic23\", \"Topic23\", \"Topic23\", \"Topic23\", \"Topic23\", \"Topic23\", \"Topic23\", \"Topic23\", \"Topic23\", \"Topic23\", \"Topic23\", \"Topic23\", \"Topic23\", \"Topic24\", \"Topic24\", \"Topic24\", \"Topic24\", \"Topic24\", \"Topic24\", \"Topic24\", \"Topic24\", \"Topic24\", \"Topic24\", \"Topic24\", \"Topic24\", \"Topic24\", \"Topic24\", \"Topic24\", \"Topic24\", \"Topic24\", \"Topic24\", \"Topic24\", \"Topic24\", \"Topic24\", \"Topic24\", \"Topic24\", \"Topic24\", \"Topic24\", \"Topic24\", \"Topic24\", \"Topic24\", \"Topic24\", \"Topic24\", \"Topic25\", \"Topic25\", \"Topic25\", \"Topic25\", \"Topic25\", \"Topic25\", \"Topic25\", \"Topic25\", \"Topic25\", \"Topic25\", \"Topic25\", \"Topic25\", \"Topic25\", \"Topic25\", \"Topic25\", \"Topic25\", \"Topic25\", \"Topic25\", \"Topic25\", \"Topic25\", \"Topic25\", \"Topic25\", \"Topic25\", \"Topic25\", \"Topic25\", \"Topic25\", \"Topic25\", \"Topic25\", \"Topic25\", \"Topic25\", \"Topic26\", \"Topic26\", \"Topic26\", \"Topic26\", \"Topic26\", \"Topic26\", \"Topic26\", \"Topic26\", \"Topic26\", \"Topic26\", \"Topic26\", \"Topic26\", \"Topic26\", \"Topic26\", \"Topic26\", \"Topic26\", \"Topic26\", \"Topic26\", \"Topic26\", \"Topic26\", \"Topic26\", \"Topic26\", \"Topic26\", \"Topic26\", \"Topic26\", \"Topic26\", \"Topic26\", \"Topic26\", \"Topic26\", \"Topic26\", \"Topic27\", \"Topic27\", \"Topic27\", \"Topic27\", \"Topic27\", \"Topic27\", \"Topic27\", \"Topic27\", \"Topic27\", \"Topic27\", \"Topic27\", \"Topic27\", \"Topic27\", \"Topic27\", \"Topic27\", \"Topic27\", \"Topic27\", \"Topic27\", \"Topic27\", \"Topic27\", \"Topic27\", \"Topic27\", \"Topic27\", \"Topic27\", \"Topic27\", \"Topic27\", \"Topic27\", \"Topic27\", \"Topic27\", \"Topic27\", \"Topic27\", \"Topic28\", \"Topic28\", \"Topic28\", \"Topic28\", \"Topic28\", \"Topic28\", \"Topic28\", \"Topic28\", \"Topic28\", \"Topic28\", \"Topic28\", \"Topic28\", \"Topic28\", \"Topic28\", \"Topic28\", \"Topic28\", \"Topic28\", \"Topic28\", \"Topic28\", \"Topic28\", \"Topic28\", \"Topic28\", \"Topic28\", \"Topic28\", \"Topic28\", \"Topic28\", \"Topic28\", \"Topic28\", \"Topic28\", \"Topic28\", \"Topic29\", \"Topic29\", \"Topic29\", \"Topic29\", \"Topic29\", \"Topic29\", \"Topic29\", \"Topic29\", \"Topic29\", \"Topic29\", \"Topic29\", \"Topic29\", \"Topic29\", \"Topic29\", \"Topic29\", \"Topic29\", \"Topic29\", \"Topic29\", \"Topic29\", \"Topic29\", \"Topic29\", \"Topic29\", \"Topic29\", \"Topic29\", \"Topic29\", \"Topic29\", \"Topic29\", \"Topic29\", \"Topic29\", \"Topic29\", \"Topic30\", \"Topic30\", \"Topic30\", \"Topic30\", \"Topic30\", \"Topic30\", \"Topic30\", \"Topic30\", \"Topic30\", \"Topic30\", \"Topic30\", \"Topic30\", \"Topic30\", \"Topic30\", \"Topic30\", \"Topic30\", \"Topic30\", \"Topic30\", \"Topic30\", \"Topic30\", \"Topic30\", \"Topic30\", \"Topic30\", \"Topic30\", \"Topic30\", \"Topic30\", \"Topic30\", \"Topic30\", \"Topic30\", \"Topic30\", \"Topic30\"], \"Freq\": [3273.0, 1212.0, 797.0, 745.0, 961.0, 703.0, 708.0, 609.0, 590.0, 637.0, 439.0, 509.0, 405.0, 390.0, 443.0, 531.0, 411.0, 353.0, 366.0, 331.0, 322.0, 348.0, 358.0, 319.0, 333.0, 352.0, 331.0, 344.0, 427.0, 343.0, 960.9052277077502, 637.5469291908656, 531.204616990693, 426.9272273950673, 397.9689182475882, 255.4162807301115, 202.49884609310942, 183.79160521463052, 167.11833147081032, 158.9393747323311, 134.43019435479346, 121.99794471466589, 116.3189539921634, 104.52844639371955, 93.4142647868346, 93.01930474026014, 92.36990320410406, 90.84324292761433, 86.90565613232648, 65.70881875333343, 60.68873164895272, 59.505977571721694, 57.64932404892302, 48.501631187940305, 43.59980418363275, 38.69853562507318, 34.146910799751616, 32.52564924660333, 31.91219234031751, 30.383071500836653, 3273.285126814705, 330.2585100445824, 255.38260553620108, 179.11654317456933, 126.76085575596883, 113.0934471136097, 57.638559753768206, 55.46870042652314, 41.95003710907754, 36.67905976172731, 34.61140939763377, 30.25263798747417, 24.279928830385508, 23.159377011938297, 22.65227947686586, 19.540724353822938, 19.281889998686257, 17.16091873317079, 16.773137057315992, 16.336160523742002, 16.263329088382626, 14.120944912222507, 13.205291747652604, 13.164850238503002, 12.874030589662524, 12.524540435313632, 11.958015067624581, 11.489277901976976, 11.465844244518896, 10.359430406616337, 708.2977842378438, 509.19656475618416, 319.9629496386445, 203.89163849964334, 189.30637471808652, 143.05882230439275, 134.7521101980901, 120.03837520899458, 110.9839628242879, 100.83387764024577, 66.70192718999016, 59.17193994055927, 57.976182387886666, 39.34934177333179, 35.71412247307769, 34.150351938964825, 34.12512923770435, 33.52433524103594, 32.37929513333463, 31.91178178604314, 30.110582005204858, 28.778188612934407, 24.56973052939293, 24.256883390769435, 24.102737757160742, 23.908302972510683, 23.39117714279313, 22.869124322030423, 21.66393260586372, 20.347072501653148, 797.435490443001, 342.6063026570012, 338.8746210369757, 107.3646802500231, 102.1832216004893, 87.67688824939096, 78.73147871215257, 78.64085569268542, 61.3012538598856, 58.466646404421525, 55.902728435234685, 55.53247668560843, 51.451530135669366, 49.03864203084039, 47.80837062151683, 47.74562694860707, 47.61711415969057, 46.84634347733734, 37.37138256911428, 36.80552269293325, 36.51298243006318, 34.95562204676121, 34.86906376907344, 33.836552408423145, 31.71024932125336, 29.466400277889484, 29.097889194154632, 28.057512956665335, 27.220676671257937, 25.764370550640475, 442.78645035394544, 410.73918558370275, 198.74815421584816, 197.66495883943264, 175.65140857271123, 173.05586349809042, 161.7107623902498, 122.75680869236022, 85.12077702996012, 71.88739464289175, 66.50040565162327, 53.51475288538551, 47.69080666359687, 35.558067273734565, 34.04385879705361, 33.69496862344416, 33.32421163272911, 30.548503676327446, 30.473968639887175, 29.36796715495979, 24.577476302919123, 23.9989435264317, 22.85553447833053, 21.96310154771268, 20.6050205608187, 19.02729674657525, 17.993272709439733, 17.30530965493093, 16.436276962931316, 15.801539478380791, 609.3868782745055, 358.51450215451194, 174.618419570418, 168.71800906308496, 137.87806818084482, 121.91288267712422, 112.25431268399203, 96.07712435350057, 83.37978357617887, 64.64085046305516, 63.47546904995238, 62.50500251276237, 60.05509542229794, 58.52738210932522, 49.34793693338933, 45.99982373240954, 40.82026941409155, 36.32587738940832, 35.17649243079521, 29.645206915126455, 26.333598515569303, 25.60450980638716, 23.960267330994593, 23.608463180159056, 23.120561497563056, 22.2295861997507, 18.163136510884044, 17.504823905551604, 16.63149212744298, 15.420381505947782, 1212.0365089074496, 165.15960708093988, 115.10547981530956, 105.48150466911918, 97.26013600750912, 92.9365905202437, 85.3742760922245, 76.75284652249934, 60.324788892034874, 59.995561990668506, 48.70344402151946, 45.73050321731805, 43.354362628576304, 39.10583452380478, 38.73282667332539, 34.09195628329252, 31.25575659264993, 26.44790750327312, 26.266305226207002, 25.961468724138207, 25.427048785635076, 24.904407392657227, 20.034206083840626, 19.379070082461773, 18.555800814925348, 15.516290746518914, 14.363240441660604, 14.36121889757986, 14.184972800458418, 13.8205701903616, 352.2790755283755, 191.06141447430988, 163.08116605901455, 151.01253306393969, 144.9893692562634, 141.74675385284044, 109.50776718278789, 89.8484589865194, 86.07426537442366, 84.22161854385867, 82.17771447381153, 81.81417123709237, 70.96714954296567, 67.67619470301955, 66.3642616178148, 64.37851601916113, 63.4575216669463, 52.138124931949775, 47.05180930019225, 44.20572008848139, 44.166680117071614, 42.355501621378934, 35.93914853791562, 35.131281470301225, 34.391803119239405, 28.74288790803189, 27.105223483547, 26.481017378862582, 26.198427000089133, 26.164627181414307, 703.0673693684873, 589.8876287177559, 343.9682649437526, 187.6452717789009, 135.26197785140383, 87.64846569257925, 69.78410488606872, 59.148725041524436, 54.16891556397085, 50.779011120426496, 38.265365225354714, 34.03304161370985, 31.507825775405266, 29.07728768382073, 27.15751886912986, 26.460560764423978, 23.562272826278303, 18.775934118592648, 17.463703993496008, 15.747630945318893, 13.723848275859433, 12.657911125525352, 12.423945924496618, 12.267682086867916, 12.345936227864396, 10.923295722319686, 10.056486978886511, 10.032319625703167, 9.754941938915296, 9.296123339424383, 745.0735134661003, 365.95631527942635, 262.30912945105064, 175.58313007717152, 124.6915977400698, 122.52123572606544, 90.84327930441859, 70.3061464723455, 60.300483303254616, 60.23552856050611, 56.073790451214165, 52.684551955182705, 47.740337932638596, 44.91321552834168, 36.30915179276145, 33.93893740051574, 30.672196880309162, 28.173987755890913, 26.551549812531515, 22.04667648425062, 21.90029848827115, 19.702243266383654, 19.261359074234587, 15.87226880839657, 15.387660788912063, 13.343880560557439, 12.428326571434672, 9.978202505823145, 9.408138419909013, 8.85174686945241, 347.8863505941747, 249.92092525077618, 228.11366780427315, 164.8723014557965, 156.45766120232287, 133.6333949943016, 132.5411227071765, 125.77531829271773, 91.38724344733218, 75.58269233514292, 66.01035678771284, 56.56997526094378, 52.7754965180465, 47.56282447054155, 42.38839384265879, 34.73264984370386, 33.5656477969003, 31.402959799056514, 31.01124390938015, 29.433558309717906, 25.007715423754785, 24.73854561403859, 22.422563077181398, 21.401491623335797, 21.073975632308755, 19.929180524855166, 19.74967580202847, 18.746988916358056, 17.783469319171495, 15.719880910729675, 332.58202640512104, 330.82074340724455, 253.96005794189188, 129.62614891802394, 127.6335482126166, 119.04629511744768, 105.41231841187228, 87.48531516306228, 73.06369305259479, 51.68572585384668, 45.18144511162373, 41.6827556248475, 37.32072171109744, 37.15233804760918, 34.047849128613834, 30.966808471215675, 30.135186411625796, 27.766914280402887, 24.84742822935042, 23.657892124590006, 23.107956076620127, 20.504683768421252, 20.27298132527671, 19.053278971284055, 15.013201208430852, 14.289928025946756, 12.611435322936073, 12.528985106871662, 12.415631231648813, 11.738850370955447, 275.19347435819617, 145.00410500974633, 108.85504021395306, 92.9822315921449, 89.82404918382609, 84.89330936427383, 70.96612949812331, 64.89354307336943, 62.373056893675276, 56.89216147574604, 56.04190698013872, 55.04875559438704, 47.10129460232376, 46.5126120413029, 46.40113669622028, 41.46697701947227, 39.08024239752179, 38.90291980204726, 38.20623746509885, 36.02220437886509, 34.85296677458245, 34.3966258301807, 34.35830243046514, 30.069032253398262, 26.385715344744337, 25.757335869933673, 25.440615523914193, 23.052335966476168, 22.355501493023443, 21.079931186057806, 352.5917253536779, 331.3240657939352, 287.7606022692784, 195.05538685053853, 87.48792291743338, 48.28399295089768, 46.65711669773653, 38.67055360400005, 37.597036345891865, 33.30720170921386, 23.72801714990956, 23.708212212588442, 20.795339670471634, 20.680881752223982, 19.42782571026255, 19.132387253956175, 18.540833888039735, 16.17343410701304, 14.181159991098996, 16.072903049766992, 12.635880160471403, 12.063014069477305, 11.926976281210196, 10.7179785515866, 9.777379319494186, 9.401628692299468, 9.200958314944435, 9.08777051349684, 8.643126651032757, 8.194247887998046, 286.94253421336737, 192.36384920133983, 130.12883107630617, 129.7494954419039, 101.7640959027896, 74.99992309101503, 74.91788866553992, 59.33557735993577, 59.09157877092311, 52.12107178647299, 50.973186561118546, 46.73268897307886, 45.992851027846186, 45.96270400143916, 43.015186047244384, 39.89511598095718, 30.529361825788257, 29.833952138410204, 29.577895948425198, 23.50514297664893, 23.05531240982715, 22.716840773369913, 20.954481574771627, 20.695852989060036, 19.082644358985057, 18.19616977741642, 17.003493417067236, 16.127046340470415, 15.437131217788922, 15.252246322892887, 247.9937443317504, 184.15576984940876, 159.50024197311845, 130.8528137917169, 127.6123074728163, 85.228301113987, 84.59476027612669, 74.56570675521768, 54.028253706854315, 44.27583640205464, 37.22462750908559, 36.86325737334942, 30.904116053466762, 29.464941861389452, 28.037499540495762, 26.957211344060912, 26.249027539719375, 26.0906403508598, 25.937728167178882, 24.61586872814875, 20.727223536972602, 20.210047342800916, 19.44883555988521, 17.85184820335245, 16.913205477121696, 16.181380774605444, 15.472562574327625, 15.293314546864348, 14.429235611334938, 13.837616369526227, 184.29939715391265, 132.57940307255376, 108.91438639238552, 107.8368389954188, 91.34378360786626, 89.26529804652345, 82.7982990022277, 76.70248506105501, 75.25314692329484, 72.98762157232103, 51.667810923902756, 47.667664563435736, 46.367242503769916, 44.6436960116779, 40.83198555365348, 38.03850539530806, 37.04829173695225, 37.03192772171561, 31.689916380995484, 30.127367258708226, 29.887627159973974, 29.33811125826569, 26.76599363479948, 26.6442899583946, 26.24817342662633, 25.86678293548618, 18.099253681940613, 17.426698948054117, 17.296594998506855, 16.669470955322996, 141.10430312355226, 121.55169301475335, 111.12051908301532, 99.12263422921718, 88.65135266122645, 84.60248403280373, 79.93809237737061, 73.83498554212265, 73.33269374665554, 57.766230582916876, 54.96338063599011, 54.7042516929754, 48.75916831628605, 47.4324906416173, 44.02225385549253, 43.75742722497021, 34.51887627884364, 32.71011769609692, 32.65904466193589, 28.946396534069606, 27.286867494531197, 26.748826734853722, 25.175216545425684, 24.609684738028886, 20.994996782631397, 19.05670317886409, 16.773067277103973, 16.62482334351965, 16.444314438310165, 16.297787468104687, 439.17051441953106, 165.40135668531101, 116.67229456941354, 65.19743872713757, 60.620803278889106, 55.11655670261867, 53.22481014347173, 52.81294495936145, 46.64593301330049, 43.011249499968145, 41.53267782304827, 40.5010425659044, 36.88747309114708, 32.9921131544166, 32.60391553272443, 30.093385048977986, 26.160838210393116, 25.857668282859716, 23.694498413548658, 23.500620468953038, 22.74080375631622, 22.55830042361948, 20.35798046349578, 17.471431000604667, 16.978209539393767, 16.65907524428299, 15.795216965715039, 15.41218838925302, 15.299145554903857, 14.804131008475377, 15.370308079576281, 319.54848044174014, 268.2687124939145, 204.277239462961, 141.43489310010284, 97.67272046160093, 77.64013121824671, 56.18815768157659, 48.63518729035836, 47.39032827331528, 46.69960835580213, 30.33800986735674, 29.756761539035644, 29.254804243194066, 27.95909619030829, 27.774629965991956, 25.638703137755208, 24.608440898906967, 23.920624992139743, 21.30412092598363, 20.544193239792893, 19.60115709854849, 18.3953599108171, 17.32216254620531, 15.50096509450628, 15.013056671842875, 14.077508454995353, 13.587990325713177, 10.743782007694076, 10.522056940870234, 9.658537806451475, 322.0680184437118, 191.0592863677638, 165.23207502497823, 159.13131158949574, 120.57184160380976, 87.9255149426992, 76.63603472923333, 75.87525940947674, 75.03141535239156, 51.00546773087722, 35.7750608571387, 34.92284887442367, 31.975606705143242, 31.264132700069894, 30.15251120708627, 27.724874101516654, 23.38195504132184, 22.739053763787865, 21.456952479974337, 20.382168175331103, 17.922509349795405, 16.967226502003665, 16.143285363334, 15.342470492453236, 15.026839816553057, 14.407311876203572, 13.507765594611133, 13.05570396161405, 11.649695945007554, 10.915249255823648, 273.8595905772365, 125.58761035251611, 117.25343392207121, 86.11016084108603, 75.46322510582856, 65.52205603544462, 64.43710892971322, 63.21619342835589, 60.531481421900054, 47.48279484275015, 39.704995707782274, 39.18235360922153, 28.56755476118281, 28.35870551236, 27.435599763765566, 25.99022951081077, 19.6455124376282, 19.296801607314357, 18.996178001880136, 18.62398219164212, 17.35610707548303, 14.975308399275693, 14.928507408521575, 13.900710650566152, 12.040882485808737, 11.873405664544153, 11.105797173267957, 10.793905225840163, 10.579916213038645, 10.411272987771513, 405.2344356019435, 258.52864371073775, 52.37240660347171, 46.64765098048093, 36.585418277852014, 32.34255699307901, 31.94185662691114, 30.256999135154427, 29.31475054049571, 27.498816887782557, 24.906098637413255, 24.565010026980286, 20.01603218221985, 19.30859905298045, 17.983242185120623, 17.470328880275915, 16.89371768613039, 16.57327524624497, 15.691662045231359, 15.129543408867232, 13.965372472335886, 13.607871983039875, 13.368471192211906, 12.59869295831125, 12.508762663946307, 12.237009527587743, 11.767444257733473, 11.710922777301521, 11.5591827678402, 11.239261406792298, 275.63727739516736, 143.59172616327578, 116.19249444390874, 98.19843480009713, 93.1919130415165, 90.73910103775013, 88.20975838452325, 49.14458588894413, 42.683908113286414, 42.6702778076981, 39.30272494430055, 34.44584183788141, 32.11790285732674, 28.65474026561447, 26.70268793962493, 22.31821548474058, 19.235187715317956, 17.608964997793148, 17.47317098526363, 16.749333104650564, 12.734930981670281, 11.744386198945348, 11.396279245818821, 11.376281712097876, 10.900661073362498, 12.354294651208193, 9.833533732150864, 8.363095025695298, 8.203641381370922, 8.118756727662245, 152.24672757855853, 92.38066819230174, 86.42452186221294, 77.63679335012282, 70.67800575967395, 68.28531748475169, 63.74963451599958, 62.643597643573436, 47.537681751253146, 43.508221303140466, 43.06417591851142, 36.26297096141191, 35.95965276194701, 35.258865456786985, 35.06717924337798, 32.387781957913305, 30.981841237421676, 29.333801039047625, 28.083446255180558, 23.139160932578605, 22.13403544871009, 20.36192217977069, 19.80897529185692, 19.024171980258973, 18.325536115819922, 17.538571380017373, 17.35811159394357, 16.32732190150558, 16.22800454249992, 15.415839830116415, 231.8366232611126, 215.95254770122378, 154.176644289691, 141.10177465995798, 84.52431605072506, 70.22542032858321, 46.28360595386289, 39.25348949890085, 38.58214683499212, 36.38330437270382, 35.043934437567444, 24.33554891581325, 23.28085301384923, 20.63160422715103, 20.145426731561088, 20.144097002567058, 18.76620714022269, 17.983310117679313, 17.81401564645044, 17.76801416710021, 17.755731627613233, 16.522834180841286, 15.313350680129048, 15.123907323899067, 12.848663894080179, 12.736425187739812, 12.316644843811451, 11.415350797376604, 11.397500931002538, 11.382220412776276, 148.36881255395696, 127.94331076705653, 110.14580830794802, 100.11266099184616, 69.17204846627956, 48.07921620424314, 37.80251284478355, 33.13054230699586, 30.88180266645644, 30.03273646128832, 25.202058351041064, 23.08632990590796, 19.14750037129901, 19.125488317739805, 17.388562237337542, 16.630068606153287, 15.966443654893151, 15.916924105949873, 15.872212500735987, 15.453715449712671, 15.335437005343609, 13.239393114710785, 13.145018100819986, 12.788080901288739, 12.786290983339718, 12.688258903588608, 12.62768789847616, 11.943327459503708, 11.844476893583863, 11.802816629036034, 12.225743045542336, 389.8941167953841, 100.09644378521172, 43.64537221712642, 40.764031506074865, 39.66974038157122, 37.51645369513322, 34.719000546772826, 33.59808961312439, 33.347486330608774, 31.239619412961176, 27.15948649640235, 23.38036840649001, 22.3271621667356, 21.85414656315958, 19.165309418520522, 18.62752642770316, 18.448389626613338, 18.430108895397936, 16.22896790225618, 15.64309568005627, 14.438316636078609, 13.713853816745964, 13.04682334786839, 12.629062926545883, 11.707908297641866, 11.151270730931921, 11.140969208950057, 10.721004685386388, 10.67793191888062, 10.263818815421546, 182.16695681837282, 146.39494498159425, 131.2197582468049, 103.1912213288064, 70.28188278687153, 36.39297905993795, 34.9271812574358, 31.128987855417627, 30.481369133670412, 29.11313001012978, 28.888207864167, 24.94828088100317, 22.443001066437816, 21.5368039546787, 20.92166728777025, 20.52940154193868, 18.933871699114135, 17.77840748893137, 17.76858988233964, 17.215429922338895, 16.14965991989548, 15.809103216599006, 15.479868639975837, 15.032633817683614, 14.350517878533912, 12.949030736431293, 11.181200888176804, 10.918661412696068, 10.299596837655194, 10.216499149889987, 69.91939954644502, 67.31873779760079, 64.79538194283022, 63.44275648709884, 54.92773846050523, 52.78835798202288, 40.174442164420604, 33.35562227037315, 31.577210522279785, 25.161786524138815, 24.81025952719493, 24.124430818963216, 21.27277735391079, 20.565485098286523, 18.861822675289403, 17.832095841239493, 17.239554676811885, 13.577955163255604, 13.439832378798457, 13.122900734662501, 12.966784208917657, 12.499636194353531, 12.154041526392053, 12.119362027073734, 11.960031847101247, 11.105256745187763, 11.084223829936613, 10.378694319960122, 10.130361262245602, 9.73180007834043, 11.98085687097379], \"Term\": [\"be\", \"kill\", \"attack\", \"terrorist\", \"syrian\", \"pron\", \"capture\", \"force\", \"have\", \"turkish\", \"russian\", \"village\", \"new\", \"more\", \"clash\", \"rebel\", \"take\", \"airstrike\", \"militant\", \"not\", \"target\", \"control\", \"iraqi\", \"area\", \"border\", \"claim\", \"say\", \"aid\", \"city\", \"destroy\", \"syrian\", \"turkish\", \"rebel\", \"city\", \"military\", \"town\", \"video\", \"child\", \"tank\", \"member\", \"south\", \"situation\", \"wound\", \"heavy\", \"visit\", \"western\", \"current\", \"gas\", \"road\", \"commit\", \"refugee\", \"cross\", \"deal\", \"point\", \"hospital\", \"equipment\", \"loss\", \"st\", \"high\", \"axis\", \"be\", \"soldier\", \"battle\", \"liberate\", \"hom\", \"conduct\", \"right\", \"observe\", \"propaganda\", \"evacuation\", \"warn\", \"combat\", \"joint\", \"desert\", \"publish\", \"play\", \"participate\", \"bury\", \"restore\", \"entire\", \"correction\", \"capital\", \"room\", \"approach\", \"nation\", \"spread\", \"attacker\", \"church\", \"spying\", \"slave\", \"capture\", \"village\", \"fighter\", \"hold\", \"kurdish\", \"fsa\", \"amp\", \"field\", \"coalition\", \"man\", \"ypg\", \"zone\", \"behead\", \"jihadist\", \"spy\", \"effort\", \"recently\", \"political\", \"offer\", \"ammunition\", \"preparation\", \"accuse\", \"son\", \"publicly\", \"escalation\", \"pose\", \"armed\", \"moment\", \"defend\", \"liberated\", \"attack\", \"destroy\", \"civilian\", \"drone\", \"prepare\", \"aircraft\", \"cessation\", \"hostility\", \"demand\", \"may\", \"bombing\", \"depot\", \"casualty\", \"checkpoint\", \"storm\", \"charge\", \"dozen\", \"terror\", \"response\", \"information\", \"flag\", \"event\", \"bridge\", \"islamic\", \"hundred\", \"foil\", \"organization\", \"consider\", \"occupation\", \"create\", \"clash\", \"take\", \"back\", \"support\", \"advance\", \"bomb\", \"troop\", \"now\", \"british\", \"see\", \"police\", \"next\", \"picture\", \"crisis\", \"gather\", \"prisoner\", \"possible\", \"besiege\", \"street\", \"outskirt\", \"renew\", \"protester\", \"boy\", \"vote\", \"intensify\", \"resolve\", \"rock\", \"must\", \"intense\", \"silo\", \"force\", \"iraqi\", \"neighborhood\", \"east\", \"year\", \"lead\", \"last\", \"death\", \"recapture\", \"american\", \"truce\", \"fail\", \"own\", \"result\", \"retreat\", \"major\", \"land\", \"second\", \"collapse\", \"want\", \"public\", \"cut\", \"prevail\", \"progress\", \"operate\", \"is\", \"almost\", \"already\", \"refer\", \"aim\", \"kill\", \"release\", \"suicide\", \"try\", \"open\", \"find\", \"bomber\", \"unit\", \"which\", \"confirm\", \"rd\", \"most\", \"source\", \"chinese\", \"trap\", \"min\", \"sniper\", \"expel\", \"pm\", \"senior\", \"list\", \"urge\", \"radical\", \"infographic\", \"water\", \"worker\", \"world\", \"mountain\", \"accidentally\", \"bring\", \"claim\", \"countryside\", \"leader\", \"northern\", \"break\", \"official\", \"weather\", \"announce\", \"allegedly\", \"enter\", \"discuss\", \"large\", \"end\", \"terrorism\", \"forecast\", \"cooperation\", \"temperature\", \"plant\", \"average\", \"explosion\", \"work\", \"counter\", \"gunman\", \"international\", \"manage\", \"speech\", \"relation\", \"post\", \"responsibility\", \"month\", \"pron\", \"have\", \"aid\", \"convoy\", \"humanitarian\", \"arm\", \"deliver\", \"celebrate\", \"photo\", \"fighting\", \"defeat\", \"state\", \"way\", \"ton\", \"security\", \"increase\", \"industrial\", \"mission\", \"raid\", \"ancient\", \"merge\", \"worth\", \"enough\", \"mother\", \"hometown\", \"coordinate\", \"rank\", \"preserve\", \"eye\", \"govt\", \"terrorist\", \"militant\", \"fight\", \"who\", \"arrest\", \"fierce\", \"die\", \"ongoing\", \"side\", \"mass\", \"should\", \"move\", \"coup\", \"welcome\", \"remain\", \"resident\", \"ground\", \"prison\", \"eliminate\", \"allow\", \"rally\", \"refuse\", \"spot\", \"enemy\", \"farm\", \"sell\", \"contain\", \"headquarter\", \"expand\", \"parliament\", \"control\", \"offensive\", \"group\", \"th\", \"launch\", \"artillery\", \"province\", \"reportedly\", \"missile\", \"food\", \"come\", \"rise\", \"medium\", \"statement\", \"establish\", \"location\", \"factory\", \"person\", \"hot\", \"different\", \"scale\", \"nd\", \"brigade\", \"when\", \"southwestern\", \"re\", \"separate\", \"devastate\", \"cruise\", \"sector\", \"border\", \"say\", \"district\", \"return\", \"execute\", \"weapon\", \"west\", \"part\", \"former\", \"regain\", \"french\", \"center\", \"terrorists\", \"general\", \"expect\", \"beginning\", \"minister\", \"include\", \"stronghold\", \"ra\", \"relief\", \"yet\", \"torture\", \"struggle\", \"ceremony\", \"commando\", \"intensive\", \"withdrawal\", \"holiday\", \"thing\", \"report\", \"use\", \"agreement\", \"blast\", \"opposition\", \"ceasefire\", \"that\", \"foreign\", \"yesterday\", \"many\", \"only\", \"tell\", \"link\", \"pro\", \"receive\", \"so\", \"withdraw\", \"moderate\", \"massive\", \"affiliate\", \"school\", \"officer\", \"long\", \"mark\", \"why\", \"provide\", \"pay\", \"spokesman\", \"blame\", \"supporter\", \"airstrike\", \"not\", \"will\", \"today\", \"do\", \"deny\", \"stop\", \"division\", \"independence\", \"phone\", \"whole\", \"presence\", \"ask\", \"expert\", \"council\", \"appear\", \"kid\", \"flower\", \"infantry\", \"makehersmile\", \"phase\", \"killer\", \"hide\", \"catch\", \"clothe\", \"fair\", \"incursion\", \"boat\", \"accept\", \"promote\", \"army\", \"call\", \"jet\", \"join\", \"close\", \"drop\", \"flee\", \"camp\", \"declare\", \"pocket\", \"reinforcement\", \"german\", \"chemical\", \"chief\", \"line\", \"recruit\", \"conflict\", \"condemn\", \"session\", \"settle\", \"production\", \"journalist\", \"advisor\", \"leaflet\", \"fear\", \"safe\", \"martyrs\", \"wanted\", \"status\", \"defect\", \"position\", \"people\", \"north\", \"talk\", \"israeli\", \"other\", \"evacuate\", \"form\", \"local\", \"hill\", \"region\", \"arab\", \"bank\", \"stress\", \"girl\", \"upcoming\", \"resume\", \"referendum\", \"implement\", \"look\", \"propose\", \"little\", \"participation\", \"less\", \"camera\", \"read\", \"surround\", \"film\", \"true\", \"further\", \"government\", \"first\", \"eastern\", \"footage\", \"anti\", \"update\", \"truck\", \"southern\", \"life\", \"surrender\", \"clear\", \"execution\", \"meeting\", \"gain\", \"liberation\", \"protest\", \"agree\", \"campaign\", \"involvement\", \"win\", \"ambush\", \"mine\", \"level\", \"saudi\", \"reopen\", \"suburb\", \"team\", \"change\", \"let\", \"exclusive\", \"several\", \"siege\", \"reach\", \"repel\", \"time\", \"there\", \"attempt\", \"km\", \"iranian\", \"how\", \"helicopter\", \"station\", \"lebanese\", \"tunnel\", \"tie\", \"jihadi\", \"need\", \"away\", \"train\", \"personnel\", \"fall\", \"teenage\", \"ahead\", \"graduate\", \"rescue\", \"directly\", \"bombardment\", \"reporter\", \"population\", \"bride\", \"russian\", \"ally\", \"woman\", \"dead\", \"special\", \"late\", \"night\", \"distribute\", \"displace\", \"christian\", \"power\", \"put\", \"militia\", \"drug\", \"free\", \"toll\", \"home\", \"jordanian\", \"student\", \"volunteer\", \"bus\", \"kick\", \"organize\", \"like\", \"resumption\", \"parachute\", \"infiltrate\", \"shaaban\", \"document\", \"immediately\", \"humiliate\", \"area\", \"strike\", \"continue\", \"air\", \"oil\", \"hour\", \"fully\", \"fuel\", \"southwest\", \"delegation\", \"command\", \"then\", \"secure\", \"issue\", \"service\", \"ten\", \"strategic\", \"residential\", \"drive\", \"all\", \"turn\", \"follow\", \"network\", \"at\", \"suspend\", \"isis\", \"ied\", \"prominent\", \"facility\", \"botch\", \"target\", \"hit\", \"shell\", \"family\", \"map\", \"set\", \"give\", \"full\", \"exchange\", \"escape\", \"usd\", \"rate\", \"mortar\", \"islamist\", \"interview\", \"just\", \"vicinity\", \"very\", \"alliance\", \"much\", \"explode\", \"sapper\", \"corridor\", \"too\", \"rural\", \"magazine\", \"around\", \"dig\", \"limited\", \"spend\", \"show\", \"make\", \"also\", \"help\", \"assault\", \"batch\", \"week\", \"car\", \"place\", \"site\", \"airbase\", \"complete\", \"house\", \"fly\", \"demonstration\", \"southeast\", \"blitz\", \"prayer\", \"image\", \"damage\", \"assist\", \"recruiter\", \"ban\", \"kurd\", \"genocide\", \"account\", \"btw\", \"satellite\", \"corpse\", \"protection\", \"new\", \"fire\", \"round\", \"get\", \"keep\", \"main\", \"grow\", \"thwart\", \"involve\", \"aggression\", \"news\", \"request\", \"appoint\", \"protect\", \"reveal\", \"strength\", \"recent\", \"normal\", \"human\", \"record\", \"sovereignty\", \"story\", \"shield\", \"lawmaker\", \"transport\", \"temporary\", \"pumping\", \"relative\", \"cease\", \"buy\", \"injure\", \"war\", \"day\", \"still\", \"number\", \"country\", \"go\", \"massacre\", \"gathering\", \"final\", \"ready\", \"victim\", \"push\", \"unconfirmed\", \"process\", \"nearly\", \"veto\", \"tear\", \"civil\", \"huge\", \"once\", \"dialogue\", \"ruin\", \"sex\", \"negotiate\", \"sue\", \"big\", \"tighten\", \"audio\", \"proud\", \"send\", \"shoot\", \"regime\", \"warplane\", \"carry\", \"peace\", \"lose\", \"suspect\", \"action\", \"gun\", \"plane\", \"step\", \"airport\", \"supply\", \"detain\", \"rule\", \"officially\", \"palestinian\", \"stand\", \"press\", \"order\", \"half\", \"ago\", \"jail\", \"raise\", \"idlib\", \"central\", \"activist\", \"activity\", \"violation\", \"operation\", \"commander\", \"arrive\", \"base\", \"breach\", \"retake\", \"pilot\", \"message\", \"territory\", \"as\", \"crash\", \"total\", \"market\", \"task\", \"study\", \"completely\", \"prevent\", \"sukhnah\", \"together\", \"morning\", \"would\", \"direct\", \"presidential\", \"pledge\", \"add\", \"entry\", \"gate\", \"gear\", \"bill\", \"naval\", \"meet\", \"plan\", \"can\", \"begin\", \"least\", \"top\", \"centre\", \"reject\", \"unknown\", \"thousand\", \"party\", \"wait\", \"inside\", \"shopping\", \"independent\", \"exhibition\", \"island\", \"manbij\", \"run\", \"territorial\", \"suffer\", \"rebuild\", \"sentence\", \"boxer\", \"project\", \"tool\", \"company\", \"lie\", \"egyptian\", \"strong\", \"chainsaw\", \"more\", \"leave\", \"deploy\", \"sign\", \"defense\", \"what\", \"build\", \"know\", \"feature\", \"erdogan\", \"wedding\", \"vow\", \"history\", \"small\", \"here\", \"battlefield\", \"victory\", \"detail\", \"regard\", \"blood\", \"load\", \"port\", \"ppl\", \"pass\", \"sheep\", \"grip\", \"feel\", \"destruction\", \"middle\", \"square\", \"rocket\", \"vehicle\", \"seize\", \"start\", \"down\", \"burn\", \"past\", \"authority\", \"hand\", \"dealer\", \"body\", \"sky\", \"bulldozer\", \"name\", \"hashish\", \"cargo\", \"score\", \"affect\", \"kg\", \"abandon\", \"envoy\", \"book\", \"ammo\", \"intelligence\", \"cleric\", \"machine\", \"reconnaissance\", \"early\", \"channel\", \"belong\", \"again\", \"head\", \"front\", \"face\", \"building\", \"training\", \"could\", \"responsible\", \"old\", \"where\", \"national\", \"voice\", \"soon\", \"hostage\", \"stay\", \"far\", \"nice\", \"meat\", \"poor\", \"previous\", \"recover\", \"slaughter\", \"confront\", \"conquer\", \"executioner\", \"citizen\", \"feed\", \"libyan\", \"bag\", \"traffic\", \"oven\"], \"Total\": [3273.0, 1212.0, 797.0, 745.0, 961.0, 703.0, 708.0, 609.0, 590.0, 637.0, 439.0, 509.0, 405.0, 390.0, 443.0, 531.0, 411.0, 353.0, 366.0, 331.0, 322.0, 348.0, 358.0, 319.0, 333.0, 352.0, 331.0, 344.0, 427.0, 343.0, 961.3523517559022, 637.9940532390176, 531.651741038845, 427.37435144321927, 398.41604229574017, 255.86340477826366, 202.94597014126157, 184.23872926278267, 167.56545551896247, 159.38649878048324, 134.8773184029456, 122.44506876281801, 116.76607804031552, 104.97557044187167, 93.86138883498671, 93.46642878841226, 92.81702725225618, 91.29036697576645, 87.3527801804786, 66.15594280148555, 61.13585569710485, 59.95310161987383, 58.096448097075154, 48.94875523609244, 44.04692823178488, 39.14565967322531, 34.59403484790375, 32.97277329475546, 32.35931638846965, 30.830195548988794, 3273.7302817885648, 330.7036650184413, 255.82776051006013, 179.56169814842838, 127.20601072982785, 113.53860208746872, 58.08371472762724, 55.913855400382175, 42.395192082936575, 37.12421473558634, 35.056564371492804, 30.69779296133321, 24.725083804244548, 23.604531985797337, 23.0974344507249, 19.985879327681978, 19.727044972545297, 17.60607370702983, 17.218292031175032, 16.781315497601042, 16.708484062241666, 14.566099886081528, 13.650446721511624, 13.610005212362022, 13.319185563521545, 12.969695409172653, 12.403170041483602, 11.934432875835997, 11.910999218377917, 10.804585380475357, 708.7460089336943, 509.64478945203473, 320.41117433449506, 204.3398631954941, 189.75459941393729, 143.50704700024352, 135.20033489394086, 120.48659990484529, 111.43218752013861, 101.28210233609649, 67.15015188584087, 59.620164636409996, 58.42440708373739, 39.79756646918251, 36.16234716892841, 34.59857663481555, 34.573353933555076, 33.97255993688667, 32.827519829185356, 32.36000648189387, 30.558806701055587, 29.226413308785137, 25.01795522524366, 24.705108086620164, 24.550962453011472, 24.356527668361412, 23.83940183864386, 23.317349017881153, 22.11215730171445, 20.795297197503878, 797.882896183611, 343.0537083976114, 339.3220267775859, 107.81208599063338, 102.63062734109958, 88.12429399000123, 79.17888445276284, 79.0882614332957, 61.74865960049589, 58.91405214503182, 56.35013417584498, 55.97988242621872, 51.89893587627966, 49.486047771450686, 48.25577636212712, 48.19303268921736, 48.064519900300866, 47.293749217947635, 37.818788309724575, 37.252928433543545, 36.960388170673475, 35.40302778737151, 35.316469509683735, 34.28395814903344, 32.15765506186366, 29.913806018499784, 29.545294934764932, 28.504918697275635, 27.668082411868237, 26.211776291250775, 443.23392829816174, 411.18666352791905, 199.19563216006463, 198.11243678364912, 176.0988865169277, 173.5033414423069, 162.15824033446629, 123.20428663657664, 85.56825497417654, 72.33487258710817, 66.94788359583968, 53.96223082960196, 48.13828460781331, 36.00554521795101, 34.491336741270054, 34.142446567660606, 33.771689576945555, 30.99598162054389, 30.92144658410362, 29.815445099176234, 25.024954247135568, 24.446421470648144, 23.303012422546974, 22.410579491929123, 21.052498505035146, 19.474774690791694, 18.440750653656178, 17.752787599147375, 16.88375490714776, 16.249017422597234, 609.8329871700164, 358.96061105002286, 175.06452846592907, 169.16411795859602, 138.32417707635588, 122.35899157263523, 112.70042157950304, 96.52323324901158, 83.82589247168988, 65.08695935856618, 63.92157794546341, 62.9511114082734, 60.50120431780897, 58.97349100483625, 49.79404582890036, 46.44593262792057, 41.26637830960258, 36.77198628491935, 35.62260132630624, 30.091315810637486, 26.779707411080334, 26.05061870189819, 24.406376226505625, 24.054572075670087, 23.566670393074087, 22.67569509526173, 18.609245406395075, 17.950932801062635, 17.077601038037557, 15.866490401458803, 1212.4835898607132, 165.6066880342026, 115.55256076857222, 105.92858562238183, 97.70721696077177, 93.38367147350635, 85.82135704548716, 77.199927475762, 60.771869845297545, 60.442642943931176, 49.15052497478213, 46.17758417058072, 43.801443581838974, 39.55291547706745, 39.17990762658806, 34.53903723929569, 31.702837545912605, 26.894988456535796, 26.713386179469676, 26.40854967740088, 25.87412973889775, 25.3514883459199, 20.4812870371033, 19.826151035724447, 19.002881768188022, 15.963371699781575, 14.810321394923266, 14.808299850842522, 14.63205375372108, 14.267651143624262, 352.72697043598, 191.50930938191456, 163.52906096661923, 151.46042797154436, 145.43726416386806, 142.19464876044512, 109.9556620903925, 90.29635389412401, 86.52216028202827, 84.66951345146327, 82.62560938141614, 82.26206614469697, 71.41504445057028, 68.12408961062415, 66.81215652541941, 64.82641092676573, 63.90541657455093, 52.5860198395544, 47.499704207796874, 44.65361499608602, 44.61457502467624, 42.80339652898356, 36.38704344552025, 35.57917637790585, 34.83969802684403, 29.19078281563652, 27.55311839115163, 26.928912286467213, 26.646321907693764, 26.61252208901894, 703.5150914254114, 590.3353507746799, 344.41598700067675, 188.09299383582515, 135.70969990832808, 88.09618774950346, 70.23182694299292, 59.59644709844865, 54.61663762089506, 51.22673317735071, 38.71308728227893, 34.48076367063406, 31.955547832329483, 29.52500974074495, 27.605240926054076, 26.908282821348195, 24.00999488320252, 19.223656175516865, 17.911426050420225, 16.19535300224311, 14.17157033278364, 13.105633182449559, 12.871667981420824, 12.715404143792123, 12.796871317314448, 11.371017779243893, 10.504209035810717, 10.480041682627373, 10.202663995839503, 9.74384539634859, 745.5189812138293, 366.40178302715543, 262.7545971987797, 176.02859782490071, 125.13706548779895, 122.9667034737946, 91.28874705214774, 70.75161422007466, 60.74595105098378, 60.68099630823527, 56.51925819894333, 53.130019702911866, 48.18580568036776, 45.35868327607084, 36.75461954049061, 34.3844051482449, 31.117664628038334, 28.619455503620085, 26.997017560260687, 22.492144231979793, 22.345766236000323, 20.147711014112826, 19.70682682196376, 16.31773655612574, 15.833128536641224, 13.7893483082866, 12.873794319163833, 10.423670253552306, 9.853606167638175, 9.297214617181572, 348.3347780611653, 250.36935271776693, 228.5620952712639, 165.32072892278725, 156.90608866931362, 134.08182246129235, 132.98955017416725, 126.22374575970844, 91.83567091432289, 76.03111980213363, 66.45878425470355, 57.01840272793449, 53.22392398503722, 48.011251937532265, 42.83682130964951, 35.181077310694576, 34.014075263891016, 31.851387266047237, 31.45967137637087, 29.88198577670863, 25.456142890745507, 25.18697308102931, 22.87099054417212, 21.84991909032652, 21.522403099299478, 20.37760799184589, 20.198103269019192, 19.19541638334878, 18.231896786162217, 16.168308377720393, 333.02777338651214, 331.26649038863565, 254.4058049232831, 130.07189589941518, 128.0792951940078, 119.49204209883888, 105.85806539326347, 87.93106214445348, 73.50944003398598, 52.13147283523788, 45.62719209301493, 42.128502606238705, 37.766468692488644, 37.59808502900038, 34.493596110005036, 31.412555452606885, 30.580933393017006, 28.212661261794096, 25.29317521074163, 24.103639105981216, 23.553703058011337, 20.950430749812462, 20.71872830666792, 19.499025952675265, 15.45894818982205, 14.735675007337955, 13.057182307092868, 12.974732088262861, 12.861378213040012, 12.184597352346646, 275.6417545923934, 145.45238524394364, 109.30332044815033, 93.43051182634217, 90.27232941802336, 85.3415895984711, 71.41440973232058, 65.3418233075667, 62.82133712787256, 57.34044170994333, 56.490187214336004, 55.49703582858432, 47.549574836521046, 46.960892275500186, 46.84941693041756, 41.91525725366955, 39.52852263171908, 39.35120003624454, 38.654517699296136, 36.470484613062375, 35.30124700877973, 34.84490606437799, 34.80658266466242, 30.517312487595557, 26.833995578941632, 26.205616104130968, 25.888895758111488, 23.500616200673463, 22.803781727220738, 21.5282114202551, 353.03824779124216, 331.77058823149946, 288.2071247068427, 195.5019092881029, 87.93444535499772, 48.73051538846202, 47.10363913530087, 39.11707604156439, 38.043558783456206, 33.7537241467782, 24.174539587473912, 24.154734650152793, 21.241862108035985, 21.127404189788333, 19.8743481478269, 19.578909691520526, 18.987356325604086, 16.62077924494967, 14.628169930786841, 16.614740880169553, 13.082402598035744, 12.509536507041645, 12.373498718774536, 11.164500989150941, 10.223901757058526, 9.848151874411613, 9.647480752508775, 9.53429295106118, 9.089649088597097, 8.640770325562386, 287.38900903672237, 192.81032402469498, 130.57530589966132, 130.19597026525904, 102.2105707261447, 75.44639791437012, 75.36436348889501, 59.782052183290865, 59.5380535942782, 52.567546609828085, 51.41966138447364, 47.179163796433954, 46.43932585120128, 46.40917882479425, 43.46166087059948, 40.341590804312276, 30.975836649143368, 30.280426961765315, 30.02437077178031, 23.95161780000404, 23.50178723318226, 23.163315596725024, 21.400956398126738, 21.142327812415147, 19.529119182340168, 18.64264460077153, 17.449968240422347, 16.573521163825525, 15.88360604114402, 15.698721146247985, 248.44023334905958, 184.60225886671793, 159.94673099042762, 131.29930280902607, 128.05879649012545, 85.67479013129615, 85.04124929343584, 75.01219577252682, 54.47474272416346, 44.722325419363784, 37.67111652639474, 37.30974639065857, 31.35060526192866, 29.911430878698614, 28.483988557804924, 27.403700361370074, 26.695516557028537, 26.537129368168962, 26.384217184488044, 25.062357745457913, 21.173712554281764, 20.656536360110078, 19.895324577194373, 18.29833722066161, 17.359694494430858, 16.627869791914605, 15.919051591636771, 15.739803564173494, 14.875724628644084, 14.284105386835373, 184.74507508610748, 133.02508100474859, 109.36006432458034, 108.28251692761361, 91.78946154006107, 89.71097597871827, 83.2439769344225, 77.14816299324983, 75.69882485548965, 73.43329950451584, 52.11348885609758, 48.11334249563056, 46.81292043596474, 45.08937394387273, 41.27766348584831, 38.48418332750288, 37.49396966914708, 37.47760565391044, 32.13559431319031, 30.573045190903056, 30.333305092168803, 29.78378919046052, 27.21167156699431, 27.08996789058943, 26.69385135882116, 26.31246086768101, 18.544931614135443, 17.872376880248947, 17.742272930701684, 17.115148887517826, 141.55033121591072, 121.99772110711181, 111.56654717537378, 99.56866232157564, 89.09738075358491, 85.04851212516219, 80.38412046972907, 74.28101363448111, 73.778721839014, 58.21225867527534, 55.40940872834858, 55.150279785333865, 49.20519640864452, 47.87851873397577, 44.468281947851, 44.203455317328675, 34.96490437120211, 33.15614578845539, 33.105072754294355, 29.392424626428078, 27.73289558688967, 27.194854827212193, 25.621244637784155, 25.055712830387357, 21.441024874989868, 19.50273127122256, 17.219095369462444, 17.070851435878122, 16.890342530668637, 16.743815560463158, 439.6175933939544, 165.8484356597344, 117.1193735438369, 65.64451770156093, 61.06788225331248, 55.56363567704204, 53.671889117895105, 53.26002393378483, 47.09301198772387, 43.45832847439152, 41.979756797471644, 40.948121540327776, 37.334552065570456, 33.43919212883998, 33.050994507147806, 30.540464023401366, 26.607917184816497, 26.304747257283097, 24.14157738797204, 23.94769944337642, 23.187882730739602, 23.005379398042862, 20.805059437919162, 17.918509975028048, 17.425288513817147, 17.106154218706372, 16.24229594013842, 15.85926736367639, 15.746224529327227, 15.251209982898748, 16.039160028306608, 319.99405458305733, 268.7142866352317, 204.72281360427823, 141.88046724142006, 98.11829460291813, 78.0857053595639, 56.63373182289381, 49.080761431675576, 47.8359024146325, 47.14518249711934, 30.78358400867395, 30.202335680352856, 29.70037838451128, 28.404670331625503, 28.22020410730917, 26.08427727907242, 25.05401504022418, 24.366199133456956, 21.74969506730084, 20.989767381110106, 20.046731239865704, 18.840934052134312, 17.767736687522522, 15.946539235823487, 15.458630813160083, 14.52308259631256, 14.033564467030384, 11.189356149011283, 10.967631082187442, 10.104174525169807, 322.51482321744004, 191.50609114149202, 165.67887979870645, 159.57811636322396, 121.01864637753796, 88.3723197164274, 77.08283950296153, 76.32206418320494, 75.47822012611977, 51.45227250460543, 36.22186563086691, 35.36965364815188, 32.42241147887145, 31.710937473798108, 30.599315980814485, 28.17167887524487, 23.828759815050056, 23.18585853751608, 21.90375725370255, 20.828972949059317, 18.36931412352362, 17.41403127573188, 16.590090137062216, 15.789275266181445, 15.473644590281266, 14.85411664993178, 13.954570368339342, 13.502508735342259, 12.096500718735763, 11.362054029551857, 274.30670968961573, 126.03472946489539, 117.7005530344505, 86.55727995346531, 75.91034421820784, 65.9691751478239, 64.8842280420925, 63.66331254073518, 60.97860053427934, 47.929913955129436, 40.15211482016156, 39.62947272160081, 29.014673873562096, 28.805824624739287, 27.882718876144853, 26.437348623190058, 20.092631550007486, 19.743920719693644, 19.443297114259423, 19.071101304021408, 17.803226187862318, 15.422427511654975, 15.375626520900857, 14.347829762945434, 12.488001598188019, 12.320524776923435, 11.552916285647239, 11.241024338219445, 11.027035325417927, 10.858392100150795, 405.6789963906819, 258.97320449947614, 52.81696739221013, 47.092211769219354, 37.029979066590435, 32.78711778181743, 32.38641741564956, 30.701559923892848, 29.75931132923413, 27.943377676520978, 25.350659426151676, 25.009570815718707, 20.46059297095827, 19.753159841718873, 18.427802973859045, 17.914889669014336, 17.33827847486881, 17.017836034983393, 16.136222833969782, 15.57410419760565, 14.409933261074304, 14.052432771778292, 13.813031980950324, 13.043253747049668, 12.953323452684725, 12.68157031632616, 12.21200504647189, 12.155483566039939, 12.003743556578618, 11.683822195530716, 276.08296420331544, 144.0374129714239, 116.63818125205682, 98.64412160824521, 93.63759984966458, 91.18478784589821, 88.65544519267134, 49.59027269709222, 43.1295949214345, 43.11596461584619, 39.74841175244864, 34.8915286460295, 32.56358966547483, 29.100427073762564, 27.148374747773023, 22.763902292888673, 19.68087467325314, 18.05465180594124, 17.91885779341172, 17.195019912798656, 13.180617789818369, 12.190073007093435, 11.841966053966908, 11.821968520245964, 11.346347881510585, 12.901472630609197, 10.279220540298951, 8.808781833843385, 8.650078474131176, 8.564443535810332, 152.69261294740457, 92.82655356114776, 86.87040723105896, 78.08267871896884, 71.12389112851997, 68.73120285359771, 64.1955198848456, 63.089483012419464, 47.983567120099174, 43.954106671986494, 43.510061287357445, 36.70885633025794, 36.40553813079304, 35.70475082563301, 35.51306461222401, 32.83366732675933, 31.427726606267708, 29.779686407893657, 28.52933162402659, 23.585046301424637, 22.579920817556122, 20.807807548616722, 20.254860660702953, 19.470057349105005, 18.771421484665954, 17.984456748863405, 17.8039969627896, 16.773207270351612, 16.673889911345952, 15.861725198962441, 232.2840442101886, 216.39996865029977, 154.624065238767, 141.54919560903397, 84.97173699980105, 70.6728412776592, 46.731026902938886, 39.700910447976845, 39.02956778406812, 36.830725321779816, 35.49135538664344, 24.782969864889242, 23.728273962925226, 21.079025176227024, 20.59284768063708, 20.591517951643052, 19.213628089298684, 18.430731510866178, 18.261436595526433, 18.215435116176202, 18.203152576689227, 16.97025512991728, 15.76077162920504, 15.571328272975059, 13.296084843156171, 13.183846136815804, 12.764065792887443, 11.862771746452596, 11.84492188007853, 11.829641361852268, 148.81436641586282, 128.3888646289624, 110.59136216985391, 100.55821485375205, 69.61760232818546, 48.52477006614903, 38.24806670668944, 33.57609616890175, 31.327356528362333, 30.478290323194212, 25.647612212946957, 23.531883767813852, 19.593054233204903, 19.571042179645698, 17.834116099243435, 17.07562246805918, 16.411997516799044, 16.362477967855764, 16.31776636264188, 15.899269311618564, 15.780990867249502, 13.684946976616677, 13.590571962725878, 13.233634763194631, 13.231844845245611, 13.1338127654945, 13.073241760382052, 12.3888813214096, 12.290030755489756, 12.248370490941927, 17.27032392023127, 390.3401912343289, 100.54251822415657, 44.09144665607127, 41.21010594501971, 40.11581482051607, 37.96252813407807, 35.16507498571767, 34.044164052069235, 33.79356076955362, 31.685693851906024, 27.6055609353472, 23.82644284543486, 22.77323660568045, 22.30022100210443, 19.61138385746537, 19.073600866648007, 18.894464065558186, 18.876183334342784, 16.675042341201028, 16.089170119001118, 14.884391075023458, 14.159928255690813, 13.49289778681324, 13.075137365490733, 12.158814858473692, 11.597345169876771, 11.587043647894907, 11.167079124331238, 11.12400635782547, 10.709893254366396, 182.61468268572932, 146.84267084895075, 131.6674841141614, 103.63894719616293, 70.72960865422806, 36.84070492729446, 35.37490712479231, 31.576713722774137, 30.929095001026923, 29.56085587748629, 29.33593373152351, 25.39600674835968, 22.890726933794326, 21.98452982203521, 21.36939315512676, 20.97712740929519, 19.381597566470646, 18.226133356287882, 18.216315753824585, 17.663155789695406, 16.59738578725199, 16.256829083955516, 15.92759450733235, 15.480359685040126, 14.798243745890424, 13.396756603787805, 11.628926755533316, 11.36638728005258, 10.747322705011706, 10.6642250172465, 70.36656274737344, 67.7659009985292, 65.24254514375863, 63.889919688027256, 55.37490166143365, 53.235521182951295, 40.62160536534902, 33.80278547130157, 32.0243737232082, 25.608949725067227, 25.25742272812334, 24.571594019891627, 21.7199405548392, 21.012648299214934, 19.308985876217815, 18.279259042167904, 17.686717879976715, 14.025118364184017, 13.887006085964614, 13.570063935590914, 13.41394740984607, 12.946799395281944, 12.601204727320466, 12.566525228002147, 12.40719504802966, 11.552419946116176, 11.531387030865027, 10.825857520888535, 10.577524463174015, 10.178963279268844, 12.540939108395358], \"loglift\": [30.0, 29.0, 28.0, 27.0, 26.0, 25.0, 24.0, 23.0, 22.0, 21.0, 20.0, 19.0, 18.0, 17.0, 16.0, 15.0, 14.0, 13.0, 12.0, 11.0, 10.0, 9.0, 8.0, 7.0, 6.0, 5.0, 4.0, 3.0, 2.0, 1.0, 2.52, 2.5198, 2.5197, 2.5195, 2.5194, 2.5188, 2.5183, 2.5181, 2.5178, 2.5177, 2.5172, 2.5169, 2.5167, 2.5162, 2.5157, 2.5157, 2.5157, 2.5156, 2.5154, 2.5137, 2.5132, 2.513, 2.5128, 2.5113, 2.5103, 2.509, 2.5075, 2.5069, 2.5066, 2.5059, 2.6803, 2.6791, 2.6787, 2.678, 2.677, 2.6765, 2.6728, 2.6725, 2.6699, 2.6684, 2.6677, 2.6659, 2.6623, 2.6614, 2.661, 2.6579, 2.6576, 2.6549, 2.6543, 2.6536, 2.6535, 2.6494, 2.6473, 2.6472, 2.6465, 2.6455, 2.6439, 2.6425, 2.6424, 2.6384, 3.0435, 3.0432, 3.0427, 3.0419, 3.0417, 3.041, 3.0408, 3.0404, 3.0401, 3.0397, 3.0374, 3.0366, 3.0364, 3.0328, 3.0316, 3.0311, 3.0311, 3.0308, 3.0304, 3.0302, 3.0293, 3.0287, 3.026, 3.0258, 3.0257, 3.0255, 3.0251, 3.0247, 3.0236, 3.0223, 3.0957, 3.0949, 3.0949, 3.0921, 3.0918, 3.0911, 3.0905, 3.0905, 3.0889, 3.0886, 3.0882, 3.0882, 3.0876, 3.0871, 3.0869, 3.0869, 3.0869, 3.0867, 3.0843, 3.0841, 3.084, 3.0835, 3.0835, 3.0831, 3.0822, 3.0811, 3.081, 3.0804, 3.0799, 3.079, 3.2146, 3.2145, 3.2134, 3.2134, 3.2131, 3.213, 3.2129, 3.212, 3.2104, 3.2094, 3.2089, 3.2073, 3.2063, 3.2031, 3.2026, 3.2024, 3.2023, 3.2011, 3.201, 3.2005, 3.1976, 3.1972, 3.1962, 3.1955, 3.1941, 3.1924, 3.1911, 3.1901, 3.1888, 3.1877, 3.2232, 3.2226, 3.2213, 3.2212, 3.2207, 3.2202, 3.2199, 3.2193, 3.2186, 3.217, 3.2169, 3.2168, 3.2165, 3.2163, 3.2149, 3.2142, 3.213, 3.2117, 3.2113, 3.209, 3.2071, 3.2066, 3.2054, 3.2052, 3.2048, 3.204, 3.1996, 3.1987, 3.1974, 3.1954, 3.2236, 3.2212, 3.2201, 3.2197, 3.2194, 3.2191, 3.2187, 3.2181, 3.2166, 3.2165, 3.2148, 3.2142, 3.2137, 3.2126, 3.2125, 3.2109, 3.2097, 3.2072, 3.2071, 3.2069, 3.2065, 3.2062, 3.2019, 3.2011, 3.2001, 3.1955, 3.1933, 3.1933, 3.1929, 3.1921, 3.2325, 3.2314, 3.231, 3.2308, 3.2306, 3.2306, 3.2296, 3.2288, 3.2285, 3.2284, 3.2283, 3.2283, 3.2274, 3.2271, 3.227, 3.2268, 3.2267, 3.2252, 3.2242, 3.2236, 3.2236, 3.2232, 3.2213, 3.2211, 3.2208, 3.2183, 3.2173, 3.217, 3.2168, 3.2167, 3.2333, 3.2332, 3.2327, 3.2316, 3.2307, 3.2289, 3.2276, 3.2264, 3.2257, 3.2252, 3.2223, 3.2209, 3.2199, 3.2187, 3.2176, 3.2172, 3.2151, 3.2104, 3.2087, 3.2059, 3.2019, 3.1992, 3.1986, 3.1981, 3.1981, 3.1938, 3.1904, 3.1903, 3.1891, 3.1869, 3.2545, 3.2538, 3.2534, 3.2525, 3.2515, 3.2514, 3.2502, 3.2487, 3.2477, 3.2477, 3.2471, 3.2466, 3.2458, 3.2452, 3.2429, 3.242, 3.2406, 3.2394, 3.2384, 3.235, 3.2349, 3.2327, 3.2322, 3.2274, 3.2265, 3.2222, 3.2198, 3.2114, 3.2088, 3.2059, 3.3262, 3.3257, 3.3256, 3.3248, 3.3247, 3.3242, 3.3241, 3.324, 3.3226, 3.3216, 3.3207, 3.3196, 3.3191, 3.3181, 3.317, 3.3147, 3.3142, 3.3133, 3.3132, 3.3124, 3.3097, 3.3096, 3.3077, 3.3068, 3.3065, 3.3053, 3.3051, 3.3039, 3.3026, 3.2994, 3.4257, 3.4257, 3.4253, 3.4236, 3.4235, 3.4233, 3.4228, 3.4219, 3.4209, 3.4184, 3.4172, 3.4164, 3.4152, 3.4151, 3.414, 3.4127, 3.4123, 3.4111, 3.4092, 3.4084, 3.4079, 3.4055, 3.4053, 3.4039, 3.3978, 3.3963, 3.3923, 3.3921, 3.3918, 3.3898, 3.4919, 3.4904, 3.4894, 3.4887, 3.4885, 3.4883, 3.4872, 3.4866, 3.4864, 3.4857, 3.4855, 3.4854, 3.484, 3.4839, 3.4839, 3.4828, 3.4821, 3.4821, 3.4819, 3.4811, 3.4807, 3.4806, 3.4806, 3.4787, 3.4767, 3.4763, 3.476, 3.4743, 3.4737, 3.4725, 3.5516, 3.5515, 3.5513, 3.5506, 3.5478, 3.5437, 3.5434, 3.5414, 3.5411, 3.5396, 3.5342, 3.5342, 3.5316, 3.5315, 3.5302, 3.5298, 3.5291, 3.5256, 3.5218, 3.5197, 3.5182, 3.5165, 3.5161, 3.5121, 3.5082, 3.5065, 3.5055, 3.5049, 3.5025, 3.4998, 3.553, 3.5522, 3.5511, 3.5511, 3.5501, 3.5486, 3.5486, 3.547, 3.547, 3.546, 3.5458, 3.545, 3.5448, 3.5448, 3.5442, 3.5434, 3.54, 3.5397, 3.5395, 3.5357, 3.5353, 3.535, 3.5334, 3.5332, 3.5314, 3.5303, 3.5286, 3.5272, 3.526, 3.5257, 3.571, 3.5704, 3.57, 3.5694, 3.5693, 3.5676, 3.5676, 3.5669, 3.5646, 3.5628, 3.5609, 3.5608, 3.5585, 3.5578, 3.557, 3.5564, 3.556, 3.5559, 3.5558, 3.5548, 3.5515, 3.551, 3.5501, 3.5481, 3.5468, 3.5456, 3.5444, 3.544, 3.5424, 3.5411, 3.577, 3.5761, 3.5753, 3.5753, 3.5746, 3.5745, 3.5741, 3.5736, 3.5735, 3.5733, 3.5708, 3.5701, 3.5699, 3.5695, 3.5686, 3.5678, 3.5675, 3.5675, 3.5655, 3.5647, 3.5646, 3.5644, 3.5629, 3.5628, 3.5626, 3.5624, 3.5551, 3.5542, 3.554, 3.553, 3.5778, 3.5773, 3.5769, 3.5765, 3.5759, 3.5757, 3.5754, 3.5749, 3.5749, 3.5733, 3.5729, 3.5728, 3.5718, 3.5716, 3.5709, 3.5708, 3.5681, 3.5674, 3.5674, 3.5657, 3.5647, 3.5644, 3.5634, 3.563, 3.5599, 3.5578, 3.5547, 3.5545, 3.5542, 3.554, 3.5932, 3.5916, 3.5904, 3.5874, 3.5869, 3.5862, 3.5859, 3.5858, 3.5847, 3.5839, 3.5835, 3.5833, 3.5822, 3.5808, 3.5806, 3.5795, 3.5773, 3.5771, 3.5756, 3.5754, 3.5748, 3.5746, 3.5725, 3.569, 3.5683, 3.5678, 3.5663, 3.5657, 3.5655, 3.5645, 3.5517, 3.6002, 3.6, 3.5995, 3.5985, 3.5971, 3.5959, 3.5937, 3.5925, 3.5923, 3.5921, 3.5871, 3.5868, 3.5865, 3.5858, 3.5857, 3.5844, 3.5837, 3.5832, 3.5809, 3.5802, 3.5792, 3.5777, 3.5762, 3.5733, 3.5724, 3.5705, 3.5694, 3.561, 3.5602, 3.5565, 3.6082, 3.6073, 3.6069, 3.6068, 3.6059, 3.6046, 3.6038, 3.6038, 3.6037, 3.6009, 3.5972, 3.5969, 3.5958, 3.5954, 3.5949, 3.5936, 3.5907, 3.5902, 3.589, 3.5879, 3.585, 3.5836, 3.5823, 3.5809, 3.5803, 3.5791, 3.5771, 3.576, 3.572, 3.5695, 3.7092, 3.7073, 3.7071, 3.7057, 3.705, 3.7041, 3.704, 3.7038, 3.7035, 3.7015, 3.6997, 3.6995, 3.6953, 3.6952, 3.6947, 3.6938, 3.6884, 3.688, 3.6876, 3.6871, 3.6854, 3.6814, 3.6814, 3.6792, 3.6744, 3.6739, 3.6714, 3.6703, 3.6695, 3.6688, 3.7336, 3.733, 3.7262, 3.7252, 3.7226, 3.721, 3.7209, 3.7201, 3.7196, 3.7186, 3.717, 3.7167, 3.7127, 3.7119, 3.7103, 3.7095, 3.7087, 3.7082, 3.7067, 3.7057, 3.7033, 3.7025, 3.702, 3.7, 3.6997, 3.699, 3.6976, 3.6974, 3.6969, 3.6959, 3.7385, 3.737, 3.7363, 3.7356, 3.7353, 3.7352, 3.7351, 3.7311, 3.7297, 3.7297, 3.7288, 3.7273, 3.7263, 3.7247, 3.7236, 3.7203, 3.7172, 3.7151, 3.7149, 3.7138, 3.7057, 3.7029, 3.7017, 3.7017, 3.7, 3.6968, 3.6958, 3.6882, 3.6871, 3.6867, 3.7435, 3.7416, 3.7413, 3.7407, 3.7402, 3.7399, 3.7395, 3.7394, 3.7371, 3.7362, 3.7361, 3.7342, 3.7341, 3.7339, 3.7338, 3.7328, 3.7322, 3.7314, 3.7307, 3.7274, 3.7265, 3.7248, 3.7242, 3.7233, 3.7224, 3.7213, 3.7211, 3.7195, 3.7193, 3.7179, 3.769, 3.7689, 3.7681, 3.7678, 3.7657, 3.7646, 3.7613, 3.7596, 3.7594, 3.7587, 3.7583, 3.7528, 3.7519, 3.7495, 3.749, 3.749, 3.7474, 3.7464, 3.7462, 3.7461, 3.7461, 3.7443, 3.7422, 3.7418, 3.7367, 3.7364, 3.7353, 3.7325, 3.7325, 3.7324, 3.8377, 3.8372, 3.8366, 3.8362, 3.8342, 3.8314, 3.8289, 3.8273, 3.8263, 3.8259, 3.8231, 3.8215, 3.8177, 3.8176, 3.8154, 3.8142, 3.8131, 3.813, 3.813, 3.8122, 3.812, 3.8076, 3.8073, 3.8064, 3.8064, 3.8061, 3.806, 3.804, 3.8037, 3.8036, 3.4952, 3.8515, 3.8481, 3.8424, 3.8417, 3.8414, 3.8408, 3.8398, 3.8394, 3.8393, 3.8384, 3.8363, 3.8337, 3.8328, 3.8324, 3.8296, 3.8289, 3.8287, 3.8287, 3.8255, 3.8245, 3.8222, 3.8206, 3.819, 3.8179, 3.8148, 3.8134, 3.8133, 3.8118, 3.8117, 3.8101, 3.8868, 3.8862, 3.8858, 3.8849, 3.8829, 3.877, 3.8765, 3.875, 3.8747, 3.874, 3.8739, 3.8715, 3.8695, 3.8687, 3.8681, 3.8677, 3.8659, 3.8644, 3.8644, 3.8636, 3.8619, 3.8613, 3.8607, 3.8599, 3.8585, 3.8553, 3.85, 3.8491, 3.8467, 3.8464, 4.0362, 4.0359, 4.0357, 4.0355, 4.0345, 4.0341, 4.0315, 4.0292, 4.0285, 4.0249, 4.0247, 4.0242, 4.0218, 4.0211, 4.0191, 4.0178, 4.017, 4.0102, 4.0098, 4.0091, 4.0087, 4.0074, 4.0064, 4.0063, 4.0059, 4.0031, 4.003, 4.0004, 3.9994, 3.9976, 3.9969], \"logprob\": [30.0, 29.0, 28.0, 27.0, 26.0, 25.0, 24.0, 23.0, 22.0, 21.0, 20.0, 19.0, 18.0, 17.0, 16.0, 15.0, 14.0, 13.0, 12.0, 11.0, 10.0, 9.0, 8.0, 7.0, 6.0, 5.0, 4.0, 3.0, 2.0, 1.0, -1.8460999727249146, -2.2564001083374023, -2.4388999938964844, -2.657399892807007, -2.72760009765625, -3.171099901199341, -3.4033000469207764, -3.500200033187866, -3.5952999591827393, -3.6454999446868896, -3.812999963760376, -3.9100000858306885, -3.95770001411438, -4.064499855041504, -4.177000045776367, -4.18120002746582, -4.188199996948242, -4.204899787902832, -4.249199867248535, -4.528800010681152, -4.6082000732421875, -4.627900123596191, -4.659599781036377, -4.832399845123291, -4.939000129699707, -5.058199882507324, -5.183300018310547, -5.23199987411499, -5.250999927520752, -5.300099849700928, -0.46050000190734863, -2.754199981689453, -3.0113000869750977, -3.365999937057495, -3.711699962615967, -3.8257999420166016, -4.499899864196777, -4.5381999015808105, -4.817599773406982, -4.9517998695373535, -5.009900093078613, -5.144499778747559, -5.3643999099731445, -5.411600112915039, -5.433800220489502, -5.581500053405762, -5.594900131225586, -5.711400032043457, -5.734300136566162, -5.760700225830078, -5.765100002288818, -5.906400203704834, -5.973400115966797, -5.976500034332275, -5.998799800872803, -6.026400089263916, -6.0725998878479, -6.112599849700928, -6.114699840545654, -6.21619987487793, -1.627500057220459, -1.9575999975204468, -2.4221999645233154, -2.87280011177063, -2.947000026702881, -3.2272000312805176, -3.2869999408721924, -3.402600049972534, -3.4809999465942383, -3.576900005340576, -3.9902000427246094, -4.110000133514404, -4.13040018081665, -4.517899990081787, -4.6149001121521, -4.659599781036377, -4.660399913787842, -4.678100109100342, -4.712900161743164, -4.727399826049805, -4.7855000495910645, -4.8308000564575195, -4.988900184631348, -5.001699924468994, -5.0081000328063965, -5.016200065612793, -5.038099765777588, -5.0605998039245605, -5.114799976348877, -5.177499771118164, -1.4569000005722046, -2.3017001152038574, -2.312700033187866, -3.462100028991699, -3.5114998817443848, -3.6647000312805176, -3.7723000049591064, -3.773400068283081, -4.022500038146973, -4.069900035858154, -4.114699840545654, -4.121300220489502, -4.197700023651123, -4.245699882507324, -4.271100044250488, -4.27239990234375, -4.275100231170654, -4.291399955749512, -4.517399787902832, -4.532700061798096, -4.540599822998047, -4.584199905395508, -4.586699962615967, -4.616799831390381, -4.681700229644775, -4.755099773406982, -4.767600059509277, -4.804100036621094, -4.8343000411987305, -4.8892998695373535, -1.9257999658584595, -2.0009000301361084, -2.726900100708008, -2.732300043106079, -2.850399971008301, -2.865299940109253, -2.9330999851226807, -3.208699941635132, -3.5748000144958496, -3.743799924850464, -3.821700096130371, -4.038899898529053, -4.154200077056885, -4.447700023651123, -4.491199970245361, -4.501500129699707, -4.512599945068359, -4.599599838256836, -4.6020002365112305, -4.638999938964844, -4.8171000480651855, -4.84089994430542, -4.889699935913086, -4.929500102996826, -4.9934000968933105, -5.072999954223633, -5.128900051116943, -5.167900085449219, -5.219399929046631, -5.258800029754639, -1.5981999635696411, -2.128700017929077, -2.8480000495910645, -2.8824000358581543, -3.0843000411987305, -3.2072999477386475, -3.289900064468384, -3.445499897003174, -3.5871999263763428, -3.8417999744415283, -3.859999895095825, -3.8754000663757324, -3.9154000282287598, -3.9410998821258545, -4.111700057983398, -4.182000160217285, -4.301499843597412, -4.418099880218506, -4.450300216674805, -4.621300220489502, -4.739799976348877, -4.767899990081787, -4.834199905395508, -4.848999977111816, -4.869900226593018, -4.909200191497803, -5.111199855804443, -5.148200035095215, -5.1992998123168945, -5.274899959564209, -0.9104999899864197, -2.903700113296509, -3.264699935913086, -3.3519999980926514, -3.433199882507324, -3.4786999225616455, -3.563499927520752, -3.6700000762939453, -3.910799980163574, -3.916300058364868, -4.124800205230713, -4.18779993057251, -4.241199970245361, -4.344299793243408, -4.353899955749512, -4.481500148773193, -4.568399906158447, -4.735400199890137, -4.742300033569336, -4.754000186920166, -4.774799823760986, -4.795499801635742, -5.0131001472473145, -5.04640007019043, -5.089799880981445, -5.268700122833252, -5.345900058746338, -5.3460001945495605, -5.358399868011475, -5.384399890899658, -2.136399984359741, -2.748199939727783, -2.9065001010894775, -2.9834001064300537, -3.0241000652313232, -3.046799898147583, -3.304800033569336, -3.502700090408325, -3.545599937438965, -3.5673000812530518, -3.591900110244751, -3.596299886703491, -3.738600015640259, -3.786099910736084, -3.8055999279022217, -3.8359999656677246, -3.850399971008301, -4.046899795532227, -4.149499893188477, -4.211900234222412, -4.212800025939941, -4.254700183868408, -4.419000148773193, -4.441699981689453, -4.4629998207092285, -4.642399787902832, -4.701099872589111, -4.724400043487549, -4.735099792480469, -4.736400127410889, -1.445099949836731, -1.6205999851226807, -2.1600000858306885, -2.7660000324249268, -3.0933001041412354, -3.5271999835968018, -3.7551000118255615, -3.9205000400543213, -4.008399963378906, -4.0731000900268555, -4.355999946594238, -4.473199844360352, -4.550300121307373, -4.6305999755859375, -4.69890022277832, -4.724899768829346, -4.84089994430542, -5.067999839782715, -5.140399932861328, -5.243899822235107, -5.381400108337402, -5.462299823760986, -5.480899810791016, -5.493599891662598, -5.487199783325195, -5.6097002029418945, -5.692299842834473, -5.694699764251709, -5.722799777984619, -5.770999908447266, -1.3660000562667847, -2.0769999027252197, -2.409899950027466, -2.8113999366760254, -3.153599977493286, -3.1712000370025635, -3.4702999591827393, -3.726599931716919, -3.8801000118255615, -3.881200075149536, -3.9528000354766846, -4.015100002288818, -4.113699913024902, -4.174699783325195, -4.387400150299072, -4.454899787902832, -4.556099891662598, -4.64109992980957, -4.700399875640869, -4.886300086975098, -4.89300012588501, -4.998700141906738, -5.021399974822998, -5.214900016784668, -5.2459001541137695, -5.388400077819824, -5.459499835968018, -5.679100036621094, -5.7378997802734375, -5.798900127410889, -2.0550999641418457, -2.3859000205993652, -2.4772000312805176, -2.801800012588501, -2.8541998863220215, -3.011899948120117, -3.0201001167297363, -3.072499990463257, -3.391900062561035, -3.5817999839782715, -3.7172000408172607, -3.871500015258789, -3.940999984741211, -4.045000076293945, -4.160099983215332, -4.359300136566162, -4.393499851226807, -4.460100173950195, -4.472700119018555, -4.524899959564209, -4.68779993057251, -4.698599815368652, -4.796899795532227, -4.843500137329102, -4.859000205993652, -4.91480016708374, -4.923900127410889, -4.97599983215332, -5.02869987487793, -5.152100086212158, -2.0006000995635986, -2.0058999061584473, -2.2702999114990234, -2.9428000450134277, -2.9583001136779785, -3.0280001163482666, -3.149600028991699, -3.3359999656677246, -3.516200065612793, -3.862299919128418, -3.996799945831299, -4.077400207519531, -4.187900066375732, -4.192500114440918, -4.279699802398682, -4.374599933624268, -4.401800155639648, -4.483699798583984, -4.594699859619141, -4.643799781799316, -4.667300224304199, -4.786799907684326, -4.7982001304626465, -4.860300064086914, -5.098599910736084, -5.147900104522705, -5.272900104522705, -5.2795000076293945, -5.28849983215332, -5.344600200653076, -2.123500108718872, -2.76419997215271, -3.0510001182556152, -3.2086000442504883, -3.2432000637054443, -3.2995998859405518, -3.478800058364868, -3.5683000087738037, -3.6078999042510986, -3.6998000144958496, -3.714900016784668, -3.732800006866455, -3.888700008392334, -3.9012999534606934, -3.903700113296509, -4.01609992980957, -4.075399875640869, -4.079899787902832, -4.0980000495910645, -4.156899929046631, -4.189899921417236, -4.203000068664551, -4.20419979095459, -4.337500095367432, -4.468200206756592, -4.492300033569336, -4.504700183868408, -4.6031999588012695, -4.633900165557861, -4.692699909210205, -1.8163000345230103, -1.878499984741211, -2.0195000171661377, -2.408400058746338, -3.210099935531616, -3.804500102996826, -3.8387999534606934, -4.026599884033203, -4.054699897766113, -4.175899982452393, -4.514999866485596, -4.5157999992370605, -4.646900177001953, -4.652400016784668, -4.714900016784668, -4.730299949645996, -4.76170015335083, -4.8983001708984375, -5.029699802398682, -4.9045000076293945, -5.145100116729736, -5.191500186920166, -5.2027997970581055, -5.309700012207031, -5.401599884033203, -5.440800189971924, -5.462299823760986, -5.474699974060059, -5.524899959564209, -5.578199863433838, -2.020699977874756, -2.420599937438965, -2.811500072479248, -2.8143999576568604, -3.0573999881744385, -3.362499952316284, -3.363600015640259, -3.5968000888824463, -3.6008999347686768, -3.7263998985290527, -3.748699903488159, -3.835599899291992, -3.8515000343322754, -3.8522000312805176, -3.9184999465942383, -3.993799924850464, -4.261300086975098, -4.28439998626709, -4.293000221252441, -4.522799968719482, -4.542099952697754, -4.5569000244140625, -4.637700080871582, -4.650100231170654, -4.731200218200684, -4.778800010681152, -4.84660005569458, -4.899499893188477, -4.94320011138916, -4.9552998542785645, -2.1482999324798584, -2.4458999633789062, -2.5896999835968018, -2.787600040435791, -2.812700033187866, -3.216399908065796, -3.22379994392395, -3.3499999046325684, -3.6721999645233154, -3.871299982070923, -4.0447001457214355, -4.054500102996826, -4.230800151824951, -4.278500080108643, -4.328199863433838, -4.367400169372559, -4.394100189208984, -4.400100231170654, -4.406000137329102, -4.4583001136779785, -4.630199909210205, -4.6554999351501465, -4.693900108337402, -4.779600143432617, -4.833600044250488, -4.877799987792969, -4.922599792480469, -4.934299945831299, -4.992400169372559, -5.034299850463867, -2.438499927520752, -2.767899990081787, -2.9644999504089355, -2.9744999408721924, -3.140500068664551, -3.1635000705718994, -3.2386999130249023, -3.315200090408325, -3.334199905395508, -3.364799976348877, -3.7102999687194824, -3.790800094604492, -3.81850004196167, -3.8564000129699707, -3.9456000328063965, -4.016499996185303, -4.042900085449219, -4.043300151824951, -4.199100017547607, -4.24970006942749, -4.257599830627441, -4.276199817657471, -4.368000030517578, -4.372499942779541, -4.387499809265137, -4.402100086212158, -4.759200096130371, -4.797100067138672, -4.804599761962891, -4.8414998054504395, -2.7040998935699463, -2.8531999588012695, -2.9428999423980713, -3.0571999549865723, -3.1689000129699707, -3.21560001373291, -3.2723000049591064, -3.3517000675201416, -3.358599901199341, -3.5971999168395996, -3.646899938583374, -3.651599884033203, -3.766700029373169, -3.794300079345703, -3.8689000606536865, -3.8749001026153564, -4.112100124359131, -4.165900230407715, -4.167399883270264, -4.288099765777588, -4.3471999168396, -4.367099761962891, -4.427700042724609, -4.450399875640869, -4.609300136566162, -4.706099987030029, -4.833799839019775, -4.842700004577637, -4.853600025177002, -4.862500190734863, -1.555400013923645, -2.531899929046631, -2.8808999061584473, -3.4628000259399414, -3.535599946975708, -3.6308000087738037, -3.6656999588012695, -3.6735000610351562, -3.7976999282836914, -3.8787999153137207, -3.913800001144409, -3.9388999938964844, -4.032400131225586, -4.144000053405762, -4.155799865722656, -4.236000061035156, -4.375999927520752, -4.387700080871582, -4.474999904632568, -4.4832000732421875, -4.51609992980957, -4.524199962615967, -4.626800060272217, -4.779699802398682, -4.808300018310547, -4.827300071716309, -4.8805999755859375, -4.905099868774414, -4.912499904632568, -4.945400238037109, -4.907800197601318, -1.8660000562667847, -2.0408999919891357, -2.3134000301361084, -2.680999994277954, -3.051300048828125, -3.2808001041412354, -3.6041998863220215, -3.748500108718872, -3.7744998931884766, -3.7892000675201416, -4.2204999923706055, -4.239799976348877, -4.256800174713135, -4.30210018157959, -4.308800220489502, -4.388800144195557, -4.429800033569336, -4.458099842071533, -4.573999881744385, -4.610300064086914, -4.657299995422363, -4.720799922943115, -4.780900001525879, -4.892000198364258, -4.923999786376953, -4.98829984664917, -5.02370023727417, -5.258600234985352, -5.279399871826172, -5.364999771118164, -1.850100040435791, -2.372299909591675, -2.5174999237060547, -2.5552000999450684, -2.8326001167297363, -3.148400068283081, -3.285799980163574, -3.295799970626831, -3.306999921798706, -3.693000078201294, -4.047599792480469, -4.071800231933594, -4.159900188446045, -4.182400226593018, -4.218599796295166, -4.302599906921387, -4.472899913787842, -4.500800132751465, -4.558800220489502, -4.610199928283691, -4.738800048828125, -4.793600082397461, -4.843400001525879, -4.8942999839782715, -4.91510009765625, -4.957200050354004, -5.021599769592285, -5.055699825286865, -5.169600009918213, -5.2347002029418945, -1.9110000133514404, -2.6905999183654785, -2.7592999935150146, -3.068000078201294, -3.200000047683716, -3.3413000106811523, -3.3580000400543213, -3.3770999908447266, -3.4205000400543213, -3.663300037384033, -3.8422000408172607, -3.8554000854492188, -4.17140007019043, -4.178699970245361, -4.2118000984191895, -4.265900135040283, -4.54580020904541, -4.563700199127197, -4.579400062561035, -4.5991997718811035, -4.6697001457214355, -4.817299842834473, -4.820400238037109, -4.89169979095459, -5.035299777984619, -5.0493998527526855, -5.116199970245361, -5.144700050354004, -5.164700031280518, -5.180799961090088, -1.4953999519348145, -1.9448000192642212, -3.5415000915527344, -3.6572000980377197, -3.9001998901367188, -4.023499965667725, -4.035900115966797, -4.090099811553955, -4.121799945831299, -4.185699939727783, -4.2846999168396, -4.298500061035156, -4.503300189971924, -4.539299964904785, -4.610400199890137, -4.6392998695373535, -4.672900199890137, -4.6921000480651855, -4.746699810028076, -4.783199787139893, -4.86329984664917, -4.889200210571289, -4.906899929046631, -4.966300010681152, -4.973400115966797, -4.9953999519348145, -5.0345001220703125, -5.039299964904785, -5.0524001121521, -5.080399990081787, -1.8753000497817993, -2.527400016784668, -2.7392001152038574, -2.907399892807007, -2.959700107574463, -2.9863998889923096, -3.014699935913086, -3.599600076675415, -3.740600109100342, -3.7409000396728516, -3.8231000900268555, -3.9549999237060547, -4.025000095367432, -4.139100074768066, -4.20959997177124, -4.388999938964844, -4.537700176239014, -4.625999927520752, -4.633699893951416, -4.67609977722168, -4.950099945068359, -5.031000137329102, -5.061100006103516, -5.062900066375732, -5.105599880218506, -4.980400085449219, -5.208600044250488, -5.37060022354126, -5.389800071716309, -5.400199890136719, -2.462599992752075, -2.9621999263763428, -3.0288000106811523, -3.135999917984009, -3.2298998832702637, -3.264400005340576, -3.3331000804901123, -3.350600004196167, -3.6266000270843506, -3.715100049972534, -3.725399971008301, -3.8973000049591064, -3.9056999683380127, -3.9254000186920166, -3.930799961090088, -4.010300159454346, -4.054699897766113, -4.109300136566162, -4.152900218963623, -4.34660005569458, -4.390999794006348, -4.474400043487549, -4.5019001960754395, -4.542399883270264, -4.579800128936768, -4.623700141906738, -4.633999824523926, -4.695199966430664, -4.701300144195557, -4.752699851989746, -2.0174999237060547, -2.0885000228881836, -2.42549991607666, -2.5141000747680664, -3.0264999866485596, -3.2118000984191895, -3.6287999153137207, -3.7934999465942383, -3.810800075531006, -3.8694000244140625, -3.906899929046631, -4.271599769592285, -4.315899848937988, -4.436699867248535, -4.460599899291992, -4.460599899291992, -4.531499862670898, -4.574100017547607, -4.583600044250488, -4.58620023727417, -4.5868000984191895, -4.65880012512207, -4.734799861907959, -4.747300148010254, -4.910299777984619, -4.919099807739258, -4.952600002288818, -5.028600215911865, -5.030200004577637, -5.031499862670898, -2.394200086593628, -2.54229998588562, -2.6921000480651855, -2.787600040435791, -3.1572999954223633, -3.5209999084472656, -3.7614998817443848, -3.893399953842163, -3.96370005607605, -3.9916000366210938, -4.166900157928467, -4.2546000480651855, -4.441699981689453, -4.442800045013428, -4.538099765777588, -4.582699775695801, -4.6234002113342285, -4.626500129699707, -4.629300117492676, -4.656000137329102, -4.663700103759766, -4.810699939727783, -4.817800045013428, -4.845399856567383, -4.8454999923706055, -4.8531999588012695, -4.857999801635742, -4.913700103759766, -4.921999931335449, -4.92549991607666, -4.8902997970581055, -1.4160000085830688, -2.7757999897003174, -3.605799913406372, -3.674099922180176, -3.7012999057769775, -3.7571001052856445, -3.8345999717712402, -3.867500066757202, -3.8749001026153564, -3.940200090408325, -4.0802001953125, -4.230000019073486, -4.276100158691406, -4.297500133514404, -4.428800106048584, -4.457300186157227, -4.466899871826172, -4.467899799346924, -4.595099925994873, -4.631899833679199, -4.711999893188477, -4.763500213623047, -4.813399791717529, -4.845900058746338, -4.9217000007629395, -4.970399856567383, -4.97130012512207, -5.009699821472168, -5.013700008392334, -5.053299903869629, -2.140399932861328, -2.3589999675750732, -2.468400001525879, -2.708699941635132, -3.0927999019622803, -3.7509000301361084, -3.7920000553131104, -3.907099962234497, -3.9282000064849854, -3.974100112915039, -3.981800079345703, -4.128499984741211, -4.234300136566162, -4.2754998207092285, -4.304500102996826, -4.323400020599365, -4.404300212860107, -4.467299938201904, -4.467800140380859, -4.499499797821045, -4.563399791717529, -4.584700107574463, -4.6057000160217285, -4.6350998878479, -4.68149995803833, -4.784299850463867, -4.931000232696533, -4.954800128936768, -5.013199806213379, -5.021299839019775, -2.9446001052856445, -2.9825000762939453, -3.020699977874756, -3.041800022125244, -3.1858999729156494, -3.2256999015808105, -3.498699903488159, -3.6847000122070312, -3.739500045776367, -3.966599941253662, -3.9807000160217285, -4.008699893951416, -4.134500026702881, -4.168300151824951, -4.254799842834473, -4.310999870300293, -4.344799995422363, -4.583499908447266, -4.593699932098389, -4.617599964141846, -4.6296000480651855, -4.666299819946289, -4.694300174713135, -4.697199821472168, -4.710400104522705, -4.7845001220703125, -4.786399841308594, -4.852200031280518, -4.876399993896484, -4.916600227355957, -4.708600044250488]}, \"token.table\": {\"Topic\": [29, 14, 7, 22, 3, 25, 25, 25, 26, 5, 15, 29, 13, 30, 23, 25, 17, 13, 18, 9, 6, 20, 22, 4, 25, 14, 20, 8, 21, 10, 19, 6, 6, 22, 17, 6, 29, 3, 3, 9, 8, 17, 14, 23, 2, 16, 20, 9, 3, 15, 21, 10, 26, 11, 26, 14, 22, 22, 20, 4, 2, 18, 24, 29, 8, 18, 1, 5, 30, 22, 16, 26, 22, 2, 28, 2, 27, 12, 3, 29, 5, 24, 26, 13, 13, 22, 28, 14, 29, 5, 18, 7, 4, 29, 12, 20, 27, 5, 26, 8, 18, 4, 11, 7, 5, 22, 28, 30, 29, 29, 2, 19, 23, 15, 16, 15, 17, 27, 2, 3, 22, 29, 25, 4, 14, 23, 13, 9, 12, 25, 27, 12, 4, 2, 24, 27, 17, 29, 4, 4, 15, 15, 1, 7, 19, 2, 30, 1, 24, 4, 8, 5, 17, 29, 15, 14, 3, 6, 2, 11, 20, 26, 12, 1, 27, 22, 26, 15, 2, 7, 15, 30, 30, 4, 10, 20, 11, 9, 8, 9, 22, 2, 21, 30, 14, 8, 24, 8, 10, 26, 4, 5, 1, 11, 1, 6, 22, 24, 19, 1, 29, 6, 15, 9, 15, 3, 28, 20, 9, 4, 22, 14, 28, 4, 2, 4, 28, 28, 25, 11, 24, 10, 11, 21, 26, 18, 8, 19, 19, 12, 14, 14, 19, 29, 4, 20, 4, 15, 19, 29, 6, 17, 3, 27, 10, 8, 10, 9, 8, 2, 26, 29, 1, 28, 3, 21, 11, 16, 2, 4, 21, 17, 12, 17, 30, 27, 10, 12, 7, 14, 21, 8, 9, 30, 20, 11, 6, 14, 18, 21, 30, 10, 15, 28, 30, 28, 3, 10, 10, 3, 9, 16, 24, 7, 23, 17, 4, 15, 14, 22, 4, 20, 11, 17, 6, 8, 13, 16, 12, 19, 12, 30, 3, 20, 21, 20, 16, 17, 1, 26, 5, 24, 26, 12, 22, 15, 23, 16, 21, 24, 17, 9, 18, 28, 10, 11, 23, 25, 8, 25, 29, 29, 9, 30, 10, 1, 18, 22, 28, 14, 1, 16, 28, 21, 3, 12, 2, 19, 9, 1, 30, 4, 11, 20, 22, 18, 24, 23, 9, 19, 4, 25, 20, 22, 19, 16, 12, 9, 14, 14, 27, 9, 14, 19, 7, 4, 24, 27, 29, 5, 5, 12, 8, 21, 23, 17, 18, 6, 6, 20, 4, 21, 27, 16, 20, 25, 15, 18, 3, 15, 2, 19, 15, 21, 23, 29, 19, 14, 7, 14, 18, 28, 22, 3, 6, 8, 6, 19, 11, 23, 6, 8, 15, 27, 28, 18, 16, 17, 17, 2, 3, 17, 30, 27, 17, 19, 21, 15, 13, 7, 16, 28, 16, 11, 13, 16, 25, 1, 29, 21, 23, 6, 22, 14, 3, 8, 27, 13, 21, 13, 26, 15, 10, 24, 13, 4, 30, 11, 27, 17, 1, 9, 26, 28, 10, 1, 19, 7, 17, 12, 11, 9, 13, 3, 8, 28, 26, 21, 7, 9, 7, 10, 21, 5, 29, 2, 30, 26, 11, 24, 18, 24, 6, 20, 23, 23, 5, 30, 19, 23, 16, 8, 14, 5, 24, 2, 4, 11, 3, 13, 8, 25, 20, 30, 24, 10, 13, 7, 6, 26, 13, 25, 4, 19, 16, 5, 30, 6, 25, 19, 10, 12, 2, 16, 27, 28, 29, 13, 25, 16, 11, 18, 14, 14, 9, 5, 26, 22, 27, 25, 8, 2, 26, 7, 15, 1, 5, 3, 30, 18, 28, 3, 16, 5, 8, 19, 28, 22, 3, 4, 14, 9, 26, 25, 6, 26, 30, 10, 5, 13, 24, 15, 6, 27, 20, 14, 9, 2, 16, 23, 22, 17, 5, 24, 13, 11, 6, 3, 2, 23, 24, 19, 12, 7, 9, 25, 10, 9, 21, 7, 11, 18, 16, 24, 1, 27, 6, 13, 23, 3, 29, 23, 30, 15, 22, 6, 16, 1, 10, 12, 28, 25, 16, 15, 27, 8, 23, 7, 12, 10, 5, 17, 18, 13, 11, 18, 23, 18, 10, 20, 5, 4, 8, 30, 2, 6, 16, 19, 26, 6, 12, 23, 2, 11, 1, 5, 29, 2, 23, 24, 25, 27, 21, 19, 15, 21, 22, 17, 12, 11, 13, 29, 6, 11, 20, 9, 5, 29, 10, 25, 7, 27, 11, 20, 15, 21, 15, 18, 24, 19, 28, 21, 23, 25, 27, 10, 22, 10, 18, 28, 5, 22, 1, 29, 30, 2, 28, 7, 13, 2, 3, 30, 7, 1, 22, 17, 20, 11, 23, 19, 8, 21, 13, 10, 2, 3, 2, 28, 1, 25, 29, 9, 11, 18, 15, 30, 25, 24, 14, 4, 23, 20, 5, 23, 16, 20, 27, 12, 12, 19, 26, 17, 24, 27, 7, 26, 25, 5, 13, 17, 16, 25, 20, 1, 5, 16, 1, 21, 26, 17, 24, 18, 13, 8, 23, 20, 27, 26, 4, 8, 10, 12, 11, 13, 20, 18, 12, 27, 23, 18, 24, 18, 14, 26, 19, 9, 21, 27, 27, 12, 26, 1, 30, 18, 30, 23, 7, 5, 6, 17, 16, 7, 18, 1, 20, 24, 7, 27, 16, 17, 7, 21, 13, 29, 21, 24, 21, 24, 28, 1, 3, 25, 1, 30, 19, 5, 28, 27, 6, 15, 24, 2, 25, 7, 9, 12, 8, 28, 22, 10, 12, 1, 28, 11, 30, 7, 10, 14, 13, 14, 17, 13, 12, 19, 8, 7, 7, 9, 26, 1, 6, 13, 12, 3, 3], \"Freq\": [0.9624554186357634, 0.9901372332723426, 0.9568034833414727, 0.9739844866410412, 0.9922531271150853, 1.0003424689094018, 0.95390224076475, 0.9595841213460696, 0.977731426457573, 0.9994384602941927, 0.9812645570287768, 0.987592905644473, 0.9870995787949068, 0.9947906685638539, 0.9662396691108092, 0.9874173086168193, 0.9868253568905627, 0.9972249658390367, 0.9757527533667122, 0.9987921960176723, 0.9453886537265269, 0.9937943026370086, 0.9962115365319394, 0.9985895604449854, 0.9888605373903258, 0.9998916610551931, 1.0004875051116147, 0.9939650110407989, 0.9587396242920935, 0.9781192834749809, 0.9948842709528167, 0.9672611439588137, 1.0027334066413787, 0.9940480055837508, 0.989011909808178, 0.9986639511290255, 0.9417617954233248, 0.9888749564344093, 0.9985182367033483, 0.9879377126132384, 0.9967179860388217, 0.9913992137352662, 0.9704319749852441, 0.9774887770060215, 0.9551796488800789, 0.9916979765175751, 1.0000185797731473, 0.9989081508296709, 0.9647893078725163, 0.9986464025258786, 1.0032555378246348, 0.9989046771452994, 0.9959639837576166, 0.9993897572408372, 0.9774447743148689, 0.9886138933203749, 0.9880076394385591, 0.954883110544878, 1.0033524994599716, 0.9988934514227162, 0.9674945969348835, 0.9952214384198715, 0.924847100974252, 0.9817361069350864, 0.9894798459036541, 0.9952905928978706, 0.9730719985972965, 0.999017889308399, 0.9454007915382578, 0.975570002276639, 0.9888166349899973, 0.9961201078771873, 1.0004672614460772, 0.9967643835508321, 0.9961412180551232, 0.9997769267087679, 0.9944488388684715, 0.9868665427991263, 0.9927357913426642, 0.9377146472273142, 1.0001296419486017, 0.9728364092195233, 0.9286680073847031, 0.9647522618469344, 0.9953921709522222, 0.9953897751134818, 0.994457755226554, 0.9439609257022343, 0.9885487288525429, 0.9970989524574991, 0.9872760232311041, 0.9904294563292465, 0.9937864535556853, 0.9842017725210023, 0.9999166033924747, 0.9896899519193473, 0.982345382249447, 0.9869968561552243, 1.000332616481631, 0.996993451668787, 0.955576698884601, 0.9910390388938237, 0.961917235613826, 0.9812407003135996, 0.9933590444920487, 0.9521405442594478, 0.9953057121082575, 0.9932297548133661, 0.9610878703690569, 0.9771799988910744, 0.9655758735811817, 0.9918973744640113, 0.9414727317750272, 0.9957972996062638, 0.9792799064208042, 0.986918278066248, 0.9872562388771332, 0.9946527273174767, 0.9611357954079075, 0.9989474241487206, 0.9895809295139841, 1.0010903585728652, 0.9982580940587727, 0.9826791077485172, 0.985265710548927, 0.9996881342423742, 0.9959973841584359, 0.9899919017409986, 0.9969497466492039, 0.9548417715151291, 0.9935142680912011, 0.9703118100800534, 0.9977407555815014, 0.05790279352135098, 0.05790279352135098, 0.6948335222562118, 0.9511885360243816, 0.9304642909193362, 0.9959945934412933, 0.9901780846654904, 0.9905397883550474, 0.9911832349729996, 0.998704239528041, 0.986020866719976, 0.9894536101483609, 0.9217027834034769, 0.9521814521379224, 0.9991240666596976, 0.9487211850216501, 0.9990509700161699, 0.997938999574993, 0.999472223845634, 0.9978222748353893, 0.9460582107175993, 0.9979398341614892, 0.9781001654379214, 0.9961215199148764, 0.9825222947475634, 0.977268953432185, 0.9930967100910957, 0.9745453937899772, 0.9981517157659754, 0.9500752420929744, 0.9976427998017731, 0.9943975823499258, 0.9841160460038696, 0.9712737082796825, 0.9907390023885922, 0.99525622054908, 0.992676644792952, 1.0007800709672616, 0.9522899008205934, 0.9549179094679449, 0.9822866115620988, 0.9321261240081248, 0.9964693060262673, 0.9990389186430689, 0.9995055964928373, 0.9872519407606982, 0.9673716296600001, 0.9975482689027386, 0.9575973463778967, 0.9644311675110218, 0.9846976661862985, 0.9560061974700537, 0.9812305425706216, 0.9979734794556905, 0.997340550265894, 0.9961439748128262, 0.9861556319478192, 0.9919205669658693, 0.9998459898907948, 1.000782251107266, 0.9872807097976649, 0.9911974421456563, 0.9980569098002074, 0.9962717777600807, 0.9945285390666568, 0.9901816979676643, 0.9983398624144114, 0.9810270758123265, 0.9945791988995878, 0.9909628622066693, 0.981580201106685, 0.9554918429508521, 0.9949277992109004, 0.9971129884551955, 0.9969205231705655, 0.9966991184327143, 0.9878756947059321, 0.9683417216209834, 0.9850090773175983, 0.9979259774172395, 1.0003593714904242, 0.974389156024738, 0.9998434402651927, 0.9850382429934431, 0.9535826009515027, 0.9855527925335004, 0.9898196330078938, 0.9844075579381001, 0.9968369918366521, 0.970484365286189, 0.9627840466396468, 1.0017527650500835, 0.9742225196957736, 0.9924283840555026, 0.9980249301584677, 0.9951178404630816, 0.9984048912586507, 0.997007034947091, 0.9893733866037899, 0.9526093046661828, 0.9896845370968351, 0.9986576397634951, 0.9655307780186787, 0.9924675792776708, 0.994083244174536, 0.9868659467864, 0.9677657226500129, 0.9990298299628991, 0.9967075337162232, 0.9826993855517969, 0.9764011367213052, 1.0001104729340067, 0.9941882770813432, 0.9805281476978827, 0.9322801067679026, 0.9920926266826008, 0.9534413438736233, 0.9860551970261231, 0.9640072361449339, 0.9962790338841847, 0.978359512810076, 0.9775584173506041, 0.9912098633823229, 0.9804649064971354, 0.9995149495829546, 0.9966540777637709, 0.9886160079360424, 0.9936641308536331, 0.9932721071680654, 0.9993808898316648, 0.9976442606197885, 0.9671807329172015, 0.995571319979659, 0.9133711909004806, 0.9856902101934838, 0.9667228540372063, 0.9939697187291039, 0.9798950510051609, 0.9853625513602132, 0.9801361687572828, 0.9860710470075293, 1.0029513135124621, 0.9995861929574208, 1.0007766120507313, 0.9138770517323803, 0.9735730593080899, 0.9963772202830865, 0.9847226278962572, 0.9473806749744255, 0.9729061419821412, 0.976517397057827, 0.953918203469998, 0.9493362012145731, 0.9959613774043787, 1.0002707767652932, 0.9971281294149581, 0.9987167291048789, 0.9955739286250064, 0.9529979163235929, 0.9973104019154063, 0.995891450106294, 1.0001034682355483, 0.9998114565722558, 1.0010717373730926, 0.9951653079515665, 0.9626504127272915, 0.9720256359525559, 0.9694520310142195, 0.9553666474386364, 0.9995906965172338, 0.9973909275880383, 0.9986340732831099, 0.9878441803459761, 0.9947686903997502, 0.999837416137453, 0.9930697331696385, 0.998457096135586, 0.9862539844280501, 0.9962824083085018, 0.9964667449380192, 0.9983545195852758, 0.9957801955875846, 0.9888099935763437, 0.9801103828947375, 0.9980178490838222, 0.9968193032256785, 0.9401393094265303, 0.9857547782228413, 0.9969952205284892, 0.9272706442564238, 0.984092673109839, 0.9609223626093364, 0.9962024804592341, 0.9980418891839006, 0.9830083993741703, 0.9989253184820942, 0.9926068253196757, 0.9959670097524375, 0.9236599754931109, 0.9977764420128655, 0.948492938588365, 0.9962187191923036, 0.9975407327684986, 0.9880685346980417, 1.0010441192299957, 0.989363152131342, 0.9611776710867155, 0.9699604853942194, 0.9827139145952706, 0.9994319317414418, 0.9886978408426116, 0.959354983106078, 1.000232716602782, 0.9926112056103007, 0.9935617205882057, 0.9688250527393233, 0.9698146233928306, 0.9888960451402588, 0.9838486614327296, 0.9660462577599718, 0.9973573104726048, 0.9983367748701635, 0.9330259791157786, 0.9983804953190034, 0.9771527707112905, 0.9377292075887125, 0.9989345855961184, 0.9993980625842671, 0.9988840134844772, 0.9853885512384555, 0.9989024193459065, 0.9994942602620301, 0.9963537117420682, 0.9886583491157519, 0.9915579478932947, 0.9947704555473376, 0.9352110692534613, 0.9950974328955153, 1.0008642602528195, 0.9976082721457376, 0.977200517399165, 0.9835285211350161, 0.9854376128804028, 0.9924622048299256, 0.9662452328385819, 0.9328860280607036, 0.9988550286868759, 0.9532291875525685, 0.9995837198945214, 0.9570575175323348, 0.9850824082364088, 0.9583302359476724, 0.993210508698806, 0.9996994953906162, 0.969731404499466, 0.9689697335970601, 0.9476564951334597, 0.997506305248159, 0.9956206242857002, 0.98372147877303, 0.9804140726155366, 0.9744849159702087, 0.9957805568532879, 0.9894451703742825, 1.0001097305630886, 0.970201791282556, 0.9639826742811907, 0.9917174630829071, 0.9775806857055066, 0.9748965647613991, 0.9995408633242154, 0.9857533874922341, 0.9758574234951284, 0.9955940681456001, 0.995397298336338, 0.9799594161165579, 0.998494805447052, 0.9706741619164877, 0.9884147430004779, 0.9929493860219167, 0.9939059764238714, 0.9991904109225521, 0.9881251644543344, 0.9997661678188485, 1.0006658996744515, 0.9996011576034866, 0.9592681545991072, 0.9962168847632598, 0.998702742355439, 0.9757573257633892, 0.9960232878872612, 0.9935449070038551, 0.9968142528266187, 0.9937851024008021, 0.9898560331739608, 0.9942252803763196, 0.9966838223124003, 0.9970660793455287, 0.9967647281560112, 0.993268110603622, 0.9911286469580781, 0.9946040915451606, 0.9958297817380835, 0.9836959382120938, 0.9581635941685219, 0.9922212949515733, 0.9968718376233885, 0.9617559109662862, 0.99327327512267, 0.9237143552559195, 0.9686104571251672, 0.9907683526550946, 0.9487396007643426, 0.9920224269001781, 0.9893777443992763, 0.9884420662348606, 0.9662160718942507, 0.9682165321104889, 0.9405826499340306, 0.9912850855199564, 0.9948529913084972, 0.976826720611061, 0.9975118962832132, 0.9969543063877928, 0.9828284023382793, 0.9703841298665061, 0.9424996672598701, 0.9759930779199526, 0.9903988874226524, 0.9997244452775609, 0.9630002727937049, 0.9972146871995177, 0.9758982403866692, 0.9778470004012928, 0.9940627993124739, 0.9998459214501558, 0.9830485568542174, 0.9693077564738534, 0.9742138074853335, 0.9887774369297418, 0.988097006429109, 0.9830674979729975, 0.9844849893743237, 0.9982090444064871, 0.9957927945128554, 0.9945276357688002, 0.9826346993865351, 0.9975750845683891, 0.9878933435918009, 0.9823452298683351, 0.9888523654305326, 0.9989034359389958, 0.9989557591774094, 0.991039076483819, 0.9843933912934199, 0.9736840337725879, 0.9810034119772925, 0.9909003668617773, 0.9883655755453162, 0.9910752394864434, 0.9863900043852416, 0.9769836888450463, 0.9991284750021432, 0.9881729360401122, 0.9869716205672511, 0.9961543208946418, 0.9437372075867997, 0.9454157560973123, 0.9975528015303043, 0.9602009685697559, 0.9575960904763188, 1.0007036847314916, 0.976035654582685, 0.9898080365960416, 0.929867581233049, 0.9925765958288121, 0.9664423839524512, 1.0010037387325674, 0.9694749460242643, 0.9996314018236903, 0.9567904060587712, 0.9983262717648118, 0.9861676408389622, 1.0006999186248862, 0.9611732439768175, 0.9874815452010783, 0.99895192109345, 1.0003330421899999, 0.9969600774425986, 0.9976773461577559, 0.9983418869411643, 0.9931907711145069, 0.9836560116658325, 0.975853678548331, 0.9985247686517635, 0.9747918870054372, 0.9757523793343861, 0.9986311105084338, 0.9863901512309069, 0.9987943675193616, 0.9992389008628595, 0.9862967128932385, 0.9893767198337449, 0.9913226130323107, 0.992761875910807, 0.9759545840111286, 0.9987771686550645, 0.9969832459206598, 0.9743169685030415, 0.981543764041993, 0.9613046316776261, 0.9921238192674644, 0.9726502456540967, 0.956866140269094, 0.9917157960166185, 0.9738181793718624, 0.9937943843280514, 0.9680318644433238, 0.9894114534528887, 0.9631447602234827, 0.9549982422392512, 0.97474960992197, 0.9942534167412235, 0.9894018909090067, 0.9656649798269986, 0.9893614134011998, 0.9967375325176667, 0.9732700099077068, 0.9866487834394162, 0.9937012641662537, 0.977669896705305, 0.9887097110375914, 0.9971273465820412, 0.9843567122019972, 1.0003509340249392, 0.9969711966058256, 0.9882771645852484, 0.9888559765248937, 1.0007065324515627, 0.9633089571448679, 0.9732948052831302, 0.9892034792104607, 1.0010469063750527, 1.0007784623106974, 1.0008077125528458, 0.936126903057881, 0.9472868872225654, 0.9887055744349171, 0.9853621307102599, 0.9982280110466607, 0.9771498084160897, 0.9655050201587969, 1.0004822134302973, 0.9634698346788817, 0.962321530244415, 0.9817137263728205, 0.9938553689338403, 0.9935940240125215, 0.9541946781162968, 0.9517300518589259, 0.9751941847411468, 0.9833495877169879, 0.9888814289364919, 0.9579910648692098, 0.9783554406357686, 0.9958278746258468, 1.000832772177121, 0.9945346729168311, 0.9786489755777473, 0.9977313221162939, 0.9824782675464249, 0.9830771184249046, 0.9258433795344883, 0.9992678317328378, 0.9906783749873459, 0.9917958386449033, 0.9618714247364013, 0.9209466657463149, 0.9874186409678373, 0.9817387804106976, 0.9340945464290545, 0.9921537389804563, 1.000078576292792, 0.970884393951305, 0.9714590163237522, 0.9957815899019969, 0.9826396201389436, 0.982692643186314, 1.001266931368784, 0.9957002714185387, 0.9765011331450306, 0.9491148249249064, 0.9589044716034897, 0.984526543760076, 0.9519993334013271, 0.9895488473868277, 0.996937469643318, 0.981469464325892, 0.9949218902106631, 0.962239914085693, 0.9811712790661998, 0.998774120371408, 0.9499488761054727, 0.9901475254561852, 0.9818692102042775, 0.9804895004219055, 0.9834163056712121, 0.9459170421523158, 0.9631372571853017, 0.9691405223832751, 0.991532540053533, 0.97260953171375, 0.9954559754695808, 0.9797593266130268, 0.9977778065661183, 0.9926685957521746, 0.9974780525450835, 0.9595178034700925, 0.9899803942584977, 0.9821848517305157, 0.9918385035378634, 0.9828420741350112, 0.979925379650339, 0.9872087716465406, 0.9963365728678947, 0.976491889336993, 0.979468715771652, 0.9990028254641694, 0.9740070719097688, 0.9942887419764761, 0.9976717801940334, 0.9982273877362634, 0.9958495663708248, 0.9996173138759865, 0.9794307931845037, 0.9888203635750691, 0.9849710194252607, 0.9756210432043569, 0.9783496947861221, 0.975744423191587, 0.9762509077252486, 0.9873220856761055, 1.000449506968505, 0.9739463158338693, 0.975593602741216, 0.9904794930344495, 0.9840533980382149, 0.9994472603100152, 0.9767849170915324, 0.998558722905038, 0.9996772493255852, 0.9959614315680654, 0.9760990936901589, 0.9966339908889629, 0.9523497849717555, 0.984532103364749, 0.9288998085174497, 0.9746093752347945, 0.9805263566360787, 0.9693902372180143, 0.9985951576933343, 0.9655282491012603, 0.9762242717280017, 0.9785585075730187, 0.9966789222138324, 0.9991955407613882, 0.9820812252389054, 0.9914663918613184, 0.9803113461023051, 0.9790061304021548, 0.9895902296153432, 0.9764185366447545, 0.9780751442207902, 0.9953705235783072, 0.9949305318723743, 0.9427566632853673, 0.9954640048785913, 0.9845296435286449, 0.9565454666407265, 0.9901919865256332, 0.992196934279007, 0.9991883003322349, 0.9957869192794518, 1.0020199971626114, 0.99611211636749, 0.9304710955000189, 0.945819227082051, 0.9869382945359176, 0.9959024360888288, 0.9411402230826958, 0.9910957206807933, 0.970822086304653, 0.9908127209115948, 0.9988818731777914, 0.9877201519100803, 1.0000186797988315, 0.9949015917284943, 0.9846749242664403, 0.980598463915458, 0.9963651556790732, 0.9844067316455073, 0.9268700034367586, 0.9255329702952508, 0.9865373082142954, 0.9778304530345354, 0.9781641026767306, 0.997872218868811, 0.9992823064442315, 0.9668534748968823, 0.9817028043758067, 0.9934954341224028, 0.9834571677582513, 0.9980795006970835, 0.9825256267272423, 0.9757274735126357, 0.971552036109587, 0.9988884131755068, 0.993464278884144, 0.9681348083180927, 0.9786977415230875, 0.9641328952474488, 1.0023365692000687, 0.9955106020035142, 0.9235161381782057, 0.9337161223267119, 1.0008257329464267, 0.9814460559047657, 0.9938348737279861, 0.9860570469022556, 0.9997656395724297, 0.9972750857127324, 0.9443699347078255, 0.9839978195541392, 0.9806897735009616, 0.9934702484269334, 0.9977997637294398, 0.9946995700533819, 0.9962687761877365, 0.9978440565259716, 0.9702004050296493, 0.948931325510939, 0.9695290110862704, 0.9973418360289815, 0.9797221605008107, 0.9884089202601529, 0.9744076471365074, 0.9941355369743745, 0.9712109908337485, 0.9881249849927644, 0.9301263773198711, 0.9505106571685367, 0.9952181001883733, 0.9766297115981407, 0.9802617072144063, 0.9994324597411726, 0.9754642218090572, 0.9940994139247522, 0.9422671893268061, 0.9985816492995854, 0.9703317312701688, 0.9996334832330117, 0.9995460370083078, 0.9977204539352246, 0.9966254648536526, 0.9984037223086241, 0.9962510042297331, 0.9706156040111746, 0.9969729792339027, 0.9928348642252278, 0.9910439211542841, 0.985831927509702, 0.9462550536467308, 0.9967690391353095, 0.9434395824114122, 0.9992424260439751, 0.9937888363091298, 0.9981784767865023, 0.999303865861357, 0.979705047386623, 0.9980599594202306, 0.9941971132454376, 0.9933006611642794, 0.9994295946636809, 0.9848499423486411, 0.9843071800247853, 0.9771490463145205, 0.98946930424701, 0.9081845992897631, 0.9989070301196145, 0.997432714135987, 0.9856836786000462, 0.9823033460465027, 0.9822181348844594, 0.9500119383014388, 0.9898115826771905, 0.989185521838977, 0.965310211320421, 0.9684069395573732, 0.9966255245488822, 0.9824183195912168, 0.996826082966976, 0.9955758640524642, 1.0036034418105726, 0.9954081661370234, 0.9990241610038447, 0.9855826784149527, 0.9970691340874464, 0.9411306238515719, 0.991233852345654, 0.9816510878530511, 1.0000093210288594, 0.9976688848018886, 0.9965489484567355, 0.9974102634251208, 0.9895504579817975, 0.9852683996669604, 0.9920748161419297, 0.9861353960318283, 0.9938748149217956, 0.9968898052569923, 0.9942614034185093, 0.9919839700041579, 0.9654042472930094, 0.9652201868044086, 0.9744485644331048, 0.9526599927653592, 0.9953388079566048, 0.9987348257739905, 0.9456726687574433, 0.9908227563465838, 0.9767376093130588, 1.0021839490990458, 0.981679211281574, 0.9653140483119491, 0.9773973145090346, 0.9969653766152291, 0.9653953340297214, 0.9997402551833439, 0.9983864827456167, 0.9989411387989594, 0.9998483509910141, 1.001391062606836, 0.9958822186800366, 1.000403234437996, 0.9780638061742185, 0.9863722191235923, 0.9920922908214123, 0.9918941897334346, 0.9950096650267001, 1.0009870750912475, 0.9611019570913286, 0.9762212143955612, 0.9872988958993292, 0.999837538756463, 0.9927800243374914, 0.9689201864668964, 0.9992813338426196, 0.9812565222952156, 0.98662933505906, 1.0019474707890113, 0.9989807532244679, 0.9862247925854651, 1.0022945215401409, 0.9452867109824483, 0.9919398642569198, 0.9888397036813622, 0.9934392072323349, 0.9976563961325652, 0.9869258254372916, 1.0023660253471391, 0.9977639382544341, 0.9895980723939286], \"Term\": [\"abandon\", \"accept\", \"accidentally\", \"account\", \"accuse\", \"action\", \"activist\", \"activity\", \"add\", \"advance\", \"advisor\", \"affect\", \"affiliate\", \"again\", \"aggression\", \"ago\", \"agree\", \"agreement\", \"ahead\", \"aid\", \"aim\", \"air\", \"airbase\", \"aircraft\", \"airport\", \"airstrike\", \"all\", \"allegedly\", \"alliance\", \"allow\", \"ally\", \"almost\", \"already\", \"also\", \"ambush\", \"american\", \"ammo\", \"ammunition\", \"amp\", \"ancient\", \"announce\", \"anti\", \"appear\", \"appoint\", \"approach\", \"arab\", \"area\", \"arm\", \"armed\", \"army\", \"around\", \"arrest\", \"arrive\", \"artillery\", \"as\", \"ask\", \"assault\", \"assist\", \"at\", \"attack\", \"attacker\", \"attempt\", \"audio\", \"authority\", \"average\", \"away\", \"axis\", \"back\", \"bag\", \"ban\", \"bank\", \"base\", \"batch\", \"battle\", \"battlefield\", \"be\", \"begin\", \"beginning\", \"behead\", \"belong\", \"besiege\", \"big\", \"bill\", \"blame\", \"blast\", \"blitz\", \"blood\", \"boat\", \"body\", \"bomb\", \"bombardment\", \"bomber\", \"bombing\", \"book\", \"border\", \"botch\", \"boxer\", \"boy\", \"breach\", \"break\", \"bride\", \"bridge\", \"brigade\", \"bring\", \"british\", \"btw\", \"build\", \"building\", \"bulldozer\", \"burn\", \"bury\", \"bus\", \"buy\", \"call\", \"camera\", \"camp\", \"campaign\", \"can\", \"capital\", \"capture\", \"car\", \"cargo\", \"carry\", \"casualty\", \"catch\", \"cease\", \"ceasefire\", \"celebrate\", \"center\", \"central\", \"centre\", \"ceremony\", \"cessation\", \"chainsaw\", \"chainsaw\", \"chainsaw\", \"change\", \"channel\", \"charge\", \"checkpoint\", \"chemical\", \"chief\", \"child\", \"chinese\", \"christian\", \"church\", \"citizen\", \"city\", \"civil\", \"civilian\", \"claim\", \"clash\", \"clear\", \"cleric\", \"close\", \"clothe\", \"coalition\", \"collapse\", \"combat\", \"come\", \"command\", \"commander\", \"commando\", \"commit\", \"company\", \"complete\", \"completely\", \"condemn\", \"conduct\", \"confirm\", \"conflict\", \"confront\", \"conquer\", \"consider\", \"contain\", \"continue\", \"control\", \"convoy\", \"cooperation\", \"coordinate\", \"corpse\", \"correction\", \"corridor\", \"could\", \"council\", \"counter\", \"country\", \"countryside\", \"coup\", \"crash\", \"create\", \"crisis\", \"cross\", \"cruise\", \"current\", \"cut\", \"damage\", \"day\", \"dead\", \"deal\", \"dealer\", \"death\", \"declare\", \"defeat\", \"defect\", \"defend\", \"defense\", \"delegation\", \"deliver\", \"demand\", \"demonstration\", \"deny\", \"deploy\", \"depot\", \"desert\", \"destroy\", \"destruction\", \"detail\", \"detain\", \"devastate\", \"dialogue\", \"die\", \"different\", \"dig\", \"direct\", \"directly\", \"discuss\", \"displace\", \"distribute\", \"district\", \"division\", \"do\", \"document\", \"down\", \"dozen\", \"drive\", \"drone\", \"drop\", \"drug\", \"early\", \"east\", \"eastern\", \"effort\", \"egyptian\", \"eliminate\", \"end\", \"enemy\", \"enough\", \"enter\", \"entire\", \"entry\", \"envoy\", \"equipment\", \"erdogan\", \"escalation\", \"escape\", \"establish\", \"evacuate\", \"evacuation\", \"event\", \"exchange\", \"exclusive\", \"execute\", \"execution\", \"executioner\", \"exhibition\", \"expand\", \"expect\", \"expel\", \"expert\", \"explode\", \"explosion\", \"eye\", \"face\", \"facility\", \"factory\", \"fail\", \"fair\", \"fall\", \"family\", \"far\", \"farm\", \"fear\", \"feature\", \"feed\", \"feel\", \"field\", \"fierce\", \"fight\", \"fighter\", \"fighting\", \"film\", \"final\", \"find\", \"fire\", \"first\", \"flag\", \"flee\", \"flower\", \"fly\", \"foil\", \"follow\", \"food\", \"footage\", \"force\", \"forecast\", \"foreign\", \"form\", \"former\", \"free\", \"french\", \"front\", \"fsa\", \"fuel\", \"full\", \"fully\", \"further\", \"gain\", \"gas\", \"gate\", \"gather\", \"gathering\", \"gear\", \"general\", \"genocide\", \"german\", \"get\", \"girl\", \"give\", \"go\", \"government\", \"govt\", \"graduate\", \"grip\", \"ground\", \"group\", \"grow\", \"gun\", \"gunman\", \"half\", \"hand\", \"hashish\", \"have\", \"head\", \"headquarter\", \"heavy\", \"helicopter\", \"help\", \"here\", \"hide\", \"high\", \"hill\", \"history\", \"hit\", \"hold\", \"holiday\", \"hom\", \"home\", \"hometown\", \"hospital\", \"hostage\", \"hostility\", \"hot\", \"hour\", \"house\", \"how\", \"huge\", \"human\", \"humanitarian\", \"humiliate\", \"hundred\", \"idlib\", \"ied\", \"image\", \"immediately\", \"implement\", \"include\", \"increase\", \"incursion\", \"independence\", \"independent\", \"industrial\", \"infantry\", \"infiltrate\", \"infographic\", \"information\", \"injure\", \"inside\", \"intelligence\", \"intense\", \"intensify\", \"intensive\", \"international\", \"interview\", \"involve\", \"involvement\", \"iranian\", \"iraqi\", \"is\", \"isis\", \"islamic\", \"islamist\", \"island\", \"israeli\", \"issue\", \"jail\", \"jet\", \"jihadi\", \"jihadist\", \"join\", \"joint\", \"jordanian\", \"journalist\", \"just\", \"keep\", \"kg\", \"kick\", \"kid\", \"kill\", \"killer\", \"km\", \"know\", \"kurd\", \"kurdish\", \"land\", \"large\", \"last\", \"late\", \"launch\", \"lawmaker\", \"lead\", \"leader\", \"leaflet\", \"least\", \"leave\", \"lebanese\", \"less\", \"let\", \"level\", \"liberate\", \"liberated\", \"liberation\", \"libyan\", \"lie\", \"life\", \"like\", \"limited\", \"line\", \"link\", \"list\", \"little\", \"load\", \"local\", \"location\", \"long\", \"look\", \"lose\", \"loss\", \"machine\", \"magazine\", \"main\", \"major\", \"make\", \"makehersmile\", \"man\", \"manage\", \"manbij\", \"many\", \"map\", \"mark\", \"market\", \"martyrs\", \"mass\", \"massacre\", \"massive\", \"may\", \"meat\", \"medium\", \"meet\", \"meeting\", \"member\", \"merge\", \"message\", \"middle\", \"militant\", \"military\", \"militia\", \"min\", \"mine\", \"minister\", \"missile\", \"mission\", \"moderate\", \"moment\", \"month\", \"more\", \"morning\", \"mortar\", \"most\", \"mother\", \"mountain\", \"move\", \"much\", \"must\", \"name\", \"nation\", \"national\", \"naval\", \"nd\", \"nearly\", \"need\", \"negotiate\", \"neighborhood\", \"network\", \"new\", \"news\", \"next\", \"nice\", \"night\", \"normal\", \"north\", \"northern\", \"not\", \"now\", \"number\", \"observe\", \"occupation\", \"offensive\", \"offer\", \"officer\", \"official\", \"officially\", \"oil\", \"old\", \"once\", \"ongoing\", \"only\", \"open\", \"operate\", \"operation\", \"opposition\", \"order\", \"organization\", \"organize\", \"other\", \"outskirt\", \"oven\", \"own\", \"palestinian\", \"parachute\", \"parliament\", \"part\", \"participate\", \"participation\", \"party\", \"pass\", \"past\", \"pay\", \"peace\", \"people\", \"person\", \"personnel\", \"phase\", \"phone\", \"photo\", \"picture\", \"pilot\", \"place\", \"plan\", \"plane\", \"plant\", \"play\", \"pledge\", \"pm\", \"pocket\", \"point\", \"police\", \"political\", \"poor\", \"population\", \"port\", \"pose\", \"position\", \"possible\", \"post\", \"power\", \"ppl\", \"prayer\", \"preparation\", \"prepare\", \"presence\", \"preserve\", \"presidential\", \"press\", \"prevail\", \"prevent\", \"previous\", \"prison\", \"prisoner\", \"pro\", \"process\", \"production\", \"progress\", \"project\", \"prominent\", \"promote\", \"pron\", \"propaganda\", \"propose\", \"protect\", \"protection\", \"protest\", \"protester\", \"proud\", \"provide\", \"province\", \"public\", \"publicly\", \"publish\", \"pumping\", \"push\", \"put\", \"ra\", \"radical\", \"raid\", \"raise\", \"rally\", \"rank\", \"rate\", \"rd\", \"re\", \"reach\", \"read\", \"ready\", \"rebel\", \"rebuild\", \"recapture\", \"receive\", \"recent\", \"recently\", \"reconnaissance\", \"record\", \"recover\", \"recruit\", \"recruiter\", \"refer\", \"referendum\", \"refugee\", \"refuse\", \"regain\", \"regard\", \"regime\", \"region\", \"reinforcement\", \"reject\", \"relation\", \"relative\", \"release\", \"relief\", \"remain\", \"renew\", \"reopen\", \"repel\", \"report\", \"reportedly\", \"reporter\", \"request\", \"rescue\", \"resident\", \"residential\", \"resolve\", \"response\", \"responsibility\", \"responsible\", \"restore\", \"result\", \"resume\", \"resumption\", \"retake\", \"retreat\", \"return\", \"reveal\", \"right\", \"rise\", \"road\", \"rock\", \"rocket\", \"room\", \"round\", \"ruin\", \"rule\", \"run\", \"rural\", \"russian\", \"safe\", \"sapper\", \"satellite\", \"saudi\", \"say\", \"scale\", \"school\", \"score\", \"second\", \"sector\", \"secure\", \"security\", \"see\", \"seize\", \"sell\", \"send\", \"senior\", \"sentence\", \"separate\", \"service\", \"session\", \"set\", \"settle\", \"several\", \"sex\", \"shaaban\", \"sheep\", \"shell\", \"shield\", \"shoot\", \"shopping\", \"should\", \"show\", \"side\", \"siege\", \"sign\", \"silo\", \"site\", \"situation\", \"sky\", \"slaughter\", \"slave\", \"small\", \"sniper\", \"so\", \"soldier\", \"son\", \"soon\", \"source\", \"south\", \"southeast\", \"southern\", \"southwest\", \"southwestern\", \"sovereignty\", \"special\", \"speech\", \"spend\", \"spokesman\", \"spot\", \"spread\", \"spy\", \"spying\", \"square\", \"st\", \"stand\", \"start\", \"state\", \"statement\", \"station\", \"status\", \"stay\", \"step\", \"still\", \"stop\", \"storm\", \"story\", \"strategic\", \"street\", \"strength\", \"stress\", \"strike\", \"strong\", \"stronghold\", \"struggle\", \"student\", \"study\", \"suburb\", \"sue\", \"suffer\", \"suicide\", \"sukhnah\", \"supply\", \"support\", \"supporter\", \"surrender\", \"surround\", \"suspect\", \"suspend\", \"syrian\", \"take\", \"talk\", \"tank\", \"target\", \"task\", \"team\", \"tear\", \"teenage\", \"tell\", \"temperature\", \"temporary\", \"ten\", \"territorial\", \"territory\", \"terror\", \"terrorism\", \"terrorist\", \"terrorists\", \"th\", \"that\", \"then\", \"there\", \"thing\", \"thousand\", \"thwart\", \"tie\", \"tighten\", \"time\", \"today\", \"together\", \"toll\", \"ton\", \"too\", \"tool\", \"top\", \"torture\", \"total\", \"town\", \"traffic\", \"train\", \"training\", \"transport\", \"trap\", \"troop\", \"truce\", \"truck\", \"true\", \"try\", \"tunnel\", \"turkish\", \"turn\", \"unconfirmed\", \"unit\", \"unknown\", \"upcoming\", \"update\", \"urge\", \"usd\", \"use\", \"vehicle\", \"very\", \"veto\", \"vicinity\", \"victim\", \"victory\", \"video\", \"village\", \"violation\", \"visit\", \"voice\", \"volunteer\", \"vote\", \"vow\", \"wait\", \"want\", \"wanted\", \"war\", \"warn\", \"warplane\", \"water\", \"way\", \"weapon\", \"weather\", \"wedding\", \"week\", \"welcome\", \"west\", \"western\", \"what\", \"when\", \"where\", \"which\", \"who\", \"whole\", \"why\", \"will\", \"win\", \"withdraw\", \"withdrawal\", \"woman\", \"work\", \"worker\", \"world\", \"worth\", \"would\", \"wound\", \"year\", \"yesterday\", \"yet\", \"ypg\", \"zone\"]}, \"R\": 30, \"lambda.step\": 0.01, \"plot.opts\": {\"xlab\": \"PC1\", \"ylab\": \"PC2\"}, \"topic.order\": [15, 22, 7, 14, 28, 3, 23, 1, 11, 4, 19, 21, 8, 9, 16, 18, 2, 26, 27, 20, 5, 24, 6, 13, 29, 10, 17, 25, 12, 30]};\n",
       "\n",
       "function LDAvis_load_lib(url, callback){\n",
       "  var s = document.createElement('script');\n",
       "  s.src = url;\n",
       "  s.async = true;\n",
       "  s.onreadystatechange = s.onload = callback;\n",
       "  s.onerror = function(){console.warn(\"failed to load library \" + url);};\n",
       "  document.getElementsByTagName(\"head\")[0].appendChild(s);\n",
       "}\n",
       "\n",
       "if(typeof(LDAvis) !== \"undefined\"){\n",
       "   // already loaded: just create the visualization\n",
       "   !function(LDAvis){\n",
       "       new LDAvis(\"#\" + \"ldavis_el83121401690058255041160007855\", ldavis_el83121401690058255041160007855_data);\n",
       "   }(LDAvis);\n",
       "}else if(typeof define === \"function\" && define.amd){\n",
       "   // require.js is available: use it to load d3/LDAvis\n",
       "   require.config({paths: {d3: \"https://cdnjs.cloudflare.com/ajax/libs/d3/3.5.5/d3.min\"}});\n",
       "   require([\"d3\"], function(d3){\n",
       "      window.d3 = d3;\n",
       "      LDAvis_load_lib(\"https://cdn.rawgit.com/bmabey/pyLDAvis/files/ldavis.v1.0.0.js\", function(){\n",
       "        new LDAvis(\"#\" + \"ldavis_el83121401690058255041160007855\", ldavis_el83121401690058255041160007855_data);\n",
       "      });\n",
       "    });\n",
       "}else{\n",
       "    // require.js not available: dynamically load d3 & LDAvis\n",
       "    LDAvis_load_lib(\"https://cdnjs.cloudflare.com/ajax/libs/d3/3.5.5/d3.min.js\", function(){\n",
       "         LDAvis_load_lib(\"https://cdn.rawgit.com/bmabey/pyLDAvis/files/ldavis.v1.0.0.js\", function(){\n",
       "                 new LDAvis(\"#\" + \"ldavis_el83121401690058255041160007855\", ldavis_el83121401690058255041160007855_data);\n",
       "            })\n",
       "         });\n",
       "}\n",
       "</script>"
      ],
      "text/plain": [
       "PreparedData(topic_coordinates=           Freq  cluster  topics         x         y\n",
       "topic                                               \n",
       "14     8.041823        1       1 -0.300926  0.347972\n",
       "21     6.853078        1       2 -0.176814 -0.247155\n",
       "6      4.763886        1       3 -0.134119 -0.137466\n",
       "13     4.522020        1       4 -0.092073 -0.068282\n",
       "27     4.013026        1       5 -0.060138 -0.044489\n",
       "2      3.979994        1       6 -0.037680 -0.031000\n",
       "22     3.979779        1       7 -0.054408 -0.040804\n",
       "0      3.941050        1       8 -0.068848 -0.058378\n",
       "10     3.940099        1       9 -0.056241 -0.034968\n",
       "3      3.857891        1      10 -0.019998 -0.014522\n",
       "18     3.588212        1      11 -0.045806 -0.016363\n",
       "20     3.248350        1      12  0.013564  0.003352\n",
       "7      3.039379        1      13  0.005968  0.003408\n",
       "8      2.864196        1      14  0.038549  0.009287\n",
       "15     2.859544        1      15  0.032684  0.008438\n",
       "17     2.807644        1      16  0.040305  0.016299\n",
       "1      2.789150        1      17  0.052327  0.019332\n",
       "25     2.784909        1      18  0.042215  0.016308\n",
       "26     2.748111        1      19  0.042032  0.010806\n",
       "19     2.727916        1      20  0.037624  0.014099\n",
       "4      2.706194        1      21  0.032451  0.015480\n",
       "23     2.445631        1      22  0.062074  0.016743\n",
       "5      2.388100        1      23  0.086889  0.025917\n",
       "12     2.375149        1      24  0.063474  0.017520\n",
       "28     2.360155        1      25  0.073238  0.023069\n",
       "9      2.302974        1      26  0.060228  0.022385\n",
       "16     2.147956        1      27  0.091525  0.027995\n",
       "24     2.122456        1      28  0.089241  0.029853\n",
       "11     2.046084        1      29  0.079833  0.030931\n",
       "29     1.755242        1      30  0.102833  0.034232, topic_info=     Category         Freq         Term        Total  loglift  logprob\n",
       "term                                                                  \n",
       "32    Default  3273.000000           be  3273.000000  30.0000  30.0000\n",
       "373   Default  1212.000000         kill  1212.000000  29.0000  29.0000\n",
       "583   Default   797.000000       attack   797.000000  28.0000  28.0000\n",
       "1291  Default   745.000000    terrorist   745.000000  27.0000  27.0000\n",
       "921   Default   961.000000       syrian   961.000000  26.0000  26.0000\n",
       "3     Default   703.000000         pron   703.000000  25.0000  25.0000\n",
       "924   Default   708.000000      capture   708.000000  24.0000  24.0000\n",
       "1074  Default   609.000000        force   609.000000  23.0000  23.0000\n",
       "129   Default   590.000000         have   590.000000  22.0000  22.0000\n",
       "951   Default   637.000000      turkish   637.000000  21.0000  21.0000\n",
       "340   Default   439.000000      russian   439.000000  20.0000  20.0000\n",
       "1041  Default   509.000000      village   509.000000  19.0000  19.0000\n",
       "11    Default   405.000000          new   405.000000  18.0000  18.0000\n",
       "35    Default   390.000000         more   390.000000  17.0000  17.0000\n",
       "942   Default   443.000000        clash   443.000000  16.0000  16.0000\n",
       "654   Default   531.000000        rebel   531.000000  15.0000  15.0000\n",
       "332   Default   411.000000         take   411.000000  14.0000  14.0000\n",
       "1219  Default   353.000000    airstrike   353.000000  13.0000  13.0000\n",
       "983   Default   366.000000     militant   366.000000  12.0000  12.0000\n",
       "91    Default   331.000000          not   331.000000  11.0000  11.0000\n",
       "1130  Default   322.000000       target   322.000000  10.0000  10.0000\n",
       "1499  Default   348.000000      control   348.000000   9.0000   9.0000\n",
       "1019  Default   358.000000        iraqi   358.000000   8.0000   8.0000\n",
       "807   Default   319.000000         area   319.000000   7.0000   7.0000\n",
       "1079  Default   333.000000       border   333.000000   6.0000   6.0000\n",
       "153   Default   352.000000        claim   352.000000   5.0000   5.0000\n",
       "69    Default   331.000000          say   331.000000   4.0000   4.0000\n",
       "937   Default   344.000000          aid   344.000000   3.0000   3.0000\n",
       "913   Default   427.000000         city   427.000000   2.0000   2.0000\n",
       "1027  Default   343.000000      destroy   343.000000   1.0000   1.0000\n",
       "...       ...          ...          ...          ...      ...      ...\n",
       "429   Topic30    67.318738         head    67.765901   4.0359  -2.9825\n",
       "945   Topic30    64.795382        front    65.242545   4.0357  -3.0207\n",
       "1717  Topic30    63.442756         face    63.889920   4.0355  -3.0418\n",
       "1180  Topic30    54.927738     building    55.374902   4.0345  -3.1859\n",
       "946   Topic30    52.788358     training    53.235521   4.0341  -3.2257\n",
       "409   Topic30    40.174442        could    40.621605   4.0315  -3.4987\n",
       "2974  Topic30    33.355622  responsible    33.802785   4.0292  -3.6847\n",
       "430   Topic30    31.577211          old    32.024374   4.0285  -3.7395\n",
       "483   Topic30    25.161787        where    25.608950   4.0249  -3.9666\n",
       "1718  Topic30    24.810260     national    25.257423   4.0247  -3.9807\n",
       "2329  Topic30    24.124431        voice    24.571594   4.0242  -4.0087\n",
       "1811  Topic30    21.272777         soon    21.719941   4.0218  -4.1345\n",
       "3614  Topic30    20.565485      hostage    21.012648   4.0211  -4.1683\n",
       "142   Topic30    18.861823         stay    19.308986   4.0191  -4.2548\n",
       "1942  Topic30    17.832096          far    18.279259   4.0178  -4.3110\n",
       "2068  Topic30    17.239555         nice    17.686718   4.0170  -4.3448\n",
       "2134  Topic30    13.577955         meat    14.025118   4.0102  -4.5835\n",
       "714   Topic30    13.439832         poor    13.887006   4.0098  -4.5937\n",
       "1993  Topic30    13.122901     previous    13.570064   4.0091  -4.6176\n",
       "4841  Topic30    12.966784      recover    13.413947   4.0087  -4.6296\n",
       "4704  Topic30    12.499636    slaughter    12.946799   4.0074  -4.6663\n",
       "3340  Topic30    12.154042     confront    12.601205   4.0064  -4.6943\n",
       "3737  Topic30    12.119362      conquer    12.566525   4.0063  -4.6972\n",
       "1051  Topic30    11.960032  executioner    12.407195   4.0059  -4.7104\n",
       "3166  Topic30    11.105257      citizen    11.552420   4.0031  -4.7845\n",
       "763   Topic30    11.084224         feed    11.531387   4.0030  -4.7864\n",
       "1263  Topic30    10.378694       libyan    10.825858   4.0004  -4.8522\n",
       "1050  Topic30    10.130361          bag    10.577524   3.9994  -4.8764\n",
       "4516  Topic30     9.731800      traffic    10.178963   3.9976  -4.9166\n",
       "6058  Topic30    11.980857         oven    12.540939   3.9969  -4.7086\n",
       "\n",
       "[933 rows x 6 columns], token_table=      Topic      Freq          Term\n",
       "term                               \n",
       "1366     29  0.962455       abandon\n",
       "720      14  0.990137        accept\n",
       "3673      7  0.956803  accidentally\n",
       "1897     22  0.973984       account\n",
       "1378      3  0.992253        accuse\n",
       "1034     25  1.000342        action\n",
       "1013     25  0.953902      activist\n",
       "1251     25  0.959584      activity\n",
       "418      26  0.977731           add\n",
       "1218      5  0.999438       advance\n",
       "4145     15  0.981265       advisor\n",
       "4148     29  0.987593        affect\n",
       "2944     13  0.987100     affiliate\n",
       "657      30  0.994791         again\n",
       "3479     23  0.966240    aggression\n",
       "345      25  0.987417           ago\n",
       "2175     17  0.986825         agree\n",
       "3035     13  0.997225     agreement\n",
       "2877     18  0.975753         ahead\n",
       "937       9  0.998792           aid\n",
       "1089      6  0.945389           aim\n",
       "607      20  0.993794           air\n",
       "1065     22  0.996212       airbase\n",
       "986       4  0.998590      aircraft\n",
       "2846     25  0.988861       airport\n",
       "1219     14  0.999892     airstrike\n",
       "13       20  1.000488           all\n",
       "1534      8  0.993965     allegedly\n",
       "2686     21  0.958740      alliance\n",
       "1693     10  0.978119         allow\n",
       "...     ...       ...           ...\n",
       "1194     12  0.995882        weapon\n",
       "2354      8  1.000403       weather\n",
       "1514     28  0.978064       wedding\n",
       "1413     22  0.986372          week\n",
       "1554     10  0.992092       welcome\n",
       "1674     12  0.991894          west\n",
       "2172      1  0.995010       western\n",
       "59       28  1.000987          what\n",
       "87       11  0.961102          when\n",
       "483      30  0.976221         where\n",
       "455       7  0.987299         which\n",
       "12       10  0.999838           who\n",
       "2366     14  0.992780         whole\n",
       "195      13  0.968920           why\n",
       "88       14  0.999281          will\n",
       "516      17  0.981257           win\n",
       "3187     13  0.986629      withdraw\n",
       "3287     12  1.001947    withdrawal\n",
       "254      19  0.998981         woman\n",
       "171       8  0.986225          work\n",
       "1454      7  1.002295        worker\n",
       "432       7  0.945287         world\n",
       "1057      9  0.991940         worth\n",
       "298      26  0.988840         would\n",
       "969       1  0.993439         wound\n",
       "237       6  0.997656          year\n",
       "2022     13  0.986926     yesterday\n",
       "388      12  1.002366           yet\n",
       "952       3  0.997764           ypg\n",
       "2703      3  0.989598          zone\n",
       "\n",
       "[905 rows x 3 columns], R=30, lambda_step=0.01, plot_opts={'xlab': 'PC1', 'ylab': 'PC2'}, topic_order=[15, 22, 7, 14, 28, 3, 23, 1, 11, 4, 19, 21, 8, 9, 16, 18, 2, 26, 27, 20, 5, 24, 6, 13, 29, 10, 17, 25, 12, 30])"
      ]
     },
     "execution_count": 79,
     "metadata": {},
     "output_type": "execute_result"
    }
   ],
   "source": [
    "# Visualize the topics\n",
    "tic = timeit.default_timer()\n",
    "pyLDAvis.enable_notebook()\n",
    "vis = pyLDAvis.gensim.prepare(lda_model, loaded_corpus, dictionary)\n",
    "toc = timeit.default_timer()\n",
    "vis"
   ]
  },
  {
   "cell_type": "markdown",
   "metadata": {},
   "source": [
    "Well that turned out pretty crappy- most of the topics have way too much overlap, and even those that seem far away are basically about the same things. <br>\n",
    "  I ran another model anyway using Mallet as a learning experience. It performed even worse than the first! <br>\n",
    "  After digging into the data a little bit, it turned out that this is because there are really only two topics in it: random crap, and the Middle  East. Obviously there will be subtopics within this, but they might be too subtle for the algorithm to make sense of.<br>\n",
    "  I decided to manually divide up the data some more- knowing the proportions of random crap to Middle East would at least give us some ideas."
   ]
  },
  {
   "cell_type": "code",
   "execution_count": 80,
   "metadata": {},
   "outputs": [
    {
     "data": {
      "text/plain": [
       "4.15600662199995"
      ]
     },
     "execution_count": 80,
     "metadata": {},
     "output_type": "execute_result"
    }
   ],
   "source": [
    "toc - tic"
   ]
  },
  {
   "cell_type": "code",
   "execution_count": 81,
   "metadata": {},
   "outputs": [
    {
     "data": {
      "text/plain": [
       "15475"
      ]
     },
     "execution_count": 81,
     "metadata": {},
     "output_type": "execute_result"
    }
   ],
   "source": [
    "len(main_df_filtered) # 15475 tweets"
   ]
  },
  {
   "cell_type": "code",
   "execution_count": 83,
   "metadata": {
    "collapsed": true
   },
   "outputs": [],
   "source": [
    "from gensim.models import CoherenceModel"
   ]
  },
  {
   "cell_type": "code",
   "execution_count": 87,
   "metadata": {},
   "outputs": [
    {
     "name": "stdout",
     "output_type": "stream",
     "text": [
      "\n",
      "Perplexity:  -8.498190382504504\n",
      "\n",
      "Coherence Score:  0.592554843575262\n"
     ]
    }
   ],
   "source": [
    "# Compute perplexity\n",
    "print('\\nPerplexity: ', lda_model.log_perplexity(corpus)) # the lower the better\n",
    "\n",
    "# Compute coherence score\n",
    "\n",
    "coherence_model_lda = CoherenceModel(model=lda_model, texts=docs,  dictionary=dictionary, coherence='c_v')\n",
    "coherence_lda = coherence_model_lda.get_coherence()\n",
    "print('\\nCoherence Score: ', coherence_lda)"
   ]
  },
  {
   "cell_type": "code",
   "execution_count": 91,
   "metadata": {
    "collapsed": true
   },
   "outputs": [],
   "source": [
    "mallet_path = '/mnt/storage/TopicModels/mallet-2.0.8/bin/mallet' # would need to alter obvs"
   ]
  },
  {
   "cell_type": "code",
   "execution_count": 92,
   "metadata": {
    "collapsed": true
   },
   "outputs": [],
   "source": [
    "ldamallet = gensim.models.wrappers.LdaMallet(mallet_path, corpus=corpus, num_topics=20, id2word=dictionary)"
   ]
  },
  {
   "cell_type": "code",
   "execution_count": 93,
   "metadata": {},
   "outputs": [
    {
     "name": "stdout",
     "output_type": "stream",
     "text": [
      "[(15,\n",
      "  [('attack', 0.2121390689451974),\n",
      "   ('terrorist', 0.1502651738361815),\n",
      "   ('kill', 0.10489098408956983),\n",
      "   ('civilian', 0.08956982911019445),\n",
      "   ('injure', 0.06894519740718916),\n",
      "   ('rocket', 0.046552740129640544),\n",
      "   ('bombing', 0.024160282852091926),\n",
      "   ('repel', 0.023276370064820272),\n",
      "   ('woman', 0.019740718915733646),\n",
      "   ('child', 0.016499705362404242)]),\n",
      " (9,\n",
      "  [('syrian', 0.28734216199568835),\n",
      "   ('government', 0.05913150600554358),\n",
      "   ('official', 0.03880505081613797),\n",
      "   ('meet', 0.03295349553433939),\n",
      "   ('refugee', 0.03233754234678164),\n",
      "   ('anti', 0.028333846627656298),\n",
      "   ('visit', 0.027717893440098552),\n",
      "   ('opposition', 0.02740991684631968),\n",
      "   ('iranian', 0.020326455189405606),\n",
      "   ('delegation', 0.018170619032953497)]),\n",
      " (13,\n",
      "  [('capture', 0.18146603098927294),\n",
      "   ('village', 0.14958283671036948),\n",
      "   ('claim', 0.0697258641239571),\n",
      "   ('advance', 0.05780691299165673),\n",
      "   ('hom', 0.04558998808104887),\n",
      "   ('south', 0.0432061978545888),\n",
      "   ('east', 0.041418355184743745),\n",
      "   ('north', 0.04052443384982122),\n",
      "   ('ally', 0.03903456495828367),\n",
      "   ('west', 0.033075089392133494)]),\n",
      " (7,\n",
      "  [('aid', 0.06791116832957837),\n",
      "   ('weather', 0.03701319600901191),\n",
      "   ('family', 0.036047634373994206),\n",
      "   ('convoy', 0.0341165111039588),\n",
      "   ('humanitarian', 0.03379465722561957),\n",
      "   ('temperature', 0.028966849050531058),\n",
      "   ('death', 0.028644995172191826),\n",
      "   ('return', 0.023495333118764082),\n",
      "   ('drop', 0.02188606372706791),\n",
      "   ('average', 0.02156420984872868)]),\n",
      " (16,\n",
      "  [('russian', 0.15311475409836064),\n",
      "   ('airstrike', 0.12655737704918033),\n",
      "   ('launch', 0.06),\n",
      "   ('carry', 0.050491803278688525),\n",
      "   ('jet', 0.04065573770491803),\n",
      "   ('warplane', 0.040327868852459016),\n",
      "   ('conduct', 0.03770491803278689),\n",
      "   ('missile', 0.029180327868852458),\n",
      "   ('shoot', 0.02459016393442623),\n",
      "   ('aircraft', 0.020655737704918034)]),\n",
      " (10,\n",
      "  [('pron', 0.2754088785046729),\n",
      "   ('make', 0.04906542056074766),\n",
      "   ('day', 0.04088785046728972),\n",
      "   ('word', 0.026869158878504672),\n",
      "   ('podcast', 0.022488317757009345),\n",
      "   ('project', 0.021320093457943924),\n",
      "   ('late', 0.019275700934579438),\n",
      "   ('work', 0.018107476635514017),\n",
      "   ('evacuate', 0.016939252336448597),\n",
      "   ('give', 0.016355140186915886)]),\n",
      " (2,\n",
      "  [('terrorist', 0.09561490273656446),\n",
      "   ('group', 0.07978898780085723),\n",
      "   ('join', 0.03989449390042862),\n",
      "   ('member', 0.03857566765578635),\n",
      "   ('cessation', 0.03428948236069898),\n",
      "   ('hostility', 0.03231124299373558),\n",
      "   ('time', 0.03231124299373558),\n",
      "   ('hour', 0.02967359050445104),\n",
      "   ('agreement', 0.028025057698648204),\n",
      "   ('breach', 0.027035938015166502)]),\n",
      " (6,\n",
      "  [('fight', 0.07941451261289317),\n",
      "   ('war', 0.058237309249455),\n",
      "   ('call', 0.051697290563687326),\n",
      "   ('support', 0.04796013702896294),\n",
      "   ('terrorism', 0.029585798816568046),\n",
      "   ('find', 0.025225786359389598),\n",
      "   ('end', 0.024291497975708502),\n",
      "   ('crisis', 0.01930862659607599),\n",
      "   ('regime', 0.017440049828713795),\n",
      "   ('die', 0.017128620367486764)]),\n",
      " (8,\n",
      "  [('military', 0.10370601058860168),\n",
      "   ('fighter', 0.07910308315166614),\n",
      "   ('arrive', 0.03737153534724385),\n",
      "   ('base', 0.03674867642478979),\n",
      "   ('send', 0.028962939894113984),\n",
      "   ('large', 0.026160074743070694),\n",
      "   ('camp', 0.023357209592027407),\n",
      "   ('number', 0.023357209592027407),\n",
      "   ('lose', 0.02242292120834631),\n",
      "   ('part', 0.022111491747119277)]),\n",
      " (5,\n",
      "  [('target', 0.11351846200793408),\n",
      "   ('destroy', 0.10711016173329264),\n",
      "   ('strike', 0.07628928898382667),\n",
      "   ('position', 0.0732377174244736),\n",
      "   ('hit', 0.04882514494964907),\n",
      "   ('air', 0.045468416234360695),\n",
      "   ('vehicle', 0.040891058895331095),\n",
      "   ('coalition', 0.040891058895331095),\n",
      "   ('lead', 0.036313701556301495),\n",
      "   ('shell', 0.03600854440036619)])]\n",
      "\n",
      "Coherence Score:  0.4088124881790828\n"
     ]
    }
   ],
   "source": [
    "# Show topics\n",
    "pprint(ldamallet.show_topics(formatted=False))\n",
    "\n",
    "# Compute coherence score\n",
    "coherence_model_ldamallet = CoherenceModel(model=ldamallet, texts=docs, dictionary=dictionary, coherence='c_v')\n",
    "coherence_ldamallet = coherence_model_ldamallet.get_coherence()\n",
    "print('\\nCoherence Score: ', coherence_ldamallet)"
   ]
  },
  {
   "cell_type": "code",
   "execution_count": 94,
   "metadata": {
    "collapsed": true
   },
   "outputs": [],
   "source": [
    "# lower coherence score"
   ]
  },
  {
   "cell_type": "code",
   "execution_count": 95,
   "metadata": {
    "collapsed": true
   },
   "outputs": [],
   "source": [
    "def compute_coherence_values(dictionary, corpus, texts, limit, start=2, step=3):\n",
    "    \"\"\"\n",
    "    Compute c_v coherence for various numbers of topics\n",
    "    \n",
    "    Parameters:\n",
    "    -----------\n",
    "    dictionary : Gensim dictionary\n",
    "    corpus : Gensim corpus\n",
    "    texts : List of input texts\n",
    "    limit : Max number of topics\n",
    "    \n",
    "    Returns:\n",
    "    --------\n",
    "    model_list : List of LDA topic models\n",
    "    coherence_values : Coherence values corresponding to the LDA model with respective number of topics\n",
    "    \"\"\"\n",
    "    \n",
    "    coherence_values = []\n",
    "    model_list = []\n",
    "    for num_topics in range(start, limit, step):\n",
    "        model = gensim.models.wrappers.LdaMallet(mallet_path, corpus=corpus, num_topics=num_topics, id2word=dictionary)\n",
    "        model_list.append(model)\n",
    "        coherencemodel = CoherenceModel(model=model, texts=texts, dictionary=dictionary, coherence='c_v')\n",
    "        coherence_values.append(coherencemodel.get_coherence())\n",
    "        \n",
    "    return model_list, coherence_values"
   ]
  },
  {
   "cell_type": "code",
   "execution_count": 105,
   "metadata": {},
   "outputs": [
    {
     "data": {
      "text/plain": [
       "417.8294642159999"
      ]
     },
     "execution_count": 105,
     "metadata": {},
     "output_type": "execute_result"
    }
   ],
   "source": [
    "tic = timeit.default_timer()\n",
    "\n",
    "model_list, coherence_values = compute_coherence_values(dictionary=dictionary, corpus=corpus, texts=docs, start=2, limit=60, step=6)\n",
    "\n",
    "toc = timeit.default_timer()\n",
    "\n",
    "toc - tic # nearly 5 minutes for 40- not too bad 7 minutes for 60"
   ]
  },
  {
   "cell_type": "code",
   "execution_count": 106,
   "metadata": {},
   "outputs": [
    {
     "data": {
      "text/plain": [
       "6.95"
      ]
     },
     "execution_count": 106,
     "metadata": {},
     "output_type": "execute_result"
    }
   ],
   "source": [
    "417/60"
   ]
  },
  {
   "cell_type": "code",
   "execution_count": 99,
   "metadata": {
    "collapsed": true
   },
   "outputs": [],
   "source": [
    "import matplotlib.pyplot as plt"
   ]
  },
  {
   "cell_type": "code",
   "execution_count": 107,
   "metadata": {},
   "outputs": [
    {
     "data": {
      "image/png": "[encoded data removed]",
      "text/plain": [
       "<matplotlib.figure.Figure at 0x7f7ba45f1588>"
      ]
     },
     "metadata": {},
     "output_type": "display_data"
    }
   ],
   "source": [
    "# Show graph\n",
    "limit=60; start=2; step=6;\n",
    "x = range(start, limit, step)\n",
    "plt.plot(x, coherence_values)\n",
    "plt.xlabel(\"Num Topics\")\n",
    "plt.ylabel(\"Coherence score\")\n",
    "plt.legend((\"coherence_values\"), loc=\"best\")\n",
    "plt.show()"
   ]
  },
  {
   "cell_type": "code",
   "execution_count": 108,
   "metadata": {},
   "outputs": [
    {
     "name": "stdout",
     "output_type": "stream",
     "text": [
      "Num Topics = 2  has Coherence Value of 0.2245\n",
      "Num Topics = 8  has Coherence Value of 0.3558\n",
      "Num Topics = 14  has Coherence Value of 0.372\n",
      "Num Topics = 20  has Coherence Value of 0.3903\n",
      "Num Topics = 26  has Coherence Value of 0.4354\n",
      "Num Topics = 32  has Coherence Value of 0.4512\n",
      "Num Topics = 38  has Coherence Value of 0.4649\n",
      "Num Topics = 44  has Coherence Value of 0.4784\n",
      "Num Topics = 50  has Coherence Value of 0.4909\n",
      "Num Topics = 56  has Coherence Value of 0.5042\n"
     ]
    }
   ],
   "source": [
    "for m, cv in zip(x, coherence_values):\n",
    "    print(\"Num Topics =\", m, \" has Coherence Value of\", round(cv, 4))"
   ]
  },
  {
   "cell_type": "code",
   "execution_count": 115,
   "metadata": {},
   "outputs": [
    {
     "name": "stdout",
     "output_type": "stream",
     "text": [
      "[(15,\n",
      "  '0.203*\"city\" + 0.109*\"eastern\" + 0.102*\"neighborhood\" + 0.071*\"recapture\" + '\n",
      "  '0.060*\"part\" + 0.036*\"side\" + 0.030*\"militant\" + 0.020*\"drive\" + '\n",
      "  '0.019*\"manage\" + 0.019*\"western\"'),\n",
      " (32,\n",
      "  '0.327*\"clash\" + 0.136*\"rebel\" + 0.091*\"fierce\" + 0.078*\"heavy\" + '\n",
      "  '0.039*\"ongoing\" + 0.037*\"vicinity\" + 0.037*\"axis\" + 0.027*\"loss\" + '\n",
      "  '0.021*\"renew\" + 0.020*\"inflict\"'),\n",
      " (7,\n",
      "  '0.079*\"open\" + 0.077*\"front\" + 0.064*\"road\" + 0.054*\"supply\" + 0.053*\"line\" '\n",
      "  '+ 0.044*\"cut\" + 0.038*\"power\" + 0.035*\"plant\" + 0.033*\"water\" + '\n",
      "  '0.033*\"route\"'),\n",
      " (53,\n",
      "  '0.124*\"refugee\" + 0.083*\"break\" + 0.066*\"camp\" + 0.051*\"training\" + '\n",
      "  '0.047*\"migrant\" + 0.036*\"follow\" + 0.035*\"recruit\" + 0.031*\"siege\" + '\n",
      "  '0.029*\"trap\" + 0.029*\"kid\"'),\n",
      " (44,\n",
      "  '0.204*\"rebel\" + 0.172*\"back\" + 0.169*\"town\" + 0.039*\"ground\" + 0.031*\"push\" '\n",
      "  '+ 0.031*\"key\" + 0.022*\"islamist\" + 0.020*\"stronghold\" + 0.019*\"reportedly\" '\n",
      "  '+ 0.017*\"hundred\"'),\n",
      " (8,\n",
      "  '0.324*\"force\" + 0.322*\"iraqi\" + 0.054*\"retake\" + 0.046*\"storm\" + '\n",
      "  '0.034*\"special\" + 0.010*\"black\" + 0.006*\"bastion\" + 0.006*\"frontline\" + '\n",
      "  '0.006*\"announce\" + 0.006*\"barrack\"'),\n",
      " (10,\n",
      "  '0.304*\"kill\" + 0.236*\"militant\" + 0.064*\"member\" + 0.039*\"dozen\" + '\n",
      "  '0.035*\"include\" + 0.030*\"escape\" + 0.028*\"massacre\" + 0.023*\"syrianarmy\" + '\n",
      "  '0.016*\"reporter\" + 0.009*\"sana\"'),\n",
      " (22,\n",
      "  '0.152*\"troop\" + 0.133*\"operation\" + 0.109*\"western\" + 0.079*\"iraqi\" + '\n",
      "  '0.065*\"announce\" + 0.040*\"liberation\" + 0.031*\"begin\" + 0.030*\"fully\" + '\n",
      "  '0.028*\"offer\" + 0.024*\"officially\"'),\n",
      " (51,\n",
      "  '0.216*\"battle\" + 0.093*\"show\" + 0.057*\"picture\" + 0.054*\"photo\" + '\n",
      "  '0.039*\"tunnel\" + 0.032*\"long\" + 0.030*\"release\" + 0.020*\"infographic\" + '\n",
      "  '0.019*\"demand\" + 0.016*\"publish\"'),\n",
      " (24,\n",
      "  '0.117*\"ally\" + 0.110*\"hom\" + 0.101*\"police\" + 0.078*\"arrest\" + '\n",
      "  '0.061*\"terror\" + 0.047*\"suspect\" + 0.042*\"station\" + 0.035*\"member\" + '\n",
      "  '0.027*\"religious\" + 0.022*\"cell\"'),\n",
      " (49,\n",
      "  '0.189*\"countryside\" + 0.150*\"northern\" + 0.086*\"army\" + 0.076*\"town\" + '\n",
      "  '0.072*\"security\" + 0.058*\"province\" + 0.057*\"unit\" + 0.038*\"militant\" + '\n",
      "  '0.031*\"southern\" + 0.029*\"restore\"'),\n",
      " (11,\n",
      "  '0.146*\"capture\" + 0.121*\"east\" + 0.105*\"village\" + 0.081*\"south\" + '\n",
      "  '0.077*\"north\" + 0.074*\"map\" + 0.043*\"update\" + 0.032*\"km\" + 0.026*\"hom\" + '\n",
      "  '0.021*\"farm\"'),\n",
      " (2,\n",
      "  '0.159*\"fire\" + 0.097*\"set\" + 0.072*\"exchange\" + 0.051*\"rate\" + 0.045*\"usd\" '\n",
      "  '+ 0.035*\"zone\" + 0.034*\"deal\" + 0.033*\"agree\" + 0.028*\"ceasefire\" + '\n",
      "  '0.023*\"sign\"'),\n",
      " (54,\n",
      "  '0.079*\"oil\" + 0.066*\"podcast\" + 0.064*\"late\" + 0.063*\"project\" + '\n",
      "  '0.054*\"field\" + 0.052*\"gas\" + 0.044*\"pamela\" + 0.043*\"week\" + '\n",
      "  '0.043*\"listen\" + 0.043*\"landy\"'),\n",
      " (21,\n",
      "  '0.128*\"hold\" + 0.097*\"woman\" + 0.091*\"close\" + 0.065*\"point\" + '\n",
      "  '0.044*\"session\" + 0.038*\"free\" + 0.033*\"resident\" + 0.028*\"syrian\" + '\n",
      "  '0.028*\"girl\" + 0.020*\"urge\"'),\n",
      " (17,\n",
      "  '0.171*\"bomb\" + 0.095*\"car\" + 0.085*\"wound\" + 0.081*\"kill\" + 0.075*\"dead\" + '\n",
      "  '0.061*\"blast\" + 0.049*\"explosion\" + 0.040*\"casualty\" + 0.025*\"explosive\" + '\n",
      "  '0.017*\"detonate\"'),\n",
      " (41,\n",
      "  '0.232*\"destroy\" + 0.116*\"army\" + 0.114*\"terrorist\" + 0.105*\"vehicle\" + '\n",
      "  '0.042*\"position\" + 0.041*\"country\" + 0.024*\"bridge\" + 0.024*\"update\" + '\n",
      "  '0.020*\"terrorists\" + 0.018*\"armored\"'),\n",
      " (23,\n",
      "  '0.390*\"kill\" + 0.149*\"commander\" + 0.130*\"leader\" + 0.047*\"reportedly\" + '\n",
      "  '0.047*\"top\" + 0.028*\"gunman\" + 0.027*\"senior\" + 0.016*\"unknown\" + '\n",
      "  '0.011*\"assassinate\" + 0.006*\"strike\"'),\n",
      " (43,\n",
      "  '0.301*\"syrian\" + 0.138*\"group\" + 0.076*\"opposition\" + 0.028*\"dialogue\" + '\n",
      "  '0.027*\"resume\" + 0.020*\"moderate\" + 0.019*\"form\" + 0.017*\"armed\" + '\n",
      "  '0.012*\"intra\" + 0.012*\"separate\"'),\n",
      " (16,\n",
      "  '0.159*\"terrorist\" + 0.081*\"cessation\" + 0.077*\"hostility\" + 0.070*\"hour\" + '\n",
      "  '0.068*\"agreement\" + 0.067*\"breach\" + 0.065*\"group\" + 0.064*\"time\" + '\n",
      "  '0.033*\"past\" + 0.032*\"organization\"')]\n"
     ]
    }
   ],
   "source": [
    "# Select the model and print the topics\n",
    "optimal_model = model_list[9]\n",
    "model_topics = optimal_model.show_topics(formatted=False)\n",
    "pprint(optimal_model.print_topics(num_words=10))"
   ]
  },
  {
   "cell_type": "code",
   "execution_count": 113,
   "metadata": {},
   "outputs": [
    {
     "data": {
      "text/plain": [
       "10"
      ]
     },
     "execution_count": 113,
     "metadata": {},
     "output_type": "execute_result"
    }
   ],
   "source": [
    "len(model_list)"
   ]
  },
  {
   "cell_type": "code",
   "execution_count": 125,
   "metadata": {
    "collapsed": true
   },
   "outputs": [],
   "source": [
    "def format_topics_sentences(ldamodel=lda_model, corpus=corpus, texts=docs):\n",
    "    # Init output\n",
    "    sent_topics_df = pd.DataFrame()\n",
    "    \n",
    "    # Get main topic in each document\n",
    "    for i, row in enumerate(ldamodel[corpus]):\n",
    "        row = sorted(row, key=lambda x: (x[1]), reverse=True)\n",
    "        # Get the Dominant topic, Perc contribution and keywords for each document\n",
    "        for j, (topic_num, prop_topic) in enumerate(row):\n",
    "            if j == 0:  # dominant topic\n",
    "                wp = ldamodel.show_topic(topic_num)\n",
    "                topic_keywords = \", \".join([word for word, prop in wp])\n",
    "                sent_topics_df = sent_topics_df.append(pd.Series([int(topic_num), round (prop_topic, 4), topic_keywords]), ignore_index=True)\n",
    "            else:\n",
    "                break\n",
    "                \n",
    "    sent_topics_df.columns = ['Dominant_Topic', 'Perc_Contribution', 'Topic_Keywords']\n",
    "    \n",
    "    # Add original text to the end of the output\n",
    "    texts = []\n",
    "    for item in main_df_filtered[\"content\"]:\n",
    "        texts.append(item) # deal with streamed corpus by creating the list we wanted to avoid in the first place\n",
    "    contents = pd.Series(texts)\n",
    "    sent_topics_df = pd.concat([sent_topics_df, contents], axis=1)\n",
    "    return (sent_topics_df)"
   ]
  },
  {
   "cell_type": "code",
   "execution_count": 126,
   "metadata": {
    "collapsed": true
   },
   "outputs": [],
   "source": [
    "df_topic_sents_keywords = format_topics_sentences(ldamodel=optimal_model, corpus=corpus, texts=docs)"
   ]
  },
  {
   "cell_type": "code",
   "execution_count": 127,
   "metadata": {},
   "outputs": [
    {
     "data": {
      "text/html": [
       "<div>\n",
       "<style>\n",
       "    .dataframe thead tr:only-child th {\n",
       "        text-align: right;\n",
       "    }\n",
       "\n",
       "    .dataframe thead th {\n",
       "        text-align: left;\n",
       "    }\n",
       "\n",
       "    .dataframe tbody tr th {\n",
       "        vertical-align: top;\n",
       "    }\n",
       "</style>\n",
       "<table border=\"1\" class=\"dataframe\">\n",
       "  <thead>\n",
       "    <tr style=\"text-align: right;\">\n",
       "      <th></th>\n",
       "      <th>Document_No</th>\n",
       "      <th>Dominant_Topic</th>\n",
       "      <th>Topic_Perc_Contrib</th>\n",
       "      <th>Key words</th>\n",
       "      <th>Text</th>\n",
       "    </tr>\n",
       "  </thead>\n",
       "  <tbody>\n",
       "    <tr>\n",
       "      <th>0</th>\n",
       "      <td>0</td>\n",
       "      <td>42.0</td>\n",
       "      <td>0.0460</td>\n",
       "      <td>weapon, seize, arm, destroy, center, attempt, ...</td>\n",
       "      <td>My identical twin Irwin, with whom I lived for...</td>\n",
       "    </tr>\n",
       "    <tr>\n",
       "      <th>1</th>\n",
       "      <td>1</td>\n",
       "      <td>42.0</td>\n",
       "      <td>0.0680</td>\n",
       "      <td>weapon, seize, arm, destroy, center, attempt, ...</td>\n",
       "      <td>#UnlikelyMagic8BallAnswers New ball, who dis?</td>\n",
       "    </tr>\n",
       "    <tr>\n",
       "      <th>2</th>\n",
       "      <td>2</td>\n",
       "      <td>42.0</td>\n",
       "      <td>0.0536</td>\n",
       "      <td>weapon, seize, arm, destroy, center, attempt, ...</td>\n",
       "      <td>So long, and thanks for all the fish. #Unlikel...</td>\n",
       "    </tr>\n",
       "    <tr>\n",
       "      <th>3</th>\n",
       "      <td>3</td>\n",
       "      <td>42.0</td>\n",
       "      <td>0.0517</td>\n",
       "      <td>weapon, seize, arm, destroy, center, attempt, ...</td>\n",
       "      <td>Follow her on Instagram, get her Snap, then cr...</td>\n",
       "    </tr>\n",
       "    <tr>\n",
       "      <th>4</th>\n",
       "      <td>4</td>\n",
       "      <td>42.0</td>\n",
       "      <td>0.0525</td>\n",
       "      <td>weapon, seize, arm, destroy, center, attempt, ...</td>\n",
       "      <td>Google that shit!! #UnlikelyMagic8BallAnswers</td>\n",
       "    </tr>\n",
       "  </tbody>\n",
       "</table>\n",
       "</div>"
      ],
      "text/plain": [
       "   Document_No  Dominant_Topic  Topic_Perc_Contrib  \\\n",
       "0            0            42.0              0.0460   \n",
       "1            1            42.0              0.0680   \n",
       "2            2            42.0              0.0536   \n",
       "3            3            42.0              0.0517   \n",
       "4            4            42.0              0.0525   \n",
       "\n",
       "                                           Key words  \\\n",
       "0  weapon, seize, arm, destroy, center, attempt, ...   \n",
       "1  weapon, seize, arm, destroy, center, attempt, ...   \n",
       "2  weapon, seize, arm, destroy, center, attempt, ...   \n",
       "3  weapon, seize, arm, destroy, center, attempt, ...   \n",
       "4  weapon, seize, arm, destroy, center, attempt, ...   \n",
       "\n",
       "                                                Text  \n",
       "0  My identical twin Irwin, with whom I lived for...  \n",
       "1      #UnlikelyMagic8BallAnswers New ball, who dis?  \n",
       "2  So long, and thanks for all the fish. #Unlikel...  \n",
       "3  Follow her on Instagram, get her Snap, then cr...  \n",
       "4      Google that shit!! #UnlikelyMagic8BallAnswers  "
      ]
     },
     "execution_count": 127,
     "metadata": {},
     "output_type": "execute_result"
    }
   ],
   "source": [
    "# Format\n",
    "df_dominant_topic = df_topic_sents_keywords.reset_index()\n",
    "df_dominant_topic.columns = ['Document_No', 'Dominant_Topic', 'Topic_Perc_Contrib', 'Key words', 'Text']\n",
    "\n",
    "# Show\n",
    "df_dominant_topic.head()"
   ]
  },
  {
   "cell_type": "code",
   "execution_count": 133,
   "metadata": {
    "collapsed": true
   },
   "outputs": [],
   "source": [
    "df_dominant_topic.to_csv('/mnt/storage/TopicModels/df_dominant_topic.csv')"
   ]
  },
  {
   "cell_type": "code",
   "execution_count": 128,
   "metadata": {},
   "outputs": [
    {
     "data": {
      "text/html": [
       "<div>\n",
       "<style>\n",
       "    .dataframe thead tr:only-child th {\n",
       "        text-align: right;\n",
       "    }\n",
       "\n",
       "    .dataframe thead th {\n",
       "        text-align: left;\n",
       "    }\n",
       "\n",
       "    .dataframe tbody tr th {\n",
       "        vertical-align: top;\n",
       "    }\n",
       "</style>\n",
       "<table border=\"1\" class=\"dataframe\">\n",
       "  <thead>\n",
       "    <tr style=\"text-align: right;\">\n",
       "      <th></th>\n",
       "      <th>Topic_Num</th>\n",
       "      <th>Topic_Perc_Contrib</th>\n",
       "      <th>Keywords</th>\n",
       "      <th>Text</th>\n",
       "    </tr>\n",
       "  </thead>\n",
       "  <tbody>\n",
       "    <tr>\n",
       "      <th>0</th>\n",
       "      <td>0.0</td>\n",
       "      <td>0.1365</td>\n",
       "      <td>pron, day, start, school, high, watch, student...</td>\n",
       "      <td>190 thousand high school students start to tak...</td>\n",
       "    </tr>\n",
       "    <tr>\n",
       "      <th>1</th>\n",
       "      <td>1.0</td>\n",
       "      <td>0.0805</td>\n",
       "      <td>village, capture, liberate, west, expel, south...</td>\n",
       "      <td>Rock the goat, don't rock the goat baby, rock ...</td>\n",
       "    </tr>\n",
       "    <tr>\n",
       "      <th>2</th>\n",
       "      <td>2.0</td>\n",
       "      <td>0.1071</td>\n",
       "      <td>fire, set, exchange, rate, usd, zone, deal, ag...</td>\n",
       "      <td>CBS sets intervention exchange price to SYP 47...</td>\n",
       "    </tr>\n",
       "    <tr>\n",
       "      <th>3</th>\n",
       "      <td>3.0</td>\n",
       "      <td>0.1071</td>\n",
       "      <td>airstrike, carry, coalition, warplane, conduct...</td>\n",
       "      <td>US-led coalition jets carried out several airs...</td>\n",
       "    </tr>\n",
       "    <tr>\n",
       "      <th>4</th>\n",
       "      <td>4.0</td>\n",
       "      <td>0.1093</td>\n",
       "      <td>turkish, border, tank, cross, lebanese, pm, bu...</td>\n",
       "      <td>#Turkish Army begins amassing troops and tanks...</td>\n",
       "    </tr>\n",
       "    <tr>\n",
       "      <th>5</th>\n",
       "      <td>5.0</td>\n",
       "      <td>0.1170</td>\n",
       "      <td>aid, humanitarian, convoy, family, enter, dist...</td>\n",
       "      <td>3 tons of Russian humanitarian aid distributed...</td>\n",
       "    </tr>\n",
       "    <tr>\n",
       "      <th>6</th>\n",
       "      <td>6.0</td>\n",
       "      <td>0.1131</td>\n",
       "      <td>video, show, release, find, mass, execution, b...</td>\n",
       "      <td>#Iraq \\| New #ISIS video ‘Hell of the Apostate...</td>\n",
       "    </tr>\n",
       "    <tr>\n",
       "      <th>7</th>\n",
       "      <td>7.0</td>\n",
       "      <td>0.1319</td>\n",
       "      <td>open, front, road, supply, line, cut, power, p...</td>\n",
       "      <td>Australian boxing team conducts friendly match...</td>\n",
       "    </tr>\n",
       "    <tr>\n",
       "      <th>8</th>\n",
       "      <td>8.0</td>\n",
       "      <td>0.0834</td>\n",
       "      <td>force, iraqi, retake, storm, special, black, b...</td>\n",
       "      <td>#Iraq \\| Iraqi security forces (#ISF) are stor...</td>\n",
       "    </tr>\n",
       "    <tr>\n",
       "      <th>9</th>\n",
       "      <td>9.0</td>\n",
       "      <td>0.0959</td>\n",
       "      <td>people, leave, evacuate, celebrate, batch, win...</td>\n",
       "      <td>Syria’s Ghazal wins the high jump bronze medal...</td>\n",
       "    </tr>\n",
       "    <tr>\n",
       "      <th>10</th>\n",
       "      <td>10.0</td>\n",
       "      <td>0.0923</td>\n",
       "      <td>kill, militant, member, dozen, include, escape...</td>\n",
       "      <td>#syrianarmy and its allies killed &amp; captivated...</td>\n",
       "    </tr>\n",
       "    <tr>\n",
       "      <th>11</th>\n",
       "      <td>11.0</td>\n",
       "      <td>0.0824</td>\n",
       "      <td>capture, east, village, south, north, map, upd...</td>\n",
       "      <td>#Raqqa \\| Khirbet Abo Matar south-east of Sala...</td>\n",
       "    </tr>\n",
       "    <tr>\n",
       "      <th>12</th>\n",
       "      <td>12.0</td>\n",
       "      <td>0.0748</td>\n",
       "      <td>district, capture, city, amp, building, damage...</td>\n",
       "      <td>PMU and SWAT captured a hospital in Al-Saylou ...</td>\n",
       "    </tr>\n",
       "    <tr>\n",
       "      <th>13</th>\n",
       "      <td>13.0</td>\n",
       "      <td>0.0897</td>\n",
       "      <td>attack, terrorist, repel, kill, aircraft, comm...</td>\n",
       "      <td>#ISIS instructs jihadists in West and most not...</td>\n",
       "    </tr>\n",
       "    <tr>\n",
       "      <th>14</th>\n",
       "      <td>14.0</td>\n",
       "      <td>0.1229</td>\n",
       "      <td>terrorist, attack, injure, rocket, civilian, k...</td>\n",
       "      <td>Eight civilians killed, 33 injured in terroris...</td>\n",
       "    </tr>\n",
       "    <tr>\n",
       "      <th>15</th>\n",
       "      <td>15.0</td>\n",
       "      <td>0.0961</td>\n",
       "      <td>city, eastern, neighborhood, recapture, part, ...</td>\n",
       "      <td>#DeirEzzor \\| Fierce clashes between #SAA &amp; #I...</td>\n",
       "    </tr>\n",
       "    <tr>\n",
       "      <th>16</th>\n",
       "      <td>16.0</td>\n",
       "      <td>0.1567</td>\n",
       "      <td>terrorist, cessation, hostility, hour, agreeme...</td>\n",
       "      <td>Russian coordination center: Cessation of host...</td>\n",
       "    </tr>\n",
       "    <tr>\n",
       "      <th>17</th>\n",
       "      <td>17.0</td>\n",
       "      <td>0.1262</td>\n",
       "      <td>bomb, car, wound, kill, dead, blast, explosion...</td>\n",
       "      <td>Al #Nusra detonated a massive tunnel-bomb or d...</td>\n",
       "    </tr>\n",
       "    <tr>\n",
       "      <th>18</th>\n",
       "      <td>18.0</td>\n",
       "      <td>0.1151</td>\n",
       "      <td>call, discuss, cooperation, work, statement, s...</td>\n",
       "      <td>#Idlib \\| Ahrar al-Sham issued a statement ann...</td>\n",
       "    </tr>\n",
       "    <tr>\n",
       "      <th>19</th>\n",
       "      <td>19.0</td>\n",
       "      <td>0.1016</td>\n",
       "      <td>make, province, city, gain, local, world, mone...</td>\n",
       "      <td>The Iraqi volunteer forces from Badr Brigade d...</td>\n",
       "    </tr>\n",
       "    <tr>\n",
       "      <th>20</th>\n",
       "      <td>20.0</td>\n",
       "      <td>0.1375</td>\n",
       "      <td>claim, today, bombing, shoot, yesterday, decla...</td>\n",
       "      <td>If they'll accept version of terroism- they'll...</td>\n",
       "    </tr>\n",
       "    <tr>\n",
       "      <th>21</th>\n",
       "      <td>21.0</td>\n",
       "      <td>0.1032</td>\n",
       "      <td>hold, woman, close, point, session, free, resi...</td>\n",
       "      <td>Inside #ISIS prison where extremists tortured ...</td>\n",
       "    </tr>\n",
       "    <tr>\n",
       "      <th>22</th>\n",
       "      <td>22.0</td>\n",
       "      <td>0.1225</td>\n",
       "      <td>troop, operation, western, iraqi, announce, li...</td>\n",
       "      <td>#Iraq \\| Joint Iraqi operations announced the ...</td>\n",
       "    </tr>\n",
       "    <tr>\n",
       "      <th>23</th>\n",
       "      <td>23.0</td>\n",
       "      <td>0.1011</td>\n",
       "      <td>kill, commander, leader, reportedly, top, gunm...</td>\n",
       "      <td>#Hama \\| Unknown gunmen killed Tahrir al-Sham'...</td>\n",
       "    </tr>\n",
       "    <tr>\n",
       "      <th>24</th>\n",
       "      <td>24.0</td>\n",
       "      <td>0.1032</td>\n",
       "      <td>ally, hom, police, arrest, terror, suspect, st...</td>\n",
       "      <td>The arrest of #Paris &amp; #Brussels terror suspec...</td>\n",
       "    </tr>\n",
       "    <tr>\n",
       "      <th>25</th>\n",
       "      <td>25.0</td>\n",
       "      <td>0.0849</td>\n",
       "      <td>year, israeli, lose, return, jihadi, palestini...</td>\n",
       "      <td>Ahrar Al-Sham court announces amnesty order fo...</td>\n",
       "    </tr>\n",
       "    <tr>\n",
       "      <th>26</th>\n",
       "      <td>26.0</td>\n",
       "      <td>0.1014</td>\n",
       "      <td>talk, suicide, bomber, peace, blow, meeting, a...</td>\n",
       "      <td>Reports of another round of peace talks betwee...</td>\n",
       "    </tr>\n",
       "    <tr>\n",
       "      <th>27</th>\n",
       "      <td>27.0</td>\n",
       "      <td>0.0834</td>\n",
       "      <td>force, government, syrian, rebel, fsa, pro, ex...</td>\n",
       "      <td>#Damascus \\| The Syrian government and Russia ...</td>\n",
       "    </tr>\n",
       "    <tr>\n",
       "      <th>28</th>\n",
       "      <td>28.0</td>\n",
       "      <td>0.0834</td>\n",
       "      <td>military, continue, advance, situation, operat...</td>\n",
       "      <td>#Raqqa \\| Updated map of the military situatio...</td>\n",
       "    </tr>\n",
       "    <tr>\n",
       "      <th>29</th>\n",
       "      <td>29.0</td>\n",
       "      <td>0.1241</td>\n",
       "      <td>pron, fighting, die, stonedcomicbook, christia...</td>\n",
       "      <td>A girl burned alive by #IS told her mother to ...</td>\n",
       "    </tr>\n",
       "    <tr>\n",
       "      <th>30</th>\n",
       "      <td>30.0</td>\n",
       "      <td>0.1630</td>\n",
       "      <td>weather, temperature, drop, average, forecast,...</td>\n",
       "      <td>Tuesday weather: Skies clear to partly cloudy,...</td>\n",
       "    </tr>\n",
       "    <tr>\n",
       "      <th>31</th>\n",
       "      <td>31.0</td>\n",
       "      <td>0.1093</td>\n",
       "      <td>report, helicopter, site, hand, pilot, islamic...</td>\n",
       "      <td>Site of the Russian helicopter immediately aft...</td>\n",
       "    </tr>\n",
       "    <tr>\n",
       "      <th>32</th>\n",
       "      <td>32.0</td>\n",
       "      <td>0.0865</td>\n",
       "      <td>clash, rebel, fierce, heavy, ongoing, vicinity...</td>\n",
       "      <td>#Damascus \\| Continued clashes between #SAA, H...</td>\n",
       "    </tr>\n",
       "    <tr>\n",
       "      <th>33</th>\n",
       "      <td>33.0</td>\n",
       "      <td>0.0849</td>\n",
       "      <td>russian, airbase, deploy, military, defense, d...</td>\n",
       "      <td>#US surveilance plane spotted flying over #Rus...</td>\n",
       "    </tr>\n",
       "    <tr>\n",
       "      <th>34</th>\n",
       "      <td>34.0</td>\n",
       "      <td>0.1130</td>\n",
       "      <td>area, control, establish, full, hill, army, st...</td>\n",
       "      <td>#SyrianArmy and allies captured Sheikh Sa'eed ...</td>\n",
       "    </tr>\n",
       "    <tr>\n",
       "      <th>35</th>\n",
       "      <td>35.0</td>\n",
       "      <td>0.0945</td>\n",
       "      <td>target, position, hit, shell, artillery, gun, ...</td>\n",
       "      <td>#SAA artillery positions on Tell Sh'ar hit by ...</td>\n",
       "    </tr>\n",
       "    <tr>\n",
       "      <th>36</th>\n",
       "      <td>36.0</td>\n",
       "      <td>0.0886</td>\n",
       "      <td>soldier, child, british, american, german, fre...</td>\n",
       "      <td>In #Mosul orphanage, #IslamicState groomed chi...</td>\n",
       "    </tr>\n",
       "    <tr>\n",
       "      <th>37</th>\n",
       "      <td>37.0</td>\n",
       "      <td>0.1170</td>\n",
       "      <td>fight, support, terrorism, combat, regime, eff...</td>\n",
       "      <td>Information Minister stresses importance of Ru...</td>\n",
       "    </tr>\n",
       "    <tr>\n",
       "      <th>38</th>\n",
       "      <td>38.0</td>\n",
       "      <td>0.0849</td>\n",
       "      <td>syrian, official, meet, visit, give, delegatio...</td>\n",
       "      <td>President al-Assad meets French parliamentary ...</td>\n",
       "    </tr>\n",
       "    <tr>\n",
       "      <th>39</th>\n",
       "      <td>39.0</td>\n",
       "      <td>0.0824</td>\n",
       "      <td>send, syrian, number, arrive, head, large, pla...</td>\n",
       "      <td>#DeirEzzor \\| Large number of #SAA reinforceme...</td>\n",
       "    </tr>\n",
       "    <tr>\n",
       "      <th>40</th>\n",
       "      <td>40.0</td>\n",
       "      <td>0.1241</td>\n",
       "      <td>pron, word, life, receive, reveal, step, fight...</td>\n",
       "      <td>Step1: we take the water Step 2: we use it in ...</td>\n",
       "    </tr>\n",
       "    <tr>\n",
       "      <th>41</th>\n",
       "      <td>41.0</td>\n",
       "      <td>0.1019</td>\n",
       "      <td>destroy, army, terrorist, vehicle, position, c...</td>\n",
       "      <td>Updated-Scores of terrorists killed and many o...</td>\n",
       "    </tr>\n",
       "    <tr>\n",
       "      <th>42</th>\n",
       "      <td>42.0</td>\n",
       "      <td>0.1131</td>\n",
       "      <td>weapon, seize, arm, destroy, center, attempt, ...</td>\n",
       "      <td>Authorities thwart an attempt to smuggle arms ...</td>\n",
       "    </tr>\n",
       "    <tr>\n",
       "      <th>43</th>\n",
       "      <td>43.0</td>\n",
       "      <td>0.1130</td>\n",
       "      <td>syrian, group, opposition, dialogue, resume, m...</td>\n",
       "      <td>Al-Jaafari: Syrian government ready to resume ...</td>\n",
       "    </tr>\n",
       "    <tr>\n",
       "      <th>44</th>\n",
       "      <td>44.0</td>\n",
       "      <td>0.0761</td>\n",
       "      <td>rebel, back, town, ground, push, key, islamist...</td>\n",
       "      <td>#Turkey-backed rebels set sights on key #ISIS-...</td>\n",
       "    </tr>\n",
       "    <tr>\n",
       "      <th>45</th>\n",
       "      <td>45.0</td>\n",
       "      <td>0.0890</td>\n",
       "      <td>offensive, launch, prepare, assault, fail, pla...</td>\n",
       "      <td>Jihadist rebels launch counter-offensive in th...</td>\n",
       "    </tr>\n",
       "    <tr>\n",
       "      <th>46</th>\n",
       "      <td>46.0</td>\n",
       "      <td>0.0995</td>\n",
       "      <td>anti, death, saudi, iranian, burn, street, fac...</td>\n",
       "      <td>'Molotov coctails' thrown at #Saudi embassy in...</td>\n",
       "    </tr>\n",
       "    <tr>\n",
       "      <th>47</th>\n",
       "      <td>47.0</td>\n",
       "      <td>0.1071</td>\n",
       "      <td>fighter, kurdish, join, ypg, jet, arab, avoid,...</td>\n",
       "      <td>#Syria \\| More Arab fighters are joining SDF i...</td>\n",
       "    </tr>\n",
       "    <tr>\n",
       "      <th>48</th>\n",
       "      <td>48.0</td>\n",
       "      <td>0.1112</td>\n",
       "      <td>civilian, execute, man, flee, behead, hold, sp...</td>\n",
       "      <td>#Aleppo \\| #ISIS beheads young man accused of ...</td>\n",
       "    </tr>\n",
       "    <tr>\n",
       "      <th>49</th>\n",
       "      <td>49.0</td>\n",
       "      <td>0.1342</td>\n",
       "      <td>countryside, northern, army, town, security, p...</td>\n",
       "      <td>Army units restore stability and security to R...</td>\n",
       "    </tr>\n",
       "    <tr>\n",
       "      <th>50</th>\n",
       "      <td>50.0</td>\n",
       "      <td>0.0980</td>\n",
       "      <td>war, syrian, end, defeat, warn, conflict, chin...</td>\n",
       "      <td>#Syria civil war: Prospect of #Saudi incursion...</td>\n",
       "    </tr>\n",
       "    <tr>\n",
       "      <th>51</th>\n",
       "      <td>51.0</td>\n",
       "      <td>0.0819</td>\n",
       "      <td>battle, show, picture, photo, tunnel, long, re...</td>\n",
       "      <td>#Raqqa \\| A satellite image shows the complete...</td>\n",
       "    </tr>\n",
       "    <tr>\n",
       "      <th>52</th>\n",
       "      <td>52.0</td>\n",
       "      <td>0.0995</td>\n",
       "      <td>reach, crisis, yearsago, tweetsfrom, confirm, ...</td>\n",
       "      <td>Putin: Important steps achieved to reach polit...</td>\n",
       "    </tr>\n",
       "    <tr>\n",
       "      <th>53</th>\n",
       "      <td>53.0</td>\n",
       "      <td>0.0844</td>\n",
       "      <td>refugee, break, camp, training, migrant, follo...</td>\n",
       "      <td>#Syrian kids at refugee camp in Sweida. About ...</td>\n",
       "    </tr>\n",
       "    <tr>\n",
       "      <th>54</th>\n",
       "      <td>54.0</td>\n",
       "      <td>0.1757</td>\n",
       "      <td>oil, podcast, late, project, field, gas, pamel...</td>\n",
       "      <td>Why not make your good Saturday great Listen t...</td>\n",
       "    </tr>\n",
       "    <tr>\n",
       "      <th>55</th>\n",
       "      <td>55.0</td>\n",
       "      <td>0.0956</td>\n",
       "      <td>strike, air, base, missile, drone, footage, ru...</td>\n",
       "      <td>Drone footage of Russian Kalibr missiles strik...</td>\n",
       "    </tr>\n",
       "  </tbody>\n",
       "</table>\n",
       "</div>"
      ],
      "text/plain": [
       "    Topic_Num  Topic_Perc_Contrib  \\\n",
       "0         0.0              0.1365   \n",
       "1         1.0              0.0805   \n",
       "2         2.0              0.1071   \n",
       "3         3.0              0.1071   \n",
       "4         4.0              0.1093   \n",
       "5         5.0              0.1170   \n",
       "6         6.0              0.1131   \n",
       "7         7.0              0.1319   \n",
       "8         8.0              0.0834   \n",
       "9         9.0              0.0959   \n",
       "10       10.0              0.0923   \n",
       "11       11.0              0.0824   \n",
       "12       12.0              0.0748   \n",
       "13       13.0              0.0897   \n",
       "14       14.0              0.1229   \n",
       "15       15.0              0.0961   \n",
       "16       16.0              0.1567   \n",
       "17       17.0              0.1262   \n",
       "18       18.0              0.1151   \n",
       "19       19.0              0.1016   \n",
       "20       20.0              0.1375   \n",
       "21       21.0              0.1032   \n",
       "22       22.0              0.1225   \n",
       "23       23.0              0.1011   \n",
       "24       24.0              0.1032   \n",
       "25       25.0              0.0849   \n",
       "26       26.0              0.1014   \n",
       "27       27.0              0.0834   \n",
       "28       28.0              0.0834   \n",
       "29       29.0              0.1241   \n",
       "30       30.0              0.1630   \n",
       "31       31.0              0.1093   \n",
       "32       32.0              0.0865   \n",
       "33       33.0              0.0849   \n",
       "34       34.0              0.1130   \n",
       "35       35.0              0.0945   \n",
       "36       36.0              0.0886   \n",
       "37       37.0              0.1170   \n",
       "38       38.0              0.0849   \n",
       "39       39.0              0.0824   \n",
       "40       40.0              0.1241   \n",
       "41       41.0              0.1019   \n",
       "42       42.0              0.1131   \n",
       "43       43.0              0.1130   \n",
       "44       44.0              0.0761   \n",
       "45       45.0              0.0890   \n",
       "46       46.0              0.0995   \n",
       "47       47.0              0.1071   \n",
       "48       48.0              0.1112   \n",
       "49       49.0              0.1342   \n",
       "50       50.0              0.0980   \n",
       "51       51.0              0.0819   \n",
       "52       52.0              0.0995   \n",
       "53       53.0              0.0844   \n",
       "54       54.0              0.1757   \n",
       "55       55.0              0.0956   \n",
       "\n",
       "                                             Keywords  \\\n",
       "0   pron, day, start, school, high, watch, student...   \n",
       "1   village, capture, liberate, west, expel, south...   \n",
       "2   fire, set, exchange, rate, usd, zone, deal, ag...   \n",
       "3   airstrike, carry, coalition, warplane, conduct...   \n",
       "4   turkish, border, tank, cross, lebanese, pm, bu...   \n",
       "5   aid, humanitarian, convoy, family, enter, dist...   \n",
       "6   video, show, release, find, mass, execution, b...   \n",
       "7   open, front, road, supply, line, cut, power, p...   \n",
       "8   force, iraqi, retake, storm, special, black, b...   \n",
       "9   people, leave, evacuate, celebrate, batch, win...   \n",
       "10  kill, militant, member, dozen, include, escape...   \n",
       "11  capture, east, village, south, north, map, upd...   \n",
       "12  district, capture, city, amp, building, damage...   \n",
       "13  attack, terrorist, repel, kill, aircraft, comm...   \n",
       "14  terrorist, attack, injure, rocket, civilian, k...   \n",
       "15  city, eastern, neighborhood, recapture, part, ...   \n",
       "16  terrorist, cessation, hostility, hour, agreeme...   \n",
       "17  bomb, car, wound, kill, dead, blast, explosion...   \n",
       "18  call, discuss, cooperation, work, statement, s...   \n",
       "19  make, province, city, gain, local, world, mone...   \n",
       "20  claim, today, bombing, shoot, yesterday, decla...   \n",
       "21  hold, woman, close, point, session, free, resi...   \n",
       "22  troop, operation, western, iraqi, announce, li...   \n",
       "23  kill, commander, leader, reportedly, top, gunm...   \n",
       "24  ally, hom, police, arrest, terror, suspect, st...   \n",
       "25  year, israeli, lose, return, jihadi, palestini...   \n",
       "26  talk, suicide, bomber, peace, blow, meeting, a...   \n",
       "27  force, government, syrian, rebel, fsa, pro, ex...   \n",
       "28  military, continue, advance, situation, operat...   \n",
       "29  pron, fighting, die, stonedcomicbook, christia...   \n",
       "30  weather, temperature, drop, average, forecast,...   \n",
       "31  report, helicopter, site, hand, pilot, islamic...   \n",
       "32  clash, rebel, fierce, heavy, ongoing, vicinity...   \n",
       "33  russian, airbase, deploy, military, defense, d...   \n",
       "34  area, control, establish, full, hill, army, st...   \n",
       "35  target, position, hit, shell, artillery, gun, ...   \n",
       "36  soldier, child, british, american, german, fre...   \n",
       "37  fight, support, terrorism, combat, regime, eff...   \n",
       "38  syrian, official, meet, visit, give, delegatio...   \n",
       "39  send, syrian, number, arrive, head, large, pla...   \n",
       "40  pron, word, life, receive, reveal, step, fight...   \n",
       "41  destroy, army, terrorist, vehicle, position, c...   \n",
       "42  weapon, seize, arm, destroy, center, attempt, ...   \n",
       "43  syrian, group, opposition, dialogue, resume, m...   \n",
       "44  rebel, back, town, ground, push, key, islamist...   \n",
       "45  offensive, launch, prepare, assault, fail, pla...   \n",
       "46  anti, death, saudi, iranian, burn, street, fac...   \n",
       "47  fighter, kurdish, join, ypg, jet, arab, avoid,...   \n",
       "48  civilian, execute, man, flee, behead, hold, sp...   \n",
       "49  countryside, northern, army, town, security, p...   \n",
       "50  war, syrian, end, defeat, warn, conflict, chin...   \n",
       "51  battle, show, picture, photo, tunnel, long, re...   \n",
       "52  reach, crisis, yearsago, tweetsfrom, confirm, ...   \n",
       "53  refugee, break, camp, training, migrant, follo...   \n",
       "54  oil, podcast, late, project, field, gas, pamel...   \n",
       "55  strike, air, base, missile, drone, footage, ru...   \n",
       "\n",
       "                                                 Text  \n",
       "0   190 thousand high school students start to tak...  \n",
       "1   Rock the goat, don't rock the goat baby, rock ...  \n",
       "2   CBS sets intervention exchange price to SYP 47...  \n",
       "3   US-led coalition jets carried out several airs...  \n",
       "4   #Turkish Army begins amassing troops and tanks...  \n",
       "5   3 tons of Russian humanitarian aid distributed...  \n",
       "6   #Iraq \\| New #ISIS video ‘Hell of the Apostate...  \n",
       "7   Australian boxing team conducts friendly match...  \n",
       "8   #Iraq \\| Iraqi security forces (#ISF) are stor...  \n",
       "9   Syria’s Ghazal wins the high jump bronze medal...  \n",
       "10  #syrianarmy and its allies killed & captivated...  \n",
       "11  #Raqqa \\| Khirbet Abo Matar south-east of Sala...  \n",
       "12  PMU and SWAT captured a hospital in Al-Saylou ...  \n",
       "13  #ISIS instructs jihadists in West and most not...  \n",
       "14  Eight civilians killed, 33 injured in terroris...  \n",
       "15  #DeirEzzor \\| Fierce clashes between #SAA & #I...  \n",
       "16  Russian coordination center: Cessation of host...  \n",
       "17  Al #Nusra detonated a massive tunnel-bomb or d...  \n",
       "18  #Idlib \\| Ahrar al-Sham issued a statement ann...  \n",
       "19  The Iraqi volunteer forces from Badr Brigade d...  \n",
       "20  If they'll accept version of terroism- they'll...  \n",
       "21  Inside #ISIS prison where extremists tortured ...  \n",
       "22  #Iraq \\| Joint Iraqi operations announced the ...  \n",
       "23  #Hama \\| Unknown gunmen killed Tahrir al-Sham'...  \n",
       "24  The arrest of #Paris & #Brussels terror suspec...  \n",
       "25  Ahrar Al-Sham court announces amnesty order fo...  \n",
       "26  Reports of another round of peace talks betwee...  \n",
       "27  #Damascus \\| The Syrian government and Russia ...  \n",
       "28  #Raqqa \\| Updated map of the military situatio...  \n",
       "29  A girl burned alive by #IS told her mother to ...  \n",
       "30  Tuesday weather: Skies clear to partly cloudy,...  \n",
       "31  Site of the Russian helicopter immediately aft...  \n",
       "32  #Damascus \\| Continued clashes between #SAA, H...  \n",
       "33  #US surveilance plane spotted flying over #Rus...  \n",
       "34  #SyrianArmy and allies captured Sheikh Sa'eed ...  \n",
       "35  #SAA artillery positions on Tell Sh'ar hit by ...  \n",
       "36  In #Mosul orphanage, #IslamicState groomed chi...  \n",
       "37  Information Minister stresses importance of Ru...  \n",
       "38  President al-Assad meets French parliamentary ...  \n",
       "39  #DeirEzzor \\| Large number of #SAA reinforceme...  \n",
       "40  Step1: we take the water Step 2: we use it in ...  \n",
       "41  Updated-Scores of terrorists killed and many o...  \n",
       "42  Authorities thwart an attempt to smuggle arms ...  \n",
       "43  Al-Jaafari: Syrian government ready to resume ...  \n",
       "44  #Turkey-backed rebels set sights on key #ISIS-...  \n",
       "45  Jihadist rebels launch counter-offensive in th...  \n",
       "46  'Molotov coctails' thrown at #Saudi embassy in...  \n",
       "47  #Syria \\| More Arab fighters are joining SDF i...  \n",
       "48  #Aleppo \\| #ISIS beheads young man accused of ...  \n",
       "49  Army units restore stability and security to R...  \n",
       "50  #Syria civil war: Prospect of #Saudi incursion...  \n",
       "51  #Raqqa \\| A satellite image shows the complete...  \n",
       "52  Putin: Important steps achieved to reach polit...  \n",
       "53  #Syrian kids at refugee camp in Sweida. About ...  \n",
       "54  Why not make your good Saturday great Listen t...  \n",
       "55  Drone footage of Russian Kalibr missiles strik...  "
      ]
     },
     "execution_count": 128,
     "metadata": {},
     "output_type": "execute_result"
    }
   ],
   "source": [
    "sent_topics_sorteddf_mallet = pd.DataFrame()\n",
    "\n",
    "sent_topics_outdf_grpd = df_topic_sents_keywords.groupby(\"Dominant_Topic\")\n",
    "\n",
    "for i, grp in sent_topics_outdf_grpd:\n",
    "    sent_topics_sorteddf_mallet = pd.concat([sent_topics_sorteddf_mallet, grp.sort_values(['Perc_Contribution'], ascending=[0]).head(1)], axis=0)\n",
    "\n",
    "# Reset Index\n",
    "sent_topics_sorteddf_mallet.reset_index(drop=True, inplace=True)\n",
    "\n",
    "# Format\n",
    "sent_topics_sorteddf_mallet.columns = ['Topic_Num', 'Topic_Perc_Contrib', 'Keywords', 'Text']\n",
    "\n",
    "# Show\n",
    "sent_topics_sorteddf_mallet"
   ]
  },
  {
   "cell_type": "code",
   "execution_count": 134,
   "metadata": {
    "collapsed": true
   },
   "outputs": [],
   "source": [
    "sent_topics_sorteddf_mallet.to_csv('/mnt/storage/TopicModels/sent_topics_sorteddf_mallet.csv')"
   ]
  },
  {
   "cell_type": "code",
   "execution_count": 129,
   "metadata": {},
   "outputs": [
    {
     "data": {
      "text/html": [
       "<div>\n",
       "<style>\n",
       "    .dataframe thead tr:only-child th {\n",
       "        text-align: right;\n",
       "    }\n",
       "\n",
       "    .dataframe thead th {\n",
       "        text-align: left;\n",
       "    }\n",
       "\n",
       "    .dataframe tbody tr th {\n",
       "        vertical-align: top;\n",
       "    }\n",
       "</style>\n",
       "<table border=\"1\" class=\"dataframe\">\n",
       "  <thead>\n",
       "    <tr style=\"text-align: right;\">\n",
       "      <th></th>\n",
       "      <th>Dominant_Topic</th>\n",
       "      <th>Topic_Keywords</th>\n",
       "      <th>Num_Documents</th>\n",
       "      <th>Perc_Documents</th>\n",
       "    </tr>\n",
       "  </thead>\n",
       "  <tbody>\n",
       "    <tr>\n",
       "      <th>0</th>\n",
       "      <td>42.0</td>\n",
       "      <td>weapon, seize, arm, destroy, center, attempt, ...</td>\n",
       "      <td>1218.0</td>\n",
       "      <td>0.0787</td>\n",
       "    </tr>\n",
       "    <tr>\n",
       "      <th>1</th>\n",
       "      <td>42.0</td>\n",
       "      <td>weapon, seize, arm, destroy, center, attempt, ...</td>\n",
       "      <td>337.0</td>\n",
       "      <td>0.0218</td>\n",
       "    </tr>\n",
       "    <tr>\n",
       "      <th>2</th>\n",
       "      <td>42.0</td>\n",
       "      <td>weapon, seize, arm, destroy, center, attempt, ...</td>\n",
       "      <td>293.0</td>\n",
       "      <td>0.0189</td>\n",
       "    </tr>\n",
       "    <tr>\n",
       "      <th>3</th>\n",
       "      <td>42.0</td>\n",
       "      <td>weapon, seize, arm, destroy, center, attempt, ...</td>\n",
       "      <td>427.0</td>\n",
       "      <td>0.0276</td>\n",
       "    </tr>\n",
       "    <tr>\n",
       "      <th>4</th>\n",
       "      <td>42.0</td>\n",
       "      <td>weapon, seize, arm, destroy, center, attempt, ...</td>\n",
       "      <td>395.0</td>\n",
       "      <td>0.0255</td>\n",
       "    </tr>\n",
       "    <tr>\n",
       "      <th>5</th>\n",
       "      <td>42.0</td>\n",
       "      <td>weapon, seize, arm, destroy, center, attempt, ...</td>\n",
       "      <td>323.0</td>\n",
       "      <td>0.0209</td>\n",
       "    </tr>\n",
       "    <tr>\n",
       "      <th>6</th>\n",
       "      <td>42.0</td>\n",
       "      <td>weapon, seize, arm, destroy, center, attempt, ...</td>\n",
       "      <td>290.0</td>\n",
       "      <td>0.0187</td>\n",
       "    </tr>\n",
       "    <tr>\n",
       "      <th>7</th>\n",
       "      <td>42.0</td>\n",
       "      <td>weapon, seize, arm, destroy, center, attempt, ...</td>\n",
       "      <td>335.0</td>\n",
       "      <td>0.0216</td>\n",
       "    </tr>\n",
       "    <tr>\n",
       "      <th>8</th>\n",
       "      <td>42.0</td>\n",
       "      <td>weapon, seize, arm, destroy, center, attempt, ...</td>\n",
       "      <td>235.0</td>\n",
       "      <td>0.0152</td>\n",
       "    </tr>\n",
       "    <tr>\n",
       "      <th>9</th>\n",
       "      <td>42.0</td>\n",
       "      <td>weapon, seize, arm, destroy, center, attempt, ...</td>\n",
       "      <td>310.0</td>\n",
       "      <td>0.0200</td>\n",
       "    </tr>\n",
       "    <tr>\n",
       "      <th>10</th>\n",
       "      <td>2.0</td>\n",
       "      <td>fire, set, exchange, rate, usd, zone, deal, ag...</td>\n",
       "      <td>211.0</td>\n",
       "      <td>0.0136</td>\n",
       "    </tr>\n",
       "    <tr>\n",
       "      <th>11</th>\n",
       "      <td>52.0</td>\n",
       "      <td>reach, crisis, yearsago, tweetsfrom, confirm, ...</td>\n",
       "      <td>239.0</td>\n",
       "      <td>0.0154</td>\n",
       "    </tr>\n",
       "    <tr>\n",
       "      <th>12</th>\n",
       "      <td>46.0</td>\n",
       "      <td>anti, death, saudi, iranian, burn, street, fac...</td>\n",
       "      <td>221.0</td>\n",
       "      <td>0.0143</td>\n",
       "    </tr>\n",
       "    <tr>\n",
       "      <th>13</th>\n",
       "      <td>40.0</td>\n",
       "      <td>pron, word, life, receive, reveal, step, fight...</td>\n",
       "      <td>175.0</td>\n",
       "      <td>0.0113</td>\n",
       "    </tr>\n",
       "    <tr>\n",
       "      <th>14</th>\n",
       "      <td>0.0</td>\n",
       "      <td>pron, day, start, school, high, watch, student...</td>\n",
       "      <td>267.0</td>\n",
       "      <td>0.0173</td>\n",
       "    </tr>\n",
       "    <tr>\n",
       "      <th>15</th>\n",
       "      <td>40.0</td>\n",
       "      <td>pron, word, life, receive, reveal, step, fight...</td>\n",
       "      <td>230.0</td>\n",
       "      <td>0.0149</td>\n",
       "    </tr>\n",
       "    <tr>\n",
       "      <th>16</th>\n",
       "      <td>40.0</td>\n",
       "      <td>pron, word, life, receive, reveal, step, fight...</td>\n",
       "      <td>242.0</td>\n",
       "      <td>0.0156</td>\n",
       "    </tr>\n",
       "    <tr>\n",
       "      <th>17</th>\n",
       "      <td>40.0</td>\n",
       "      <td>pron, word, life, receive, reveal, step, fight...</td>\n",
       "      <td>305.0</td>\n",
       "      <td>0.0197</td>\n",
       "    </tr>\n",
       "    <tr>\n",
       "      <th>18</th>\n",
       "      <td>0.0</td>\n",
       "      <td>pron, day, start, school, high, watch, student...</td>\n",
       "      <td>294.0</td>\n",
       "      <td>0.0190</td>\n",
       "    </tr>\n",
       "    <tr>\n",
       "      <th>19</th>\n",
       "      <td>40.0</td>\n",
       "      <td>pron, word, life, receive, reveal, step, fight...</td>\n",
       "      <td>214.0</td>\n",
       "      <td>0.0138</td>\n",
       "    </tr>\n",
       "    <tr>\n",
       "      <th>20</th>\n",
       "      <td>29.0</td>\n",
       "      <td>pron, fighting, die, stonedcomicbook, christia...</td>\n",
       "      <td>246.0</td>\n",
       "      <td>0.0159</td>\n",
       "    </tr>\n",
       "    <tr>\n",
       "      <th>21</th>\n",
       "      <td>40.0</td>\n",
       "      <td>pron, word, life, receive, reveal, step, fight...</td>\n",
       "      <td>260.0</td>\n",
       "      <td>0.0168</td>\n",
       "    </tr>\n",
       "    <tr>\n",
       "      <th>22</th>\n",
       "      <td>18.0</td>\n",
       "      <td>call, discuss, cooperation, work, statement, s...</td>\n",
       "      <td>226.0</td>\n",
       "      <td>0.0146</td>\n",
       "    </tr>\n",
       "    <tr>\n",
       "      <th>23</th>\n",
       "      <td>40.0</td>\n",
       "      <td>pron, word, life, receive, reveal, step, fight...</td>\n",
       "      <td>318.0</td>\n",
       "      <td>0.0205</td>\n",
       "    </tr>\n",
       "    <tr>\n",
       "      <th>24</th>\n",
       "      <td>40.0</td>\n",
       "      <td>pron, word, life, receive, reveal, step, fight...</td>\n",
       "      <td>274.0</td>\n",
       "      <td>0.0177</td>\n",
       "    </tr>\n",
       "    <tr>\n",
       "      <th>25</th>\n",
       "      <td>52.0</td>\n",
       "      <td>reach, crisis, yearsago, tweetsfrom, confirm, ...</td>\n",
       "      <td>295.0</td>\n",
       "      <td>0.0191</td>\n",
       "    </tr>\n",
       "    <tr>\n",
       "      <th>26</th>\n",
       "      <td>52.0</td>\n",
       "      <td>reach, crisis, yearsago, tweetsfrom, confirm, ...</td>\n",
       "      <td>277.0</td>\n",
       "      <td>0.0179</td>\n",
       "    </tr>\n",
       "    <tr>\n",
       "      <th>27</th>\n",
       "      <td>52.0</td>\n",
       "      <td>reach, crisis, yearsago, tweetsfrom, confirm, ...</td>\n",
       "      <td>181.0</td>\n",
       "      <td>0.0117</td>\n",
       "    </tr>\n",
       "    <tr>\n",
       "      <th>28</th>\n",
       "      <td>52.0</td>\n",
       "      <td>reach, crisis, yearsago, tweetsfrom, confirm, ...</td>\n",
       "      <td>273.0</td>\n",
       "      <td>0.0176</td>\n",
       "    </tr>\n",
       "    <tr>\n",
       "      <th>29</th>\n",
       "      <td>52.0</td>\n",
       "      <td>reach, crisis, yearsago, tweetsfrom, confirm, ...</td>\n",
       "      <td>250.0</td>\n",
       "      <td>0.0162</td>\n",
       "    </tr>\n",
       "    <tr>\n",
       "      <th>...</th>\n",
       "      <td>...</td>\n",
       "      <td>...</td>\n",
       "      <td>...</td>\n",
       "      <td>...</td>\n",
       "    </tr>\n",
       "    <tr>\n",
       "      <th>15445</th>\n",
       "      <td>24.0</td>\n",
       "      <td>ally, hom, police, arrest, terror, suspect, st...</td>\n",
       "      <td>NaN</td>\n",
       "      <td>NaN</td>\n",
       "    </tr>\n",
       "    <tr>\n",
       "      <th>15446</th>\n",
       "      <td>9.0</td>\n",
       "      <td>people, leave, evacuate, celebrate, batch, win...</td>\n",
       "      <td>NaN</td>\n",
       "      <td>NaN</td>\n",
       "    </tr>\n",
       "    <tr>\n",
       "      <th>15447</th>\n",
       "      <td>6.0</td>\n",
       "      <td>video, show, release, find, mass, execution, b...</td>\n",
       "      <td>NaN</td>\n",
       "      <td>NaN</td>\n",
       "    </tr>\n",
       "    <tr>\n",
       "      <th>15448</th>\n",
       "      <td>5.0</td>\n",
       "      <td>aid, humanitarian, convoy, family, enter, dist...</td>\n",
       "      <td>NaN</td>\n",
       "      <td>NaN</td>\n",
       "    </tr>\n",
       "    <tr>\n",
       "      <th>15449</th>\n",
       "      <td>38.0</td>\n",
       "      <td>syrian, official, meet, visit, give, delegatio...</td>\n",
       "      <td>NaN</td>\n",
       "      <td>NaN</td>\n",
       "    </tr>\n",
       "    <tr>\n",
       "      <th>15450</th>\n",
       "      <td>14.0</td>\n",
       "      <td>terrorist, attack, injure, rocket, civilian, k...</td>\n",
       "      <td>NaN</td>\n",
       "      <td>NaN</td>\n",
       "    </tr>\n",
       "    <tr>\n",
       "      <th>15451</th>\n",
       "      <td>4.0</td>\n",
       "      <td>turkish, border, tank, cross, lebanese, pm, bu...</td>\n",
       "      <td>NaN</td>\n",
       "      <td>NaN</td>\n",
       "    </tr>\n",
       "    <tr>\n",
       "      <th>15452</th>\n",
       "      <td>53.0</td>\n",
       "      <td>refugee, break, camp, training, migrant, follo...</td>\n",
       "      <td>NaN</td>\n",
       "      <td>NaN</td>\n",
       "    </tr>\n",
       "    <tr>\n",
       "      <th>15453</th>\n",
       "      <td>34.0</td>\n",
       "      <td>area, control, establish, full, hill, army, st...</td>\n",
       "      <td>NaN</td>\n",
       "      <td>NaN</td>\n",
       "    </tr>\n",
       "    <tr>\n",
       "      <th>15454</th>\n",
       "      <td>0.0</td>\n",
       "      <td>pron, day, start, school, high, watch, student...</td>\n",
       "      <td>NaN</td>\n",
       "      <td>NaN</td>\n",
       "    </tr>\n",
       "    <tr>\n",
       "      <th>15455</th>\n",
       "      <td>29.0</td>\n",
       "      <td>pron, fighting, die, stonedcomicbook, christia...</td>\n",
       "      <td>NaN</td>\n",
       "      <td>NaN</td>\n",
       "    </tr>\n",
       "    <tr>\n",
       "      <th>15456</th>\n",
       "      <td>4.0</td>\n",
       "      <td>turkish, border, tank, cross, lebanese, pm, bu...</td>\n",
       "      <td>NaN</td>\n",
       "      <td>NaN</td>\n",
       "    </tr>\n",
       "    <tr>\n",
       "      <th>15457</th>\n",
       "      <td>26.0</td>\n",
       "      <td>talk, suicide, bomber, peace, blow, meeting, a...</td>\n",
       "      <td>NaN</td>\n",
       "      <td>NaN</td>\n",
       "    </tr>\n",
       "    <tr>\n",
       "      <th>15458</th>\n",
       "      <td>46.0</td>\n",
       "      <td>anti, death, saudi, iranian, burn, street, fac...</td>\n",
       "      <td>NaN</td>\n",
       "      <td>NaN</td>\n",
       "    </tr>\n",
       "    <tr>\n",
       "      <th>15459</th>\n",
       "      <td>26.0</td>\n",
       "      <td>talk, suicide, bomber, peace, blow, meeting, a...</td>\n",
       "      <td>NaN</td>\n",
       "      <td>NaN</td>\n",
       "    </tr>\n",
       "    <tr>\n",
       "      <th>15460</th>\n",
       "      <td>10.0</td>\n",
       "      <td>kill, militant, member, dozen, include, escape...</td>\n",
       "      <td>NaN</td>\n",
       "      <td>NaN</td>\n",
       "    </tr>\n",
       "    <tr>\n",
       "      <th>15461</th>\n",
       "      <td>3.0</td>\n",
       "      <td>airstrike, carry, coalition, warplane, conduct...</td>\n",
       "      <td>NaN</td>\n",
       "      <td>NaN</td>\n",
       "    </tr>\n",
       "    <tr>\n",
       "      <th>15462</th>\n",
       "      <td>22.0</td>\n",
       "      <td>troop, operation, western, iraqi, announce, li...</td>\n",
       "      <td>NaN</td>\n",
       "      <td>NaN</td>\n",
       "    </tr>\n",
       "    <tr>\n",
       "      <th>15463</th>\n",
       "      <td>0.0</td>\n",
       "      <td>pron, day, start, school, high, watch, student...</td>\n",
       "      <td>NaN</td>\n",
       "      <td>NaN</td>\n",
       "    </tr>\n",
       "    <tr>\n",
       "      <th>15464</th>\n",
       "      <td>37.0</td>\n",
       "      <td>fight, support, terrorism, combat, regime, eff...</td>\n",
       "      <td>NaN</td>\n",
       "      <td>NaN</td>\n",
       "    </tr>\n",
       "    <tr>\n",
       "      <th>15465</th>\n",
       "      <td>37.0</td>\n",
       "      <td>fight, support, terrorism, combat, regime, eff...</td>\n",
       "      <td>NaN</td>\n",
       "      <td>NaN</td>\n",
       "    </tr>\n",
       "    <tr>\n",
       "      <th>15466</th>\n",
       "      <td>37.0</td>\n",
       "      <td>fight, support, terrorism, combat, regime, eff...</td>\n",
       "      <td>NaN</td>\n",
       "      <td>NaN</td>\n",
       "    </tr>\n",
       "    <tr>\n",
       "      <th>15467</th>\n",
       "      <td>20.0</td>\n",
       "      <td>claim, today, bombing, shoot, yesterday, decla...</td>\n",
       "      <td>NaN</td>\n",
       "      <td>NaN</td>\n",
       "    </tr>\n",
       "    <tr>\n",
       "      <th>15468</th>\n",
       "      <td>4.0</td>\n",
       "      <td>turkish, border, tank, cross, lebanese, pm, bu...</td>\n",
       "      <td>NaN</td>\n",
       "      <td>NaN</td>\n",
       "    </tr>\n",
       "    <tr>\n",
       "      <th>15469</th>\n",
       "      <td>30.0</td>\n",
       "      <td>weather, temperature, drop, average, forecast,...</td>\n",
       "      <td>NaN</td>\n",
       "      <td>NaN</td>\n",
       "    </tr>\n",
       "    <tr>\n",
       "      <th>15470</th>\n",
       "      <td>0.0</td>\n",
       "      <td>pron, day, start, school, high, watch, student...</td>\n",
       "      <td>NaN</td>\n",
       "      <td>NaN</td>\n",
       "    </tr>\n",
       "    <tr>\n",
       "      <th>15471</th>\n",
       "      <td>4.0</td>\n",
       "      <td>turkish, border, tank, cross, lebanese, pm, bu...</td>\n",
       "      <td>NaN</td>\n",
       "      <td>NaN</td>\n",
       "    </tr>\n",
       "    <tr>\n",
       "      <th>15472</th>\n",
       "      <td>21.0</td>\n",
       "      <td>hold, woman, close, point, session, free, resi...</td>\n",
       "      <td>NaN</td>\n",
       "      <td>NaN</td>\n",
       "    </tr>\n",
       "    <tr>\n",
       "      <th>15473</th>\n",
       "      <td>10.0</td>\n",
       "      <td>kill, militant, member, dozen, include, escape...</td>\n",
       "      <td>NaN</td>\n",
       "      <td>NaN</td>\n",
       "    </tr>\n",
       "    <tr>\n",
       "      <th>15474</th>\n",
       "      <td>21.0</td>\n",
       "      <td>hold, woman, close, point, session, free, resi...</td>\n",
       "      <td>NaN</td>\n",
       "      <td>NaN</td>\n",
       "    </tr>\n",
       "  </tbody>\n",
       "</table>\n",
       "<p>15475 rows × 4 columns</p>\n",
       "</div>"
      ],
      "text/plain": [
       "       Dominant_Topic                                     Topic_Keywords  \\\n",
       "0                42.0  weapon, seize, arm, destroy, center, attempt, ...   \n",
       "1                42.0  weapon, seize, arm, destroy, center, attempt, ...   \n",
       "2                42.0  weapon, seize, arm, destroy, center, attempt, ...   \n",
       "3                42.0  weapon, seize, arm, destroy, center, attempt, ...   \n",
       "4                42.0  weapon, seize, arm, destroy, center, attempt, ...   \n",
       "5                42.0  weapon, seize, arm, destroy, center, attempt, ...   \n",
       "6                42.0  weapon, seize, arm, destroy, center, attempt, ...   \n",
       "7                42.0  weapon, seize, arm, destroy, center, attempt, ...   \n",
       "8                42.0  weapon, seize, arm, destroy, center, attempt, ...   \n",
       "9                42.0  weapon, seize, arm, destroy, center, attempt, ...   \n",
       "10                2.0  fire, set, exchange, rate, usd, zone, deal, ag...   \n",
       "11               52.0  reach, crisis, yearsago, tweetsfrom, confirm, ...   \n",
       "12               46.0  anti, death, saudi, iranian, burn, street, fac...   \n",
       "13               40.0  pron, word, life, receive, reveal, step, fight...   \n",
       "14                0.0  pron, day, start, school, high, watch, student...   \n",
       "15               40.0  pron, word, life, receive, reveal, step, fight...   \n",
       "16               40.0  pron, word, life, receive, reveal, step, fight...   \n",
       "17               40.0  pron, word, life, receive, reveal, step, fight...   \n",
       "18                0.0  pron, day, start, school, high, watch, student...   \n",
       "19               40.0  pron, word, life, receive, reveal, step, fight...   \n",
       "20               29.0  pron, fighting, die, stonedcomicbook, christia...   \n",
       "21               40.0  pron, word, life, receive, reveal, step, fight...   \n",
       "22               18.0  call, discuss, cooperation, work, statement, s...   \n",
       "23               40.0  pron, word, life, receive, reveal, step, fight...   \n",
       "24               40.0  pron, word, life, receive, reveal, step, fight...   \n",
       "25               52.0  reach, crisis, yearsago, tweetsfrom, confirm, ...   \n",
       "26               52.0  reach, crisis, yearsago, tweetsfrom, confirm, ...   \n",
       "27               52.0  reach, crisis, yearsago, tweetsfrom, confirm, ...   \n",
       "28               52.0  reach, crisis, yearsago, tweetsfrom, confirm, ...   \n",
       "29               52.0  reach, crisis, yearsago, tweetsfrom, confirm, ...   \n",
       "...               ...                                                ...   \n",
       "15445            24.0  ally, hom, police, arrest, terror, suspect, st...   \n",
       "15446             9.0  people, leave, evacuate, celebrate, batch, win...   \n",
       "15447             6.0  video, show, release, find, mass, execution, b...   \n",
       "15448             5.0  aid, humanitarian, convoy, family, enter, dist...   \n",
       "15449            38.0  syrian, official, meet, visit, give, delegatio...   \n",
       "15450            14.0  terrorist, attack, injure, rocket, civilian, k...   \n",
       "15451             4.0  turkish, border, tank, cross, lebanese, pm, bu...   \n",
       "15452            53.0  refugee, break, camp, training, migrant, follo...   \n",
       "15453            34.0  area, control, establish, full, hill, army, st...   \n",
       "15454             0.0  pron, day, start, school, high, watch, student...   \n",
       "15455            29.0  pron, fighting, die, stonedcomicbook, christia...   \n",
       "15456             4.0  turkish, border, tank, cross, lebanese, pm, bu...   \n",
       "15457            26.0  talk, suicide, bomber, peace, blow, meeting, a...   \n",
       "15458            46.0  anti, death, saudi, iranian, burn, street, fac...   \n",
       "15459            26.0  talk, suicide, bomber, peace, blow, meeting, a...   \n",
       "15460            10.0  kill, militant, member, dozen, include, escape...   \n",
       "15461             3.0  airstrike, carry, coalition, warplane, conduct...   \n",
       "15462            22.0  troop, operation, western, iraqi, announce, li...   \n",
       "15463             0.0  pron, day, start, school, high, watch, student...   \n",
       "15464            37.0  fight, support, terrorism, combat, regime, eff...   \n",
       "15465            37.0  fight, support, terrorism, combat, regime, eff...   \n",
       "15466            37.0  fight, support, terrorism, combat, regime, eff...   \n",
       "15467            20.0  claim, today, bombing, shoot, yesterday, decla...   \n",
       "15468             4.0  turkish, border, tank, cross, lebanese, pm, bu...   \n",
       "15469            30.0  weather, temperature, drop, average, forecast,...   \n",
       "15470             0.0  pron, day, start, school, high, watch, student...   \n",
       "15471             4.0  turkish, border, tank, cross, lebanese, pm, bu...   \n",
       "15472            21.0  hold, woman, close, point, session, free, resi...   \n",
       "15473            10.0  kill, militant, member, dozen, include, escape...   \n",
       "15474            21.0  hold, woman, close, point, session, free, resi...   \n",
       "\n",
       "       Num_Documents  Perc_Documents  \n",
       "0             1218.0          0.0787  \n",
       "1              337.0          0.0218  \n",
       "2              293.0          0.0189  \n",
       "3              427.0          0.0276  \n",
       "4              395.0          0.0255  \n",
       "5              323.0          0.0209  \n",
       "6              290.0          0.0187  \n",
       "7              335.0          0.0216  \n",
       "8              235.0          0.0152  \n",
       "9              310.0          0.0200  \n",
       "10             211.0          0.0136  \n",
       "11             239.0          0.0154  \n",
       "12             221.0          0.0143  \n",
       "13             175.0          0.0113  \n",
       "14             267.0          0.0173  \n",
       "15             230.0          0.0149  \n",
       "16             242.0          0.0156  \n",
       "17             305.0          0.0197  \n",
       "18             294.0          0.0190  \n",
       "19             214.0          0.0138  \n",
       "20             246.0          0.0159  \n",
       "21             260.0          0.0168  \n",
       "22             226.0          0.0146  \n",
       "23             318.0          0.0205  \n",
       "24             274.0          0.0177  \n",
       "25             295.0          0.0191  \n",
       "26             277.0          0.0179  \n",
       "27             181.0          0.0117  \n",
       "28             273.0          0.0176  \n",
       "29             250.0          0.0162  \n",
       "...              ...             ...  \n",
       "15445            NaN             NaN  \n",
       "15446            NaN             NaN  \n",
       "15447            NaN             NaN  \n",
       "15448            NaN             NaN  \n",
       "15449            NaN             NaN  \n",
       "15450            NaN             NaN  \n",
       "15451            NaN             NaN  \n",
       "15452            NaN             NaN  \n",
       "15453            NaN             NaN  \n",
       "15454            NaN             NaN  \n",
       "15455            NaN             NaN  \n",
       "15456            NaN             NaN  \n",
       "15457            NaN             NaN  \n",
       "15458            NaN             NaN  \n",
       "15459            NaN             NaN  \n",
       "15460            NaN             NaN  \n",
       "15461            NaN             NaN  \n",
       "15462            NaN             NaN  \n",
       "15463            NaN             NaN  \n",
       "15464            NaN             NaN  \n",
       "15465            NaN             NaN  \n",
       "15466            NaN             NaN  \n",
       "15467            NaN             NaN  \n",
       "15468            NaN             NaN  \n",
       "15469            NaN             NaN  \n",
       "15470            NaN             NaN  \n",
       "15471            NaN             NaN  \n",
       "15472            NaN             NaN  \n",
       "15473            NaN             NaN  \n",
       "15474            NaN             NaN  \n",
       "\n",
       "[15475 rows x 4 columns]"
      ]
     },
     "execution_count": 129,
     "metadata": {},
     "output_type": "execute_result"
    }
   ],
   "source": [
    "# Number of Documents for each topic\n",
    "topic_counts = df_topic_sents_keywords['Dominant_Topic'].value_counts()\n",
    "\n",
    "# Percentage of Documents for Each Topic\n",
    "topic_contribution = round(topic_counts/topic_counts.sum(), 4)\n",
    "\n",
    "# Topic Number and Keywords\n",
    "topic_num_keywords = df_topic_sents_keywords[['Dominant_Topic', 'Topic_Keywords']]\n",
    "\n",
    "# Concatenate column-wise \n",
    "df_dominant_topics = pd.concat([topic_num_keywords, topic_counts, topic_contribution], axis=1) # not worked?\n",
    "\n",
    "# Change column names\n",
    "df_dominant_topics.columns = ['Dominant_Topic', 'Topic_Keywords', 'Num_Documents', 'Perc_Documents']\n",
    "\n",
    "#Show\n",
    "df_dominant_topics"
   ]
  },
  {
   "cell_type": "code",
   "execution_count": 130,
   "metadata": {
    "collapsed": true
   },
   "outputs": [],
   "source": [
    "grouped = df_dominant_topics.groupby('Dominant_Topic')"
   ]
  },
  {
   "cell_type": "code",
   "execution_count": 135,
   "metadata": {
    "collapsed": true
   },
   "outputs": [],
   "source": [
    "df_dominant_topics.to_csv('/mnt/storage/TopicModels/df_dominant_topics.csv')"
   ]
  },
  {
   "cell_type": "code",
   "execution_count": 143,
   "metadata": {
    "collapsed": true
   },
   "outputs": [],
   "source": [
    "main_df_filtered['content'] = main_df_filtered['content'].str.lower()"
   ]
  },
  {
   "cell_type": "code",
   "execution_count": 145,
   "metadata": {},
   "outputs": [
    {
     "data": {
      "text/plain": [
       "1467"
      ]
     },
     "execution_count": 145,
     "metadata": {},
     "output_type": "execute_result"
    }
   ],
   "source": [
    "len(main_df_filtered[main_df_filtered['content'].str.contains('aleppo')])"
   ]
  },
  {
   "cell_type": "code",
   "execution_count": 167,
   "metadata": {},
   "outputs": [
    {
     "data": {
      "text/plain": [
       "3763"
      ]
     },
     "execution_count": 167,
     "metadata": {},
     "output_type": "execute_result"
    }
   ],
   "source": [
    "len(main_df_filtered[main_df_filtered['content'].str.contains('syria')])"
   ]
  },
  {
   "cell_type": "code",
   "execution_count": 155,
   "metadata": {},
   "outputs": [
    {
     "data": {
      "text/plain": [
       "582"
      ]
     },
     "execution_count": 155,
     "metadata": {},
     "output_type": "execute_result"
    }
   ],
   "source": [
    "len(main_df_filtered[main_df_filtered['content'].str.contains('homs')])"
   ]
  },
  {
   "cell_type": "code",
   "execution_count": 149,
   "metadata": {},
   "outputs": [
    {
     "data": {
      "text/plain": [
       "667"
      ]
     },
     "execution_count": 149,
     "metadata": {},
     "output_type": "execute_result"
    }
   ],
   "source": [
    "len(main_df_filtered[main_df_filtered['content'].str.contains('damascus')])"
   ]
  },
  {
   "cell_type": "code",
   "execution_count": 162,
   "metadata": {},
   "outputs": [
    {
     "data": {
      "text/plain": [
       "4134"
      ]
     },
     "execution_count": 162,
     "metadata": {},
     "output_type": "execute_result"
    }
   ],
   "source": [
    "len(main_df_filtered[main_df_filtered['content'].str.contains('isis|islamicstate|#is|daesh|islamic state|isil')]) #alquaeda jihad/i"
   ]
  },
  {
   "cell_type": "code",
   "execution_count": 151,
   "metadata": {},
   "outputs": [
    {
     "data": {
      "text/plain": [
       "642"
      ]
     },
     "execution_count": 151,
     "metadata": {},
     "output_type": "execute_result"
    }
   ],
   "source": [
    "len(main_df_filtered[main_df_filtered['content'].str.contains('raqqa')])"
   ]
  },
  {
   "cell_type": "code",
   "execution_count": 152,
   "metadata": {},
   "outputs": [
    {
     "data": {
      "text/plain": [
       "374"
      ]
     },
     "execution_count": 152,
     "metadata": {},
     "output_type": "execute_result"
    }
   ],
   "source": [
    "len(main_df_filtered[main_df_filtered['content'].str.contains('iran')])"
   ]
  },
  {
   "cell_type": "code",
   "execution_count": 154,
   "metadata": {},
   "outputs": [
    {
     "data": {
      "text/plain": [
       "959"
      ]
     },
     "execution_count": 154,
     "metadata": {},
     "output_type": "execute_result"
    }
   ],
   "source": [
    "len(main_df_filtered[main_df_filtered['content'].str.contains('russia|russian')])"
   ]
  },
  {
   "cell_type": "code",
   "execution_count": 156,
   "metadata": {},
   "outputs": [
    {
     "data": {
      "text/plain": [
       "308"
      ]
     },
     "execution_count": 156,
     "metadata": {},
     "output_type": "execute_result"
    }
   ],
   "source": [
    "len(main_df_filtered[main_df_filtered['content'].str.contains('migrant|refugees|refugee')])"
   ]
  },
  {
   "cell_type": "code",
   "execution_count": null,
   "metadata": {
    "collapsed": true
   },
   "outputs": [],
   "source": [
    "# ghouta hasaka daraa palmyra latakia deirezzor hama # assad fsa saa"
   ]
  },
  {
   "cell_type": "code",
   "execution_count": null,
   "metadata": {
    "collapsed": true
   },
   "outputs": [],
   "source": [
    "# ramadi mosul fallujah"
   ]
  },
  {
   "cell_type": "code",
   "execution_count": null,
   "metadata": {
    "collapsed": true
   },
   "outputs": [],
   "source": [
    "# hizbullah hezbollah"
   ]
  },
  {
   "cell_type": "code",
   "execution_count": 159,
   "metadata": {},
   "outputs": [
    {
     "data": {
      "text/plain": [
       "0"
      ]
     },
     "execution_count": 159,
     "metadata": {},
     "output_type": "execute_result"
    }
   ],
   "source": [
    "len(main_df_filtered[main_df_filtered['content'].str.contains('')])"
   ]
  },
  {
   "cell_type": "code",
   "execution_count": 160,
   "metadata": {},
   "outputs": [
    {
     "data": {
      "text/plain": [
       "186"
      ]
     },
     "execution_count": 160,
     "metadata": {},
     "output_type": "execute_result"
    }
   ],
   "source": [
    "len(main_df_filtered[main_df_filtered['content'].str.contains('ypg')])"
   ]
  },
  {
   "cell_type": "markdown",
   "metadata": {},
   "source": [
    "Turkish ones look interesting- possible to extract partial strings (e.g. turk*- would pick up #Turkish_Inquisition, for example)"
   ]
  },
  {
   "cell_type": "code",
   "execution_count": 168,
   "metadata": {},
   "outputs": [
    {
     "data": {
      "text/plain": [
       "164"
      ]
     },
     "execution_count": 168,
     "metadata": {},
     "output_type": "execute_result"
    }
   ],
   "source": [
    "len(main_df_filtered[main_df_filtered['content'].str.contains('jihad')])"
   ]
  },
  {
   "cell_type": "code",
   "execution_count": 169,
   "metadata": {},
   "outputs": [
    {
     "data": {
      "text/plain": [
       "7463"
      ]
     },
     "execution_count": 169,
     "metadata": {},
     "output_type": "execute_result"
    }
   ],
   "source": [
    "len(main_df_filtered[main_df_filtered['content'].str.contains('syria|aleppo|raqqa|homs|ghouta|hasaka|daraa|palmyra|deirezzor|hama|assad|fsa|saa')])"
   ]
  },
  {
   "cell_type": "code",
   "execution_count": 170,
   "metadata": {},
   "outputs": [
    {
     "data": {
      "text/plain": [
       "485"
      ]
     },
     "execution_count": 170,
     "metadata": {},
     "output_type": "execute_result"
    }
   ],
   "source": [
    "len(main_df_filtered[main_df_filtered['content'].str.contains('russia') & main_df_filtered['content'].str.contains('syria')])"
   ]
  },
  {
   "cell_type": "code",
   "execution_count": 174,
   "metadata": {
    "collapsed": true
   },
   "outputs": [],
   "source": [
    "new_model = model_list[0]"
   ]
  },
  {
   "cell_type": "code",
   "execution_count": 175,
   "metadata": {
    "collapsed": true
   },
   "outputs": [],
   "source": [
    "df_topic_sents_keywords2 = format_topics_sentences(ldamodel=new_model, corpus=corpus, texts=docs)"
   ]
  },
  {
   "cell_type": "code",
   "execution_count": 176,
   "metadata": {},
   "outputs": [
    {
     "data": {
      "text/html": [
       "<div>\n",
       "<style>\n",
       "    .dataframe thead tr:only-child th {\n",
       "        text-align: right;\n",
       "    }\n",
       "\n",
       "    .dataframe thead th {\n",
       "        text-align: left;\n",
       "    }\n",
       "\n",
       "    .dataframe tbody tr th {\n",
       "        vertical-align: top;\n",
       "    }\n",
       "</style>\n",
       "<table border=\"1\" class=\"dataframe\">\n",
       "  <thead>\n",
       "    <tr style=\"text-align: right;\">\n",
       "      <th></th>\n",
       "      <th>Document_No</th>\n",
       "      <th>Dominant_Topic</th>\n",
       "      <th>Topic_Perc_Contrib</th>\n",
       "      <th>Key words</th>\n",
       "      <th>Text</th>\n",
       "    </tr>\n",
       "  </thead>\n",
       "  <tbody>\n",
       "    <tr>\n",
       "      <th>0</th>\n",
       "      <td>0</td>\n",
       "      <td>0.0</td>\n",
       "      <td>0.5000</td>\n",
       "      <td>kill, pron, terrorist, attack, capture, villag...</td>\n",
       "      <td>my identical twin irwin, with whom i lived for...</td>\n",
       "    </tr>\n",
       "    <tr>\n",
       "      <th>1</th>\n",
       "      <td>1</td>\n",
       "      <td>1.0</td>\n",
       "      <td>0.5185</td>\n",
       "      <td>syrian, force, rebel, iraqi, russian, turkish,...</td>\n",
       "      <td>#unlikelymagic8ballanswers new ball, who dis?</td>\n",
       "    </tr>\n",
       "    <tr>\n",
       "      <th>2</th>\n",
       "      <td>2</td>\n",
       "      <td>1.0</td>\n",
       "      <td>0.5185</td>\n",
       "      <td>syrian, force, rebel, iraqi, russian, turkish,...</td>\n",
       "      <td>so long, and thanks for all the fish. #unlikel...</td>\n",
       "    </tr>\n",
       "    <tr>\n",
       "      <th>3</th>\n",
       "      <td>3</td>\n",
       "      <td>0.0</td>\n",
       "      <td>0.5000</td>\n",
       "      <td>kill, pron, terrorist, attack, capture, villag...</td>\n",
       "      <td>follow her on instagram, get her snap, then cr...</td>\n",
       "    </tr>\n",
       "    <tr>\n",
       "      <th>4</th>\n",
       "      <td>4</td>\n",
       "      <td>1.0</td>\n",
       "      <td>0.5283</td>\n",
       "      <td>syrian, force, rebel, iraqi, russian, turkish,...</td>\n",
       "      <td>google that shit!! #unlikelymagic8ballanswers</td>\n",
       "    </tr>\n",
       "  </tbody>\n",
       "</table>\n",
       "</div>"
      ],
      "text/plain": [
       "   Document_No  Dominant_Topic  Topic_Perc_Contrib  \\\n",
       "0            0             0.0              0.5000   \n",
       "1            1             1.0              0.5185   \n",
       "2            2             1.0              0.5185   \n",
       "3            3             0.0              0.5000   \n",
       "4            4             1.0              0.5283   \n",
       "\n",
       "                                           Key words  \\\n",
       "0  kill, pron, terrorist, attack, capture, villag...   \n",
       "1  syrian, force, rebel, iraqi, russian, turkish,...   \n",
       "2  syrian, force, rebel, iraqi, russian, turkish,...   \n",
       "3  kill, pron, terrorist, attack, capture, villag...   \n",
       "4  syrian, force, rebel, iraqi, russian, turkish,...   \n",
       "\n",
       "                                                Text  \n",
       "0  my identical twin irwin, with whom i lived for...  \n",
       "1      #unlikelymagic8ballanswers new ball, who dis?  \n",
       "2  so long, and thanks for all the fish. #unlikel...  \n",
       "3  follow her on instagram, get her snap, then cr...  \n",
       "4      google that shit!! #unlikelymagic8ballanswers  "
      ]
     },
     "execution_count": 176,
     "metadata": {},
     "output_type": "execute_result"
    }
   ],
   "source": [
    "# Format\n",
    "df_dominant_topic2 = df_topic_sents_keywords2.reset_index()\n",
    "df_dominant_topic2.columns = ['Document_No', 'Dominant_Topic', 'Topic_Perc_Contrib', 'Key words', 'Text']\n",
    "\n",
    "# Show\n",
    "df_dominant_topic2.head()"
   ]
  },
  {
   "cell_type": "code",
   "execution_count": 177,
   "metadata": {
    "collapsed": true
   },
   "outputs": [],
   "source": [
    "df_dominant_topic2.to_csv('/mnt/storage/TopicModels/df_dominant_topic_2.csv')"
   ]
  },
  {
   "cell_type": "code",
   "execution_count": null,
   "metadata": {
    "collapsed": true
   },
   "outputs": [],
   "source": []
  }
 ],
 "metadata": {
  "kernelspec": {
   "display_name": "Python 3",
   "language": "python",
   "name": "python3"
  },
  "language_info": {
   "codemirror_mode": {
    "name": "ipython",
    "version": 3
   },
   "file_extension": ".py",
   "mimetype": "text/x-python",
   "name": "python",
   "nbconvert_exporter": "python",
   "pygments_lexer": "ipython3",
   "version": "3.6.2"
  }
 },
 "nbformat": 4,
 "nbformat_minor": 2
}
